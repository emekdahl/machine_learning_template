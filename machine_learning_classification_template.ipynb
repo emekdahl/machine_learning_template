{
 "cells": [
  {
   "cell_type": "markdown",
   "metadata": {
    "id": "gC8SWxluJyZH"
   },
   "source": [
    "# Machine Learning Classification\n",
    "\n",
    "This notebook compiles standard methods for multiclass classification. The hope is that this notebook will be a good template to begin projects and reduce repetitive work."
   ]
  },
  {
   "cell_type": "markdown",
   "metadata": {
    "id": "UhyfaUVqkD8M"
   },
   "source": [
    "![xkcd](https://imgs.xkcd.com/comics/machine_learning.png)\n",
    "\n",
    "https://xkcd.com/1838/"
   ]
  },
  {
   "cell_type": "markdown",
   "metadata": {
    "id": "mv0S8nbkJ7Rt"
   },
   "source": [
    "## Dependencies"
   ]
  },
  {
   "cell_type": "code",
   "execution_count": 218,
   "metadata": {
    "colab": {
     "base_uri": "https://localhost:8080/"
    },
    "id": "b7OZqZvSKuML",
    "outputId": "5721e7b2-a162-4add-94d1-cee0c5d858b3"
   },
   "outputs": [
    {
     "name": "stdout",
     "output_type": "stream",
     "text": [
      "Requirement already satisfied: lightgbm in ./mltemplate/lib/python3.8/site-packages (3.3.2)\n",
      "Requirement already satisfied: numpy in ./mltemplate/lib/python3.8/site-packages (from lightgbm) (1.22.3)\n",
      "Requirement already satisfied: scipy in ./mltemplate/lib/python3.8/site-packages (from lightgbm) (1.8.0)\n",
      "Requirement already satisfied: scikit-learn!=0.22.0 in ./mltemplate/lib/python3.8/site-packages (from lightgbm) (1.0.2)\n",
      "Requirement already satisfied: wheel in ./mltemplate/lib/python3.8/site-packages (from lightgbm) (0.37.1)\n",
      "Requirement already satisfied: joblib>=0.11 in ./mltemplate/lib/python3.8/site-packages (from scikit-learn!=0.22.0->lightgbm) (1.0.1)\n",
      "Requirement already satisfied: threadpoolctl>=2.0.0 in ./mltemplate/lib/python3.8/site-packages (from scikit-learn!=0.22.0->lightgbm) (3.1.0)\n",
      "\u001b[33mWARNING: You are using pip version 21.3.1; however, version 22.0.4 is available.\n",
      "You should consider upgrading via the '/Users/emekdahl/dev/machine_learning_template/mltemplate/bin/python -m pip install --upgrade pip' command.\u001b[0m\n",
      "Note: you may need to restart the kernel to use updated packages.\n",
      "Requirement already satisfied: xgboost in ./mltemplate/lib/python3.8/site-packages (1.6.0)\n",
      "Requirement already satisfied: scipy in ./mltemplate/lib/python3.8/site-packages (from xgboost) (1.8.0)\n",
      "Requirement already satisfied: numpy in ./mltemplate/lib/python3.8/site-packages (from xgboost) (1.22.3)\n",
      "\u001b[33mWARNING: You are using pip version 21.3.1; however, version 22.0.4 is available.\n",
      "You should consider upgrading via the '/Users/emekdahl/dev/machine_learning_template/mltemplate/bin/python -m pip install --upgrade pip' command.\u001b[0m\n",
      "Note: you may need to restart the kernel to use updated packages.\n"
     ]
    }
   ],
   "source": [
    "# installations\n",
    "%pip install lightgbm\n",
    "%pip install xgboost"
   ]
  },
  {
   "cell_type": "code",
   "execution_count": 219,
   "metadata": {
    "id": "99g5WamJKv7Z"
   },
   "outputs": [],
   "source": [
    "# standard DS / ML libraries\n",
    "import numpy as np\n",
    "import pandas as pd\n",
    "import random\n",
    "from sklearn.model_selection import train_test_split, StratifiedKFold\n",
    "from sklearn.preprocessing import (\n",
    "    StandardScaler,\n",
    "    MinMaxScaler,\n",
    "    MaxAbsScaler,\n",
    "    RobustScaler,\n",
    ")\n",
    "from sklearn.compose import ColumnTransformer\n",
    "from sklearn.pipeline import Pipeline"
   ]
  },
  {
   "cell_type": "code",
   "execution_count": 220,
   "metadata": {
    "id": "5k8IYhmGKy65"
   },
   "outputs": [],
   "source": [
    "# data viz\n",
    "from pandas_profiling import ProfileReport\n",
    "import matplotlib.pyplot as plt\n",
    "\n",
    "# make sure viz shows up in the notebook\n",
    "%matplotlib inline\n",
    "import seaborn as sns"
   ]
  },
  {
   "cell_type": "code",
   "execution_count": 221,
   "metadata": {
    "id": "Ze6_3I26K1y6"
   },
   "outputs": [],
   "source": [
    "# regression\n",
    "from sklearn.linear_model import LinearRegression\n",
    "from sklearn.svm import LinearSVC"
   ]
  },
  {
   "cell_type": "code",
   "execution_count": 222,
   "metadata": {
    "id": "CZ9Dqv2-Kz8-"
   },
   "outputs": [],
   "source": [
    "# classification\n",
    "from sklearn.linear_model import (\n",
    "    LogisticRegression,\n",
    "    LogisticRegressionCV,\n",
    "    RidgeClassifier,\n",
    "    SGDClassifier,\n",
    ")\n",
    "from sklearn.neighbors import KNeighborsClassifier\n",
    "from sklearn.tree import DecisionTreeClassifier, ExtraTreeClassifier\n",
    "from sklearn.svm import SVC\n",
    "from sklearn.ensemble import (\n",
    "    RandomForestClassifier,\n",
    "    GradientBoostingClassifier,\n",
    "    BaggingClassifier,\n",
    "    AdaBoostClassifier,\n",
    "    VotingClassifier,\n",
    ")\n",
    "from sklearn.neural_network import MLPClassifier\n",
    "from lightgbm import LGBMClassifier\n",
    "from xgboost import XGBClassifier, XGBRFClassifier"
   ]
  },
  {
   "cell_type": "code",
   "execution_count": 223,
   "metadata": {
    "id": "JuCYwoqzLSMr"
   },
   "outputs": [],
   "source": [
    "# model performance & iterative improvement\n",
    "from sklearn.model_selection import GridSearchCV\n",
    "from sklearn.metrics import (\n",
    "    make_scorer,\n",
    "    roc_curve,\n",
    "    precision_recall_curve,\n",
    "    roc_auc_score,\n",
    "    ConfusionMatrixDisplay,\n",
    "    accuracy_score,\n",
    "    precision_score,\n",
    "    recall_score,\n",
    "    f1_score,\n",
    "    confusion_matrix,\n",
    "    mean_absolute_error,\n",
    "    mean_absolute_percentage_error,\n",
    "    mean_squared_error,\n",
    ")\n",
    "from time import perf_counter\n",
    "from hyperopt import hp, tpe, Trials, space_eval\n",
    "from hyperopt.fmin import fmin\n",
    "from lightgbm.callback import early_stopping"
   ]
  },
  {
   "cell_type": "markdown",
   "metadata": {
    "id": "C0epVYMdO2br"
   },
   "source": [
    "## Set Up"
   ]
  },
  {
   "cell_type": "code",
   "execution_count": 224,
   "metadata": {
    "id": "poBB4buyO8Iz"
   },
   "outputs": [],
   "source": [
    "class BaseDataset:\n",
    "    \"\"\"\n",
    "    Basic methods to handle loading and splitting data for experiments\n",
    "    \"\"\"\n",
    "\n",
    "    def _load_data(self):\n",
    "        \"\"\"\n",
    "        _load_data is a method that expects to be overwritten by the class extension\n",
    "        :return: error, if not implemented in the extended class\n",
    "        \"\"\"\n",
    "        raise NotImplementedError\n",
    "\n",
    "    def split_data_and_label(self, train_data, label_column_name, id_column_name=None):\n",
    "        \"\"\"\n",
    "        split_data_and_label takes a training set and returns data split from labels\n",
    "\n",
    "        :param train_data: a training set without labels\n",
    "        :param train_label: a set of labels detached from training data\n",
    "        :return: train, validate, and test data\n",
    "        \"\"\"\n",
    "        if id_column_name is not None:\n",
    "            del train_data[id_column_name]\n",
    "\n",
    "        train_label = train_data[label_column_name]\n",
    "        del train_data[label_column_name]\n",
    "\n",
    "        return train_data, train_label\n",
    "\n",
    "    def _split_data(self, train_data, train_label, sampling_method):\n",
    "        \"\"\"\n",
    "        shuffle_split exploits the behavior of sklearn's train test split to split the data into train, validate, test in a standard 80 / 10 / 10 pattern\n",
    "\n",
    "        :param train_data: a training set without labels\n",
    "        :param train_label: a set of labels detached from training data\n",
    "        :return: train, validate, and test data\n",
    "        \"\"\"\n",
    "\n",
    "    def _subsample(self, train_data, train_label, number_of_samples):\n",
    "        \"\"\"\n",
    "        stratified_split divides data into train / validate / test while maintaining the percentages of each class\n",
    "\n",
    "        :param train_data: a training set without labels\n",
    "        :param train_label: a set of labels detached from training data\n",
    "        :return: train, validate, and test data\n",
    "        \"\"\"\n",
    "        rs = np.random.RandomState(42)\n",
    "        indices0 = rs.choice(\n",
    "            np.where(train_label == 0)[0], number_of_samples, replace=False\n",
    "        )\n",
    "        indices1 = rs.choice(\n",
    "            np.where(train_label == 1)[0], number_of_samples, replace=False\n",
    "        )\n",
    "        indices = np.concatenate([indices0, indices1])\n",
    "        train_data = train_data.iloc[indices]\n",
    "        train_label = train_label.iloc[indices]\n",
    "        # train_data = train_data.reset_index(inplace=True)\n",
    "        # train_label = train_label.reset_index(inplace=True)\n",
    "        return train_data, train_label\n",
    "\n",
    "    def get_train_val_test_data(\n",
    "        self, train_data, train_label, values_to_stratify_by=None\n",
    "    ):\n",
    "        \"\"\"\n",
    "        get_train_val_test_data exploits the behavior of sklearn's train test split to split the data into train, validate, test in a standard 80 / 10 / 10 pattern\n",
    "\n",
    "        :param train_data: a training set without labels\n",
    "        :param train_label: a set of labels detached from training data\n",
    "        :return: train, validate, and test data\n",
    "        \"\"\"\n",
    "\n",
    "        X_train, X_test_and_val, y_train, y_test_and_val = train_test_split(\n",
    "            train_data,\n",
    "            train_label,\n",
    "            test_size=0.2,\n",
    "            random_state=42,\n",
    "            shuffle=True,\n",
    "            stratify=values_to_stratify_by,\n",
    "        )\n",
    "        X_val, X_test, y_val, y_test = train_test_split(\n",
    "            X_test_and_val,\n",
    "            y_test_and_val,\n",
    "            test_size=0.5,\n",
    "            random_state=42,\n",
    "            shuffle=True,\n",
    "            stratify=values_to_stratify_by,\n",
    "        )\n",
    "\n",
    "        return dict(\n",
    "            X_train=X_train,\n",
    "            y_train=y_train,\n",
    "            X_val=X_val,\n",
    "            y_val=y_val,\n",
    "            X_test=X_test,\n",
    "            y_test=y_test,\n",
    "        )\n",
    "\n",
    "    def nan_check(self, data):\n",
    "        \"\"\"\n",
    "        nan_check is a method that reports missing data by percentage\n",
    "\n",
    "        :param data: a dataframe containing training data\n",
    "        :return: a dataframe containing a report of missing data\n",
    "        \"\"\"\n",
    "\n",
    "        total = data.isnull().sum().sort_values(ascending=False)\n",
    "        percent_1 = data.isnull().sum() / data.isnull().count() * 100\n",
    "        percent_2 = (np.round(percent_1, 1)).sort_values(ascending=False)\n",
    "        missing_data = pd.concat([total, percent_2], axis=1, keys=[\"Total\", \"%\"])\n",
    "        return missing_data"
   ]
  },
  {
   "cell_type": "markdown",
   "metadata": {
    "id": "IvTQAiBgJ-iv"
   },
   "source": [
    "## Data"
   ]
  },
  {
   "cell_type": "code",
   "execution_count": 225,
   "metadata": {
    "id": "t__psdJUU6aj"
   },
   "outputs": [],
   "source": [
    "class ExperimentDataset(BaseDataset):\n",
    "    def _load_data(self, filepath):\n",
    "        \"\"\"\n",
    "        _load_data gets data from source, then lower cases all column names\n",
    "\n",
    "        :param filepath: path where the data is located\n",
    "        :return: train, validate, and test data\n",
    "        \"\"\"\n",
    "        df = pd.read_csv(filepath)\n",
    "        df = df.rename(columns=str.lower)\n",
    "        return df\n",
    "\n",
    "\n",
    "dataset = ExperimentDataset()\n",
    "training_label = \"training_label_column_name\""
   ]
  },
  {
   "cell_type": "code",
   "execution_count": 226,
   "metadata": {
    "id": "uJ6zJeQqVNzT"
   },
   "outputs": [],
   "source": [
    "# https://www.kaggle.com/datasets/parulpandey/palmer-archipelago-antarctica-penguin-data?resource=download\n",
    "eda_data = dataset._load_data(\"./data/penguins_size.csv\")"
   ]
  },
  {
   "cell_type": "code",
   "execution_count": 227,
   "metadata": {
    "colab": {
     "base_uri": "https://localhost:8080/",
     "height": 206
    },
    "id": "g2HcqT4MbQ_j",
    "outputId": "933d5e28-1f8a-4b86-a123-ba42dbab9f1b"
   },
   "outputs": [
    {
     "data": {
      "text/html": [
       "<div>\n",
       "<style scoped>\n",
       "    .dataframe tbody tr th:only-of-type {\n",
       "        vertical-align: middle;\n",
       "    }\n",
       "\n",
       "    .dataframe tbody tr th {\n",
       "        vertical-align: top;\n",
       "    }\n",
       "\n",
       "    .dataframe thead th {\n",
       "        text-align: right;\n",
       "    }\n",
       "</style>\n",
       "<table border=\"1\" class=\"dataframe\">\n",
       "  <thead>\n",
       "    <tr style=\"text-align: right;\">\n",
       "      <th></th>\n",
       "      <th>species</th>\n",
       "      <th>island</th>\n",
       "      <th>culmen_length_mm</th>\n",
       "      <th>culmen_depth_mm</th>\n",
       "      <th>flipper_length_mm</th>\n",
       "      <th>body_mass_g</th>\n",
       "      <th>sex</th>\n",
       "    </tr>\n",
       "  </thead>\n",
       "  <tbody>\n",
       "    <tr>\n",
       "      <th>0</th>\n",
       "      <td>Adelie</td>\n",
       "      <td>Torgersen</td>\n",
       "      <td>39.1</td>\n",
       "      <td>18.7</td>\n",
       "      <td>181.0</td>\n",
       "      <td>3750.0</td>\n",
       "      <td>MALE</td>\n",
       "    </tr>\n",
       "    <tr>\n",
       "      <th>1</th>\n",
       "      <td>Adelie</td>\n",
       "      <td>Torgersen</td>\n",
       "      <td>39.5</td>\n",
       "      <td>17.4</td>\n",
       "      <td>186.0</td>\n",
       "      <td>3800.0</td>\n",
       "      <td>FEMALE</td>\n",
       "    </tr>\n",
       "    <tr>\n",
       "      <th>2</th>\n",
       "      <td>Adelie</td>\n",
       "      <td>Torgersen</td>\n",
       "      <td>40.3</td>\n",
       "      <td>18.0</td>\n",
       "      <td>195.0</td>\n",
       "      <td>3250.0</td>\n",
       "      <td>FEMALE</td>\n",
       "    </tr>\n",
       "    <tr>\n",
       "      <th>3</th>\n",
       "      <td>Adelie</td>\n",
       "      <td>Torgersen</td>\n",
       "      <td>NaN</td>\n",
       "      <td>NaN</td>\n",
       "      <td>NaN</td>\n",
       "      <td>NaN</td>\n",
       "      <td>NaN</td>\n",
       "    </tr>\n",
       "    <tr>\n",
       "      <th>4</th>\n",
       "      <td>Adelie</td>\n",
       "      <td>Torgersen</td>\n",
       "      <td>36.7</td>\n",
       "      <td>19.3</td>\n",
       "      <td>193.0</td>\n",
       "      <td>3450.0</td>\n",
       "      <td>FEMALE</td>\n",
       "    </tr>\n",
       "  </tbody>\n",
       "</table>\n",
       "</div>"
      ],
      "text/plain": [
       "  species     island  culmen_length_mm  culmen_depth_mm  flipper_length_mm  \\\n",
       "0  Adelie  Torgersen              39.1             18.7              181.0   \n",
       "1  Adelie  Torgersen              39.5             17.4              186.0   \n",
       "2  Adelie  Torgersen              40.3             18.0              195.0   \n",
       "3  Adelie  Torgersen               NaN              NaN                NaN   \n",
       "4  Adelie  Torgersen              36.7             19.3              193.0   \n",
       "\n",
       "   body_mass_g     sex  \n",
       "0       3750.0    MALE  \n",
       "1       3800.0  FEMALE  \n",
       "2       3250.0  FEMALE  \n",
       "3          NaN     NaN  \n",
       "4       3450.0  FEMALE  "
      ]
     },
     "execution_count": 227,
     "metadata": {},
     "output_type": "execute_result"
    }
   ],
   "source": [
    "eda_data.head()"
   ]
  },
  {
   "cell_type": "markdown",
   "metadata": {
    "id": "dY1zDI8lKFBY"
   },
   "source": [
    "## Exploratory Data Analysis"
   ]
  },
  {
   "cell_type": "code",
   "execution_count": 228,
   "metadata": {
    "colab": {
     "base_uri": "https://localhost:8080/"
    },
    "id": "yBfnd78VfIco",
    "outputId": "deb59de5-19a0-4e38-eef2-4911ba8c2fbe"
   },
   "outputs": [
    {
     "data": {
      "text/plain": [
       "(344, 7)"
      ]
     },
     "execution_count": 228,
     "metadata": {},
     "output_type": "execute_result"
    }
   ],
   "source": [
    "eda_data.shape"
   ]
  },
  {
   "cell_type": "code",
   "execution_count": 229,
   "metadata": {
    "colab": {
     "base_uri": "https://localhost:8080/",
     "height": 300
    },
    "id": "Lu2ShoeCfJ7H",
    "outputId": "6b18db5c-a815-4448-d54b-fc0f7a701232"
   },
   "outputs": [
    {
     "data": {
      "text/html": [
       "<div>\n",
       "<style scoped>\n",
       "    .dataframe tbody tr th:only-of-type {\n",
       "        vertical-align: middle;\n",
       "    }\n",
       "\n",
       "    .dataframe tbody tr th {\n",
       "        vertical-align: top;\n",
       "    }\n",
       "\n",
       "    .dataframe thead th {\n",
       "        text-align: right;\n",
       "    }\n",
       "</style>\n",
       "<table border=\"1\" class=\"dataframe\">\n",
       "  <thead>\n",
       "    <tr style=\"text-align: right;\">\n",
       "      <th></th>\n",
       "      <th>culmen_length_mm</th>\n",
       "      <th>culmen_depth_mm</th>\n",
       "      <th>flipper_length_mm</th>\n",
       "      <th>body_mass_g</th>\n",
       "    </tr>\n",
       "  </thead>\n",
       "  <tbody>\n",
       "    <tr>\n",
       "      <th>count</th>\n",
       "      <td>342.000000</td>\n",
       "      <td>342.000000</td>\n",
       "      <td>342.000000</td>\n",
       "      <td>342.000000</td>\n",
       "    </tr>\n",
       "    <tr>\n",
       "      <th>mean</th>\n",
       "      <td>43.921930</td>\n",
       "      <td>17.151170</td>\n",
       "      <td>200.915205</td>\n",
       "      <td>4201.754386</td>\n",
       "    </tr>\n",
       "    <tr>\n",
       "      <th>std</th>\n",
       "      <td>5.459584</td>\n",
       "      <td>1.974793</td>\n",
       "      <td>14.061714</td>\n",
       "      <td>801.954536</td>\n",
       "    </tr>\n",
       "    <tr>\n",
       "      <th>min</th>\n",
       "      <td>32.100000</td>\n",
       "      <td>13.100000</td>\n",
       "      <td>172.000000</td>\n",
       "      <td>2700.000000</td>\n",
       "    </tr>\n",
       "    <tr>\n",
       "      <th>25%</th>\n",
       "      <td>39.225000</td>\n",
       "      <td>15.600000</td>\n",
       "      <td>190.000000</td>\n",
       "      <td>3550.000000</td>\n",
       "    </tr>\n",
       "    <tr>\n",
       "      <th>50%</th>\n",
       "      <td>44.450000</td>\n",
       "      <td>17.300000</td>\n",
       "      <td>197.000000</td>\n",
       "      <td>4050.000000</td>\n",
       "    </tr>\n",
       "    <tr>\n",
       "      <th>75%</th>\n",
       "      <td>48.500000</td>\n",
       "      <td>18.700000</td>\n",
       "      <td>213.000000</td>\n",
       "      <td>4750.000000</td>\n",
       "    </tr>\n",
       "    <tr>\n",
       "      <th>max</th>\n",
       "      <td>59.600000</td>\n",
       "      <td>21.500000</td>\n",
       "      <td>231.000000</td>\n",
       "      <td>6300.000000</td>\n",
       "    </tr>\n",
       "  </tbody>\n",
       "</table>\n",
       "</div>"
      ],
      "text/plain": [
       "       culmen_length_mm  culmen_depth_mm  flipper_length_mm  body_mass_g\n",
       "count        342.000000       342.000000         342.000000   342.000000\n",
       "mean          43.921930        17.151170         200.915205  4201.754386\n",
       "std            5.459584         1.974793          14.061714   801.954536\n",
       "min           32.100000        13.100000         172.000000  2700.000000\n",
       "25%           39.225000        15.600000         190.000000  3550.000000\n",
       "50%           44.450000        17.300000         197.000000  4050.000000\n",
       "75%           48.500000        18.700000         213.000000  4750.000000\n",
       "max           59.600000        21.500000         231.000000  6300.000000"
      ]
     },
     "execution_count": 229,
     "metadata": {},
     "output_type": "execute_result"
    }
   ],
   "source": [
    "eda_data.describe()"
   ]
  },
  {
   "cell_type": "code",
   "execution_count": 230,
   "metadata": {
    "colab": {
     "base_uri": "https://localhost:8080/",
     "height": 375
    },
    "id": "da9MZpFsjFME",
    "outputId": "e85ac5c2-8fcc-4118-d180-c43f28b8c1b1"
   },
   "outputs": [
    {
     "data": {
      "text/plain": [
       "<AxesSubplot:>"
      ]
     },
     "execution_count": 230,
     "metadata": {},
     "output_type": "execute_result"
    },
    {
     "data": {
      "image/png": "[encoded data removed]",
      "text/plain": [
       "<Figure size 432x288 with 2 Axes>"
      ]
     },
     "metadata": {
      "needs_background": "light"
     },
     "output_type": "display_data"
    }
   ],
   "source": [
    "corr = eda_data.corr()\n",
    "sns.heatmap(corr, xticklabels=corr.columns, yticklabels=corr.columns)"
   ]
  },
  {
   "cell_type": "code",
   "execution_count": 231,
   "metadata": {
    "colab": {
     "base_uri": "https://localhost:8080/",
     "height": 297
    },
    "id": "GLRerxcVgwRb",
    "outputId": "ea424882-8484-4bdd-bf80-7bc0377ae1e0"
   },
   "outputs": [
    {
     "data": {
      "text/plain": [
       "<AxesSubplot:xlabel='species', ylabel='Count'>"
      ]
     },
     "execution_count": 231,
     "metadata": {},
     "output_type": "execute_result"
    },
    {
     "data": {
      "image/png": "[encoded data removed]",
      "text/plain": [
       "<Figure size 432x288 with 1 Axes>"
      ]
     },
     "metadata": {
      "needs_background": "light"
     },
     "output_type": "display_data"
    }
   ],
   "source": [
    "sns.histplot(data=eda_data, x=\"species\")"
   ]
  },
  {
   "cell_type": "code",
   "execution_count": 232,
   "metadata": {
    "id": "_qWagVkhfM-j"
   },
   "outputs": [],
   "source": [
    "# profile = ProfileReport(eda_data)\n",
    "# profile.to_widgets()"
   ]
  },
  {
   "cell_type": "markdown",
   "metadata": {
    "id": "G_5ZuqFwKIBh"
   },
   "source": [
    "## Data Cleaning && Feature Engineering"
   ]
  },
  {
   "cell_type": "code",
   "execution_count": 233,
   "metadata": {
    "id": "4I545ZWwkTF-"
   },
   "outputs": [],
   "source": [
    "data = eda_data"
   ]
  },
  {
   "cell_type": "markdown",
   "metadata": {
    "id": "2K6_AElxmhh5"
   },
   "source": [
    "### NOTE WHICH COLUMNS ARE LABELS BEFORE PROCEEDING!"
   ]
  },
  {
   "cell_type": "code",
   "execution_count": 234,
   "metadata": {
    "colab": {
     "base_uri": "https://localhost:8080/",
     "height": 206
    },
    "id": "pFDk9cG2nC4l",
    "outputId": "24fe6a59-64d4-4510-c8d8-54360e3447e7"
   },
   "outputs": [
    {
     "data": {
      "text/html": [
       "<div>\n",
       "<style scoped>\n",
       "    .dataframe tbody tr th:only-of-type {\n",
       "        vertical-align: middle;\n",
       "    }\n",
       "\n",
       "    .dataframe tbody tr th {\n",
       "        vertical-align: top;\n",
       "    }\n",
       "\n",
       "    .dataframe thead th {\n",
       "        text-align: right;\n",
       "    }\n",
       "</style>\n",
       "<table border=\"1\" class=\"dataframe\">\n",
       "  <thead>\n",
       "    <tr style=\"text-align: right;\">\n",
       "      <th></th>\n",
       "      <th>species</th>\n",
       "      <th>island</th>\n",
       "      <th>culmen_length_mm</th>\n",
       "      <th>culmen_depth_mm</th>\n",
       "      <th>flipper_length_mm</th>\n",
       "      <th>body_mass_g</th>\n",
       "      <th>sex</th>\n",
       "    </tr>\n",
       "  </thead>\n",
       "  <tbody>\n",
       "    <tr>\n",
       "      <th>0</th>\n",
       "      <td>Adelie</td>\n",
       "      <td>Torgersen</td>\n",
       "      <td>39.1</td>\n",
       "      <td>18.7</td>\n",
       "      <td>181.0</td>\n",
       "      <td>3750.0</td>\n",
       "      <td>MALE</td>\n",
       "    </tr>\n",
       "    <tr>\n",
       "      <th>1</th>\n",
       "      <td>Adelie</td>\n",
       "      <td>Torgersen</td>\n",
       "      <td>39.5</td>\n",
       "      <td>17.4</td>\n",
       "      <td>186.0</td>\n",
       "      <td>3800.0</td>\n",
       "      <td>FEMALE</td>\n",
       "    </tr>\n",
       "    <tr>\n",
       "      <th>2</th>\n",
       "      <td>Adelie</td>\n",
       "      <td>Torgersen</td>\n",
       "      <td>40.3</td>\n",
       "      <td>18.0</td>\n",
       "      <td>195.0</td>\n",
       "      <td>3250.0</td>\n",
       "      <td>FEMALE</td>\n",
       "    </tr>\n",
       "    <tr>\n",
       "      <th>3</th>\n",
       "      <td>Adelie</td>\n",
       "      <td>Torgersen</td>\n",
       "      <td>NaN</td>\n",
       "      <td>NaN</td>\n",
       "      <td>NaN</td>\n",
       "      <td>NaN</td>\n",
       "      <td>NaN</td>\n",
       "    </tr>\n",
       "    <tr>\n",
       "      <th>4</th>\n",
       "      <td>Adelie</td>\n",
       "      <td>Torgersen</td>\n",
       "      <td>36.7</td>\n",
       "      <td>19.3</td>\n",
       "      <td>193.0</td>\n",
       "      <td>3450.0</td>\n",
       "      <td>FEMALE</td>\n",
       "    </tr>\n",
       "  </tbody>\n",
       "</table>\n",
       "</div>"
      ],
      "text/plain": [
       "  species     island  culmen_length_mm  culmen_depth_mm  flipper_length_mm  \\\n",
       "0  Adelie  Torgersen              39.1             18.7              181.0   \n",
       "1  Adelie  Torgersen              39.5             17.4              186.0   \n",
       "2  Adelie  Torgersen              40.3             18.0              195.0   \n",
       "3  Adelie  Torgersen               NaN              NaN                NaN   \n",
       "4  Adelie  Torgersen              36.7             19.3              193.0   \n",
       "\n",
       "   body_mass_g     sex  \n",
       "0       3750.0    MALE  \n",
       "1       3800.0  FEMALE  \n",
       "2       3250.0  FEMALE  \n",
       "3          NaN     NaN  \n",
       "4       3450.0  FEMALE  "
      ]
     },
     "execution_count": 234,
     "metadata": {},
     "output_type": "execute_result"
    }
   ],
   "source": [
    "data.head()"
   ]
  },
  {
   "cell_type": "code",
   "execution_count": 235,
   "metadata": {
    "id": "EzEI097GcgpH"
   },
   "outputs": [],
   "source": [
    "binned_label = \"species\"\n",
    "continuous_label = \"body_mass_g\""
   ]
  },
  {
   "cell_type": "markdown",
   "metadata": {
    "id": "tTFv_F-rmwyi"
   },
   "source": [
    "### Differentiate between numeric and categorical data"
   ]
  },
  {
   "cell_type": "code",
   "execution_count": 236,
   "metadata": {
    "id": "5i4ktcBidyrH"
   },
   "outputs": [],
   "source": [
    "column_list = list(data.columns)\n",
    "column_list_without_label = column_list.remove(binned_label)\n",
    "numeric_column_names = data.select_dtypes(include=np.number).columns.tolist()\n",
    "categorical_column_names = data.select_dtypes(exclude=np.number).columns.tolist()"
   ]
  },
  {
   "cell_type": "code",
   "execution_count": 237,
   "metadata": {
    "id": "86IyYrQan5bP"
   },
   "outputs": [],
   "source": [
    "categorical_column_names.remove(binned_label)"
   ]
  },
  {
   "cell_type": "markdown",
   "metadata": {
    "id": "68yrJQbwfpsa"
   },
   "source": [
    "### Handle Outliers"
   ]
  },
  {
   "cell_type": "code",
   "execution_count": 238,
   "metadata": {
    "colab": {
     "base_uri": "https://localhost:8080/",
     "height": 280
    },
    "id": "ydTWwm1Gl1p2",
    "outputId": "f034f49d-3e5c-417b-8d56-f7a5b213985a"
   },
   "outputs": [
    {
     "data": {
      "image/png": "[encoded data removed]",
      "text/plain": [
       "<Figure size 432x288 with 1 Axes>"
      ]
     },
     "metadata": {
      "needs_background": "light"
     },
     "output_type": "display_data"
    }
   ],
   "source": [
    "ax = sns.boxplot(x=data[continuous_label])"
   ]
  },
  {
   "cell_type": "markdown",
   "metadata": {
    "id": "CzMsda8aTSNp"
   },
   "source": [
    "#### Visualize Outliers"
   ]
  },
  {
   "cell_type": "code",
   "execution_count": 239,
   "metadata": {
    "colab": {
     "base_uri": "https://localhost:8080/",
     "height": 1000
    },
    "id": "3Vvr5U58lWz5",
    "outputId": "d12a67e6-638c-492a-d458-cfd32b90ae44"
   },
   "outputs": [
    {
     "data": {
      "image/png": "[encoded data removed]",
      "text/plain": [
       "<Figure size 432x432 with 1 Axes>"
      ]
     },
     "metadata": {
      "needs_background": "light"
     },
     "output_type": "display_data"
    },
    {
     "data": {
      "image/png": "[encoded data removed]",
      "text/plain": [
       "<Figure size 432x432 with 1 Axes>"
      ]
     },
     "metadata": {
      "needs_background": "light"
     },
     "output_type": "display_data"
    },
    {
     "data": {
      "image/png": "[encoded data removed]",
      "text/plain": [
       "<Figure size 432x432 with 1 Axes>"
      ]
     },
     "metadata": {
      "needs_background": "light"
     },
     "output_type": "display_data"
    },
    {
     "data": {
      "image/png": "[encoded data removed]",
      "text/plain": [
       "<Figure size 432x432 with 1 Axes>"
      ]
     },
     "metadata": {
      "needs_background": "light"
     },
     "output_type": "display_data"
    }
   ],
   "source": [
    "for col in numeric_column_names:\n",
    "    data.boxplot(column=col, by=binned_label, figsize=(6, 6))\n",
    "    plt.title(col)\n",
    "plt.show()"
   ]
  },
  {
   "cell_type": "markdown",
   "metadata": {
    "id": "BOvOTn9Ng5pQ"
   },
   "source": [
    "#### By Standard Deviation"
   ]
  },
  {
   "cell_type": "code",
   "execution_count": 240,
   "metadata": {
    "id": "qFzDD5Pgg12m"
   },
   "outputs": [],
   "source": [
    "# Dropping the outlier rows with standard deviation above a factor\n",
    "factor = 2\n",
    "upper_lim = data[continuous_label].mean() + data[continuous_label].std() * factor\n",
    "lower_lim = data[continuous_label].mean() - data[continuous_label].std() * factor\n",
    "\n",
    "data = data[(data[continuous_label] < upper_lim) & (data[continuous_label] > lower_lim)]"
   ]
  },
  {
   "cell_type": "markdown",
   "metadata": {
    "id": "gkj6-woHg9ap"
   },
   "source": [
    "#### By Percentile"
   ]
  },
  {
   "cell_type": "code",
   "execution_count": 241,
   "metadata": {
    "id": "kuNoKXHdhE7T"
   },
   "outputs": [],
   "source": [
    "# Dropping the outlier rows with Percentiles\n",
    "\n",
    "# upper_lim = data['column'].quantile(.95)\n",
    "# lower_lim = data['column'].quantile(.05)\n",
    "\n",
    "# data = data[(data['column'] < upper_lim) & (data['column'] > lower_lim)]"
   ]
  },
  {
   "cell_type": "markdown",
   "metadata": {
    "id": "Udi57dd4mkw-"
   },
   "source": [
    "#### Check Outliers After Data Transformation"
   ]
  },
  {
   "cell_type": "code",
   "execution_count": 242,
   "metadata": {
    "colab": {
     "base_uri": "https://localhost:8080/",
     "height": 280
    },
    "id": "x-685JFPmo0d",
    "outputId": "99ce743f-26ad-4f41-cb21-1b7f50b4dd61"
   },
   "outputs": [
    {
     "data": {
      "image/png": "[encoded data removed]",
      "text/plain": [
       "<Figure size 432x288 with 1 Axes>"
      ]
     },
     "metadata": {
      "needs_background": "light"
     },
     "output_type": "display_data"
    }
   ],
   "source": [
    "ax = sns.boxplot(x=data[continuous_label])"
   ]
  },
  {
   "cell_type": "markdown",
   "metadata": {
    "id": "2IwaNgRsfwNm"
   },
   "source": [
    "### Binning"
   ]
  },
  {
   "cell_type": "markdown",
   "metadata": {
    "id": "43KawFXrhQCX"
   },
   "source": [
    " #### Numerical"
   ]
  },
  {
   "cell_type": "code",
   "execution_count": 243,
   "metadata": {
    "id": "-NtHA8b_hSEu"
   },
   "outputs": [],
   "source": [
    "# data['bin'] = pd.cut(data['value'], bins=[0,30,70,100], labels=[\"Low\", \"Mid\", \"High\"])"
   ]
  },
  {
   "cell_type": "markdown",
   "metadata": {
    "id": "97xWFrNdhTj2"
   },
   "source": [
    "#### Categorical"
   ]
  },
  {
   "cell_type": "code",
   "execution_count": 244,
   "metadata": {
    "id": "iBrV9uUYhV2v"
   },
   "outputs": [],
   "source": [
    "# conditions = [\n",
    "#     data['Country'].str.contains('Spain'),\n",
    "#     data['Country'].str.contains('Italy'),\n",
    "#     data['Country'].str.contains('Chile'),\n",
    "#     data['Country'].str.contains('Brazil')]\n",
    "\n",
    "# choices = ['Europe', 'Europe', 'South America', 'South America']\n",
    "\n",
    "# data['Continent'] = np.select(conditions, choices, default='Other')"
   ]
  },
  {
   "cell_type": "markdown",
   "metadata": {
    "id": "a5ouaM1rftZx"
   },
   "source": [
    "### Imputation / Handling Missing Values"
   ]
  },
  {
   "cell_type": "code",
   "execution_count": 245,
   "metadata": {
    "colab": {
     "base_uri": "https://localhost:8080/",
     "height": 268
    },
    "id": "nRf_LUtJfTsG",
    "outputId": "33c0aa92-8279-4a32-b3bd-dbfee263fe27"
   },
   "outputs": [
    {
     "data": {
      "text/html": [
       "<div>\n",
       "<style scoped>\n",
       "    .dataframe tbody tr th:only-of-type {\n",
       "        vertical-align: middle;\n",
       "    }\n",
       "\n",
       "    .dataframe tbody tr th {\n",
       "        vertical-align: top;\n",
       "    }\n",
       "\n",
       "    .dataframe thead th {\n",
       "        text-align: right;\n",
       "    }\n",
       "</style>\n",
       "<table border=\"1\" class=\"dataframe\">\n",
       "  <thead>\n",
       "    <tr style=\"text-align: right;\">\n",
       "      <th></th>\n",
       "      <th>Total</th>\n",
       "      <th>%</th>\n",
       "    </tr>\n",
       "  </thead>\n",
       "  <tbody>\n",
       "    <tr>\n",
       "      <th>sex</th>\n",
       "      <td>8</td>\n",
       "      <td>2.4</td>\n",
       "    </tr>\n",
       "    <tr>\n",
       "      <th>species</th>\n",
       "      <td>0</td>\n",
       "      <td>0.0</td>\n",
       "    </tr>\n",
       "    <tr>\n",
       "      <th>island</th>\n",
       "      <td>0</td>\n",
       "      <td>0.0</td>\n",
       "    </tr>\n",
       "    <tr>\n",
       "      <th>culmen_length_mm</th>\n",
       "      <td>0</td>\n",
       "      <td>0.0</td>\n",
       "    </tr>\n",
       "    <tr>\n",
       "      <th>culmen_depth_mm</th>\n",
       "      <td>0</td>\n",
       "      <td>0.0</td>\n",
       "    </tr>\n",
       "    <tr>\n",
       "      <th>flipper_length_mm</th>\n",
       "      <td>0</td>\n",
       "      <td>0.0</td>\n",
       "    </tr>\n",
       "    <tr>\n",
       "      <th>body_mass_g</th>\n",
       "      <td>0</td>\n",
       "      <td>0.0</td>\n",
       "    </tr>\n",
       "  </tbody>\n",
       "</table>\n",
       "</div>"
      ],
      "text/plain": [
       "                   Total    %\n",
       "sex                    8  2.4\n",
       "species                0  0.0\n",
       "island                 0  0.0\n",
       "culmen_length_mm       0  0.0\n",
       "culmen_depth_mm        0  0.0\n",
       "flipper_length_mm      0  0.0\n",
       "body_mass_g            0  0.0"
      ]
     },
     "execution_count": 245,
     "metadata": {},
     "output_type": "execute_result"
    }
   ],
   "source": [
    "dataset.nan_check(data)"
   ]
  },
  {
   "cell_type": "markdown",
   "metadata": {
    "id": "u-v977ikgT_q"
   },
   "source": [
    "#### Drop Option"
   ]
  },
  {
   "cell_type": "markdown",
   "metadata": {
    "id": "CDu17hN5gnTN"
   },
   "source": [
    "##### Above Threshold"
   ]
  },
  {
   "cell_type": "code",
   "execution_count": 246,
   "metadata": {
    "id": "c39qkTcwgGNu"
   },
   "outputs": [],
   "source": [
    "# threshold = 0.7\n",
    "# Dropping columns with missing value rate higher than threshold\n",
    "# data = data[data.columns[data.isnull().mean() < threshold]]\n",
    "\n",
    "# Dropping rows with missing value rate higher than threshold\n",
    "# data = data.loc[data.isnull().mean(axis=1) < threshold]"
   ]
  },
  {
   "cell_type": "markdown",
   "metadata": {
    "id": "l6zvp3Acgpqc"
   },
   "source": [
    "##### All Nulls"
   ]
  },
  {
   "cell_type": "code",
   "execution_count": 247,
   "metadata": {
    "id": "dCl4o4e3gvqu"
   },
   "outputs": [],
   "source": [
    "data = data.dropna()"
   ]
  },
  {
   "cell_type": "markdown",
   "metadata": {
    "id": "3wDh0VB_gci2"
   },
   "source": [
    "#### Fill Option"
   ]
  },
  {
   "cell_type": "markdown",
   "metadata": {
    "id": "rfDL32d5h5k7"
   },
   "source": [
    "##### Numeric: Fill with Zero"
   ]
  },
  {
   "cell_type": "code",
   "execution_count": 248,
   "metadata": {
    "id": "F69vKtgUgME8"
   },
   "outputs": [],
   "source": [
    "# filling all missing values with 0\n",
    "# data = data.fillna(0)"
   ]
  },
  {
   "cell_type": "markdown",
   "metadata": {
    "id": "MouQOtD7geOV"
   },
   "source": [
    "##### Numeric: Fill with Median"
   ]
  },
  {
   "cell_type": "code",
   "execution_count": 249,
   "metadata": {
    "id": "j6GicM8qgYOy"
   },
   "outputs": [],
   "source": [
    "# filling missing values with medians of the columns\n",
    "# data = data.fillna(data.median())"
   ]
  },
  {
   "cell_type": "markdown",
   "metadata": {
    "id": "HmRepKyHgfjo"
   },
   "source": [
    "String: Fill with Categorical Most Common Value"
   ]
  },
  {
   "cell_type": "code",
   "execution_count": null,
   "metadata": {
    "id": "LxQgbD1eh_oj"
   },
   "outputs": [],
   "source": []
  },
  {
   "cell_type": "markdown",
   "metadata": {
    "id": "LCvAaYt1gVis"
   },
   "source": [
    "#### Check Missing Values Again After Data Transformation"
   ]
  },
  {
   "cell_type": "code",
   "execution_count": 250,
   "metadata": {
    "colab": {
     "base_uri": "https://localhost:8080/",
     "height": 268
    },
    "id": "vYIx8LxrgdfL",
    "outputId": "2601cf5b-cba9-4586-8ead-5bc223bc7a12"
   },
   "outputs": [
    {
     "data": {
      "text/html": [
       "<div>\n",
       "<style scoped>\n",
       "    .dataframe tbody tr th:only-of-type {\n",
       "        vertical-align: middle;\n",
       "    }\n",
       "\n",
       "    .dataframe tbody tr th {\n",
       "        vertical-align: top;\n",
       "    }\n",
       "\n",
       "    .dataframe thead th {\n",
       "        text-align: right;\n",
       "    }\n",
       "</style>\n",
       "<table border=\"1\" class=\"dataframe\">\n",
       "  <thead>\n",
       "    <tr style=\"text-align: right;\">\n",
       "      <th></th>\n",
       "      <th>Total</th>\n",
       "      <th>%</th>\n",
       "    </tr>\n",
       "  </thead>\n",
       "  <tbody>\n",
       "    <tr>\n",
       "      <th>species</th>\n",
       "      <td>0</td>\n",
       "      <td>0.0</td>\n",
       "    </tr>\n",
       "    <tr>\n",
       "      <th>island</th>\n",
       "      <td>0</td>\n",
       "      <td>0.0</td>\n",
       "    </tr>\n",
       "    <tr>\n",
       "      <th>culmen_length_mm</th>\n",
       "      <td>0</td>\n",
       "      <td>0.0</td>\n",
       "    </tr>\n",
       "    <tr>\n",
       "      <th>culmen_depth_mm</th>\n",
       "      <td>0</td>\n",
       "      <td>0.0</td>\n",
       "    </tr>\n",
       "    <tr>\n",
       "      <th>flipper_length_mm</th>\n",
       "      <td>0</td>\n",
       "      <td>0.0</td>\n",
       "    </tr>\n",
       "    <tr>\n",
       "      <th>body_mass_g</th>\n",
       "      <td>0</td>\n",
       "      <td>0.0</td>\n",
       "    </tr>\n",
       "    <tr>\n",
       "      <th>sex</th>\n",
       "      <td>0</td>\n",
       "      <td>0.0</td>\n",
       "    </tr>\n",
       "  </tbody>\n",
       "</table>\n",
       "</div>"
      ],
      "text/plain": [
       "                   Total    %\n",
       "species                0  0.0\n",
       "island                 0  0.0\n",
       "culmen_length_mm       0  0.0\n",
       "culmen_depth_mm        0  0.0\n",
       "flipper_length_mm      0  0.0\n",
       "body_mass_g            0  0.0\n",
       "sex                    0  0.0"
      ]
     },
     "execution_count": 250,
     "metadata": {},
     "output_type": "execute_result"
    }
   ],
   "source": [
    "dataset.nan_check(data)"
   ]
  },
  {
   "cell_type": "markdown",
   "metadata": {
    "id": "E4ZQY56eh4d-"
   },
   "source": [
    "### One-Hot Encoding"
   ]
  },
  {
   "cell_type": "code",
   "execution_count": 251,
   "metadata": {
    "colab": {
     "base_uri": "https://localhost:8080/",
     "height": 487
    },
    "id": "Kin-mGJXiCsm",
    "outputId": "3f010eb6-5187-4941-8ad4-75e04d43db2e"
   },
   "outputs": [
    {
     "data": {
      "text/html": [
       "<div>\n",
       "<style scoped>\n",
       "    .dataframe tbody tr th:only-of-type {\n",
       "        vertical-align: middle;\n",
       "    }\n",
       "\n",
       "    .dataframe tbody tr th {\n",
       "        vertical-align: top;\n",
       "    }\n",
       "\n",
       "    .dataframe thead th {\n",
       "        text-align: right;\n",
       "    }\n",
       "</style>\n",
       "<table border=\"1\" class=\"dataframe\">\n",
       "  <thead>\n",
       "    <tr style=\"text-align: right;\">\n",
       "      <th></th>\n",
       "      <th>species</th>\n",
       "      <th>culmen_length_mm</th>\n",
       "      <th>culmen_depth_mm</th>\n",
       "      <th>flipper_length_mm</th>\n",
       "      <th>body_mass_g</th>\n",
       "      <th>island_Biscoe</th>\n",
       "      <th>island_Dream</th>\n",
       "      <th>island_Torgersen</th>\n",
       "      <th>sex_.</th>\n",
       "      <th>sex_FEMALE</th>\n",
       "      <th>sex_MALE</th>\n",
       "    </tr>\n",
       "  </thead>\n",
       "  <tbody>\n",
       "    <tr>\n",
       "      <th>0</th>\n",
       "      <td>Adelie</td>\n",
       "      <td>39.1</td>\n",
       "      <td>18.7</td>\n",
       "      <td>181.0</td>\n",
       "      <td>3750.0</td>\n",
       "      <td>0</td>\n",
       "      <td>0</td>\n",
       "      <td>1</td>\n",
       "      <td>0</td>\n",
       "      <td>0</td>\n",
       "      <td>1</td>\n",
       "    </tr>\n",
       "    <tr>\n",
       "      <th>1</th>\n",
       "      <td>Adelie</td>\n",
       "      <td>39.5</td>\n",
       "      <td>17.4</td>\n",
       "      <td>186.0</td>\n",
       "      <td>3800.0</td>\n",
       "      <td>0</td>\n",
       "      <td>0</td>\n",
       "      <td>1</td>\n",
       "      <td>0</td>\n",
       "      <td>1</td>\n",
       "      <td>0</td>\n",
       "    </tr>\n",
       "    <tr>\n",
       "      <th>2</th>\n",
       "      <td>Adelie</td>\n",
       "      <td>40.3</td>\n",
       "      <td>18.0</td>\n",
       "      <td>195.0</td>\n",
       "      <td>3250.0</td>\n",
       "      <td>0</td>\n",
       "      <td>0</td>\n",
       "      <td>1</td>\n",
       "      <td>0</td>\n",
       "      <td>1</td>\n",
       "      <td>0</td>\n",
       "    </tr>\n",
       "    <tr>\n",
       "      <th>4</th>\n",
       "      <td>Adelie</td>\n",
       "      <td>36.7</td>\n",
       "      <td>19.3</td>\n",
       "      <td>193.0</td>\n",
       "      <td>3450.0</td>\n",
       "      <td>0</td>\n",
       "      <td>0</td>\n",
       "      <td>1</td>\n",
       "      <td>0</td>\n",
       "      <td>1</td>\n",
       "      <td>0</td>\n",
       "    </tr>\n",
       "    <tr>\n",
       "      <th>5</th>\n",
       "      <td>Adelie</td>\n",
       "      <td>39.3</td>\n",
       "      <td>20.6</td>\n",
       "      <td>190.0</td>\n",
       "      <td>3650.0</td>\n",
       "      <td>0</td>\n",
       "      <td>0</td>\n",
       "      <td>1</td>\n",
       "      <td>0</td>\n",
       "      <td>0</td>\n",
       "      <td>1</td>\n",
       "    </tr>\n",
       "    <tr>\n",
       "      <th>...</th>\n",
       "      <td>...</td>\n",
       "      <td>...</td>\n",
       "      <td>...</td>\n",
       "      <td>...</td>\n",
       "      <td>...</td>\n",
       "      <td>...</td>\n",
       "      <td>...</td>\n",
       "      <td>...</td>\n",
       "      <td>...</td>\n",
       "      <td>...</td>\n",
       "      <td>...</td>\n",
       "    </tr>\n",
       "    <tr>\n",
       "      <th>338</th>\n",
       "      <td>Gentoo</td>\n",
       "      <td>47.2</td>\n",
       "      <td>13.7</td>\n",
       "      <td>214.0</td>\n",
       "      <td>4925.0</td>\n",
       "      <td>1</td>\n",
       "      <td>0</td>\n",
       "      <td>0</td>\n",
       "      <td>0</td>\n",
       "      <td>1</td>\n",
       "      <td>0</td>\n",
       "    </tr>\n",
       "    <tr>\n",
       "      <th>340</th>\n",
       "      <td>Gentoo</td>\n",
       "      <td>46.8</td>\n",
       "      <td>14.3</td>\n",
       "      <td>215.0</td>\n",
       "      <td>4850.0</td>\n",
       "      <td>1</td>\n",
       "      <td>0</td>\n",
       "      <td>0</td>\n",
       "      <td>0</td>\n",
       "      <td>1</td>\n",
       "      <td>0</td>\n",
       "    </tr>\n",
       "    <tr>\n",
       "      <th>341</th>\n",
       "      <td>Gentoo</td>\n",
       "      <td>50.4</td>\n",
       "      <td>15.7</td>\n",
       "      <td>222.0</td>\n",
       "      <td>5750.0</td>\n",
       "      <td>1</td>\n",
       "      <td>0</td>\n",
       "      <td>0</td>\n",
       "      <td>0</td>\n",
       "      <td>0</td>\n",
       "      <td>1</td>\n",
       "    </tr>\n",
       "    <tr>\n",
       "      <th>342</th>\n",
       "      <td>Gentoo</td>\n",
       "      <td>45.2</td>\n",
       "      <td>14.8</td>\n",
       "      <td>212.0</td>\n",
       "      <td>5200.0</td>\n",
       "      <td>1</td>\n",
       "      <td>0</td>\n",
       "      <td>0</td>\n",
       "      <td>0</td>\n",
       "      <td>1</td>\n",
       "      <td>0</td>\n",
       "    </tr>\n",
       "    <tr>\n",
       "      <th>343</th>\n",
       "      <td>Gentoo</td>\n",
       "      <td>49.9</td>\n",
       "      <td>16.1</td>\n",
       "      <td>213.0</td>\n",
       "      <td>5400.0</td>\n",
       "      <td>1</td>\n",
       "      <td>0</td>\n",
       "      <td>0</td>\n",
       "      <td>0</td>\n",
       "      <td>0</td>\n",
       "      <td>1</td>\n",
       "    </tr>\n",
       "  </tbody>\n",
       "</table>\n",
       "<p>325 rows × 11 columns</p>\n",
       "</div>"
      ],
      "text/plain": [
       "    species  culmen_length_mm  culmen_depth_mm  flipper_length_mm  \\\n",
       "0    Adelie              39.1             18.7              181.0   \n",
       "1    Adelie              39.5             17.4              186.0   \n",
       "2    Adelie              40.3             18.0              195.0   \n",
       "4    Adelie              36.7             19.3              193.0   \n",
       "5    Adelie              39.3             20.6              190.0   \n",
       "..      ...               ...              ...                ...   \n",
       "338  Gentoo              47.2             13.7              214.0   \n",
       "340  Gentoo              46.8             14.3              215.0   \n",
       "341  Gentoo              50.4             15.7              222.0   \n",
       "342  Gentoo              45.2             14.8              212.0   \n",
       "343  Gentoo              49.9             16.1              213.0   \n",
       "\n",
       "     body_mass_g  island_Biscoe  island_Dream  island_Torgersen  sex_.  \\\n",
       "0         3750.0              0             0                 1      0   \n",
       "1         3800.0              0             0                 1      0   \n",
       "2         3250.0              0             0                 1      0   \n",
       "4         3450.0              0             0                 1      0   \n",
       "5         3650.0              0             0                 1      0   \n",
       "..           ...            ...           ...               ...    ...   \n",
       "338       4925.0              1             0                 0      0   \n",
       "340       4850.0              1             0                 0      0   \n",
       "341       5750.0              1             0                 0      0   \n",
       "342       5200.0              1             0                 0      0   \n",
       "343       5400.0              1             0                 0      0   \n",
       "\n",
       "     sex_FEMALE  sex_MALE  \n",
       "0             0         1  \n",
       "1             1         0  \n",
       "2             1         0  \n",
       "4             1         0  \n",
       "5             0         1  \n",
       "..          ...       ...  \n",
       "338           1         0  \n",
       "340           1         0  \n",
       "341           0         1  \n",
       "342           1         0  \n",
       "343           0         1  \n",
       "\n",
       "[325 rows x 11 columns]"
      ]
     },
     "execution_count": 251,
     "metadata": {},
     "output_type": "execute_result"
    }
   ],
   "source": [
    "one_hotted_columns = pd.get_dummies(data[categorical_column_names])\n",
    "\n",
    "data = data.drop(columns=categorical_column_names)\n",
    "\n",
    "data = pd.concat([data, one_hotted_columns], axis=1)\n",
    "\n",
    "data"
   ]
  },
  {
   "cell_type": "markdown",
   "metadata": {
    "id": "glXalIFTo5PZ"
   },
   "source": [
    "#### Check Column List After One Hot Encoding Categorical Data"
   ]
  },
  {
   "cell_type": "code",
   "execution_count": 252,
   "metadata": {
    "colab": {
     "base_uri": "https://localhost:8080/"
    },
    "id": "X2F0M4A6o_lF",
    "outputId": "4ff4ef6d-c977-4e5e-fc41-696669929e66"
   },
   "outputs": [
    {
     "data": {
      "text/plain": [
       "Index(['species', 'culmen_length_mm', 'culmen_depth_mm', 'flipper_length_mm',\n",
       "       'body_mass_g', 'island_Biscoe', 'island_Dream', 'island_Torgersen',\n",
       "       'sex_.', 'sex_FEMALE', 'sex_MALE'],\n",
       "      dtype='object')"
      ]
     },
     "execution_count": 252,
     "metadata": {},
     "output_type": "execute_result"
    }
   ],
   "source": [
    "data.columns"
   ]
  },
  {
   "cell_type": "code",
   "execution_count": 253,
   "metadata": {
    "colab": {
     "base_uri": "https://localhost:8080/",
     "height": 270
    },
    "id": "rVP6LguQod2q",
    "outputId": "48a0550c-c0bf-40dd-983f-92464322433c"
   },
   "outputs": [
    {
     "data": {
      "text/html": [
       "<div>\n",
       "<style scoped>\n",
       "    .dataframe tbody tr th:only-of-type {\n",
       "        vertical-align: middle;\n",
       "    }\n",
       "\n",
       "    .dataframe tbody tr th {\n",
       "        vertical-align: top;\n",
       "    }\n",
       "\n",
       "    .dataframe thead th {\n",
       "        text-align: right;\n",
       "    }\n",
       "</style>\n",
       "<table border=\"1\" class=\"dataframe\">\n",
       "  <thead>\n",
       "    <tr style=\"text-align: right;\">\n",
       "      <th></th>\n",
       "      <th>species</th>\n",
       "      <th>culmen_length_mm</th>\n",
       "      <th>culmen_depth_mm</th>\n",
       "      <th>flipper_length_mm</th>\n",
       "      <th>body_mass_g</th>\n",
       "      <th>island_Biscoe</th>\n",
       "      <th>island_Dream</th>\n",
       "      <th>island_Torgersen</th>\n",
       "      <th>sex_.</th>\n",
       "      <th>sex_FEMALE</th>\n",
       "      <th>sex_MALE</th>\n",
       "    </tr>\n",
       "  </thead>\n",
       "  <tbody>\n",
       "    <tr>\n",
       "      <th>0</th>\n",
       "      <td>Adelie</td>\n",
       "      <td>39.1</td>\n",
       "      <td>18.7</td>\n",
       "      <td>181.0</td>\n",
       "      <td>3750.0</td>\n",
       "      <td>0</td>\n",
       "      <td>0</td>\n",
       "      <td>1</td>\n",
       "      <td>0</td>\n",
       "      <td>0</td>\n",
       "      <td>1</td>\n",
       "    </tr>\n",
       "    <tr>\n",
       "      <th>1</th>\n",
       "      <td>Adelie</td>\n",
       "      <td>39.5</td>\n",
       "      <td>17.4</td>\n",
       "      <td>186.0</td>\n",
       "      <td>3800.0</td>\n",
       "      <td>0</td>\n",
       "      <td>0</td>\n",
       "      <td>1</td>\n",
       "      <td>0</td>\n",
       "      <td>1</td>\n",
       "      <td>0</td>\n",
       "    </tr>\n",
       "    <tr>\n",
       "      <th>2</th>\n",
       "      <td>Adelie</td>\n",
       "      <td>40.3</td>\n",
       "      <td>18.0</td>\n",
       "      <td>195.0</td>\n",
       "      <td>3250.0</td>\n",
       "      <td>0</td>\n",
       "      <td>0</td>\n",
       "      <td>1</td>\n",
       "      <td>0</td>\n",
       "      <td>1</td>\n",
       "      <td>0</td>\n",
       "    </tr>\n",
       "    <tr>\n",
       "      <th>4</th>\n",
       "      <td>Adelie</td>\n",
       "      <td>36.7</td>\n",
       "      <td>19.3</td>\n",
       "      <td>193.0</td>\n",
       "      <td>3450.0</td>\n",
       "      <td>0</td>\n",
       "      <td>0</td>\n",
       "      <td>1</td>\n",
       "      <td>0</td>\n",
       "      <td>1</td>\n",
       "      <td>0</td>\n",
       "    </tr>\n",
       "    <tr>\n",
       "      <th>5</th>\n",
       "      <td>Adelie</td>\n",
       "      <td>39.3</td>\n",
       "      <td>20.6</td>\n",
       "      <td>190.0</td>\n",
       "      <td>3650.0</td>\n",
       "      <td>0</td>\n",
       "      <td>0</td>\n",
       "      <td>1</td>\n",
       "      <td>0</td>\n",
       "      <td>0</td>\n",
       "      <td>1</td>\n",
       "    </tr>\n",
       "  </tbody>\n",
       "</table>\n",
       "</div>"
      ],
      "text/plain": [
       "  species  culmen_length_mm  culmen_depth_mm  flipper_length_mm  body_mass_g  \\\n",
       "0  Adelie              39.1             18.7              181.0       3750.0   \n",
       "1  Adelie              39.5             17.4              186.0       3800.0   \n",
       "2  Adelie              40.3             18.0              195.0       3250.0   \n",
       "4  Adelie              36.7             19.3              193.0       3450.0   \n",
       "5  Adelie              39.3             20.6              190.0       3650.0   \n",
       "\n",
       "   island_Biscoe  island_Dream  island_Torgersen  sex_.  sex_FEMALE  sex_MALE  \n",
       "0              0             0                 1      0           0         1  \n",
       "1              0             0                 1      0           1         0  \n",
       "2              0             0                 1      0           1         0  \n",
       "4              0             0                 1      0           1         0  \n",
       "5              0             0                 1      0           0         1  "
      ]
     },
     "execution_count": 253,
     "metadata": {},
     "output_type": "execute_result"
    }
   ],
   "source": [
    "data.head()"
   ]
  },
  {
   "cell_type": "markdown",
   "metadata": {
    "id": "F9GQmrCfiK4K"
   },
   "source": [
    "### Splitting"
   ]
  },
  {
   "cell_type": "markdown",
   "metadata": {
    "id": "OzmV8g3NiY9Y"
   },
   "source": [
    "##### Strings"
   ]
  },
  {
   "cell_type": "code",
   "execution_count": 254,
   "metadata": {
    "id": "-j8rO9FDiNQH"
   },
   "outputs": [],
   "source": [
    "# data.full_name\n",
    "# Extracting first names\n",
    "# data.full_name.str.split(\" \").map(lambda x: x[0])\n",
    "# Extracting last names\n",
    "# data.full_name.str.split(\" \").map(lambda x: x[-1])"
   ]
  },
  {
   "cell_type": "markdown",
   "metadata": {
    "id": "R-C1tyOMiiVD"
   },
   "source": [
    "##### Numbers"
   ]
  },
  {
   "cell_type": "code",
   "execution_count": 255,
   "metadata": {
    "id": "0yj8uWnuitNA"
   },
   "outputs": [],
   "source": [
    "# find a method that splits at the decimal or rounds"
   ]
  },
  {
   "cell_type": "markdown",
   "metadata": {
    "id": "DMmTb6UBtVjt"
   },
   "source": [
    "### Other String Cleaning Methods (e.g. regex)"
   ]
  },
  {
   "cell_type": "markdown",
   "metadata": {
    "id": "jVBeVd0cjTn6"
   },
   "source": [
    "### Scaling"
   ]
  },
  {
   "cell_type": "markdown",
   "metadata": {
    "id": "gnVmRnY-jjPT"
   },
   "source": [
    "##### Normalization of a Single Column"
   ]
  },
  {
   "cell_type": "code",
   "execution_count": 256,
   "metadata": {
    "id": "yvGag4uzjwMg"
   },
   "outputs": [],
   "source": [
    "for column in numeric_column_names:\n",
    "    data[column] = (data[column] - data[column].min()) / (\n",
    "        data[column].max() - data[column].min()\n",
    "    )"
   ]
  },
  {
   "cell_type": "markdown",
   "metadata": {
    "id": "2y8kQczJjlD5"
   },
   "source": [
    "##### Standardization of a Single Column"
   ]
  },
  {
   "cell_type": "code",
   "execution_count": 257,
   "metadata": {
    "id": "cCWJbC1fjtQX"
   },
   "outputs": [],
   "source": [
    "# data['standardized_label'] = (data[continuous_label] - data[continuous_label].mean()) / data[continuous_label].std()"
   ]
  },
  {
   "cell_type": "markdown",
   "metadata": {
    "id": "3k_IXoJVq_Y_"
   },
   "source": [
    "##### Pipelines\n",
    "\n",
    "Normally scaling is done in the context of a pipeline. This can be combined with training to streamline. Here's an example below for reference."
   ]
  },
  {
   "cell_type": "code",
   "execution_count": 258,
   "metadata": {
    "id": "XhIuuK6irBQr"
   },
   "outputs": [],
   "source": [
    "# # https://scikit-learn.org/stable/modules/preprocessing.html\n",
    "# # https://www.kaggle.com/code/satishgunjal/binary-multiclass-classification-using-sklearn/notebook#Multiclass-Classification\n",
    "\n",
    "# # Define preprocessing for numeric columns (scale them)\n",
    "# feature_columns = [0,1,2,3]\n",
    "# feature_transformer = Pipeline(steps=[\n",
    "#     ('scaler', StandardScaler())\n",
    "#     ])\n",
    "\n",
    "# # Create preprocessing steps\n",
    "# preprocessor = ColumnTransformer(\n",
    "#     transformers=[\n",
    "#         ('preprocess', feature_transformer, feature_columns)])\n",
    "\n",
    "# # Create training pipeline\n",
    "# pipeline = Pipeline(steps=[('preprocessor', preprocessor),\n",
    "#                            ('regressor', SVC(probability=True))])\n",
    "\n",
    "\n",
    "# # fit the pipeline to train a linear regression model on the training set\n",
    "# multi_model = pipeline.fit(x_penguin_train, y_penguin_train)\n",
    "# print (multi_model)"
   ]
  },
  {
   "cell_type": "markdown",
   "metadata": {
    "id": "OLHvI1hljoe7"
   },
   "source": [
    "### Date Handling"
   ]
  },
  {
   "cell_type": "code",
   "execution_count": 259,
   "metadata": {
    "id": "igES1ENUj5ZJ"
   },
   "outputs": [],
   "source": [
    "# #Transform string to date\n",
    "# data['date'] = pd.to_datetime(data.date, format=\"%d-%m-%Y\")\n",
    "\n",
    "# #Extracting Year\n",
    "# data['year'] = data['date'].dt.year\n",
    "\n",
    "# #Extracting Month\n",
    "# data['month'] = data['date'].dt.month\n",
    "\n",
    "# #Extracting passed years since the date\n",
    "# data['passed_years'] = date.today().year - data['date'].dt.year\n",
    "\n",
    "# #Extracting passed months since the date\n",
    "# data['passed_months'] = (date.today().year - data['date'].dt.year) * 12 + date.today().month - data['date'].dt.month\n",
    "\n",
    "# #Extracting the weekday name of the date\n",
    "# data['day_name'] = data['date'].dt.day_name()"
   ]
  },
  {
   "cell_type": "markdown",
   "metadata": {
    "id": "fwajIn_Qs8QY"
   },
   "source": [
    "### PII & IDs"
   ]
  },
  {
   "cell_type": "code",
   "execution_count": 260,
   "metadata": {
    "id": "j1opmXzlpyEn"
   },
   "outputs": [],
   "source": [
    "# TO DO:"
   ]
  },
  {
   "cell_type": "markdown",
   "metadata": {
    "id": "L6CdNc9fS9Ys"
   },
   "source": [
    "### Drop Columns as Needed"
   ]
  },
  {
   "cell_type": "code",
   "execution_count": 261,
   "metadata": {
    "id": "L4OyQgtjTATJ"
   },
   "outputs": [],
   "source": [
    "columns_to_drop = [\"sex_.\"]\n",
    "\n",
    "data = data.drop(columns=columns_to_drop)"
   ]
  },
  {
   "cell_type": "markdown",
   "metadata": {
    "id": "5bZNoUWfTOZn"
   },
   "source": [
    "### Sanity Check Before Train Test Split"
   ]
  },
  {
   "cell_type": "code",
   "execution_count": 262,
   "metadata": {
    "colab": {
     "base_uri": "https://localhost:8080/"
    },
    "id": "h9VmzIu0TTZs",
    "outputId": "171b1f4f-b4b1-40a6-a713-5123411c2c55"
   },
   "outputs": [
    {
     "data": {
      "text/plain": [
       "Index(['species', 'culmen_length_mm', 'culmen_depth_mm', 'flipper_length_mm',\n",
       "       'body_mass_g', 'island_Biscoe', 'island_Dream', 'island_Torgersen',\n",
       "       'sex_FEMALE', 'sex_MALE'],\n",
       "      dtype='object')"
      ]
     },
     "execution_count": 262,
     "metadata": {},
     "output_type": "execute_result"
    }
   ],
   "source": [
    "data.columns"
   ]
  },
  {
   "cell_type": "code",
   "execution_count": 263,
   "metadata": {
    "colab": {
     "base_uri": "https://localhost:8080/",
     "height": 270
    },
    "id": "anqNqE9ETUWR",
    "outputId": "ff8ebfce-fa43-44b6-b708-a28be4b5c854"
   },
   "outputs": [
    {
     "data": {
      "text/html": [
       "<div>\n",
       "<style scoped>\n",
       "    .dataframe tbody tr th:only-of-type {\n",
       "        vertical-align: middle;\n",
       "    }\n",
       "\n",
       "    .dataframe tbody tr th {\n",
       "        vertical-align: top;\n",
       "    }\n",
       "\n",
       "    .dataframe thead th {\n",
       "        text-align: right;\n",
       "    }\n",
       "</style>\n",
       "<table border=\"1\" class=\"dataframe\">\n",
       "  <thead>\n",
       "    <tr style=\"text-align: right;\">\n",
       "      <th></th>\n",
       "      <th>species</th>\n",
       "      <th>culmen_length_mm</th>\n",
       "      <th>culmen_depth_mm</th>\n",
       "      <th>flipper_length_mm</th>\n",
       "      <th>body_mass_g</th>\n",
       "      <th>island_Biscoe</th>\n",
       "      <th>island_Dream</th>\n",
       "      <th>island_Torgersen</th>\n",
       "      <th>sex_FEMALE</th>\n",
       "      <th>sex_MALE</th>\n",
       "    </tr>\n",
       "  </thead>\n",
       "  <tbody>\n",
       "    <tr>\n",
       "      <th>0</th>\n",
       "      <td>Adelie</td>\n",
       "      <td>0.270270</td>\n",
       "      <td>0.666667</td>\n",
       "      <td>0.152542</td>\n",
       "      <td>0.338710</td>\n",
       "      <td>0</td>\n",
       "      <td>0</td>\n",
       "      <td>1</td>\n",
       "      <td>0</td>\n",
       "      <td>1</td>\n",
       "    </tr>\n",
       "    <tr>\n",
       "      <th>1</th>\n",
       "      <td>Adelie</td>\n",
       "      <td>0.285714</td>\n",
       "      <td>0.511905</td>\n",
       "      <td>0.237288</td>\n",
       "      <td>0.354839</td>\n",
       "      <td>0</td>\n",
       "      <td>0</td>\n",
       "      <td>1</td>\n",
       "      <td>1</td>\n",
       "      <td>0</td>\n",
       "    </tr>\n",
       "    <tr>\n",
       "      <th>2</th>\n",
       "      <td>Adelie</td>\n",
       "      <td>0.316602</td>\n",
       "      <td>0.583333</td>\n",
       "      <td>0.389831</td>\n",
       "      <td>0.177419</td>\n",
       "      <td>0</td>\n",
       "      <td>0</td>\n",
       "      <td>1</td>\n",
       "      <td>1</td>\n",
       "      <td>0</td>\n",
       "    </tr>\n",
       "    <tr>\n",
       "      <th>4</th>\n",
       "      <td>Adelie</td>\n",
       "      <td>0.177606</td>\n",
       "      <td>0.738095</td>\n",
       "      <td>0.355932</td>\n",
       "      <td>0.241935</td>\n",
       "      <td>0</td>\n",
       "      <td>0</td>\n",
       "      <td>1</td>\n",
       "      <td>1</td>\n",
       "      <td>0</td>\n",
       "    </tr>\n",
       "    <tr>\n",
       "      <th>5</th>\n",
       "      <td>Adelie</td>\n",
       "      <td>0.277992</td>\n",
       "      <td>0.892857</td>\n",
       "      <td>0.305085</td>\n",
       "      <td>0.306452</td>\n",
       "      <td>0</td>\n",
       "      <td>0</td>\n",
       "      <td>1</td>\n",
       "      <td>0</td>\n",
       "      <td>1</td>\n",
       "    </tr>\n",
       "  </tbody>\n",
       "</table>\n",
       "</div>"
      ],
      "text/plain": [
       "  species  culmen_length_mm  culmen_depth_mm  flipper_length_mm  body_mass_g  \\\n",
       "0  Adelie          0.270270         0.666667           0.152542     0.338710   \n",
       "1  Adelie          0.285714         0.511905           0.237288     0.354839   \n",
       "2  Adelie          0.316602         0.583333           0.389831     0.177419   \n",
       "4  Adelie          0.177606         0.738095           0.355932     0.241935   \n",
       "5  Adelie          0.277992         0.892857           0.305085     0.306452   \n",
       "\n",
       "   island_Biscoe  island_Dream  island_Torgersen  sex_FEMALE  sex_MALE  \n",
       "0              0             0                 1           0         1  \n",
       "1              0             0                 1           1         0  \n",
       "2              0             0                 1           1         0  \n",
       "4              0             0                 1           1         0  \n",
       "5              0             0                 1           0         1  "
      ]
     },
     "execution_count": 263,
     "metadata": {},
     "output_type": "execute_result"
    }
   ],
   "source": [
    "data.head()"
   ]
  },
  {
   "cell_type": "markdown",
   "metadata": {
    "id": "vswGUemtTkr3"
   },
   "source": [
    "## Split Data into Training, Validation, and Test Sets"
   ]
  },
  {
   "cell_type": "code",
   "execution_count": 264,
   "metadata": {
    "id": "td28JB27XIXg"
   },
   "outputs": [],
   "source": [
    "train_data, train_label = dataset.split_data_and_label(data, binned_label)"
   ]
  },
  {
   "cell_type": "code",
   "execution_count": 265,
   "metadata": {
    "colab": {
     "base_uri": "https://localhost:8080/",
     "height": 467
    },
    "id": "fBBNqhXCZGZW",
    "outputId": "17e8f3f0-c86b-4293-ba13-7c492a483972"
   },
   "outputs": [
    {
     "data": {
      "text/html": [
       "<div>\n",
       "<style scoped>\n",
       "    .dataframe tbody tr th:only-of-type {\n",
       "        vertical-align: middle;\n",
       "    }\n",
       "\n",
       "    .dataframe tbody tr th {\n",
       "        vertical-align: top;\n",
       "    }\n",
       "\n",
       "    .dataframe thead th {\n",
       "        text-align: right;\n",
       "    }\n",
       "</style>\n",
       "<table border=\"1\" class=\"dataframe\">\n",
       "  <thead>\n",
       "    <tr style=\"text-align: right;\">\n",
       "      <th></th>\n",
       "      <th>culmen_length_mm</th>\n",
       "      <th>culmen_depth_mm</th>\n",
       "      <th>flipper_length_mm</th>\n",
       "      <th>body_mass_g</th>\n",
       "      <th>island_Biscoe</th>\n",
       "      <th>island_Dream</th>\n",
       "      <th>island_Torgersen</th>\n",
       "      <th>sex_FEMALE</th>\n",
       "      <th>sex_MALE</th>\n",
       "    </tr>\n",
       "  </thead>\n",
       "  <tbody>\n",
       "    <tr>\n",
       "      <th>0</th>\n",
       "      <td>0.270270</td>\n",
       "      <td>0.666667</td>\n",
       "      <td>0.152542</td>\n",
       "      <td>0.338710</td>\n",
       "      <td>0</td>\n",
       "      <td>0</td>\n",
       "      <td>1</td>\n",
       "      <td>0</td>\n",
       "      <td>1</td>\n",
       "    </tr>\n",
       "    <tr>\n",
       "      <th>1</th>\n",
       "      <td>0.285714</td>\n",
       "      <td>0.511905</td>\n",
       "      <td>0.237288</td>\n",
       "      <td>0.354839</td>\n",
       "      <td>0</td>\n",
       "      <td>0</td>\n",
       "      <td>1</td>\n",
       "      <td>1</td>\n",
       "      <td>0</td>\n",
       "    </tr>\n",
       "    <tr>\n",
       "      <th>2</th>\n",
       "      <td>0.316602</td>\n",
       "      <td>0.583333</td>\n",
       "      <td>0.389831</td>\n",
       "      <td>0.177419</td>\n",
       "      <td>0</td>\n",
       "      <td>0</td>\n",
       "      <td>1</td>\n",
       "      <td>1</td>\n",
       "      <td>0</td>\n",
       "    </tr>\n",
       "    <tr>\n",
       "      <th>4</th>\n",
       "      <td>0.177606</td>\n",
       "      <td>0.738095</td>\n",
       "      <td>0.355932</td>\n",
       "      <td>0.241935</td>\n",
       "      <td>0</td>\n",
       "      <td>0</td>\n",
       "      <td>1</td>\n",
       "      <td>1</td>\n",
       "      <td>0</td>\n",
       "    </tr>\n",
       "    <tr>\n",
       "      <th>5</th>\n",
       "      <td>0.277992</td>\n",
       "      <td>0.892857</td>\n",
       "      <td>0.305085</td>\n",
       "      <td>0.306452</td>\n",
       "      <td>0</td>\n",
       "      <td>0</td>\n",
       "      <td>1</td>\n",
       "      <td>0</td>\n",
       "      <td>1</td>\n",
       "    </tr>\n",
       "    <tr>\n",
       "      <th>...</th>\n",
       "      <td>...</td>\n",
       "      <td>...</td>\n",
       "      <td>...</td>\n",
       "      <td>...</td>\n",
       "      <td>...</td>\n",
       "      <td>...</td>\n",
       "      <td>...</td>\n",
       "      <td>...</td>\n",
       "      <td>...</td>\n",
       "    </tr>\n",
       "    <tr>\n",
       "      <th>338</th>\n",
       "      <td>0.583012</td>\n",
       "      <td>0.071429</td>\n",
       "      <td>0.711864</td>\n",
       "      <td>0.717742</td>\n",
       "      <td>1</td>\n",
       "      <td>0</td>\n",
       "      <td>0</td>\n",
       "      <td>1</td>\n",
       "      <td>0</td>\n",
       "    </tr>\n",
       "    <tr>\n",
       "      <th>340</th>\n",
       "      <td>0.567568</td>\n",
       "      <td>0.142857</td>\n",
       "      <td>0.728814</td>\n",
       "      <td>0.693548</td>\n",
       "      <td>1</td>\n",
       "      <td>0</td>\n",
       "      <td>0</td>\n",
       "      <td>1</td>\n",
       "      <td>0</td>\n",
       "    </tr>\n",
       "    <tr>\n",
       "      <th>341</th>\n",
       "      <td>0.706564</td>\n",
       "      <td>0.309524</td>\n",
       "      <td>0.847458</td>\n",
       "      <td>0.983871</td>\n",
       "      <td>1</td>\n",
       "      <td>0</td>\n",
       "      <td>0</td>\n",
       "      <td>0</td>\n",
       "      <td>1</td>\n",
       "    </tr>\n",
       "    <tr>\n",
       "      <th>342</th>\n",
       "      <td>0.505792</td>\n",
       "      <td>0.202381</td>\n",
       "      <td>0.677966</td>\n",
       "      <td>0.806452</td>\n",
       "      <td>1</td>\n",
       "      <td>0</td>\n",
       "      <td>0</td>\n",
       "      <td>1</td>\n",
       "      <td>0</td>\n",
       "    </tr>\n",
       "    <tr>\n",
       "      <th>343</th>\n",
       "      <td>0.687259</td>\n",
       "      <td>0.357143</td>\n",
       "      <td>0.694915</td>\n",
       "      <td>0.870968</td>\n",
       "      <td>1</td>\n",
       "      <td>0</td>\n",
       "      <td>0</td>\n",
       "      <td>0</td>\n",
       "      <td>1</td>\n",
       "    </tr>\n",
       "  </tbody>\n",
       "</table>\n",
       "<p>325 rows × 9 columns</p>\n",
       "</div>"
      ],
      "text/plain": [
       "     culmen_length_mm  culmen_depth_mm  flipper_length_mm  body_mass_g  \\\n",
       "0            0.270270         0.666667           0.152542     0.338710   \n",
       "1            0.285714         0.511905           0.237288     0.354839   \n",
       "2            0.316602         0.583333           0.389831     0.177419   \n",
       "4            0.177606         0.738095           0.355932     0.241935   \n",
       "5            0.277992         0.892857           0.305085     0.306452   \n",
       "..                ...              ...                ...          ...   \n",
       "338          0.583012         0.071429           0.711864     0.717742   \n",
       "340          0.567568         0.142857           0.728814     0.693548   \n",
       "341          0.706564         0.309524           0.847458     0.983871   \n",
       "342          0.505792         0.202381           0.677966     0.806452   \n",
       "343          0.687259         0.357143           0.694915     0.870968   \n",
       "\n",
       "     island_Biscoe  island_Dream  island_Torgersen  sex_FEMALE  sex_MALE  \n",
       "0                0             0                 1           0         1  \n",
       "1                0             0                 1           1         0  \n",
       "2                0             0                 1           1         0  \n",
       "4                0             0                 1           1         0  \n",
       "5                0             0                 1           0         1  \n",
       "..             ...           ...               ...         ...       ...  \n",
       "338              1             0                 0           1         0  \n",
       "340              1             0                 0           1         0  \n",
       "341              1             0                 0           0         1  \n",
       "342              1             0                 0           1         0  \n",
       "343              1             0                 0           0         1  \n",
       "\n",
       "[325 rows x 9 columns]"
      ]
     },
     "execution_count": 265,
     "metadata": {},
     "output_type": "execute_result"
    }
   ],
   "source": [
    "train_data"
   ]
  },
  {
   "cell_type": "code",
   "execution_count": 266,
   "metadata": {
    "colab": {
     "base_uri": "https://localhost:8080/"
    },
    "id": "v7OlEPL8ZI5R",
    "outputId": "323dda73-ea3e-4162-c1ca-377051fc5bb8"
   },
   "outputs": [
    {
     "data": {
      "text/plain": [
       "0      Adelie\n",
       "1      Adelie\n",
       "2      Adelie\n",
       "4      Adelie\n",
       "5      Adelie\n",
       "        ...  \n",
       "338    Gentoo\n",
       "340    Gentoo\n",
       "341    Gentoo\n",
       "342    Gentoo\n",
       "343    Gentoo\n",
       "Name: species, Length: 325, dtype: object"
      ]
     },
     "execution_count": 266,
     "metadata": {},
     "output_type": "execute_result"
    }
   ],
   "source": [
    "train_label"
   ]
  },
  {
   "cell_type": "code",
   "execution_count": 267,
   "metadata": {
    "colab": {
     "base_uri": "https://localhost:8080/"
    },
    "id": "S5ufEG_CfQmi",
    "outputId": "18ff5f21-6c5e-4b92-eaf8-43a3d13c8629"
   },
   "outputs": [
    {
     "data": {
      "text/plain": [
       "array(['Adelie', 'Chinstrap', 'Gentoo'], dtype=object)"
      ]
     },
     "execution_count": 267,
     "metadata": {},
     "output_type": "execute_result"
    }
   ],
   "source": [
    "values_to_stratify_by = eda_data.species.unique()\n",
    "values_to_stratify_by"
   ]
  },
  {
   "cell_type": "code",
   "execution_count": 268,
   "metadata": {
    "id": "tBIzL1MpX18L"
   },
   "outputs": [],
   "source": [
    "experiment_data = dataset.get_train_val_test_data(train_data, train_label)"
   ]
  },
  {
   "cell_type": "code",
   "execution_count": 269,
   "metadata": {
    "id": "wnqMDAVWZl-e"
   },
   "outputs": [],
   "source": [
    "X_train = experiment_data[\"X_train\"]\n",
    "X_val = experiment_data[\"X_val\"]\n",
    "X_test = experiment_data[\"X_test\"]\n",
    "y_train = experiment_data[\"y_train\"]\n",
    "y_val = experiment_data[\"y_val\"]\n",
    "y_test = experiment_data[\"y_test\"]"
   ]
  },
  {
   "cell_type": "markdown",
   "metadata": {
    "id": "BfHJazF3KLZP"
   },
   "source": [
    "## Experimentation"
   ]
  },
  {
   "cell_type": "markdown",
   "metadata": {
    "id": "QAv_yBsvKPe3"
   },
   "source": [
    "### Methods\n"
   ]
  },
  {
   "cell_type": "code",
   "execution_count": 270,
   "metadata": {
    "id": "lA93A2hGYN-8"
   },
   "outputs": [],
   "source": [
    "class BasicModelsWithDefaults:\n",
    "    \"\"\"\n",
    "    Basic implementation of looping through machine learning models\n",
    "\n",
    "    :param models: a list of scikit-learn models\n",
    "    :return: a data frame that summarizes the results\n",
    "    \"\"\"\n",
    "\n",
    "    def __init__(self, models, data, model_tracker, experiment_type):\n",
    "        self._models = models\n",
    "        self._size = len(models)\n",
    "        self._data = data\n",
    "        self._model_tracker = model_tracker\n",
    "        self._experiment_type = experiment_type\n",
    "        self._fitted_models = None\n",
    "\n",
    "    def fit(self):\n",
    "        \"\"\"\n",
    "        fits a list of machine learning models with default parameters\n",
    "\n",
    "        :param models: a list of scikit-learn models\n",
    "        :return: a list of fit times\n",
    "        \"\"\"\n",
    "        fitted_models = []\n",
    "\n",
    "        for i in range(self._size):\n",
    "            fitted_i = self._models[i].fit(self._data[\"X_train\"], self._data[\"y_train\"])\n",
    "            fitted_models.append(fitted_i)\n",
    "            self._fitted_models = fitted_models  # this might not work\n",
    "        return\n",
    "\n",
    "    def predict(self):\n",
    "        \"\"\"\n",
    "        predicts results based a list of machine learning models\n",
    "\n",
    "        :param models: a list of fitted_models\n",
    "        :return: a list of predictions\n",
    "        \"\"\"\n",
    "        predictions = []\n",
    "\n",
    "        for model in self._models:\n",
    "            y_pred_train = model.predict(self._data[\"X_train\"])\n",
    "            y_pred_val = model.predict(self._data[\"X_val\"])\n",
    "            # (y_true, y_pred, train_or_test, experiment_type, model_description, dataset, model_tracker)\n",
    "            self._model_tracker = perf_eval.report_performance(\n",
    "                self._data[\"y_train\"],\n",
    "                y_pred_train,\n",
    "                \"train\",\n",
    "                self._experiment_type,\n",
    "                f\"{model}\",\n",
    "                \"X_train\",\n",
    "                self._model_tracker,\n",
    "            )\n",
    "            self._model_tracker = perf_eval.report_performance(\n",
    "                self._data[\"y_val\"],\n",
    "                y_pred_val,\n",
    "                \"validate\",\n",
    "                self._experiment_type,\n",
    "                f\"{model}\",\n",
    "                \"X_val\",\n",
    "                self._model_tracker,\n",
    "            )\n",
    "        return self._model_tracker"
   ]
  },
  {
   "cell_type": "code",
   "execution_count": 271,
   "metadata": {
    "id": "1uh88k1iXVVv"
   },
   "outputs": [],
   "source": [
    "class Ensemble:\n",
    "    \"\"\"\n",
    "    Basic implementation of an ensemble with majority vote aggregation.\n",
    "\n",
    "    :param models: a list of scikit-learn models\n",
    "    :return: an aggregation of predictions\n",
    "    \"\"\"\n",
    "\n",
    "    def __init__(self, models):\n",
    "        self._models = models\n",
    "        self._size = len(models)\n",
    "\n",
    "    def fit(self, X_train, y_train):\n",
    "        for i in range(self._size):\n",
    "            self._models[i].fit(X_train, y_train)\n",
    "\n",
    "    def predict(self, X_test):\n",
    "        preds = []\n",
    "        for i in range(self._size):\n",
    "            pred_i = self._models[i].predict(X_test)\n",
    "            preds.append(pred_i)\n",
    "        preds = np.vstack(preds)\n",
    "        agg = []\n",
    "        for j in range(preds.shape[1]):\n",
    "            agg.append(np.bincount(preds[:, j]).argmax())\n",
    "        agg = np.array(agg)\n",
    "        return agg"
   ]
  },
  {
   "cell_type": "code",
   "execution_count": 272,
   "metadata": {
    "id": "wyBujaNwhuB7"
   },
   "outputs": [],
   "source": [
    "class BasePerformanceEvaluation:\n",
    "    def __init__(self):\n",
    "        self._column_names = [\n",
    "            \"model_type\",\n",
    "            \"train_or_test\",\n",
    "            \"dataset\",\n",
    "            \"accuracy\",\n",
    "            \"precision\",\n",
    "            \"recall\",\n",
    "            \"f1_score\",\n",
    "            \"confusion_matrix\",\n",
    "            \"mean_squared_error\",\n",
    "            \"mean_absolute_error\",\n",
    "            \"mean_absolute_percentage_error\",\n",
    "        ]\n",
    "\n",
    "    def create_tracker(self):\n",
    "        return pd.DataFrame(columns=self._column_names)\n",
    "\n",
    "    def report_performance(\n",
    "        self,\n",
    "        y_true,\n",
    "        y_pred,\n",
    "        train_or_test,\n",
    "        experiment_type,\n",
    "        model_description,\n",
    "        dataset,\n",
    "        model_tracker,\n",
    "    ):\n",
    "\n",
    "        if experiment_type == \"regression\":\n",
    "            mse = mean_squared_error(y_true, y_pred)\n",
    "            mae = mean_absolute_error(y_true, y_pred)\n",
    "            mape = mean_absolute_percentage_error(y_true, y_pred)\n",
    "            accuracy = None\n",
    "            precision = None\n",
    "            recall = None\n",
    "            f1 = None\n",
    "            confusion = NotImplementedError\n",
    "\n",
    "        elif experiment_type == \"classification\":\n",
    "            accuracy = accuracy_score(y_true, y_pred)\n",
    "            precision = precision_score(y_true, y_pred, average=\"weighted\")\n",
    "            recall = recall_score(y_true, y_pred, average=\"weighted\")\n",
    "            f1 = f1_score(y_true, y_pred, average=\"weighted\")\n",
    "            confusion = confusion_matrix(y_true, y_pred)\n",
    "            mse = None\n",
    "            mae = None\n",
    "            mape = None\n",
    "\n",
    "        else:\n",
    "            raise NotImplementedError\n",
    "\n",
    "        new_row = pd.DataFrame(\n",
    "            [\n",
    "                [\n",
    "                    f\"{model_description}\",\n",
    "                    f\"{train_or_test}\",\n",
    "                    f\"{dataset}\",\n",
    "                    accuracy,\n",
    "                    precision,\n",
    "                    recall,\n",
    "                    f1,\n",
    "                    confusion,\n",
    "                    mse,\n",
    "                    mae,\n",
    "                    mape,\n",
    "                ]\n",
    "            ],\n",
    "            columns=self._column_names,\n",
    "        )\n",
    "        model_tracker = pd.concat([model_tracker, new_row])\n",
    "\n",
    "        return model_tracker\n",
    "\n",
    "\n",
    "perf_eval = BasePerformanceEvaluation()"
   ]
  },
  {
   "cell_type": "code",
   "execution_count": 273,
   "metadata": {
    "colab": {
     "base_uri": "https://localhost:8080/",
     "height": 113
    },
    "id": "iPBJMNJbh5UB",
    "outputId": "e83226d9-ce9d-429f-a64b-b4a6fd66b807"
   },
   "outputs": [
    {
     "data": {
      "text/html": [
       "<div>\n",
       "<style scoped>\n",
       "    .dataframe tbody tr th:only-of-type {\n",
       "        vertical-align: middle;\n",
       "    }\n",
       "\n",
       "    .dataframe tbody tr th {\n",
       "        vertical-align: top;\n",
       "    }\n",
       "\n",
       "    .dataframe thead th {\n",
       "        text-align: right;\n",
       "    }\n",
       "</style>\n",
       "<table border=\"1\" class=\"dataframe\">\n",
       "  <thead>\n",
       "    <tr style=\"text-align: right;\">\n",
       "      <th></th>\n",
       "      <th>model_type</th>\n",
       "      <th>train_or_test</th>\n",
       "      <th>dataset</th>\n",
       "      <th>accuracy</th>\n",
       "      <th>precision</th>\n",
       "      <th>recall</th>\n",
       "      <th>f1_score</th>\n",
       "      <th>confusion_matrix</th>\n",
       "      <th>mean_squared_error</th>\n",
       "      <th>mean_absolute_error</th>\n",
       "      <th>mean_absolute_percentage_error</th>\n",
       "    </tr>\n",
       "  </thead>\n",
       "  <tbody>\n",
       "  </tbody>\n",
       "</table>\n",
       "</div>"
      ],
      "text/plain": [
       "Empty DataFrame\n",
       "Columns: [model_type, train_or_test, dataset, accuracy, precision, recall, f1_score, confusion_matrix, mean_squared_error, mean_absolute_error, mean_absolute_percentage_error]\n",
       "Index: []"
      ]
     },
     "execution_count": 273,
     "metadata": {},
     "output_type": "execute_result"
    }
   ],
   "source": [
    "model_tracker = perf_eval.create_tracker()\n",
    "model_tracker"
   ]
  },
  {
   "cell_type": "markdown",
   "metadata": {
    "id": "eKvyhkPEKfx5"
   },
   "source": [
    "### Experiments"
   ]
  },
  {
   "cell_type": "markdown",
   "metadata": {
    "id": "gwAdgYt5KJz2"
   },
   "source": [
    "#### Classification\n",
    "\n",
    "Predict central tendency or most common class as a baseline for comparison."
   ]
  },
  {
   "cell_type": "markdown",
   "metadata": {
    "id": "g3M6rTSuUMqd"
   },
   "source": [
    "##### Baseline"
   ]
  },
  {
   "cell_type": "code",
   "execution_count": 274,
   "metadata": {
    "colab": {
     "base_uri": "https://localhost:8080/",
     "height": 317
    },
    "id": "qRLiJS7oUKH6",
    "outputId": "0a634227-3364-4c11-c2ad-f4f804a0d079"
   },
   "outputs": [
    {
     "name": "stderr",
     "output_type": "stream",
     "text": [
      "/Users/emekdahl/dev/machine_learning_template/mltemplate/lib/python3.8/site-packages/sklearn/metrics/_classification.py:1318: UndefinedMetricWarning: Precision is ill-defined and being set to 0.0 in labels with no predicted samples. Use `zero_division` parameter to control this behavior.\n",
      "  _warn_prf(average, modifier, msg_start, len(result))\n",
      "/Users/emekdahl/dev/machine_learning_template/mltemplate/lib/python3.8/site-packages/sklearn/metrics/_classification.py:1318: UndefinedMetricWarning: Precision is ill-defined and being set to 0.0 in labels with no predicted samples. Use `zero_division` parameter to control this behavior.\n",
      "  _warn_prf(average, modifier, msg_start, len(result))\n"
     ]
    },
    {
     "data": {
      "text/html": [
       "<div>\n",
       "<style scoped>\n",
       "    .dataframe tbody tr th:only-of-type {\n",
       "        vertical-align: middle;\n",
       "    }\n",
       "\n",
       "    .dataframe tbody tr th {\n",
       "        vertical-align: top;\n",
       "    }\n",
       "\n",
       "    .dataframe thead th {\n",
       "        text-align: right;\n",
       "    }\n",
       "</style>\n",
       "<table border=\"1\" class=\"dataframe\">\n",
       "  <thead>\n",
       "    <tr style=\"text-align: right;\">\n",
       "      <th></th>\n",
       "      <th>model_type</th>\n",
       "      <th>train_or_test</th>\n",
       "      <th>dataset</th>\n",
       "      <th>accuracy</th>\n",
       "      <th>precision</th>\n",
       "      <th>recall</th>\n",
       "      <th>f1_score</th>\n",
       "      <th>confusion_matrix</th>\n",
       "      <th>mean_squared_error</th>\n",
       "      <th>mean_absolute_error</th>\n",
       "      <th>mean_absolute_percentage_error</th>\n",
       "    </tr>\n",
       "  </thead>\n",
       "  <tbody>\n",
       "    <tr>\n",
       "      <th>0</th>\n",
       "      <td>Train Majority Class</td>\n",
       "      <td>train</td>\n",
       "      <td>X_train</td>\n",
       "      <td>0.442308</td>\n",
       "      <td>0.195636</td>\n",
       "      <td>0.442308</td>\n",
       "      <td>0.271282</td>\n",
       "      <td>[[115, 0, 0], [55, 0, 0], [90, 0, 0]]</td>\n",
       "      <td>None</td>\n",
       "      <td>None</td>\n",
       "      <td>None</td>\n",
       "    </tr>\n",
       "    <tr>\n",
       "      <th>0</th>\n",
       "      <td>Validate Majority Class</td>\n",
       "      <td>validate</td>\n",
       "      <td>X_val</td>\n",
       "      <td>0.5</td>\n",
       "      <td>0.25</td>\n",
       "      <td>0.5</td>\n",
       "      <td>0.333333</td>\n",
       "      <td>[[16, 0, 0], [9, 0, 0], [7, 0, 0]]</td>\n",
       "      <td>None</td>\n",
       "      <td>None</td>\n",
       "      <td>None</td>\n",
       "    </tr>\n",
       "  </tbody>\n",
       "</table>\n",
       "</div>"
      ],
      "text/plain": [
       "                model_type train_or_test  dataset  accuracy precision  \\\n",
       "0     Train Majority Class         train  X_train  0.442308  0.195636   \n",
       "0  Validate Majority Class      validate    X_val       0.5      0.25   \n",
       "\n",
       "     recall  f1_score                       confusion_matrix  \\\n",
       "0  0.442308  0.271282  [[115, 0, 0], [55, 0, 0], [90, 0, 0]]   \n",
       "0       0.5  0.333333     [[16, 0, 0], [9, 0, 0], [7, 0, 0]]   \n",
       "\n",
       "  mean_squared_error mean_absolute_error mean_absolute_percentage_error  \n",
       "0               None                None                           None  \n",
       "0               None                None                           None  "
      ]
     },
     "execution_count": 274,
     "metadata": {},
     "output_type": "execute_result"
    }
   ],
   "source": [
    "y_train_baseline = np.full(y_train.size, \"Adelie\")\n",
    "y_val_baseline = np.full(y_val.size, \"Adelie\")\n",
    "y_test_baseline = np.full(y_test.size, \"Adelie\")\n",
    "\n",
    "# (self, y_true, y_pred, train_or_test, experiment_type, model_description, dataset, model_tracker)\n",
    "model_tracker = perf_eval.report_performance(\n",
    "    y_train,\n",
    "    y_train_baseline,\n",
    "    \"train\",\n",
    "    \"classification\",\n",
    "    \"Train Majority Class\",\n",
    "    \"X_train\",\n",
    "    model_tracker,\n",
    ")\n",
    "model_tracker = perf_eval.report_performance(\n",
    "    y_val,\n",
    "    y_val_baseline,\n",
    "    \"validate\",\n",
    "    \"classification\",\n",
    "    \"Validate Majority Class\",\n",
    "    \"X_val\",\n",
    "    model_tracker,\n",
    ")\n",
    "model_tracker.tail(2)"
   ]
  },
  {
   "cell_type": "markdown",
   "metadata": {
    "id": "kdsC01cQL-OU"
   },
   "source": [
    "##### Default Parameters"
   ]
  },
  {
   "cell_type": "code",
   "execution_count": 275,
   "metadata": {
    "colab": {
     "base_uri": "https://localhost:8080/",
     "height": 600
    },
    "id": "b_JJtpHBj5QB",
    "outputId": "7f6c9534-0d10-4594-ec4b-e8a43f1d075f"
   },
   "outputs": [
    {
     "data": {
      "text/html": [
       "<div>\n",
       "<style scoped>\n",
       "    .dataframe tbody tr th:only-of-type {\n",
       "        vertical-align: middle;\n",
       "    }\n",
       "\n",
       "    .dataframe tbody tr th {\n",
       "        vertical-align: top;\n",
       "    }\n",
       "\n",
       "    .dataframe thead th {\n",
       "        text-align: right;\n",
       "    }\n",
       "</style>\n",
       "<table border=\"1\" class=\"dataframe\">\n",
       "  <thead>\n",
       "    <tr style=\"text-align: right;\">\n",
       "      <th></th>\n",
       "      <th>model_type</th>\n",
       "      <th>train_or_test</th>\n",
       "      <th>dataset</th>\n",
       "      <th>accuracy</th>\n",
       "      <th>precision</th>\n",
       "      <th>recall</th>\n",
       "      <th>f1_score</th>\n",
       "      <th>confusion_matrix</th>\n",
       "      <th>mean_squared_error</th>\n",
       "      <th>mean_absolute_error</th>\n",
       "      <th>mean_absolute_percentage_error</th>\n",
       "    </tr>\n",
       "  </thead>\n",
       "  <tbody>\n",
       "    <tr>\n",
       "      <th>0</th>\n",
       "      <td>LogisticRegression()</td>\n",
       "      <td>train</td>\n",
       "      <td>X_train</td>\n",
       "      <td>1.0</td>\n",
       "      <td>1.0</td>\n",
       "      <td>1.0</td>\n",
       "      <td>1.0</td>\n",
       "      <td>[[115, 0, 0], [0, 55, 0], [0, 0, 90]]</td>\n",
       "      <td>None</td>\n",
       "      <td>None</td>\n",
       "      <td>None</td>\n",
       "    </tr>\n",
       "    <tr>\n",
       "      <th>0</th>\n",
       "      <td>LogisticRegression()</td>\n",
       "      <td>validate</td>\n",
       "      <td>X_val</td>\n",
       "      <td>0.96875</td>\n",
       "      <td>0.970588</td>\n",
       "      <td>0.96875</td>\n",
       "      <td>0.968304</td>\n",
       "      <td>[[16, 0, 0], [1, 8, 0], [0, 0, 7]]</td>\n",
       "      <td>None</td>\n",
       "      <td>None</td>\n",
       "      <td>None</td>\n",
       "    </tr>\n",
       "    <tr>\n",
       "      <th>0</th>\n",
       "      <td>RidgeClassifier()</td>\n",
       "      <td>train</td>\n",
       "      <td>X_train</td>\n",
       "      <td>0.996154</td>\n",
       "      <td>0.996223</td>\n",
       "      <td>0.996154</td>\n",
       "      <td>0.996163</td>\n",
       "      <td>[[114, 1, 0], [0, 55, 0], [0, 0, 90]]</td>\n",
       "      <td>None</td>\n",
       "      <td>None</td>\n",
       "      <td>None</td>\n",
       "    </tr>\n",
       "    <tr>\n",
       "      <th>0</th>\n",
       "      <td>RidgeClassifier()</td>\n",
       "      <td>validate</td>\n",
       "      <td>X_val</td>\n",
       "      <td>0.96875</td>\n",
       "      <td>0.970588</td>\n",
       "      <td>0.96875</td>\n",
       "      <td>0.968304</td>\n",
       "      <td>[[16, 0, 0], [1, 8, 0], [0, 0, 7]]</td>\n",
       "      <td>None</td>\n",
       "      <td>None</td>\n",
       "      <td>None</td>\n",
       "    </tr>\n",
       "    <tr>\n",
       "      <th>0</th>\n",
       "      <td>KNeighborsClassifier()</td>\n",
       "      <td>train</td>\n",
       "      <td>X_train</td>\n",
       "      <td>0.996154</td>\n",
       "      <td>0.996223</td>\n",
       "      <td>0.996154</td>\n",
       "      <td>0.996163</td>\n",
       "      <td>[[114, 1, 0], [0, 55, 0], [0, 0, 90]]</td>\n",
       "      <td>None</td>\n",
       "      <td>None</td>\n",
       "      <td>None</td>\n",
       "    </tr>\n",
       "    <tr>\n",
       "      <th>0</th>\n",
       "      <td>KNeighborsClassifier()</td>\n",
       "      <td>validate</td>\n",
       "      <td>X_val</td>\n",
       "      <td>1.0</td>\n",
       "      <td>1.0</td>\n",
       "      <td>1.0</td>\n",
       "      <td>1.0</td>\n",
       "      <td>[[16, 0, 0], [0, 9, 0], [0, 0, 7]]</td>\n",
       "      <td>None</td>\n",
       "      <td>None</td>\n",
       "      <td>None</td>\n",
       "    </tr>\n",
       "    <tr>\n",
       "      <th>0</th>\n",
       "      <td>SGDClassifier()</td>\n",
       "      <td>train</td>\n",
       "      <td>X_train</td>\n",
       "      <td>0.992308</td>\n",
       "      <td>0.992578</td>\n",
       "      <td>0.992308</td>\n",
       "      <td>0.992343</td>\n",
       "      <td>[[113, 2, 0], [0, 55, 0], [0, 0, 90]]</td>\n",
       "      <td>None</td>\n",
       "      <td>None</td>\n",
       "      <td>None</td>\n",
       "    </tr>\n",
       "    <tr>\n",
       "      <th>0</th>\n",
       "      <td>SGDClassifier()</td>\n",
       "      <td>validate</td>\n",
       "      <td>X_val</td>\n",
       "      <td>1.0</td>\n",
       "      <td>1.0</td>\n",
       "      <td>1.0</td>\n",
       "      <td>1.0</td>\n",
       "      <td>[[16, 0, 0], [0, 9, 0], [0, 0, 7]]</td>\n",
       "      <td>None</td>\n",
       "      <td>None</td>\n",
       "      <td>None</td>\n",
       "    </tr>\n",
       "    <tr>\n",
       "      <th>0</th>\n",
       "      <td>DecisionTreeClassifier()</td>\n",
       "      <td>train</td>\n",
       "      <td>X_train</td>\n",
       "      <td>1.0</td>\n",
       "      <td>1.0</td>\n",
       "      <td>1.0</td>\n",
       "      <td>1.0</td>\n",
       "      <td>[[115, 0, 0], [0, 55, 0], [0, 0, 90]]</td>\n",
       "      <td>None</td>\n",
       "      <td>None</td>\n",
       "      <td>None</td>\n",
       "    </tr>\n",
       "    <tr>\n",
       "      <th>0</th>\n",
       "      <td>DecisionTreeClassifier()</td>\n",
       "      <td>validate</td>\n",
       "      <td>X_val</td>\n",
       "      <td>0.96875</td>\n",
       "      <td>0.970588</td>\n",
       "      <td>0.96875</td>\n",
       "      <td>0.968304</td>\n",
       "      <td>[[16, 0, 0], [1, 8, 0], [0, 0, 7]]</td>\n",
       "      <td>None</td>\n",
       "      <td>None</td>\n",
       "      <td>None</td>\n",
       "    </tr>\n",
       "  </tbody>\n",
       "</table>\n",
       "</div>"
      ],
      "text/plain": [
       "                 model_type train_or_test  dataset  accuracy precision  \\\n",
       "0      LogisticRegression()         train  X_train       1.0       1.0   \n",
       "0      LogisticRegression()      validate    X_val   0.96875  0.970588   \n",
       "0         RidgeClassifier()         train  X_train  0.996154  0.996223   \n",
       "0         RidgeClassifier()      validate    X_val   0.96875  0.970588   \n",
       "0    KNeighborsClassifier()         train  X_train  0.996154  0.996223   \n",
       "0    KNeighborsClassifier()      validate    X_val       1.0       1.0   \n",
       "0           SGDClassifier()         train  X_train  0.992308  0.992578   \n",
       "0           SGDClassifier()      validate    X_val       1.0       1.0   \n",
       "0  DecisionTreeClassifier()         train  X_train       1.0       1.0   \n",
       "0  DecisionTreeClassifier()      validate    X_val   0.96875  0.970588   \n",
       "\n",
       "     recall  f1_score                       confusion_matrix  \\\n",
       "0       1.0       1.0  [[115, 0, 0], [0, 55, 0], [0, 0, 90]]   \n",
       "0   0.96875  0.968304     [[16, 0, 0], [1, 8, 0], [0, 0, 7]]   \n",
       "0  0.996154  0.996163  [[114, 1, 0], [0, 55, 0], [0, 0, 90]]   \n",
       "0   0.96875  0.968304     [[16, 0, 0], [1, 8, 0], [0, 0, 7]]   \n",
       "0  0.996154  0.996163  [[114, 1, 0], [0, 55, 0], [0, 0, 90]]   \n",
       "0       1.0       1.0     [[16, 0, 0], [0, 9, 0], [0, 0, 7]]   \n",
       "0  0.992308  0.992343  [[113, 2, 0], [0, 55, 0], [0, 0, 90]]   \n",
       "0       1.0       1.0     [[16, 0, 0], [0, 9, 0], [0, 0, 7]]   \n",
       "0       1.0       1.0  [[115, 0, 0], [0, 55, 0], [0, 0, 90]]   \n",
       "0   0.96875  0.968304     [[16, 0, 0], [1, 8, 0], [0, 0, 7]]   \n",
       "\n",
       "  mean_squared_error mean_absolute_error mean_absolute_percentage_error  \n",
       "0               None                None                           None  \n",
       "0               None                None                           None  \n",
       "0               None                None                           None  \n",
       "0               None                None                           None  \n",
       "0               None                None                           None  \n",
       "0               None                None                           None  \n",
       "0               None                None                           None  \n",
       "0               None                None                           None  \n",
       "0               None                None                           None  \n",
       "0               None                None                           None  "
      ]
     },
     "execution_count": 275,
     "metadata": {},
     "output_type": "execute_result"
    }
   ],
   "source": [
    "clf_models = [\n",
    "    LogisticRegression(),\n",
    "    RidgeClassifier(),\n",
    "    KNeighborsClassifier(),\n",
    "    SGDClassifier(),\n",
    "    DecisionTreeClassifier(),\n",
    "]\n",
    "clf_models_with_defaults = BasicModelsWithDefaults(\n",
    "    clf_models, experiment_data, model_tracker, \"classification\"\n",
    ")\n",
    "clf_models_with_defaults.fit()\n",
    "model_tracker = clf_models_with_defaults.predict()\n",
    "model_tracker.tail(len(clf_models) * 2)"
   ]
  },
  {
   "cell_type": "markdown",
   "metadata": {
    "id": "HsYnYgh0cmV7"
   },
   "source": [
    "##### Bagging"
   ]
  },
  {
   "cell_type": "code",
   "execution_count": 276,
   "metadata": {
    "colab": {
     "base_uri": "https://localhost:8080/",
     "height": 503
    },
    "id": "izlivFmGns0D",
    "outputId": "bc6cef13-6218-47e5-e0b0-6490aaae4d8c"
   },
   "outputs": [
    {
     "data": {
      "text/html": [
       "<div>\n",
       "<style scoped>\n",
       "    .dataframe tbody tr th:only-of-type {\n",
       "        vertical-align: middle;\n",
       "    }\n",
       "\n",
       "    .dataframe tbody tr th {\n",
       "        vertical-align: top;\n",
       "    }\n",
       "\n",
       "    .dataframe thead th {\n",
       "        text-align: right;\n",
       "    }\n",
       "</style>\n",
       "<table border=\"1\" class=\"dataframe\">\n",
       "  <thead>\n",
       "    <tr style=\"text-align: right;\">\n",
       "      <th></th>\n",
       "      <th>model_type</th>\n",
       "      <th>train_or_test</th>\n",
       "      <th>dataset</th>\n",
       "      <th>accuracy</th>\n",
       "      <th>precision</th>\n",
       "      <th>recall</th>\n",
       "      <th>f1_score</th>\n",
       "      <th>confusion_matrix</th>\n",
       "      <th>mean_squared_error</th>\n",
       "      <th>mean_absolute_error</th>\n",
       "      <th>mean_absolute_percentage_error</th>\n",
       "    </tr>\n",
       "  </thead>\n",
       "  <tbody>\n",
       "    <tr>\n",
       "      <th>0</th>\n",
       "      <td>BaggingClassifier(base_estimator=KNeighborsCla...</td>\n",
       "      <td>train</td>\n",
       "      <td>X_train</td>\n",
       "      <td>0.996154</td>\n",
       "      <td>0.996223</td>\n",
       "      <td>0.996154</td>\n",
       "      <td>0.996163</td>\n",
       "      <td>[[114, 1, 0], [0, 55, 0], [0, 0, 90]]</td>\n",
       "      <td>None</td>\n",
       "      <td>None</td>\n",
       "      <td>None</td>\n",
       "    </tr>\n",
       "    <tr>\n",
       "      <th>0</th>\n",
       "      <td>BaggingClassifier(base_estimator=KNeighborsCla...</td>\n",
       "      <td>validate</td>\n",
       "      <td>X_val</td>\n",
       "      <td>1.0</td>\n",
       "      <td>1.0</td>\n",
       "      <td>1.0</td>\n",
       "      <td>1.0</td>\n",
       "      <td>[[16, 0, 0], [0, 9, 0], [0, 0, 7]]</td>\n",
       "      <td>None</td>\n",
       "      <td>None</td>\n",
       "      <td>None</td>\n",
       "    </tr>\n",
       "    <tr>\n",
       "      <th>0</th>\n",
       "      <td>BaggingClassifier(base_estimator=SVC())</td>\n",
       "      <td>train</td>\n",
       "      <td>X_train</td>\n",
       "      <td>0.996154</td>\n",
       "      <td>0.996223</td>\n",
       "      <td>0.996154</td>\n",
       "      <td>0.996163</td>\n",
       "      <td>[[114, 1, 0], [0, 55, 0], [0, 0, 90]]</td>\n",
       "      <td>None</td>\n",
       "      <td>None</td>\n",
       "      <td>None</td>\n",
       "    </tr>\n",
       "    <tr>\n",
       "      <th>0</th>\n",
       "      <td>BaggingClassifier(base_estimator=SVC())</td>\n",
       "      <td>validate</td>\n",
       "      <td>X_val</td>\n",
       "      <td>0.96875</td>\n",
       "      <td>0.970588</td>\n",
       "      <td>0.96875</td>\n",
       "      <td>0.968304</td>\n",
       "      <td>[[16, 0, 0], [1, 8, 0], [0, 0, 7]]</td>\n",
       "      <td>None</td>\n",
       "      <td>None</td>\n",
       "      <td>None</td>\n",
       "    </tr>\n",
       "    <tr>\n",
       "      <th>0</th>\n",
       "      <td>BaggingClassifier(base_estimator=DecisionTreeC...</td>\n",
       "      <td>train</td>\n",
       "      <td>X_train</td>\n",
       "      <td>1.0</td>\n",
       "      <td>1.0</td>\n",
       "      <td>1.0</td>\n",
       "      <td>1.0</td>\n",
       "      <td>[[115, 0, 0], [0, 55, 0], [0, 0, 90]]</td>\n",
       "      <td>None</td>\n",
       "      <td>None</td>\n",
       "      <td>None</td>\n",
       "    </tr>\n",
       "    <tr>\n",
       "      <th>0</th>\n",
       "      <td>BaggingClassifier(base_estimator=DecisionTreeC...</td>\n",
       "      <td>validate</td>\n",
       "      <td>X_val</td>\n",
       "      <td>0.96875</td>\n",
       "      <td>0.970588</td>\n",
       "      <td>0.96875</td>\n",
       "      <td>0.968304</td>\n",
       "      <td>[[16, 0, 0], [1, 8, 0], [0, 0, 7]]</td>\n",
       "      <td>None</td>\n",
       "      <td>None</td>\n",
       "      <td>None</td>\n",
       "    </tr>\n",
       "    <tr>\n",
       "      <th>0</th>\n",
       "      <td>BaggingClassifier(base_estimator=ExtraTreeClas...</td>\n",
       "      <td>train</td>\n",
       "      <td>X_train</td>\n",
       "      <td>1.0</td>\n",
       "      <td>1.0</td>\n",
       "      <td>1.0</td>\n",
       "      <td>1.0</td>\n",
       "      <td>[[115, 0, 0], [0, 55, 0], [0, 0, 90]]</td>\n",
       "      <td>None</td>\n",
       "      <td>None</td>\n",
       "      <td>None</td>\n",
       "    </tr>\n",
       "    <tr>\n",
       "      <th>0</th>\n",
       "      <td>BaggingClassifier(base_estimator=ExtraTreeClas...</td>\n",
       "      <td>validate</td>\n",
       "      <td>X_val</td>\n",
       "      <td>1.0</td>\n",
       "      <td>1.0</td>\n",
       "      <td>1.0</td>\n",
       "      <td>1.0</td>\n",
       "      <td>[[16, 0, 0], [0, 9, 0], [0, 0, 7]]</td>\n",
       "      <td>None</td>\n",
       "      <td>None</td>\n",
       "      <td>None</td>\n",
       "    </tr>\n",
       "  </tbody>\n",
       "</table>\n",
       "</div>"
      ],
      "text/plain": [
       "                                          model_type train_or_test  dataset  \\\n",
       "0  BaggingClassifier(base_estimator=KNeighborsCla...         train  X_train   \n",
       "0  BaggingClassifier(base_estimator=KNeighborsCla...      validate    X_val   \n",
       "0            BaggingClassifier(base_estimator=SVC())         train  X_train   \n",
       "0            BaggingClassifier(base_estimator=SVC())      validate    X_val   \n",
       "0  BaggingClassifier(base_estimator=DecisionTreeC...         train  X_train   \n",
       "0  BaggingClassifier(base_estimator=DecisionTreeC...      validate    X_val   \n",
       "0  BaggingClassifier(base_estimator=ExtraTreeClas...         train  X_train   \n",
       "0  BaggingClassifier(base_estimator=ExtraTreeClas...      validate    X_val   \n",
       "\n",
       "   accuracy precision    recall  f1_score  \\\n",
       "0  0.996154  0.996223  0.996154  0.996163   \n",
       "0       1.0       1.0       1.0       1.0   \n",
       "0  0.996154  0.996223  0.996154  0.996163   \n",
       "0   0.96875  0.970588   0.96875  0.968304   \n",
       "0       1.0       1.0       1.0       1.0   \n",
       "0   0.96875  0.970588   0.96875  0.968304   \n",
       "0       1.0       1.0       1.0       1.0   \n",
       "0       1.0       1.0       1.0       1.0   \n",
       "\n",
       "                        confusion_matrix mean_squared_error  \\\n",
       "0  [[114, 1, 0], [0, 55, 0], [0, 0, 90]]               None   \n",
       "0     [[16, 0, 0], [0, 9, 0], [0, 0, 7]]               None   \n",
       "0  [[114, 1, 0], [0, 55, 0], [0, 0, 90]]               None   \n",
       "0     [[16, 0, 0], [1, 8, 0], [0, 0, 7]]               None   \n",
       "0  [[115, 0, 0], [0, 55, 0], [0, 0, 90]]               None   \n",
       "0     [[16, 0, 0], [1, 8, 0], [0, 0, 7]]               None   \n",
       "0  [[115, 0, 0], [0, 55, 0], [0, 0, 90]]               None   \n",
       "0     [[16, 0, 0], [0, 9, 0], [0, 0, 7]]               None   \n",
       "\n",
       "  mean_absolute_error mean_absolute_percentage_error  \n",
       "0                None                           None  \n",
       "0                None                           None  \n",
       "0                None                           None  \n",
       "0                None                           None  \n",
       "0                None                           None  \n",
       "0                None                           None  \n",
       "0                None                           None  \n",
       "0                None                           None  "
      ]
     },
     "execution_count": 276,
     "metadata": {},
     "output_type": "execute_result"
    }
   ],
   "source": [
    "clf_bagging_models = [\n",
    "    BaggingClassifier(base_estimator=KNeighborsClassifier()),\n",
    "    BaggingClassifier(base_estimator=SVC()),\n",
    "    BaggingClassifier(base_estimator=DecisionTreeClassifier()),\n",
    "    BaggingClassifier(base_estimator=ExtraTreeClassifier()),\n",
    "]\n",
    "clf_bagging_models_with_defaults = BasicModelsWithDefaults(\n",
    "    clf_bagging_models, experiment_data, model_tracker, \"classification\"\n",
    ")\n",
    "clf_bagging_models_with_defaults.fit()\n",
    "model_tracker = clf_bagging_models_with_defaults.predict()\n",
    "model_tracker.tail(len(clf_bagging_models) * 2)"
   ]
  },
  {
   "cell_type": "markdown",
   "metadata": {
    "id": "xs2qmkdxcn71"
   },
   "source": [
    "##### Boosting"
   ]
  },
  {
   "cell_type": "code",
   "execution_count": 277,
   "metadata": {
    "colab": {
     "base_uri": "https://localhost:8080/",
     "height": 503
    },
    "id": "cUqdVUihoUis",
    "outputId": "0dcb51bb-95bf-45aa-b6ac-bd54865aaf47"
   },
   "outputs": [
    {
     "data": {
      "text/html": [
       "<div>\n",
       "<style scoped>\n",
       "    .dataframe tbody tr th:only-of-type {\n",
       "        vertical-align: middle;\n",
       "    }\n",
       "\n",
       "    .dataframe tbody tr th {\n",
       "        vertical-align: top;\n",
       "    }\n",
       "\n",
       "    .dataframe thead th {\n",
       "        text-align: right;\n",
       "    }\n",
       "</style>\n",
       "<table border=\"1\" class=\"dataframe\">\n",
       "  <thead>\n",
       "    <tr style=\"text-align: right;\">\n",
       "      <th></th>\n",
       "      <th>model_type</th>\n",
       "      <th>train_or_test</th>\n",
       "      <th>dataset</th>\n",
       "      <th>accuracy</th>\n",
       "      <th>precision</th>\n",
       "      <th>recall</th>\n",
       "      <th>f1_score</th>\n",
       "      <th>confusion_matrix</th>\n",
       "      <th>mean_squared_error</th>\n",
       "      <th>mean_absolute_error</th>\n",
       "      <th>mean_absolute_percentage_error</th>\n",
       "    </tr>\n",
       "  </thead>\n",
       "  <tbody>\n",
       "    <tr>\n",
       "      <th>0</th>\n",
       "      <td>GradientBoostingClassifier()</td>\n",
       "      <td>train</td>\n",
       "      <td>X_train</td>\n",
       "      <td>1.0</td>\n",
       "      <td>1.0</td>\n",
       "      <td>1.0</td>\n",
       "      <td>1.0</td>\n",
       "      <td>[[115, 0, 0], [0, 55, 0], [0, 0, 90]]</td>\n",
       "      <td>None</td>\n",
       "      <td>None</td>\n",
       "      <td>None</td>\n",
       "    </tr>\n",
       "    <tr>\n",
       "      <th>0</th>\n",
       "      <td>GradientBoostingClassifier()</td>\n",
       "      <td>validate</td>\n",
       "      <td>X_val</td>\n",
       "      <td>0.96875</td>\n",
       "      <td>0.970588</td>\n",
       "      <td>0.96875</td>\n",
       "      <td>0.968304</td>\n",
       "      <td>[[16, 0, 0], [1, 8, 0], [0, 0, 7]]</td>\n",
       "      <td>None</td>\n",
       "      <td>None</td>\n",
       "      <td>None</td>\n",
       "    </tr>\n",
       "    <tr>\n",
       "      <th>0</th>\n",
       "      <td>LGBMClassifier()</td>\n",
       "      <td>train</td>\n",
       "      <td>X_train</td>\n",
       "      <td>1.0</td>\n",
       "      <td>1.0</td>\n",
       "      <td>1.0</td>\n",
       "      <td>1.0</td>\n",
       "      <td>[[115, 0, 0], [0, 55, 0], [0, 0, 90]]</td>\n",
       "      <td>None</td>\n",
       "      <td>None</td>\n",
       "      <td>None</td>\n",
       "    </tr>\n",
       "    <tr>\n",
       "      <th>0</th>\n",
       "      <td>LGBMClassifier()</td>\n",
       "      <td>validate</td>\n",
       "      <td>X_val</td>\n",
       "      <td>0.96875</td>\n",
       "      <td>0.970588</td>\n",
       "      <td>0.96875</td>\n",
       "      <td>0.968304</td>\n",
       "      <td>[[16, 0, 0], [1, 8, 0], [0, 0, 7]]</td>\n",
       "      <td>None</td>\n",
       "      <td>None</td>\n",
       "      <td>None</td>\n",
       "    </tr>\n",
       "  </tbody>\n",
       "</table>\n",
       "</div>"
      ],
      "text/plain": [
       "                     model_type train_or_test  dataset accuracy precision  \\\n",
       "0  GradientBoostingClassifier()         train  X_train      1.0       1.0   \n",
       "0  GradientBoostingClassifier()      validate    X_val  0.96875  0.970588   \n",
       "0              LGBMClassifier()         train  X_train      1.0       1.0   \n",
       "0              LGBMClassifier()      validate    X_val  0.96875  0.970588   \n",
       "\n",
       "    recall  f1_score                       confusion_matrix  \\\n",
       "0      1.0       1.0  [[115, 0, 0], [0, 55, 0], [0, 0, 90]]   \n",
       "0  0.96875  0.968304     [[16, 0, 0], [1, 8, 0], [0, 0, 7]]   \n",
       "0      1.0       1.0  [[115, 0, 0], [0, 55, 0], [0, 0, 90]]   \n",
       "0  0.96875  0.968304     [[16, 0, 0], [1, 8, 0], [0, 0, 7]]   \n",
       "\n",
       "  mean_squared_error mean_absolute_error mean_absolute_percentage_error  \n",
       "0               None                None                           None  \n",
       "0               None                None                           None  \n",
       "0               None                None                           None  \n",
       "0               None                None                           None  "
      ]
     },
     "execution_count": 277,
     "metadata": {},
     "output_type": "execute_result"
    }
   ],
   "source": [
    "clf_boosting_models = [\n",
    "    GradientBoostingClassifier(),\n",
    "    LGBMClassifier(),\n",
    "    # XGBClassifier(),\n",
    "    # XGBRFClassifier(),\n",
    "]\n",
    "clf_boosting_models_with_defaults = BasicModelsWithDefaults(\n",
    "    clf_boosting_models, experiment_data, model_tracker, \"classification\"\n",
    ")\n",
    "clf_boosting_models_with_defaults.fit()\n",
    "model_tracker = clf_boosting_models_with_defaults.predict()\n",
    "model_tracker.tail(len(clf_boosting_models) * 2)"
   ]
  },
  {
   "cell_type": "markdown",
   "metadata": {
    "id": "UYfaG34gcWL3"
   },
   "source": [
    "##### Ensembling"
   ]
  },
  {
   "cell_type": "code",
   "execution_count": 278,
   "metadata": {
    "colab": {
     "base_uri": "https://localhost:8080/",
     "height": 503
    },
    "id": "NinE5sotryPt",
    "outputId": "6b3b228f-20a5-4213-f741-f14340685358"
   },
   "outputs": [
    {
     "data": {
      "text/html": [
       "<div>\n",
       "<style scoped>\n",
       "    .dataframe tbody tr th:only-of-type {\n",
       "        vertical-align: middle;\n",
       "    }\n",
       "\n",
       "    .dataframe tbody tr th {\n",
       "        vertical-align: top;\n",
       "    }\n",
       "\n",
       "    .dataframe thead th {\n",
       "        text-align: right;\n",
       "    }\n",
       "</style>\n",
       "<table border=\"1\" class=\"dataframe\">\n",
       "  <thead>\n",
       "    <tr style=\"text-align: right;\">\n",
       "      <th></th>\n",
       "      <th>model_type</th>\n",
       "      <th>train_or_test</th>\n",
       "      <th>dataset</th>\n",
       "      <th>accuracy</th>\n",
       "      <th>precision</th>\n",
       "      <th>recall</th>\n",
       "      <th>f1_score</th>\n",
       "      <th>confusion_matrix</th>\n",
       "      <th>mean_squared_error</th>\n",
       "      <th>mean_absolute_error</th>\n",
       "      <th>mean_absolute_percentage_error</th>\n",
       "    </tr>\n",
       "  </thead>\n",
       "  <tbody>\n",
       "    <tr>\n",
       "      <th>0</th>\n",
       "      <td>RandomForestClassifier()</td>\n",
       "      <td>train</td>\n",
       "      <td>X_train</td>\n",
       "      <td>1.0</td>\n",
       "      <td>1.0</td>\n",
       "      <td>1.0</td>\n",
       "      <td>1.0</td>\n",
       "      <td>[[115, 0, 0], [0, 55, 0], [0, 0, 90]]</td>\n",
       "      <td>None</td>\n",
       "      <td>None</td>\n",
       "      <td>None</td>\n",
       "    </tr>\n",
       "    <tr>\n",
       "      <th>0</th>\n",
       "      <td>RandomForestClassifier()</td>\n",
       "      <td>validate</td>\n",
       "      <td>X_val</td>\n",
       "      <td>0.96875</td>\n",
       "      <td>0.970588</td>\n",
       "      <td>0.96875</td>\n",
       "      <td>0.968304</td>\n",
       "      <td>[[16, 0, 0], [1, 8, 0], [0, 0, 7]]</td>\n",
       "      <td>None</td>\n",
       "      <td>None</td>\n",
       "      <td>None</td>\n",
       "    </tr>\n",
       "    <tr>\n",
       "      <th>0</th>\n",
       "      <td>ExtraTreeClassifier()</td>\n",
       "      <td>train</td>\n",
       "      <td>X_train</td>\n",
       "      <td>1.0</td>\n",
       "      <td>1.0</td>\n",
       "      <td>1.0</td>\n",
       "      <td>1.0</td>\n",
       "      <td>[[115, 0, 0], [0, 55, 0], [0, 0, 90]]</td>\n",
       "      <td>None</td>\n",
       "      <td>None</td>\n",
       "      <td>None</td>\n",
       "    </tr>\n",
       "    <tr>\n",
       "      <th>0</th>\n",
       "      <td>ExtraTreeClassifier()</td>\n",
       "      <td>validate</td>\n",
       "      <td>X_val</td>\n",
       "      <td>0.84375</td>\n",
       "      <td>0.841452</td>\n",
       "      <td>0.84375</td>\n",
       "      <td>0.841522</td>\n",
       "      <td>[[14, 2, 0], [3, 6, 0], [0, 0, 7]]</td>\n",
       "      <td>None</td>\n",
       "      <td>None</td>\n",
       "      <td>None</td>\n",
       "    </tr>\n",
       "    <tr>\n",
       "      <th>0</th>\n",
       "      <td>AdaBoostClassifier()</td>\n",
       "      <td>train</td>\n",
       "      <td>X_train</td>\n",
       "      <td>0.961538</td>\n",
       "      <td>0.964615</td>\n",
       "      <td>0.961538</td>\n",
       "      <td>0.960417</td>\n",
       "      <td>[[115, 0, 0], [10, 45, 0], [0, 0, 90]]</td>\n",
       "      <td>None</td>\n",
       "      <td>None</td>\n",
       "      <td>None</td>\n",
       "    </tr>\n",
       "    <tr>\n",
       "      <th>0</th>\n",
       "      <td>AdaBoostClassifier()</td>\n",
       "      <td>validate</td>\n",
       "      <td>X_val</td>\n",
       "      <td>0.90625</td>\n",
       "      <td>0.921053</td>\n",
       "      <td>0.90625</td>\n",
       "      <td>0.90516</td>\n",
       "      <td>[[16, 0, 0], [2, 7, 0], [1, 0, 6]]</td>\n",
       "      <td>None</td>\n",
       "      <td>None</td>\n",
       "      <td>None</td>\n",
       "    </tr>\n",
       "    <tr>\n",
       "      <th>0</th>\n",
       "      <td>VotingClassifier(estimators=[('lr', LogisticRe...</td>\n",
       "      <td>train</td>\n",
       "      <td>X_train</td>\n",
       "      <td>1.0</td>\n",
       "      <td>1.0</td>\n",
       "      <td>1.0</td>\n",
       "      <td>1.0</td>\n",
       "      <td>[[115, 0, 0], [0, 55, 0], [0, 0, 90]]</td>\n",
       "      <td>None</td>\n",
       "      <td>None</td>\n",
       "      <td>None</td>\n",
       "    </tr>\n",
       "    <tr>\n",
       "      <th>0</th>\n",
       "      <td>VotingClassifier(estimators=[('lr', LogisticRe...</td>\n",
       "      <td>validate</td>\n",
       "      <td>X_val</td>\n",
       "      <td>0.96875</td>\n",
       "      <td>0.970588</td>\n",
       "      <td>0.96875</td>\n",
       "      <td>0.968304</td>\n",
       "      <td>[[16, 0, 0], [1, 8, 0], [0, 0, 7]]</td>\n",
       "      <td>None</td>\n",
       "      <td>None</td>\n",
       "      <td>None</td>\n",
       "    </tr>\n",
       "  </tbody>\n",
       "</table>\n",
       "</div>"
      ],
      "text/plain": [
       "                                          model_type train_or_test  dataset  \\\n",
       "0                           RandomForestClassifier()         train  X_train   \n",
       "0                           RandomForestClassifier()      validate    X_val   \n",
       "0                              ExtraTreeClassifier()         train  X_train   \n",
       "0                              ExtraTreeClassifier()      validate    X_val   \n",
       "0                               AdaBoostClassifier()         train  X_train   \n",
       "0                               AdaBoostClassifier()      validate    X_val   \n",
       "0  VotingClassifier(estimators=[('lr', LogisticRe...         train  X_train   \n",
       "0  VotingClassifier(estimators=[('lr', LogisticRe...      validate    X_val   \n",
       "\n",
       "   accuracy precision    recall  f1_score  \\\n",
       "0       1.0       1.0       1.0       1.0   \n",
       "0   0.96875  0.970588   0.96875  0.968304   \n",
       "0       1.0       1.0       1.0       1.0   \n",
       "0   0.84375  0.841452   0.84375  0.841522   \n",
       "0  0.961538  0.964615  0.961538  0.960417   \n",
       "0   0.90625  0.921053   0.90625   0.90516   \n",
       "0       1.0       1.0       1.0       1.0   \n",
       "0   0.96875  0.970588   0.96875  0.968304   \n",
       "\n",
       "                         confusion_matrix mean_squared_error  \\\n",
       "0   [[115, 0, 0], [0, 55, 0], [0, 0, 90]]               None   \n",
       "0      [[16, 0, 0], [1, 8, 0], [0, 0, 7]]               None   \n",
       "0   [[115, 0, 0], [0, 55, 0], [0, 0, 90]]               None   \n",
       "0      [[14, 2, 0], [3, 6, 0], [0, 0, 7]]               None   \n",
       "0  [[115, 0, 0], [10, 45, 0], [0, 0, 90]]               None   \n",
       "0      [[16, 0, 0], [2, 7, 0], [1, 0, 6]]               None   \n",
       "0   [[115, 0, 0], [0, 55, 0], [0, 0, 90]]               None   \n",
       "0      [[16, 0, 0], [1, 8, 0], [0, 0, 7]]               None   \n",
       "\n",
       "  mean_absolute_error mean_absolute_percentage_error  \n",
       "0                None                           None  \n",
       "0                None                           None  \n",
       "0                None                           None  \n",
       "0                None                           None  \n",
       "0                None                           None  \n",
       "0                None                           None  \n",
       "0                None                           None  \n",
       "0                None                           None  "
      ]
     },
     "execution_count": 278,
     "metadata": {},
     "output_type": "execute_result"
    }
   ],
   "source": [
    "clf_ensemble_models = [\n",
    "    RandomForestClassifier(),\n",
    "    ExtraTreeClassifier(),\n",
    "    AdaBoostClassifier(),\n",
    "    VotingClassifier(\n",
    "        [\n",
    "            (\"lr\", LogisticRegression(random_state=42)),\n",
    "            (\"rf\", RandomForestClassifier(n_estimators=50, random_state=42)),\n",
    "        ],\n",
    "        voting=\"hard\",\n",
    "    ),\n",
    "]\n",
    "clf_ensemble_models_with_defaults = BasicModelsWithDefaults(\n",
    "    clf_ensemble_models, experiment_data, model_tracker, \"classification\"\n",
    ")\n",
    "clf_ensemble_models_with_defaults.fit()\n",
    "model_tracker = clf_ensemble_models_with_defaults.predict()\n",
    "model_tracker.tail(len(clf_ensemble_models) * 2)"
   ]
  },
  {
   "cell_type": "markdown",
   "metadata": {
    "id": "r8yl_sWRc-4n"
   },
   "source": [
    "##### Neural Nets"
   ]
  },
  {
   "cell_type": "code",
   "execution_count": 279,
   "metadata": {
    "colab": {
     "base_uri": "https://localhost:8080/",
     "height": 246
    },
    "id": "3BSj67IVuIw0",
    "outputId": "b6a8b6d4-eb55-43ce-f90f-013874243635"
   },
   "outputs": [
    {
     "name": "stderr",
     "output_type": "stream",
     "text": [
      "/Users/emekdahl/dev/machine_learning_template/mltemplate/lib/python3.8/site-packages/sklearn/neural_network/_multilayer_perceptron.py:692: ConvergenceWarning: Stochastic Optimizer: Maximum iterations (200) reached and the optimization hasn't converged yet.\n",
      "  warnings.warn(\n"
     ]
    },
    {
     "data": {
      "text/html": [
       "<div>\n",
       "<style scoped>\n",
       "    .dataframe tbody tr th:only-of-type {\n",
       "        vertical-align: middle;\n",
       "    }\n",
       "\n",
       "    .dataframe tbody tr th {\n",
       "        vertical-align: top;\n",
       "    }\n",
       "\n",
       "    .dataframe thead th {\n",
       "        text-align: right;\n",
       "    }\n",
       "</style>\n",
       "<table border=\"1\" class=\"dataframe\">\n",
       "  <thead>\n",
       "    <tr style=\"text-align: right;\">\n",
       "      <th></th>\n",
       "      <th>model_type</th>\n",
       "      <th>train_or_test</th>\n",
       "      <th>dataset</th>\n",
       "      <th>accuracy</th>\n",
       "      <th>precision</th>\n",
       "      <th>recall</th>\n",
       "      <th>f1_score</th>\n",
       "      <th>confusion_matrix</th>\n",
       "      <th>mean_squared_error</th>\n",
       "      <th>mean_absolute_error</th>\n",
       "      <th>mean_absolute_percentage_error</th>\n",
       "    </tr>\n",
       "  </thead>\n",
       "  <tbody>\n",
       "    <tr>\n",
       "      <th>0</th>\n",
       "      <td>MLPClassifier()</td>\n",
       "      <td>train</td>\n",
       "      <td>X_train</td>\n",
       "      <td>0.996154</td>\n",
       "      <td>0.996223</td>\n",
       "      <td>0.996154</td>\n",
       "      <td>0.996163</td>\n",
       "      <td>[[114, 1, 0], [0, 55, 0], [0, 0, 90]]</td>\n",
       "      <td>None</td>\n",
       "      <td>None</td>\n",
       "      <td>None</td>\n",
       "    </tr>\n",
       "    <tr>\n",
       "      <th>0</th>\n",
       "      <td>MLPClassifier()</td>\n",
       "      <td>validate</td>\n",
       "      <td>X_val</td>\n",
       "      <td>1.0</td>\n",
       "      <td>1.0</td>\n",
       "      <td>1.0</td>\n",
       "      <td>1.0</td>\n",
       "      <td>[[16, 0, 0], [0, 9, 0], [0, 0, 7]]</td>\n",
       "      <td>None</td>\n",
       "      <td>None</td>\n",
       "      <td>None</td>\n",
       "    </tr>\n",
       "  </tbody>\n",
       "</table>\n",
       "</div>"
      ],
      "text/plain": [
       "        model_type train_or_test  dataset  accuracy precision    recall  \\\n",
       "0  MLPClassifier()         train  X_train  0.996154  0.996223  0.996154   \n",
       "0  MLPClassifier()      validate    X_val       1.0       1.0       1.0   \n",
       "\n",
       "   f1_score                       confusion_matrix mean_squared_error  \\\n",
       "0  0.996163  [[114, 1, 0], [0, 55, 0], [0, 0, 90]]               None   \n",
       "0       1.0     [[16, 0, 0], [0, 9, 0], [0, 0, 7]]               None   \n",
       "\n",
       "  mean_absolute_error mean_absolute_percentage_error  \n",
       "0                None                           None  \n",
       "0                None                           None  "
      ]
     },
     "execution_count": 279,
     "metadata": {},
     "output_type": "execute_result"
    }
   ],
   "source": [
    "clf_neural_net_models = [MLPClassifier()]\n",
    "clf_neural_net_models_with_defaults = BasicModelsWithDefaults(\n",
    "    clf_neural_net_models, experiment_data, model_tracker, \"classification\"\n",
    ")\n",
    "clf_neural_net_models_with_defaults.fit()\n",
    "model_tracker = clf_neural_net_models_with_defaults.predict()\n",
    "model_tracker.tail(len(clf_neural_net_models) * 2)"
   ]
  },
  {
   "cell_type": "markdown",
   "metadata": {
    "id": "Y-S7CMPpV8pw"
   },
   "source": [
    "##### Feature Ablation"
   ]
  },
  {
   "cell_type": "markdown",
   "metadata": {
    "id": "8NpXpz7svYQg"
   },
   "source": [
    "###### Naive Feature Ablation"
   ]
  },
  {
   "cell_type": "code",
   "execution_count": 280,
   "metadata": {
    "colab": {
     "base_uri": "https://localhost:8080/"
    },
    "id": "lOyV3LuNwIv5",
    "outputId": "34ed5a79-959f-4ba6-9df4-0dfde63070fe"
   },
   "outputs": [
    {
     "data": {
      "text/plain": [
       "['island_Torgersen', 'island_Dream', 'sex_FEMALE', 'culmen_length_mm']"
      ]
     },
     "execution_count": 280,
     "metadata": {},
     "output_type": "execute_result"
    }
   ],
   "source": [
    "randomly_selected_columns = random.sample(\n",
    "    list(X_train.columns), round(X_train.shape[1] / 2)\n",
    ")\n",
    "randomly_selected_columns"
   ]
  },
  {
   "cell_type": "code",
   "execution_count": 281,
   "metadata": {
    "id": "_tlLCQwSv0NZ"
   },
   "outputs": [],
   "source": [
    "X_train_abl = X_train[randomly_selected_columns]\n",
    "X_val_abl = X_val[randomly_selected_columns]\n",
    "X_test_abl = X_test[randomly_selected_columns]"
   ]
  },
  {
   "cell_type": "code",
   "execution_count": 282,
   "metadata": {
    "id": "8u4nsZuSyFbE"
   },
   "outputs": [],
   "source": [
    "ablated_experiment_data = dict(\n",
    "    X_train=X_train_abl,\n",
    "    y_train=y_train,\n",
    "    X_val=X_val_abl,\n",
    "    y_val=y_val,\n",
    "    X_test=X_test_abl,\n",
    "    y_test=y_test,\n",
    ")"
   ]
  },
  {
   "cell_type": "code",
   "execution_count": 283,
   "metadata": {
    "colab": {
     "base_uri": "https://localhost:8080/",
     "height": 35
    },
    "id": "GiztJFjpykvi",
    "outputId": "2f56d0a6-f2cb-43a2-ce8e-c7ed891fa945"
   },
   "outputs": [
    {
     "data": {
      "text/plain": [
       "'MLPClassifier()'"
      ]
     },
     "execution_count": 283,
     "metadata": {},
     "output_type": "execute_result"
    }
   ],
   "source": [
    "best_yet_model = (\n",
    "    model_tracker[model_tracker[\"train_or_test\"] == \"validate\"]\n",
    "    .sort_values(by=\"accuracy\", ascending=False)\n",
    "    .iloc[0][0]\n",
    ")\n",
    "best_yet_model"
   ]
  },
  {
   "cell_type": "code",
   "execution_count": 284,
   "metadata": {
    "colab": {
     "base_uri": "https://localhost:8080/",
     "height": 211
    },
    "id": "qO8Xyn8fzaU9",
    "outputId": "03924863-626c-4904-c48a-eb3c93a31536"
   },
   "outputs": [
    {
     "data": {
      "text/html": [
       "<div>\n",
       "<style scoped>\n",
       "    .dataframe tbody tr th:only-of-type {\n",
       "        vertical-align: middle;\n",
       "    }\n",
       "\n",
       "    .dataframe tbody tr th {\n",
       "        vertical-align: top;\n",
       "    }\n",
       "\n",
       "    .dataframe thead th {\n",
       "        text-align: right;\n",
       "    }\n",
       "</style>\n",
       "<table border=\"1\" class=\"dataframe\">\n",
       "  <thead>\n",
       "    <tr style=\"text-align: right;\">\n",
       "      <th></th>\n",
       "      <th>model_type</th>\n",
       "      <th>train_or_test</th>\n",
       "      <th>dataset</th>\n",
       "      <th>accuracy</th>\n",
       "      <th>precision</th>\n",
       "      <th>recall</th>\n",
       "      <th>f1_score</th>\n",
       "      <th>confusion_matrix</th>\n",
       "      <th>mean_squared_error</th>\n",
       "      <th>mean_absolute_error</th>\n",
       "      <th>mean_absolute_percentage_error</th>\n",
       "    </tr>\n",
       "  </thead>\n",
       "  <tbody>\n",
       "    <tr>\n",
       "      <th>0</th>\n",
       "      <td>BaggingClassifier(base_estimator=ExtraTreeClas...</td>\n",
       "      <td>train</td>\n",
       "      <td>X_train</td>\n",
       "      <td>1.0</td>\n",
       "      <td>1.0</td>\n",
       "      <td>1.0</td>\n",
       "      <td>1.0</td>\n",
       "      <td>[[115, 0, 0], [0, 55, 0], [0, 0, 90]]</td>\n",
       "      <td>None</td>\n",
       "      <td>None</td>\n",
       "      <td>None</td>\n",
       "    </tr>\n",
       "    <tr>\n",
       "      <th>0</th>\n",
       "      <td>BaggingClassifier(base_estimator=ExtraTreeClas...</td>\n",
       "      <td>validate</td>\n",
       "      <td>X_val</td>\n",
       "      <td>0.96875</td>\n",
       "      <td>0.970588</td>\n",
       "      <td>0.96875</td>\n",
       "      <td>0.968304</td>\n",
       "      <td>[[16, 0, 0], [1, 8, 0], [0, 0, 7]]</td>\n",
       "      <td>None</td>\n",
       "      <td>None</td>\n",
       "      <td>None</td>\n",
       "    </tr>\n",
       "  </tbody>\n",
       "</table>\n",
       "</div>"
      ],
      "text/plain": [
       "                                          model_type train_or_test  dataset  \\\n",
       "0  BaggingClassifier(base_estimator=ExtraTreeClas...         train  X_train   \n",
       "0  BaggingClassifier(base_estimator=ExtraTreeClas...      validate    X_val   \n",
       "\n",
       "  accuracy precision   recall  f1_score  \\\n",
       "0      1.0       1.0      1.0       1.0   \n",
       "0  0.96875  0.970588  0.96875  0.968304   \n",
       "\n",
       "                        confusion_matrix mean_squared_error  \\\n",
       "0  [[115, 0, 0], [0, 55, 0], [0, 0, 90]]               None   \n",
       "0     [[16, 0, 0], [1, 8, 0], [0, 0, 7]]               None   \n",
       "\n",
       "  mean_absolute_error mean_absolute_percentage_error  \n",
       "0                None                           None  \n",
       "0                None                           None  "
      ]
     },
     "execution_count": 284,
     "metadata": {},
     "output_type": "execute_result"
    }
   ],
   "source": [
    "clf_best_yet_model_with_abl_data = [\n",
    "    BaggingClassifier(base_estimator=ExtraTreeClassifier())\n",
    "]\n",
    "clf_best_yet_model_with_abl_data_with_defaults = BasicModelsWithDefaults(\n",
    "    clf_best_yet_model_with_abl_data,\n",
    "    ablated_experiment_data,\n",
    "    model_tracker,\n",
    "    \"classification\",\n",
    ")\n",
    "clf_best_yet_model_with_abl_data_with_defaults.fit()\n",
    "model_tracker = clf_best_yet_model_with_abl_data_with_defaults.predict()\n",
    "model_tracker.tail(len(clf_best_yet_model_with_abl_data) * 2)"
   ]
  },
  {
   "cell_type": "markdown",
   "metadata": {
    "id": "ERCkH46-NXnJ"
   },
   "source": [
    "##### Hyperparamater Optimization"
   ]
  },
  {
   "cell_type": "markdown",
   "metadata": {
    "id": "siipVwxvK_42"
   },
   "source": [
    "###### Grid Search"
   ]
  },
  {
   "cell_type": "code",
   "execution_count": 285,
   "metadata": {
    "id": "GbO3reYmJEKc"
   },
   "outputs": [],
   "source": [
    "# search_hyperparams = [{\"random_state\": [42]\n",
    "#                        , \"solver\": [\"newton-cg\", \"lbfgs\", \"liblinear\", \"sag\", \"saga\"]\n",
    "#                        , \"multi_class\": [\"auto\", \"ovr\", \"multinomial\"]\n",
    "#                        , \"warm_start\": [True, False]\n",
    "#                       #  , \"l1_ratio\": [0, 0.25, 0.5, 0.75, 1]\n",
    "#                        , \"max_iter\": [10, 100, 250]\n",
    "#                        , \"class_weight\": [\"balanced\", None]\n",
    "#                        , \"penalty\": [\"l1\", \"l2\", \"elasticnet\", \"none\"]\n",
    "# }]\n",
    "\n",
    "# svc_with_grid_search_model = [GridSearchCV(LogisticRegression(), search_hyperparams, scoring='accuracy')]\n",
    "# svc_with_grid_search_experiment = BasicModelsWithDefaults(svc_with_grid_search_model, experiment_data, model_tracker, 'classification')\n",
    "# svc_with_grid_search_experiment.fit()\n",
    "# model_tracker = svc_with_grid_search_experiment.predict()\n",
    "# model_tracker.tail(2)"
   ]
  },
  {
   "cell_type": "markdown",
   "metadata": {
    "id": "vnzvrHOsOL7_"
   },
   "source": [
    "###### HyperOpt"
   ]
  },
  {
   "cell_type": "code",
   "execution_count": 286,
   "metadata": {
    "id": "AOQY2rucOOcz"
   },
   "outputs": [],
   "source": [
    "# lgb_clf_params = {\n",
    "#     'objective': 'multiclass',\n",
    "#     'learning_rate': hp.loguniform('learning_rate',np.log(0.01),np.log(0.2)),\n",
    "#     'max_depth': hp.choice('max_depth', np.arange(2, 100, 20, dtype=int)),\n",
    "#     'subsample': hp.uniform('subsample', 0.6, 1),\n",
    "#     'num_leaves': hp.choice('num_leaves', np.arange(30, 150, 10,dtype=int)),\n",
    "#     'lambda_l1': hp.uniform('reg_alpha',0,1),\n",
    "#     'lambda_l2': hp.uniform('reg_lambda',0,1),\n",
    "#     'n_estimators': 50,\n",
    "\n",
    "# }"
   ]
  },
  {
   "cell_type": "code",
   "execution_count": 287,
   "metadata": {
    "id": "9o4zx1gWR9ts"
   },
   "outputs": [],
   "source": [
    "# def f(params):\n",
    "#   skf = StratifiedKFold(n_splits=3, shuffle=True, random_state=42)\n",
    "#   y_oof = np.zeros(X_train.shape[0])\n",
    "#   score_mean = 0\n",
    "#   count = 1\n",
    "#   for tr_idx, val_idx in skf.split(X_train, y_train):\n",
    "#     clf = LGBMClassifier(random_state=42, n_jobs=-1,\n",
    "#                          verbose=0, **params)\n",
    "#     X_tr, X_vl = X_train.iloc[tr_idx, :], X_train.iloc[val_idx, :]\n",
    "#     y_tr, y_vl = y_train.iloc[tr_idx], y_train.iloc[val_idx]\n",
    "#     fitted_clf = clf.fit(X_tr, y_tr)\n",
    "#     y_vl_pred = clf.predict(X_vl)\n",
    "#     score = make_scorer(precision_score(y_vl, y_vl_pred, average='macro'))\n",
    "#     score_mean += score\n",
    "#     print(f'{count} CV - score: {round(score, 4)}')\n",
    "#     count += 1\n",
    "#   print(f'Mean accuracy score: {score_mean / 3}')\n",
    "#   del X_tr, X_vl, y_tr, y_vl, clf, score\n",
    "#   return - (score_mean / 3)"
   ]
  },
  {
   "cell_type": "code",
   "execution_count": 288,
   "metadata": {
    "id": "ak23GkZwSikF"
   },
   "outputs": [],
   "source": [
    "# trials = Trials()\n",
    "# result = fmin(fn=f, space=lgb_clf_params, algo=tpe.suggest, max_evals=30, trials=trials)\n",
    "# print(result)"
   ]
  },
  {
   "cell_type": "markdown",
   "metadata": {
    "id": "45iNFrTFKkDL"
   },
   "source": [
    "## Results"
   ]
  },
  {
   "cell_type": "markdown",
   "metadata": {
    "id": "jAlJTcX4Pefl"
   },
   "source": [
    "### Classification"
   ]
  },
  {
   "cell_type": "markdown",
   "metadata": {
    "id": "tcKzu8lMMK_v"
   },
   "source": [
    "#### Data"
   ]
  },
  {
   "cell_type": "markdown",
   "metadata": {
    "id": "A0QzG02vbIfC"
   },
   "source": [
    "##### Review Results Table"
   ]
  },
  {
   "cell_type": "code",
   "execution_count": 289,
   "metadata": {
    "colab": {
     "base_uri": "https://localhost:8080/",
     "height": 1000
    },
    "id": "TYEl3_t5Y1Sp",
    "outputId": "c46ce52d-772e-4191-9b62-5de760f3ff30"
   },
   "outputs": [
    {
     "data": {
      "text/html": [
       "<div>\n",
       "<style scoped>\n",
       "    .dataframe tbody tr th:only-of-type {\n",
       "        vertical-align: middle;\n",
       "    }\n",
       "\n",
       "    .dataframe tbody tr th {\n",
       "        vertical-align: top;\n",
       "    }\n",
       "\n",
       "    .dataframe thead th {\n",
       "        text-align: right;\n",
       "    }\n",
       "</style>\n",
       "<table border=\"1\" class=\"dataframe\">\n",
       "  <thead>\n",
       "    <tr style=\"text-align: right;\">\n",
       "      <th></th>\n",
       "      <th>model_type</th>\n",
       "      <th>train_or_test</th>\n",
       "      <th>dataset</th>\n",
       "      <th>accuracy</th>\n",
       "      <th>precision</th>\n",
       "      <th>recall</th>\n",
       "      <th>f1_score</th>\n",
       "      <th>confusion_matrix</th>\n",
       "      <th>mean_squared_error</th>\n",
       "      <th>mean_absolute_error</th>\n",
       "      <th>mean_absolute_percentage_error</th>\n",
       "    </tr>\n",
       "  </thead>\n",
       "  <tbody>\n",
       "    <tr>\n",
       "      <th>0</th>\n",
       "      <td>KNeighborsClassifier()</td>\n",
       "      <td>validate</td>\n",
       "      <td>X_val</td>\n",
       "      <td>1.0</td>\n",
       "      <td>1.0</td>\n",
       "      <td>1.0</td>\n",
       "      <td>1.0</td>\n",
       "      <td>[[16, 0, 0], [0, 9, 0], [0, 0, 7]]</td>\n",
       "      <td>None</td>\n",
       "      <td>None</td>\n",
       "      <td>None</td>\n",
       "    </tr>\n",
       "    <tr>\n",
       "      <th>0</th>\n",
       "      <td>SGDClassifier()</td>\n",
       "      <td>validate</td>\n",
       "      <td>X_val</td>\n",
       "      <td>1.0</td>\n",
       "      <td>1.0</td>\n",
       "      <td>1.0</td>\n",
       "      <td>1.0</td>\n",
       "      <td>[[16, 0, 0], [0, 9, 0], [0, 0, 7]]</td>\n",
       "      <td>None</td>\n",
       "      <td>None</td>\n",
       "      <td>None</td>\n",
       "    </tr>\n",
       "    <tr>\n",
       "      <th>0</th>\n",
       "      <td>BaggingClassifier(base_estimator=KNeighborsCla...</td>\n",
       "      <td>validate</td>\n",
       "      <td>X_val</td>\n",
       "      <td>1.0</td>\n",
       "      <td>1.0</td>\n",
       "      <td>1.0</td>\n",
       "      <td>1.0</td>\n",
       "      <td>[[16, 0, 0], [0, 9, 0], [0, 0, 7]]</td>\n",
       "      <td>None</td>\n",
       "      <td>None</td>\n",
       "      <td>None</td>\n",
       "    </tr>\n",
       "    <tr>\n",
       "      <th>0</th>\n",
       "      <td>BaggingClassifier(base_estimator=ExtraTreeClas...</td>\n",
       "      <td>validate</td>\n",
       "      <td>X_val</td>\n",
       "      <td>1.0</td>\n",
       "      <td>1.0</td>\n",
       "      <td>1.0</td>\n",
       "      <td>1.0</td>\n",
       "      <td>[[16, 0, 0], [0, 9, 0], [0, 0, 7]]</td>\n",
       "      <td>None</td>\n",
       "      <td>None</td>\n",
       "      <td>None</td>\n",
       "    </tr>\n",
       "    <tr>\n",
       "      <th>0</th>\n",
       "      <td>MLPClassifier()</td>\n",
       "      <td>validate</td>\n",
       "      <td>X_val</td>\n",
       "      <td>1.0</td>\n",
       "      <td>1.0</td>\n",
       "      <td>1.0</td>\n",
       "      <td>1.0</td>\n",
       "      <td>[[16, 0, 0], [0, 9, 0], [0, 0, 7]]</td>\n",
       "      <td>None</td>\n",
       "      <td>None</td>\n",
       "      <td>None</td>\n",
       "    </tr>\n",
       "    <tr>\n",
       "      <th>0</th>\n",
       "      <td>LogisticRegression()</td>\n",
       "      <td>validate</td>\n",
       "      <td>X_val</td>\n",
       "      <td>0.96875</td>\n",
       "      <td>0.970588</td>\n",
       "      <td>0.96875</td>\n",
       "      <td>0.968304</td>\n",
       "      <td>[[16, 0, 0], [1, 8, 0], [0, 0, 7]]</td>\n",
       "      <td>None</td>\n",
       "      <td>None</td>\n",
       "      <td>None</td>\n",
       "    </tr>\n",
       "    <tr>\n",
       "      <th>0</th>\n",
       "      <td>RidgeClassifier()</td>\n",
       "      <td>validate</td>\n",
       "      <td>X_val</td>\n",
       "      <td>0.96875</td>\n",
       "      <td>0.970588</td>\n",
       "      <td>0.96875</td>\n",
       "      <td>0.968304</td>\n",
       "      <td>[[16, 0, 0], [1, 8, 0], [0, 0, 7]]</td>\n",
       "      <td>None</td>\n",
       "      <td>None</td>\n",
       "      <td>None</td>\n",
       "    </tr>\n",
       "    <tr>\n",
       "      <th>0</th>\n",
       "      <td>DecisionTreeClassifier()</td>\n",
       "      <td>validate</td>\n",
       "      <td>X_val</td>\n",
       "      <td>0.96875</td>\n",
       "      <td>0.970588</td>\n",
       "      <td>0.96875</td>\n",
       "      <td>0.968304</td>\n",
       "      <td>[[16, 0, 0], [1, 8, 0], [0, 0, 7]]</td>\n",
       "      <td>None</td>\n",
       "      <td>None</td>\n",
       "      <td>None</td>\n",
       "    </tr>\n",
       "    <tr>\n",
       "      <th>0</th>\n",
       "      <td>BaggingClassifier(base_estimator=SVC())</td>\n",
       "      <td>validate</td>\n",
       "      <td>X_val</td>\n",
       "      <td>0.96875</td>\n",
       "      <td>0.970588</td>\n",
       "      <td>0.96875</td>\n",
       "      <td>0.968304</td>\n",
       "      <td>[[16, 0, 0], [1, 8, 0], [0, 0, 7]]</td>\n",
       "      <td>None</td>\n",
       "      <td>None</td>\n",
       "      <td>None</td>\n",
       "    </tr>\n",
       "    <tr>\n",
       "      <th>0</th>\n",
       "      <td>BaggingClassifier(base_estimator=DecisionTreeC...</td>\n",
       "      <td>validate</td>\n",
       "      <td>X_val</td>\n",
       "      <td>0.96875</td>\n",
       "      <td>0.970588</td>\n",
       "      <td>0.96875</td>\n",
       "      <td>0.968304</td>\n",
       "      <td>[[16, 0, 0], [1, 8, 0], [0, 0, 7]]</td>\n",
       "      <td>None</td>\n",
       "      <td>None</td>\n",
       "      <td>None</td>\n",
       "    </tr>\n",
       "    <tr>\n",
       "      <th>0</th>\n",
       "      <td>GradientBoostingClassifier()</td>\n",
       "      <td>validate</td>\n",
       "      <td>X_val</td>\n",
       "      <td>0.96875</td>\n",
       "      <td>0.970588</td>\n",
       "      <td>0.96875</td>\n",
       "      <td>0.968304</td>\n",
       "      <td>[[16, 0, 0], [1, 8, 0], [0, 0, 7]]</td>\n",
       "      <td>None</td>\n",
       "      <td>None</td>\n",
       "      <td>None</td>\n",
       "    </tr>\n",
       "    <tr>\n",
       "      <th>0</th>\n",
       "      <td>LGBMClassifier()</td>\n",
       "      <td>validate</td>\n",
       "      <td>X_val</td>\n",
       "      <td>0.96875</td>\n",
       "      <td>0.970588</td>\n",
       "      <td>0.96875</td>\n",
       "      <td>0.968304</td>\n",
       "      <td>[[16, 0, 0], [1, 8, 0], [0, 0, 7]]</td>\n",
       "      <td>None</td>\n",
       "      <td>None</td>\n",
       "      <td>None</td>\n",
       "    </tr>\n",
       "    <tr>\n",
       "      <th>0</th>\n",
       "      <td>RandomForestClassifier()</td>\n",
       "      <td>validate</td>\n",
       "      <td>X_val</td>\n",
       "      <td>0.96875</td>\n",
       "      <td>0.970588</td>\n",
       "      <td>0.96875</td>\n",
       "      <td>0.968304</td>\n",
       "      <td>[[16, 0, 0], [1, 8, 0], [0, 0, 7]]</td>\n",
       "      <td>None</td>\n",
       "      <td>None</td>\n",
       "      <td>None</td>\n",
       "    </tr>\n",
       "    <tr>\n",
       "      <th>0</th>\n",
       "      <td>VotingClassifier(estimators=[('lr', LogisticRe...</td>\n",
       "      <td>validate</td>\n",
       "      <td>X_val</td>\n",
       "      <td>0.96875</td>\n",
       "      <td>0.970588</td>\n",
       "      <td>0.96875</td>\n",
       "      <td>0.968304</td>\n",
       "      <td>[[16, 0, 0], [1, 8, 0], [0, 0, 7]]</td>\n",
       "      <td>None</td>\n",
       "      <td>None</td>\n",
       "      <td>None</td>\n",
       "    </tr>\n",
       "    <tr>\n",
       "      <th>0</th>\n",
       "      <td>BaggingClassifier(base_estimator=ExtraTreeClas...</td>\n",
       "      <td>validate</td>\n",
       "      <td>X_val</td>\n",
       "      <td>0.96875</td>\n",
       "      <td>0.970588</td>\n",
       "      <td>0.96875</td>\n",
       "      <td>0.968304</td>\n",
       "      <td>[[16, 0, 0], [1, 8, 0], [0, 0, 7]]</td>\n",
       "      <td>None</td>\n",
       "      <td>None</td>\n",
       "      <td>None</td>\n",
       "    </tr>\n",
       "    <tr>\n",
       "      <th>0</th>\n",
       "      <td>AdaBoostClassifier()</td>\n",
       "      <td>validate</td>\n",
       "      <td>X_val</td>\n",
       "      <td>0.90625</td>\n",
       "      <td>0.921053</td>\n",
       "      <td>0.90625</td>\n",
       "      <td>0.90516</td>\n",
       "      <td>[[16, 0, 0], [2, 7, 0], [1, 0, 6]]</td>\n",
       "      <td>None</td>\n",
       "      <td>None</td>\n",
       "      <td>None</td>\n",
       "    </tr>\n",
       "    <tr>\n",
       "      <th>0</th>\n",
       "      <td>ExtraTreeClassifier()</td>\n",
       "      <td>validate</td>\n",
       "      <td>X_val</td>\n",
       "      <td>0.84375</td>\n",
       "      <td>0.841452</td>\n",
       "      <td>0.84375</td>\n",
       "      <td>0.841522</td>\n",
       "      <td>[[14, 2, 0], [3, 6, 0], [0, 0, 7]]</td>\n",
       "      <td>None</td>\n",
       "      <td>None</td>\n",
       "      <td>None</td>\n",
       "    </tr>\n",
       "    <tr>\n",
       "      <th>0</th>\n",
       "      <td>Validate Majority Class</td>\n",
       "      <td>validate</td>\n",
       "      <td>X_val</td>\n",
       "      <td>0.5</td>\n",
       "      <td>0.25</td>\n",
       "      <td>0.5</td>\n",
       "      <td>0.333333</td>\n",
       "      <td>[[16, 0, 0], [9, 0, 0], [7, 0, 0]]</td>\n",
       "      <td>None</td>\n",
       "      <td>None</td>\n",
       "      <td>None</td>\n",
       "    </tr>\n",
       "    <tr>\n",
       "      <th>0</th>\n",
       "      <td>LogisticRegression()</td>\n",
       "      <td>train</td>\n",
       "      <td>X_train</td>\n",
       "      <td>1.0</td>\n",
       "      <td>1.0</td>\n",
       "      <td>1.0</td>\n",
       "      <td>1.0</td>\n",
       "      <td>[[115, 0, 0], [0, 55, 0], [0, 0, 90]]</td>\n",
       "      <td>None</td>\n",
       "      <td>None</td>\n",
       "      <td>None</td>\n",
       "    </tr>\n",
       "    <tr>\n",
       "      <th>0</th>\n",
       "      <td>DecisionTreeClassifier()</td>\n",
       "      <td>train</td>\n",
       "      <td>X_train</td>\n",
       "      <td>1.0</td>\n",
       "      <td>1.0</td>\n",
       "      <td>1.0</td>\n",
       "      <td>1.0</td>\n",
       "      <td>[[115, 0, 0], [0, 55, 0], [0, 0, 90]]</td>\n",
       "      <td>None</td>\n",
       "      <td>None</td>\n",
       "      <td>None</td>\n",
       "    </tr>\n",
       "    <tr>\n",
       "      <th>0</th>\n",
       "      <td>BaggingClassifier(base_estimator=DecisionTreeC...</td>\n",
       "      <td>train</td>\n",
       "      <td>X_train</td>\n",
       "      <td>1.0</td>\n",
       "      <td>1.0</td>\n",
       "      <td>1.0</td>\n",
       "      <td>1.0</td>\n",
       "      <td>[[115, 0, 0], [0, 55, 0], [0, 0, 90]]</td>\n",
       "      <td>None</td>\n",
       "      <td>None</td>\n",
       "      <td>None</td>\n",
       "    </tr>\n",
       "    <tr>\n",
       "      <th>0</th>\n",
       "      <td>BaggingClassifier(base_estimator=ExtraTreeClas...</td>\n",
       "      <td>train</td>\n",
       "      <td>X_train</td>\n",
       "      <td>1.0</td>\n",
       "      <td>1.0</td>\n",
       "      <td>1.0</td>\n",
       "      <td>1.0</td>\n",
       "      <td>[[115, 0, 0], [0, 55, 0], [0, 0, 90]]</td>\n",
       "      <td>None</td>\n",
       "      <td>None</td>\n",
       "      <td>None</td>\n",
       "    </tr>\n",
       "    <tr>\n",
       "      <th>0</th>\n",
       "      <td>GradientBoostingClassifier()</td>\n",
       "      <td>train</td>\n",
       "      <td>X_train</td>\n",
       "      <td>1.0</td>\n",
       "      <td>1.0</td>\n",
       "      <td>1.0</td>\n",
       "      <td>1.0</td>\n",
       "      <td>[[115, 0, 0], [0, 55, 0], [0, 0, 90]]</td>\n",
       "      <td>None</td>\n",
       "      <td>None</td>\n",
       "      <td>None</td>\n",
       "    </tr>\n",
       "    <tr>\n",
       "      <th>0</th>\n",
       "      <td>LGBMClassifier()</td>\n",
       "      <td>train</td>\n",
       "      <td>X_train</td>\n",
       "      <td>1.0</td>\n",
       "      <td>1.0</td>\n",
       "      <td>1.0</td>\n",
       "      <td>1.0</td>\n",
       "      <td>[[115, 0, 0], [0, 55, 0], [0, 0, 90]]</td>\n",
       "      <td>None</td>\n",
       "      <td>None</td>\n",
       "      <td>None</td>\n",
       "    </tr>\n",
       "    <tr>\n",
       "      <th>0</th>\n",
       "      <td>RandomForestClassifier()</td>\n",
       "      <td>train</td>\n",
       "      <td>X_train</td>\n",
       "      <td>1.0</td>\n",
       "      <td>1.0</td>\n",
       "      <td>1.0</td>\n",
       "      <td>1.0</td>\n",
       "      <td>[[115, 0, 0], [0, 55, 0], [0, 0, 90]]</td>\n",
       "      <td>None</td>\n",
       "      <td>None</td>\n",
       "      <td>None</td>\n",
       "    </tr>\n",
       "    <tr>\n",
       "      <th>0</th>\n",
       "      <td>ExtraTreeClassifier()</td>\n",
       "      <td>train</td>\n",
       "      <td>X_train</td>\n",
       "      <td>1.0</td>\n",
       "      <td>1.0</td>\n",
       "      <td>1.0</td>\n",
       "      <td>1.0</td>\n",
       "      <td>[[115, 0, 0], [0, 55, 0], [0, 0, 90]]</td>\n",
       "      <td>None</td>\n",
       "      <td>None</td>\n",
       "      <td>None</td>\n",
       "    </tr>\n",
       "    <tr>\n",
       "      <th>0</th>\n",
       "      <td>VotingClassifier(estimators=[('lr', LogisticRe...</td>\n",
       "      <td>train</td>\n",
       "      <td>X_train</td>\n",
       "      <td>1.0</td>\n",
       "      <td>1.0</td>\n",
       "      <td>1.0</td>\n",
       "      <td>1.0</td>\n",
       "      <td>[[115, 0, 0], [0, 55, 0], [0, 0, 90]]</td>\n",
       "      <td>None</td>\n",
       "      <td>None</td>\n",
       "      <td>None</td>\n",
       "    </tr>\n",
       "    <tr>\n",
       "      <th>0</th>\n",
       "      <td>BaggingClassifier(base_estimator=ExtraTreeClas...</td>\n",
       "      <td>train</td>\n",
       "      <td>X_train</td>\n",
       "      <td>1.0</td>\n",
       "      <td>1.0</td>\n",
       "      <td>1.0</td>\n",
       "      <td>1.0</td>\n",
       "      <td>[[115, 0, 0], [0, 55, 0], [0, 0, 90]]</td>\n",
       "      <td>None</td>\n",
       "      <td>None</td>\n",
       "      <td>None</td>\n",
       "    </tr>\n",
       "    <tr>\n",
       "      <th>0</th>\n",
       "      <td>RidgeClassifier()</td>\n",
       "      <td>train</td>\n",
       "      <td>X_train</td>\n",
       "      <td>0.996154</td>\n",
       "      <td>0.996223</td>\n",
       "      <td>0.996154</td>\n",
       "      <td>0.996163</td>\n",
       "      <td>[[114, 1, 0], [0, 55, 0], [0, 0, 90]]</td>\n",
       "      <td>None</td>\n",
       "      <td>None</td>\n",
       "      <td>None</td>\n",
       "    </tr>\n",
       "    <tr>\n",
       "      <th>0</th>\n",
       "      <td>KNeighborsClassifier()</td>\n",
       "      <td>train</td>\n",
       "      <td>X_train</td>\n",
       "      <td>0.996154</td>\n",
       "      <td>0.996223</td>\n",
       "      <td>0.996154</td>\n",
       "      <td>0.996163</td>\n",
       "      <td>[[114, 1, 0], [0, 55, 0], [0, 0, 90]]</td>\n",
       "      <td>None</td>\n",
       "      <td>None</td>\n",
       "      <td>None</td>\n",
       "    </tr>\n",
       "    <tr>\n",
       "      <th>0</th>\n",
       "      <td>BaggingClassifier(base_estimator=KNeighborsCla...</td>\n",
       "      <td>train</td>\n",
       "      <td>X_train</td>\n",
       "      <td>0.996154</td>\n",
       "      <td>0.996223</td>\n",
       "      <td>0.996154</td>\n",
       "      <td>0.996163</td>\n",
       "      <td>[[114, 1, 0], [0, 55, 0], [0, 0, 90]]</td>\n",
       "      <td>None</td>\n",
       "      <td>None</td>\n",
       "      <td>None</td>\n",
       "    </tr>\n",
       "    <tr>\n",
       "      <th>0</th>\n",
       "      <td>BaggingClassifier(base_estimator=SVC())</td>\n",
       "      <td>train</td>\n",
       "      <td>X_train</td>\n",
       "      <td>0.996154</td>\n",
       "      <td>0.996223</td>\n",
       "      <td>0.996154</td>\n",
       "      <td>0.996163</td>\n",
       "      <td>[[114, 1, 0], [0, 55, 0], [0, 0, 90]]</td>\n",
       "      <td>None</td>\n",
       "      <td>None</td>\n",
       "      <td>None</td>\n",
       "    </tr>\n",
       "    <tr>\n",
       "      <th>0</th>\n",
       "      <td>MLPClassifier()</td>\n",
       "      <td>train</td>\n",
       "      <td>X_train</td>\n",
       "      <td>0.996154</td>\n",
       "      <td>0.996223</td>\n",
       "      <td>0.996154</td>\n",
       "      <td>0.996163</td>\n",
       "      <td>[[114, 1, 0], [0, 55, 0], [0, 0, 90]]</td>\n",
       "      <td>None</td>\n",
       "      <td>None</td>\n",
       "      <td>None</td>\n",
       "    </tr>\n",
       "    <tr>\n",
       "      <th>0</th>\n",
       "      <td>SGDClassifier()</td>\n",
       "      <td>train</td>\n",
       "      <td>X_train</td>\n",
       "      <td>0.992308</td>\n",
       "      <td>0.992578</td>\n",
       "      <td>0.992308</td>\n",
       "      <td>0.992343</td>\n",
       "      <td>[[113, 2, 0], [0, 55, 0], [0, 0, 90]]</td>\n",
       "      <td>None</td>\n",
       "      <td>None</td>\n",
       "      <td>None</td>\n",
       "    </tr>\n",
       "    <tr>\n",
       "      <th>0</th>\n",
       "      <td>AdaBoostClassifier()</td>\n",
       "      <td>train</td>\n",
       "      <td>X_train</td>\n",
       "      <td>0.961538</td>\n",
       "      <td>0.964615</td>\n",
       "      <td>0.961538</td>\n",
       "      <td>0.960417</td>\n",
       "      <td>[[115, 0, 0], [10, 45, 0], [0, 0, 90]]</td>\n",
       "      <td>None</td>\n",
       "      <td>None</td>\n",
       "      <td>None</td>\n",
       "    </tr>\n",
       "    <tr>\n",
       "      <th>0</th>\n",
       "      <td>Train Majority Class</td>\n",
       "      <td>train</td>\n",
       "      <td>X_train</td>\n",
       "      <td>0.442308</td>\n",
       "      <td>0.195636</td>\n",
       "      <td>0.442308</td>\n",
       "      <td>0.271282</td>\n",
       "      <td>[[115, 0, 0], [55, 0, 0], [90, 0, 0]]</td>\n",
       "      <td>None</td>\n",
       "      <td>None</td>\n",
       "      <td>None</td>\n",
       "    </tr>\n",
       "  </tbody>\n",
       "</table>\n",
       "</div>"
      ],
      "text/plain": [
       "                                          model_type train_or_test  dataset  \\\n",
       "0                             KNeighborsClassifier()      validate    X_val   \n",
       "0                                    SGDClassifier()      validate    X_val   \n",
       "0  BaggingClassifier(base_estimator=KNeighborsCla...      validate    X_val   \n",
       "0  BaggingClassifier(base_estimator=ExtraTreeClas...      validate    X_val   \n",
       "0                                    MLPClassifier()      validate    X_val   \n",
       "0                               LogisticRegression()      validate    X_val   \n",
       "0                                  RidgeClassifier()      validate    X_val   \n",
       "0                           DecisionTreeClassifier()      validate    X_val   \n",
       "0            BaggingClassifier(base_estimator=SVC())      validate    X_val   \n",
       "0  BaggingClassifier(base_estimator=DecisionTreeC...      validate    X_val   \n",
       "0                       GradientBoostingClassifier()      validate    X_val   \n",
       "0                                   LGBMClassifier()      validate    X_val   \n",
       "0                           RandomForestClassifier()      validate    X_val   \n",
       "0  VotingClassifier(estimators=[('lr', LogisticRe...      validate    X_val   \n",
       "0  BaggingClassifier(base_estimator=ExtraTreeClas...      validate    X_val   \n",
       "0                               AdaBoostClassifier()      validate    X_val   \n",
       "0                              ExtraTreeClassifier()      validate    X_val   \n",
       "0                            Validate Majority Class      validate    X_val   \n",
       "0                               LogisticRegression()         train  X_train   \n",
       "0                           DecisionTreeClassifier()         train  X_train   \n",
       "0  BaggingClassifier(base_estimator=DecisionTreeC...         train  X_train   \n",
       "0  BaggingClassifier(base_estimator=ExtraTreeClas...         train  X_train   \n",
       "0                       GradientBoostingClassifier()         train  X_train   \n",
       "0                                   LGBMClassifier()         train  X_train   \n",
       "0                           RandomForestClassifier()         train  X_train   \n",
       "0                              ExtraTreeClassifier()         train  X_train   \n",
       "0  VotingClassifier(estimators=[('lr', LogisticRe...         train  X_train   \n",
       "0  BaggingClassifier(base_estimator=ExtraTreeClas...         train  X_train   \n",
       "0                                  RidgeClassifier()         train  X_train   \n",
       "0                             KNeighborsClassifier()         train  X_train   \n",
       "0  BaggingClassifier(base_estimator=KNeighborsCla...         train  X_train   \n",
       "0            BaggingClassifier(base_estimator=SVC())         train  X_train   \n",
       "0                                    MLPClassifier()         train  X_train   \n",
       "0                                    SGDClassifier()         train  X_train   \n",
       "0                               AdaBoostClassifier()         train  X_train   \n",
       "0                               Train Majority Class         train  X_train   \n",
       "\n",
       "   accuracy precision    recall  f1_score  \\\n",
       "0       1.0       1.0       1.0       1.0   \n",
       "0       1.0       1.0       1.0       1.0   \n",
       "0       1.0       1.0       1.0       1.0   \n",
       "0       1.0       1.0       1.0       1.0   \n",
       "0       1.0       1.0       1.0       1.0   \n",
       "0   0.96875  0.970588   0.96875  0.968304   \n",
       "0   0.96875  0.970588   0.96875  0.968304   \n",
       "0   0.96875  0.970588   0.96875  0.968304   \n",
       "0   0.96875  0.970588   0.96875  0.968304   \n",
       "0   0.96875  0.970588   0.96875  0.968304   \n",
       "0   0.96875  0.970588   0.96875  0.968304   \n",
       "0   0.96875  0.970588   0.96875  0.968304   \n",
       "0   0.96875  0.970588   0.96875  0.968304   \n",
       "0   0.96875  0.970588   0.96875  0.968304   \n",
       "0   0.96875  0.970588   0.96875  0.968304   \n",
       "0   0.90625  0.921053   0.90625   0.90516   \n",
       "0   0.84375  0.841452   0.84375  0.841522   \n",
       "0       0.5      0.25       0.5  0.333333   \n",
       "0       1.0       1.0       1.0       1.0   \n",
       "0       1.0       1.0       1.0       1.0   \n",
       "0       1.0       1.0       1.0       1.0   \n",
       "0       1.0       1.0       1.0       1.0   \n",
       "0       1.0       1.0       1.0       1.0   \n",
       "0       1.0       1.0       1.0       1.0   \n",
       "0       1.0       1.0       1.0       1.0   \n",
       "0       1.0       1.0       1.0       1.0   \n",
       "0       1.0       1.0       1.0       1.0   \n",
       "0       1.0       1.0       1.0       1.0   \n",
       "0  0.996154  0.996223  0.996154  0.996163   \n",
       "0  0.996154  0.996223  0.996154  0.996163   \n",
       "0  0.996154  0.996223  0.996154  0.996163   \n",
       "0  0.996154  0.996223  0.996154  0.996163   \n",
       "0  0.996154  0.996223  0.996154  0.996163   \n",
       "0  0.992308  0.992578  0.992308  0.992343   \n",
       "0  0.961538  0.964615  0.961538  0.960417   \n",
       "0  0.442308  0.195636  0.442308  0.271282   \n",
       "\n",
       "                         confusion_matrix mean_squared_error  \\\n",
       "0      [[16, 0, 0], [0, 9, 0], [0, 0, 7]]               None   \n",
       "0      [[16, 0, 0], [0, 9, 0], [0, 0, 7]]               None   \n",
       "0      [[16, 0, 0], [0, 9, 0], [0, 0, 7]]               None   \n",
       "0      [[16, 0, 0], [0, 9, 0], [0, 0, 7]]               None   \n",
       "0      [[16, 0, 0], [0, 9, 0], [0, 0, 7]]               None   \n",
       "0      [[16, 0, 0], [1, 8, 0], [0, 0, 7]]               None   \n",
       "0      [[16, 0, 0], [1, 8, 0], [0, 0, 7]]               None   \n",
       "0      [[16, 0, 0], [1, 8, 0], [0, 0, 7]]               None   \n",
       "0      [[16, 0, 0], [1, 8, 0], [0, 0, 7]]               None   \n",
       "0      [[16, 0, 0], [1, 8, 0], [0, 0, 7]]               None   \n",
       "0      [[16, 0, 0], [1, 8, 0], [0, 0, 7]]               None   \n",
       "0      [[16, 0, 0], [1, 8, 0], [0, 0, 7]]               None   \n",
       "0      [[16, 0, 0], [1, 8, 0], [0, 0, 7]]               None   \n",
       "0      [[16, 0, 0], [1, 8, 0], [0, 0, 7]]               None   \n",
       "0      [[16, 0, 0], [1, 8, 0], [0, 0, 7]]               None   \n",
       "0      [[16, 0, 0], [2, 7, 0], [1, 0, 6]]               None   \n",
       "0      [[14, 2, 0], [3, 6, 0], [0, 0, 7]]               None   \n",
       "0      [[16, 0, 0], [9, 0, 0], [7, 0, 0]]               None   \n",
       "0   [[115, 0, 0], [0, 55, 0], [0, 0, 90]]               None   \n",
       "0   [[115, 0, 0], [0, 55, 0], [0, 0, 90]]               None   \n",
       "0   [[115, 0, 0], [0, 55, 0], [0, 0, 90]]               None   \n",
       "0   [[115, 0, 0], [0, 55, 0], [0, 0, 90]]               None   \n",
       "0   [[115, 0, 0], [0, 55, 0], [0, 0, 90]]               None   \n",
       "0   [[115, 0, 0], [0, 55, 0], [0, 0, 90]]               None   \n",
       "0   [[115, 0, 0], [0, 55, 0], [0, 0, 90]]               None   \n",
       "0   [[115, 0, 0], [0, 55, 0], [0, 0, 90]]               None   \n",
       "0   [[115, 0, 0], [0, 55, 0], [0, 0, 90]]               None   \n",
       "0   [[115, 0, 0], [0, 55, 0], [0, 0, 90]]               None   \n",
       "0   [[114, 1, 0], [0, 55, 0], [0, 0, 90]]               None   \n",
       "0   [[114, 1, 0], [0, 55, 0], [0, 0, 90]]               None   \n",
       "0   [[114, 1, 0], [0, 55, 0], [0, 0, 90]]               None   \n",
       "0   [[114, 1, 0], [0, 55, 0], [0, 0, 90]]               None   \n",
       "0   [[114, 1, 0], [0, 55, 0], [0, 0, 90]]               None   \n",
       "0   [[113, 2, 0], [0, 55, 0], [0, 0, 90]]               None   \n",
       "0  [[115, 0, 0], [10, 45, 0], [0, 0, 90]]               None   \n",
       "0   [[115, 0, 0], [55, 0, 0], [90, 0, 0]]               None   \n",
       "\n",
       "  mean_absolute_error mean_absolute_percentage_error  \n",
       "0                None                           None  \n",
       "0                None                           None  \n",
       "0                None                           None  \n",
       "0                None                           None  \n",
       "0                None                           None  \n",
       "0                None                           None  \n",
       "0                None                           None  \n",
       "0                None                           None  \n",
       "0                None                           None  \n",
       "0                None                           None  \n",
       "0                None                           None  \n",
       "0                None                           None  \n",
       "0                None                           None  \n",
       "0                None                           None  \n",
       "0                None                           None  \n",
       "0                None                           None  \n",
       "0                None                           None  \n",
       "0                None                           None  \n",
       "0                None                           None  \n",
       "0                None                           None  \n",
       "0                None                           None  \n",
       "0                None                           None  \n",
       "0                None                           None  \n",
       "0                None                           None  \n",
       "0                None                           None  \n",
       "0                None                           None  \n",
       "0                None                           None  \n",
       "0                None                           None  \n",
       "0                None                           None  \n",
       "0                None                           None  \n",
       "0                None                           None  \n",
       "0                None                           None  \n",
       "0                None                           None  \n",
       "0                None                           None  \n",
       "0                None                           None  \n",
       "0                None                           None  "
      ]
     },
     "execution_count": 289,
     "metadata": {},
     "output_type": "execute_result"
    }
   ],
   "source": [
    "model_tracker.sort_values(by=[\"train_or_test\", \"accuracy\"], ascending=False)"
   ]
  },
  {
   "cell_type": "markdown",
   "metadata": {
    "id": "-deoam9PMO85"
   },
   "source": [
    "#### Visualization"
   ]
  },
  {
   "cell_type": "markdown",
   "metadata": {
    "id": "6R-A69S_bNYj"
   },
   "source": [
    "##### Review Feature Importance"
   ]
  },
  {
   "cell_type": "code",
   "execution_count": 290,
   "metadata": {
    "colab": {
     "base_uri": "https://localhost:8080/",
     "height": 660
    },
    "id": "5N3FjIcebQ2s",
    "outputId": "bb9736e2-e5cd-4a32-81a2-b790c3d321b4"
   },
   "outputs": [
    {
     "name": "stdout",
     "output_type": "stream",
     "text": [
      "Feature: 0, Score: -4.09749\n",
      "Feature: 1, Score: 1.38600\n",
      "Feature: 2, Score: -1.88745\n",
      "Feature: 3, Score: -1.07238\n",
      "Feature: 4, Score: -0.13566\n",
      "Feature: 5, Score: -0.59883\n",
      "Feature: 6, Score: 0.73423\n",
      "Feature: 7, Score: -0.39121\n",
      "Feature: 8, Score: 0.47094\n"
     ]
    },
    {
     "data": {
      "image/png": "[encoded data removed]",
      "text/plain": [
       "<Figure size 1440x576 with 1 Axes>"
      ]
     },
     "metadata": {
      "needs_background": "light"
     },
     "output_type": "display_data"
    }
   ],
   "source": [
    "lr_model = LogisticRegression()\n",
    "lr_model.fit(X_train, y_train)\n",
    "importance = lr_model.coef_[0]\n",
    "# summarize feature importance\n",
    "for i, v in enumerate(importance):\n",
    "    print(\"Feature: %0d, Score: %.5f\" % (i, v))\n",
    "# plot feature importance\n",
    "plt.figure(figsize=(20, 8))\n",
    "plt.bar([x for x in X_train.columns], importance)\n",
    "plt.title(\"Logistic Regression Feature Importance\")\n",
    "plt.show()"
   ]
  },
  {
   "cell_type": "code",
   "execution_count": 291,
   "metadata": {
    "colab": {
     "base_uri": "https://localhost:8080/",
     "height": 678
    },
    "id": "aEf4ozXgcEL-",
    "outputId": "6d7b024e-1e4c-40be-f45d-52730c193cc0"
   },
   "outputs": [
    {
     "name": "stdout",
     "output_type": "stream",
     "text": [
      "Feature: 0, Score: 896.00000\n",
      "Feature: 1, Score: 810.00000\n",
      "Feature: 2, Score: 392.00000\n",
      "Feature: 3, Score: 478.00000\n",
      "Feature: 4, Score: 69.00000\n",
      "Feature: 5, Score: 165.00000\n",
      "Feature: 6, Score: 21.00000\n",
      "Feature: 7, Score: 22.00000\n",
      "Feature: 8, Score: 71.00000\n"
     ]
    },
    {
     "data": {
      "image/png": "[encoded data removed]",
      "text/plain": [
       "<Figure size 1440x576 with 1 Axes>"
      ]
     },
     "metadata": {
      "needs_background": "light"
     },
     "output_type": "display_data"
    },
    {
     "name": "stdout",
     "output_type": "stream",
     "text": [
      "\n"
     ]
    }
   ],
   "source": [
    "lgbm_model = LGBMClassifier()\n",
    "# fit the model\n",
    "lgbm_model.fit(X_train, y_train)\n",
    "# get importance\n",
    "importance = lgbm_model.feature_importances_\n",
    "# summarize feature importance\n",
    "for i, v in enumerate(importance):\n",
    "    print(\"Feature: %0d, Score: %.5f\" % (i, v))\n",
    "# plot feature importance\n",
    "plt.figure(figsize=(20, 8))\n",
    "plt.bar([x for x in X_train.columns], importance)\n",
    "plt.title(\"LGBMClassifier Feature Importance\")\n",
    "plt.show()\n",
    "print()"
   ]
  },
  {
   "cell_type": "code",
   "execution_count": 292,
   "metadata": {
    "colab": {
     "base_uri": "https://localhost:8080/",
     "height": 124
    },
    "id": "7rvKzlS3dfyw",
    "outputId": "eb345bd8-bbb3-4e4e-e774-cc20df03941e"
   },
   "outputs": [
    {
     "data": {
      "text/html": [
       "<div>\n",
       "<style scoped>\n",
       "    .dataframe tbody tr th:only-of-type {\n",
       "        vertical-align: middle;\n",
       "    }\n",
       "\n",
       "    .dataframe tbody tr th {\n",
       "        vertical-align: top;\n",
       "    }\n",
       "\n",
       "    .dataframe thead th {\n",
       "        text-align: right;\n",
       "    }\n",
       "</style>\n",
       "<table border=\"1\" class=\"dataframe\">\n",
       "  <thead>\n",
       "    <tr style=\"text-align: right;\">\n",
       "      <th></th>\n",
       "      <th>culmen_length_mm</th>\n",
       "      <th>culmen_depth_mm</th>\n",
       "      <th>flipper_length_mm</th>\n",
       "      <th>body_mass_g</th>\n",
       "      <th>island_Biscoe</th>\n",
       "      <th>island_Dream</th>\n",
       "      <th>island_Torgersen</th>\n",
       "      <th>sex_FEMALE</th>\n",
       "      <th>sex_MALE</th>\n",
       "    </tr>\n",
       "  </thead>\n",
       "  <tbody>\n",
       "    <tr>\n",
       "      <th>0</th>\n",
       "      <td>896</td>\n",
       "      <td>810</td>\n",
       "      <td>392</td>\n",
       "      <td>478</td>\n",
       "      <td>69</td>\n",
       "      <td>165</td>\n",
       "      <td>21</td>\n",
       "      <td>22</td>\n",
       "      <td>71</td>\n",
       "    </tr>\n",
       "  </tbody>\n",
       "</table>\n",
       "</div>"
      ],
      "text/plain": [
       "   culmen_length_mm  culmen_depth_mm  flipper_length_mm  body_mass_g  \\\n",
       "0               896              810                392          478   \n",
       "\n",
       "   island_Biscoe  island_Dream  island_Torgersen  sex_FEMALE  sex_MALE  \n",
       "0             69           165                21          22        71  "
      ]
     },
     "execution_count": 292,
     "metadata": {},
     "output_type": "execute_result"
    }
   ],
   "source": [
    "feature_importances = pd.DataFrame(\n",
    "    [lgbm_model.feature_importances_], columns=X_train.columns\n",
    ")\n",
    "feature_importances"
   ]
  },
  {
   "cell_type": "markdown",
   "metadata": {
    "id": "khrvC26jj9og"
   },
   "source": [
    "##### Review ROC Curves"
   ]
  },
  {
   "cell_type": "markdown",
   "metadata": {
    "id": "geELQBvzo5Bd"
   },
   "source": [
    "###### Resources"
   ]
  },
  {
   "cell_type": "markdown",
   "metadata": {
    "id": "8aE3mrFSsEHq"
   },
   "source": [
    "\n",
    "[TDS ROC Curves for MultiClass](https://towardsdatascience.com/multiclass-classification-evaluation-with-roc-curves-and-roc-auc-294fd4617e3a)\n",
    "\n",
    "[Associated Github Notebook](https://github.com/vinyluis/Articles/blob/main/ROC%20Curve%20and%20ROC%20AUC/ROC%20Curve%20-%20Multiclass.ipynb)"
   ]
  },
  {
   "cell_type": "markdown",
   "metadata": {
    "id": "5SpiUej1o-Wt"
   },
   "source": [
    "###### Methods"
   ]
  },
  {
   "cell_type": "code",
   "execution_count": 293,
   "metadata": {
    "id": "2DHItI1llVRl"
   },
   "outputs": [],
   "source": [
    "def calculate_tpr_fpr(y_real, y_pred):\n",
    "    \"\"\"\n",
    "    Calculates the True Positive Rate (tpr) and the True Negative Rate (fpr) based on real and predicted observations\n",
    "\n",
    "    Args:\n",
    "        y_real: The list or series with the real classes\n",
    "        y_pred: The list or series with the predicted classes\n",
    "\n",
    "    Returns:\n",
    "        tpr: The True Positive Rate of the classifier\n",
    "        fpr: The False Positive Rate of the classifier\n",
    "    \"\"\"\n",
    "\n",
    "    # Calculates the confusion matrix and recover each element\n",
    "    cm = confusion_matrix(y_real, y_pred)\n",
    "    TN = cm[0, 0]\n",
    "    FP = cm[0, 1]\n",
    "    FN = cm[1, 0]\n",
    "    TP = cm[1, 1]\n",
    "\n",
    "    # Calculates tpr and fpr\n",
    "    tpr = TP / (TP + FN)  # sensitivity - true positive rate\n",
    "    fpr = 1 - TN / (TN + FP)  # 1-specificity - false positive rate\n",
    "\n",
    "    return tpr, fpr"
   ]
  },
  {
   "cell_type": "code",
   "execution_count": 294,
   "metadata": {
    "id": "LvEJSDmplRop"
   },
   "outputs": [],
   "source": [
    "def get_all_roc_coordinates(y_real, y_proba):\n",
    "    \"\"\"\n",
    "    Calculates all the ROC Curve coordinates (tpr and fpr) by considering each point as a treshold for the predicion of the class.\n",
    "\n",
    "    Args:\n",
    "        y_real: The list or series with the real classes.\n",
    "        y_proba: The array with the probabilities for each class, obtained by using the `.predict_proba()` method.\n",
    "\n",
    "    Returns:\n",
    "        tpr_list: The list of TPRs representing each threshold.\n",
    "        fpr_list: The list of FPRs representing each threshold.\n",
    "    \"\"\"\n",
    "    tpr_list = [0]\n",
    "    fpr_list = [0]\n",
    "    for i in range(len(y_proba)):\n",
    "        threshold = y_proba[i]\n",
    "        y_pred = y_proba >= threshold\n",
    "        tpr, fpr = calculate_tpr_fpr(y_real, y_pred)\n",
    "        tpr_list.append(tpr)\n",
    "        fpr_list.append(fpr)\n",
    "    return tpr_list, fpr_list"
   ]
  },
  {
   "cell_type": "code",
   "execution_count": 295,
   "metadata": {
    "id": "g08AvgQylYzY"
   },
   "outputs": [],
   "source": [
    "def plot_roc_curve(tpr, fpr, scatter=True, ax=None):\n",
    "    \"\"\"\n",
    "    Plots the ROC Curve by using the list of coordinates (tpr and fpr).\n",
    "\n",
    "    Args:\n",
    "        tpr: The list of TPRs representing each coordinate.\n",
    "        fpr: The list of FPRs representing each coordinate.\n",
    "        scatter: When True, the points used on the calculation will be plotted with the line (default = True).\n",
    "    \"\"\"\n",
    "    if ax == None:\n",
    "        plt.figure(figsize=(5, 5))\n",
    "        ax = plt.axes()\n",
    "\n",
    "    if scatter:\n",
    "        sns.scatterplot(x=fpr, y=tpr, ax=ax)\n",
    "    sns.lineplot(x=fpr, y=tpr, ax=ax)\n",
    "    sns.lineplot(x=[0, 1], y=[0, 1], color=\"green\", ax=ax)\n",
    "    plt.xlim(-0.05, 1.05)\n",
    "    plt.ylim(-0.05, 1.05)\n",
    "    plt.xlabel(\"False Positive Rate\")\n",
    "    plt.ylabel(\"True Positive Rate\")"
   ]
  },
  {
   "cell_type": "code",
   "execution_count": 296,
   "metadata": {
    "colab": {
     "base_uri": "https://localhost:8080/"
    },
    "id": "aB6z_un1pFp3",
    "outputId": "896b71aa-ec75-4419-b016-5112748937ce"
   },
   "outputs": [
    {
     "ename": "NameError",
     "evalue": "name 'classes' is not defined",
     "output_type": "error",
     "traceback": [
      "\u001b[0;31m---------------------------------------------------------------------------\u001b[0m",
      "\u001b[0;31mNameError\u001b[0m                                 Traceback (most recent call last)",
      "\u001b[1;32m/Users/emekdahl/dev/machine_learning_template/machine_learning_classification_template.ipynb Cell 146'\u001b[0m in \u001b[0;36m<cell line: 2>\u001b[0;34m()\u001b[0m\n\u001b[1;32m      <a href='vscode-notebook-cell:/Users/emekdahl/dev/machine_learning_template/machine_learning_classification_template.ipynb#ch0000145?line=0'>1</a>\u001b[0m classes_combinations \u001b[39m=\u001b[39m []\n\u001b[0;32m----> <a href='vscode-notebook-cell:/Users/emekdahl/dev/machine_learning_template/machine_learning_classification_template.ipynb#ch0000145?line=1'>2</a>\u001b[0m class_list \u001b[39m=\u001b[39m \u001b[39mlist\u001b[39m(classes)\n\u001b[1;32m      <a href='vscode-notebook-cell:/Users/emekdahl/dev/machine_learning_template/machine_learning_classification_template.ipynb#ch0000145?line=2'>3</a>\u001b[0m \u001b[39mfor\u001b[39;00m i \u001b[39min\u001b[39;00m \u001b[39mrange\u001b[39m(\u001b[39mlen\u001b[39m(class_list)):\n\u001b[1;32m      <a href='vscode-notebook-cell:/Users/emekdahl/dev/machine_learning_template/machine_learning_classification_template.ipynb#ch0000145?line=3'>4</a>\u001b[0m     \u001b[39mfor\u001b[39;00m j \u001b[39min\u001b[39;00m \u001b[39mrange\u001b[39m(i \u001b[39m+\u001b[39m \u001b[39m1\u001b[39m, \u001b[39mlen\u001b[39m(class_list)):\n",
      "\u001b[0;31mNameError\u001b[0m: name 'classes' is not defined"
     ]
    }
   ],
   "source": [
    "classes_combinations = []\n",
    "class_list = list(classes)\n",
    "for i in range(len(class_list)):\n",
    "    for j in range(i + 1, len(class_list)):\n",
    "        classes_combinations.append([class_list[i], class_list[j]])\n",
    "        classes_combinations.append([class_list[j], class_list[i]])\n",
    "classes_combinations"
   ]
  },
  {
   "cell_type": "markdown",
   "metadata": {
    "id": "jpENC31bpBuy"
   },
   "source": [
    "###### ROC Curves One vs Rest"
   ]
  },
  {
   "cell_type": "code",
   "execution_count": null,
   "metadata": {
    "colab": {
     "base_uri": "https://localhost:8080/",
     "height": 585
    },
    "id": "PBRKqIeAkEsi",
    "outputId": "4da9d144-fb95-4e22-d99c-479e64c7dfc0"
   },
   "outputs": [
    {
     "data": {
      "image/png": "[encoded data removed]",
      "text/plain": [
       "<Figure size 864x576 with 6 Axes>"
      ]
     },
     "metadata": {
      "needs_background": "light"
     },
     "output_type": "display_data"
    }
   ],
   "source": [
    "# Plots the Probability Distributions and the ROC Curves One vs Rest\n",
    "plt.figure(figsize=(12, 8))\n",
    "bins = [i / 20 for i in range(20)] + [1]\n",
    "classes = lr_model.classes_\n",
    "roc_auc_ovr = {}\n",
    "for i in range(len(classes)):\n",
    "    # Gets the class\n",
    "    c = classes[i]\n",
    "\n",
    "    # Prepares an auxiliar dataframe to help with the plots\n",
    "    df_aux = X_test.copy()\n",
    "    df_aux[\"class\"] = [1 if y == c else 0 for y in y_test]\n",
    "    df_aux[\"prob\"] = lr_model.predict_proba(X_test)[:, i]\n",
    "    df_aux = df_aux.reset_index(drop=True)\n",
    "\n",
    "    # Plots the probability distribution for the class and the rest\n",
    "    ax = plt.subplot(2, 3, i + 1)\n",
    "    sns.histplot(x=\"prob\", data=df_aux, hue=\"class\", color=\"b\", ax=ax, bins=bins)\n",
    "    ax.set_title(c)\n",
    "    ax.legend([f\"Class: {c}\", \"Rest\"])\n",
    "    ax.set_xlabel(f\"P(x = {c})\")\n",
    "\n",
    "    # Calculates the ROC Coordinates and plots the ROC Curves\n",
    "    ax_bottom = plt.subplot(2, 3, i + 4)\n",
    "    tpr, fpr = get_all_roc_coordinates(df_aux[\"class\"], df_aux[\"prob\"])\n",
    "    plot_roc_curve(tpr, fpr, scatter=False, ax=ax_bottom)\n",
    "    ax_bottom.set_title(\"ROC Curve OvR\")\n",
    "\n",
    "    # Calculates the ROC AUC OvR\n",
    "    roc_auc_ovr[c] = roc_auc_score(df_aux[\"class\"], df_aux[\"prob\"])\n",
    "plt.tight_layout()"
   ]
  },
  {
   "cell_type": "code",
   "execution_count": null,
   "metadata": {
    "colab": {
     "base_uri": "https://localhost:8080/"
    },
    "id": "ZpgCnDnEpWzi",
    "outputId": "0af5a547-b8f2-4a01-cf70-ec64de2631bc"
   },
   "outputs": [
    {
     "name": "stdout",
     "output_type": "stream",
     "text": [
      "Adelie ROC AUC OvR: 1.0000\n",
      "Chinstrap ROC AUC OvR: 1.0000\n",
      "Gentoo ROC AUC OvR: 1.0000\n",
      "average ROC AUC OvR: 1.0000\n"
     ]
    }
   ],
   "source": [
    "# Displays the ROC AUC for each class\n",
    "avg_roc_auc = 0\n",
    "i = 0\n",
    "for k in roc_auc_ovr:\n",
    "    avg_roc_auc += roc_auc_ovr[k]\n",
    "    i += 1\n",
    "    print(f\"{k} ROC AUC OvR: {roc_auc_ovr[k]:.4f}\")\n",
    "print(f\"average ROC AUC OvR: {avg_roc_auc/i:.4f}\")"
   ]
  },
  {
   "cell_type": "markdown",
   "metadata": {
    "id": "r7SjEiHlpzE2"
   },
   "source": [
    "###### ROC Curves One vs. One"
   ]
  },
  {
   "cell_type": "code",
   "execution_count": null,
   "metadata": {
    "colab": {
     "base_uri": "https://localhost:8080/",
     "height": 422
    },
    "id": "GawbXqXQp3e6",
    "outputId": "a27658e4-a371-4d1d-ef23-daf6581fc0ac"
   },
   "outputs": [
    {
     "data": {
      "image/png": "[encoded data removed]",
      "text/plain": [
       "<Figure size 1440x504 with 12 Axes>"
      ]
     },
     "metadata": {
      "needs_background": "light"
     },
     "output_type": "display_data"
    }
   ],
   "source": [
    "# Plots the Probability Distributions and the ROC Curves One vs ONe\n",
    "plt.figure(figsize=(20, 7))\n",
    "bins = [i / 20 for i in range(20)] + [1]\n",
    "roc_auc_ovo = {}\n",
    "\n",
    "for i in range(len(classes_combinations)):\n",
    "    # Gets the class\n",
    "    comb = classes_combinations[i]\n",
    "    c1 = comb[0]\n",
    "    c2 = comb[1]\n",
    "    c1_index = class_list.index(c1)\n",
    "    title = c1 + \" vs \" + c2\n",
    "\n",
    "    # Prepares an auxiliar dataframe to help with the plots\n",
    "    df_aux = X_test.copy()\n",
    "    df_aux[\"class\"] = y_test\n",
    "    df_aux[\"prob\"] = lr_model.predict_proba(X_test)[:, c1_index]\n",
    "\n",
    "    # Slices only the subset with both classes\n",
    "    df_aux = df_aux[(df_aux[\"class\"] == c1) | (df_aux[\"class\"] == c2)]\n",
    "    df_aux[\"class\"] = [1 if y == c1 else 0 for y in df_aux[\"class\"]]\n",
    "    df_aux = df_aux.reset_index(drop=True)\n",
    "\n",
    "    # Plots the probability distribution for the class and the rest\n",
    "    ax = plt.subplot(2, 6, i + 1)\n",
    "    sns.histplot(x=\"prob\", data=df_aux, hue=\"class\", color=\"b\", ax=ax, bins=bins)\n",
    "    ax.set_title(title)\n",
    "    ax.legend([f\"Class 1: {c1}\", f\"Class 0: {c2}\"])\n",
    "    ax.set_xlabel(f\"P(x = {c1})\")\n",
    "\n",
    "    # Calculates the ROC Coordinates and plots the ROC Curves\n",
    "    ax_bottom = plt.subplot(2, 6, i + 7)\n",
    "    tpr, fpr = get_all_roc_coordinates(df_aux[\"class\"], df_aux[\"prob\"])\n",
    "    plot_roc_curve(tpr, fpr, scatter=False, ax=ax_bottom)\n",
    "    ax_bottom.set_title(\"ROC Curve OvO\")\n",
    "\n",
    "    # Calculates the ROC AUC OvO\n",
    "    roc_auc_ovo[title] = roc_auc_score(df_aux[\"class\"], df_aux[\"prob\"])\n",
    "\n",
    "plt.tight_layout()"
   ]
  },
  {
   "cell_type": "code",
   "execution_count": null,
   "metadata": {
    "colab": {
     "base_uri": "https://localhost:8080/"
    },
    "id": "OZ3kqZa-qOHS",
    "outputId": "82b4ee07-36f8-4952-913f-dedd27829a3b"
   },
   "outputs": [
    {
     "name": "stdout",
     "output_type": "stream",
     "text": [
      "Adelie vs Chinstrap ROC AUC OvO: 1.0000\n",
      "Chinstrap vs Adelie ROC AUC OvO: 1.0000\n",
      "Adelie vs Gentoo ROC AUC OvO: 1.0000\n",
      "Gentoo vs Adelie ROC AUC OvO: 1.0000\n",
      "Chinstrap vs Gentoo ROC AUC OvO: 1.0000\n",
      "Gentoo vs Chinstrap ROC AUC OvO: 1.0000\n",
      "average ROC AUC OvO: 1.0000\n"
     ]
    }
   ],
   "source": [
    "# Displays the ROC AUC for each class\n",
    "avg_roc_auc = 0\n",
    "i = 0\n",
    "for k in roc_auc_ovo:\n",
    "    avg_roc_auc += roc_auc_ovo[k]\n",
    "    i += 1\n",
    "    print(f\"{k} ROC AUC OvO: {roc_auc_ovo[k]:.4f}\")\n",
    "print(f\"average ROC AUC OvO: {avg_roc_auc/i:.4f}\")"
   ]
  },
  {
   "cell_type": "code",
   "execution_count": null,
   "metadata": {
    "id": "Z8WiauFfWKQ1"
   },
   "outputs": [],
   "source": [
    "# precision, recall, _ = precision_recall_curve(y_val, baseline_model.decision_function(X_val))\n",
    "# plt.plot(recall, precision, 'b-')\n",
    "# precision, recall, _ = precision_recall_curve(y_val, best_model.decision_function(X_val))\n",
    "# plt.plot(recall, precision, 'r-')\n",
    "# plt.title(\"Precision-Recall curve\")\n",
    "# plt.show()"
   ]
  },
  {
   "cell_type": "markdown",
   "metadata": {
    "id": "bGcap7zJKl87"
   },
   "source": [
    "## Discussion"
   ]
  },
  {
   "cell_type": "markdown",
   "metadata": {
    "id": "SjR58rcFnoOz"
   },
   "source": [
    "### Classification"
   ]
  },
  {
   "cell_type": "markdown",
   "metadata": {
    "id": "XCbZz_z6MbRy"
   },
   "source": [
    "#### Best current model"
   ]
  },
  {
   "cell_type": "code",
   "execution_count": null,
   "metadata": {
    "colab": {
     "base_uri": "https://localhost:8080/",
     "height": 1000
    },
    "id": "Dg1nea9VW9sI",
    "outputId": "62320af2-8a49-4807-d304-ae1bdba69c04"
   },
   "outputs": [
    {
     "data": {
      "text/html": [
       "\n",
       "  <div id=\"df-781c1315-62bc-45a0-af97-a3ee45e00493\">\n",
       "    <div class=\"colab-df-container\">\n",
       "      <div>\n",
       "<style scoped>\n",
       "    .dataframe tbody tr th:only-of-type {\n",
       "        vertical-align: middle;\n",
       "    }\n",
       "\n",
       "    .dataframe tbody tr th {\n",
       "        vertical-align: top;\n",
       "    }\n",
       "\n",
       "    .dataframe thead th {\n",
       "        text-align: right;\n",
       "    }\n",
       "</style>\n",
       "<table border=\"1\" class=\"dataframe\">\n",
       "  <thead>\n",
       "    <tr style=\"text-align: right;\">\n",
       "      <th></th>\n",
       "      <th>model_type</th>\n",
       "      <th>train_or_test</th>\n",
       "      <th>dataset</th>\n",
       "      <th>accuracy</th>\n",
       "      <th>precision</th>\n",
       "      <th>recall</th>\n",
       "      <th>f1_score</th>\n",
       "      <th>confusion_matrix</th>\n",
       "      <th>mean_squared_error</th>\n",
       "      <th>mean_absolute_error</th>\n",
       "      <th>mean_absolute_percentage_error</th>\n",
       "    </tr>\n",
       "  </thead>\n",
       "  <tbody>\n",
       "    <tr>\n",
       "      <th>0</th>\n",
       "      <td>KNeighborsClassifier()</td>\n",
       "      <td>validate</td>\n",
       "      <td>X_val</td>\n",
       "      <td>1.000000</td>\n",
       "      <td>1.000000</td>\n",
       "      <td>1.000000</td>\n",
       "      <td>1.000000</td>\n",
       "      <td>[[16, 0, 0], [0, 9, 0], [0, 0, 7]]</td>\n",
       "      <td>None</td>\n",
       "      <td>None</td>\n",
       "      <td>None</td>\n",
       "    </tr>\n",
       "    <tr>\n",
       "      <th>0</th>\n",
       "      <td>BaggingClassifier(base_estimator=KNeighborsCla...</td>\n",
       "      <td>validate</td>\n",
       "      <td>X_val</td>\n",
       "      <td>1.000000</td>\n",
       "      <td>1.000000</td>\n",
       "      <td>1.000000</td>\n",
       "      <td>1.000000</td>\n",
       "      <td>[[16, 0, 0], [0, 9, 0], [0, 0, 7]]</td>\n",
       "      <td>None</td>\n",
       "      <td>None</td>\n",
       "      <td>None</td>\n",
       "    </tr>\n",
       "    <tr>\n",
       "      <th>0</th>\n",
       "      <td>BaggingClassifier(base_estimator=ExtraTreeClas...</td>\n",
       "      <td>validate</td>\n",
       "      <td>X_val</td>\n",
       "      <td>1.000000</td>\n",
       "      <td>1.000000</td>\n",
       "      <td>1.000000</td>\n",
       "      <td>1.000000</td>\n",
       "      <td>[[16, 0, 0], [0, 9, 0], [0, 0, 7]]</td>\n",
       "      <td>None</td>\n",
       "      <td>None</td>\n",
       "      <td>None</td>\n",
       "    </tr>\n",
       "    <tr>\n",
       "      <th>0</th>\n",
       "      <td>MLPClassifier()</td>\n",
       "      <td>validate</td>\n",
       "      <td>X_val</td>\n",
       "      <td>1.000000</td>\n",
       "      <td>1.000000</td>\n",
       "      <td>1.000000</td>\n",
       "      <td>1.000000</td>\n",
       "      <td>[[16, 0, 0], [0, 9, 0], [0, 0, 7]]</td>\n",
       "      <td>None</td>\n",
       "      <td>None</td>\n",
       "      <td>None</td>\n",
       "    </tr>\n",
       "    <tr>\n",
       "      <th>0</th>\n",
       "      <td>LogisticRegression()</td>\n",
       "      <td>validate</td>\n",
       "      <td>X_val</td>\n",
       "      <td>0.968750</td>\n",
       "      <td>0.970588</td>\n",
       "      <td>0.968750</td>\n",
       "      <td>0.968304</td>\n",
       "      <td>[[16, 0, 0], [1, 8, 0], [0, 0, 7]]</td>\n",
       "      <td>None</td>\n",
       "      <td>None</td>\n",
       "      <td>None</td>\n",
       "    </tr>\n",
       "    <tr>\n",
       "      <th>0</th>\n",
       "      <td>RidgeClassifier()</td>\n",
       "      <td>validate</td>\n",
       "      <td>X_val</td>\n",
       "      <td>0.968750</td>\n",
       "      <td>0.970588</td>\n",
       "      <td>0.968750</td>\n",
       "      <td>0.968304</td>\n",
       "      <td>[[16, 0, 0], [1, 8, 0], [0, 0, 7]]</td>\n",
       "      <td>None</td>\n",
       "      <td>None</td>\n",
       "      <td>None</td>\n",
       "    </tr>\n",
       "    <tr>\n",
       "      <th>0</th>\n",
       "      <td>SGDClassifier()</td>\n",
       "      <td>validate</td>\n",
       "      <td>X_val</td>\n",
       "      <td>0.968750</td>\n",
       "      <td>0.970588</td>\n",
       "      <td>0.968750</td>\n",
       "      <td>0.968304</td>\n",
       "      <td>[[16, 0, 0], [1, 8, 0], [0, 0, 7]]</td>\n",
       "      <td>None</td>\n",
       "      <td>None</td>\n",
       "      <td>None</td>\n",
       "    </tr>\n",
       "    <tr>\n",
       "      <th>0</th>\n",
       "      <td>DecisionTreeClassifier()</td>\n",
       "      <td>validate</td>\n",
       "      <td>X_val</td>\n",
       "      <td>0.968750</td>\n",
       "      <td>0.970588</td>\n",
       "      <td>0.968750</td>\n",
       "      <td>0.968304</td>\n",
       "      <td>[[16, 0, 0], [1, 8, 0], [0, 0, 7]]</td>\n",
       "      <td>None</td>\n",
       "      <td>None</td>\n",
       "      <td>None</td>\n",
       "    </tr>\n",
       "    <tr>\n",
       "      <th>0</th>\n",
       "      <td>BaggingClassifier(base_estimator=SVC())</td>\n",
       "      <td>validate</td>\n",
       "      <td>X_val</td>\n",
       "      <td>0.968750</td>\n",
       "      <td>0.970588</td>\n",
       "      <td>0.968750</td>\n",
       "      <td>0.968304</td>\n",
       "      <td>[[16, 0, 0], [1, 8, 0], [0, 0, 7]]</td>\n",
       "      <td>None</td>\n",
       "      <td>None</td>\n",
       "      <td>None</td>\n",
       "    </tr>\n",
       "    <tr>\n",
       "      <th>0</th>\n",
       "      <td>BaggingClassifier(base_estimator=DecisionTreeC...</td>\n",
       "      <td>validate</td>\n",
       "      <td>X_val</td>\n",
       "      <td>0.968750</td>\n",
       "      <td>0.970588</td>\n",
       "      <td>0.968750</td>\n",
       "      <td>0.968304</td>\n",
       "      <td>[[16, 0, 0], [1, 8, 0], [0, 0, 7]]</td>\n",
       "      <td>None</td>\n",
       "      <td>None</td>\n",
       "      <td>None</td>\n",
       "    </tr>\n",
       "    <tr>\n",
       "      <th>0</th>\n",
       "      <td>GradientBoostingClassifier()</td>\n",
       "      <td>validate</td>\n",
       "      <td>X_val</td>\n",
       "      <td>0.968750</td>\n",
       "      <td>0.970588</td>\n",
       "      <td>0.968750</td>\n",
       "      <td>0.968304</td>\n",
       "      <td>[[16, 0, 0], [1, 8, 0], [0, 0, 7]]</td>\n",
       "      <td>None</td>\n",
       "      <td>None</td>\n",
       "      <td>None</td>\n",
       "    </tr>\n",
       "    <tr>\n",
       "      <th>0</th>\n",
       "      <td>LGBMClassifier()</td>\n",
       "      <td>validate</td>\n",
       "      <td>X_val</td>\n",
       "      <td>0.968750</td>\n",
       "      <td>0.970588</td>\n",
       "      <td>0.968750</td>\n",
       "      <td>0.968304</td>\n",
       "      <td>[[16, 0, 0], [1, 8, 0], [0, 0, 7]]</td>\n",
       "      <td>None</td>\n",
       "      <td>None</td>\n",
       "      <td>None</td>\n",
       "    </tr>\n",
       "    <tr>\n",
       "      <th>0</th>\n",
       "      <td>XGBClassifier(objective='multi:softprob')</td>\n",
       "      <td>validate</td>\n",
       "      <td>X_val</td>\n",
       "      <td>0.968750</td>\n",
       "      <td>0.970588</td>\n",
       "      <td>0.968750</td>\n",
       "      <td>0.968304</td>\n",
       "      <td>[[16, 0, 0], [1, 8, 0], [0, 0, 7]]</td>\n",
       "      <td>None</td>\n",
       "      <td>None</td>\n",
       "      <td>None</td>\n",
       "    </tr>\n",
       "    <tr>\n",
       "      <th>0</th>\n",
       "      <td>XGBRFClassifier(objective='multi:softprob')</td>\n",
       "      <td>validate</td>\n",
       "      <td>X_val</td>\n",
       "      <td>0.968750</td>\n",
       "      <td>0.970588</td>\n",
       "      <td>0.968750</td>\n",
       "      <td>0.968304</td>\n",
       "      <td>[[16, 0, 0], [1, 8, 0], [0, 0, 7]]</td>\n",
       "      <td>None</td>\n",
       "      <td>None</td>\n",
       "      <td>None</td>\n",
       "    </tr>\n",
       "    <tr>\n",
       "      <th>0</th>\n",
       "      <td>RandomForestClassifier()</td>\n",
       "      <td>validate</td>\n",
       "      <td>X_val</td>\n",
       "      <td>0.968750</td>\n",
       "      <td>0.970588</td>\n",
       "      <td>0.968750</td>\n",
       "      <td>0.968304</td>\n",
       "      <td>[[16, 0, 0], [1, 8, 0], [0, 0, 7]]</td>\n",
       "      <td>None</td>\n",
       "      <td>None</td>\n",
       "      <td>None</td>\n",
       "    </tr>\n",
       "    <tr>\n",
       "      <th>0</th>\n",
       "      <td>ExtraTreeClassifier()</td>\n",
       "      <td>validate</td>\n",
       "      <td>X_val</td>\n",
       "      <td>0.968750</td>\n",
       "      <td>0.970588</td>\n",
       "      <td>0.968750</td>\n",
       "      <td>0.968304</td>\n",
       "      <td>[[16, 0, 0], [1, 8, 0], [0, 0, 7]]</td>\n",
       "      <td>None</td>\n",
       "      <td>None</td>\n",
       "      <td>None</td>\n",
       "    </tr>\n",
       "    <tr>\n",
       "      <th>0</th>\n",
       "      <td>VotingClassifier(estimators=[('lr', LogisticRe...</td>\n",
       "      <td>validate</td>\n",
       "      <td>X_val</td>\n",
       "      <td>0.968750</td>\n",
       "      <td>0.970588</td>\n",
       "      <td>0.968750</td>\n",
       "      <td>0.968304</td>\n",
       "      <td>[[16, 0, 0], [1, 8, 0], [0, 0, 7]]</td>\n",
       "      <td>None</td>\n",
       "      <td>None</td>\n",
       "      <td>None</td>\n",
       "    </tr>\n",
       "    <tr>\n",
       "      <th>0</th>\n",
       "      <td>AdaBoostClassifier()</td>\n",
       "      <td>validate</td>\n",
       "      <td>X_val</td>\n",
       "      <td>0.906250</td>\n",
       "      <td>0.921053</td>\n",
       "      <td>0.906250</td>\n",
       "      <td>0.905160</td>\n",
       "      <td>[[16, 0, 0], [2, 7, 0], [1, 0, 6]]</td>\n",
       "      <td>None</td>\n",
       "      <td>None</td>\n",
       "      <td>None</td>\n",
       "    </tr>\n",
       "    <tr>\n",
       "      <th>0</th>\n",
       "      <td>BaggingClassifier(base_estimator=ExtraTreeClas...</td>\n",
       "      <td>validate</td>\n",
       "      <td>X_val</td>\n",
       "      <td>0.718750</td>\n",
       "      <td>0.712316</td>\n",
       "      <td>0.718750</td>\n",
       "      <td>0.714739</td>\n",
       "      <td>[[12, 4, 0], [5, 4, 0], [0, 0, 7]]</td>\n",
       "      <td>None</td>\n",
       "      <td>None</td>\n",
       "      <td>None</td>\n",
       "    </tr>\n",
       "    <tr>\n",
       "      <th>0</th>\n",
       "      <td>Validate Majority Class</td>\n",
       "      <td>validate</td>\n",
       "      <td>X_val</td>\n",
       "      <td>0.500000</td>\n",
       "      <td>0.250000</td>\n",
       "      <td>0.500000</td>\n",
       "      <td>0.333333</td>\n",
       "      <td>[[16, 0, 0], [9, 0, 0], [7, 0, 0]]</td>\n",
       "      <td>None</td>\n",
       "      <td>None</td>\n",
       "      <td>None</td>\n",
       "    </tr>\n",
       "    <tr>\n",
       "      <th>0</th>\n",
       "      <td>LogisticRegression()</td>\n",
       "      <td>train</td>\n",
       "      <td>X_train</td>\n",
       "      <td>1.000000</td>\n",
       "      <td>1.000000</td>\n",
       "      <td>1.000000</td>\n",
       "      <td>1.000000</td>\n",
       "      <td>[[115, 0, 0], [0, 55, 0], [0, 0, 90]]</td>\n",
       "      <td>None</td>\n",
       "      <td>None</td>\n",
       "      <td>None</td>\n",
       "    </tr>\n",
       "    <tr>\n",
       "      <th>0</th>\n",
       "      <td>SGDClassifier()</td>\n",
       "      <td>train</td>\n",
       "      <td>X_train</td>\n",
       "      <td>1.000000</td>\n",
       "      <td>1.000000</td>\n",
       "      <td>1.000000</td>\n",
       "      <td>1.000000</td>\n",
       "      <td>[[115, 0, 0], [0, 55, 0], [0, 0, 90]]</td>\n",
       "      <td>None</td>\n",
       "      <td>None</td>\n",
       "      <td>None</td>\n",
       "    </tr>\n",
       "    <tr>\n",
       "      <th>0</th>\n",
       "      <td>DecisionTreeClassifier()</td>\n",
       "      <td>train</td>\n",
       "      <td>X_train</td>\n",
       "      <td>1.000000</td>\n",
       "      <td>1.000000</td>\n",
       "      <td>1.000000</td>\n",
       "      <td>1.000000</td>\n",
       "      <td>[[115, 0, 0], [0, 55, 0], [0, 0, 90]]</td>\n",
       "      <td>None</td>\n",
       "      <td>None</td>\n",
       "      <td>None</td>\n",
       "    </tr>\n",
       "    <tr>\n",
       "      <th>0</th>\n",
       "      <td>BaggingClassifier(base_estimator=DecisionTreeC...</td>\n",
       "      <td>train</td>\n",
       "      <td>X_train</td>\n",
       "      <td>1.000000</td>\n",
       "      <td>1.000000</td>\n",
       "      <td>1.000000</td>\n",
       "      <td>1.000000</td>\n",
       "      <td>[[115, 0, 0], [0, 55, 0], [0, 0, 90]]</td>\n",
       "      <td>None</td>\n",
       "      <td>None</td>\n",
       "      <td>None</td>\n",
       "    </tr>\n",
       "    <tr>\n",
       "      <th>0</th>\n",
       "      <td>BaggingClassifier(base_estimator=ExtraTreeClas...</td>\n",
       "      <td>train</td>\n",
       "      <td>X_train</td>\n",
       "      <td>1.000000</td>\n",
       "      <td>1.000000</td>\n",
       "      <td>1.000000</td>\n",
       "      <td>1.000000</td>\n",
       "      <td>[[115, 0, 0], [0, 55, 0], [0, 0, 90]]</td>\n",
       "      <td>None</td>\n",
       "      <td>None</td>\n",
       "      <td>None</td>\n",
       "    </tr>\n",
       "    <tr>\n",
       "      <th>0</th>\n",
       "      <td>GradientBoostingClassifier()</td>\n",
       "      <td>train</td>\n",
       "      <td>X_train</td>\n",
       "      <td>1.000000</td>\n",
       "      <td>1.000000</td>\n",
       "      <td>1.000000</td>\n",
       "      <td>1.000000</td>\n",
       "      <td>[[115, 0, 0], [0, 55, 0], [0, 0, 90]]</td>\n",
       "      <td>None</td>\n",
       "      <td>None</td>\n",
       "      <td>None</td>\n",
       "    </tr>\n",
       "    <tr>\n",
       "      <th>0</th>\n",
       "      <td>LGBMClassifier()</td>\n",
       "      <td>train</td>\n",
       "      <td>X_train</td>\n",
       "      <td>1.000000</td>\n",
       "      <td>1.000000</td>\n",
       "      <td>1.000000</td>\n",
       "      <td>1.000000</td>\n",
       "      <td>[[115, 0, 0], [0, 55, 0], [0, 0, 90]]</td>\n",
       "      <td>None</td>\n",
       "      <td>None</td>\n",
       "      <td>None</td>\n",
       "    </tr>\n",
       "    <tr>\n",
       "      <th>0</th>\n",
       "      <td>XGBClassifier(objective='multi:softprob')</td>\n",
       "      <td>train</td>\n",
       "      <td>X_train</td>\n",
       "      <td>1.000000</td>\n",
       "      <td>1.000000</td>\n",
       "      <td>1.000000</td>\n",
       "      <td>1.000000</td>\n",
       "      <td>[[115, 0, 0], [0, 55, 0], [0, 0, 90]]</td>\n",
       "      <td>None</td>\n",
       "      <td>None</td>\n",
       "      <td>None</td>\n",
       "    </tr>\n",
       "    <tr>\n",
       "      <th>0</th>\n",
       "      <td>RandomForestClassifier()</td>\n",
       "      <td>train</td>\n",
       "      <td>X_train</td>\n",
       "      <td>1.000000</td>\n",
       "      <td>1.000000</td>\n",
       "      <td>1.000000</td>\n",
       "      <td>1.000000</td>\n",
       "      <td>[[115, 0, 0], [0, 55, 0], [0, 0, 90]]</td>\n",
       "      <td>None</td>\n",
       "      <td>None</td>\n",
       "      <td>None</td>\n",
       "    </tr>\n",
       "    <tr>\n",
       "      <th>0</th>\n",
       "      <td>ExtraTreeClassifier()</td>\n",
       "      <td>train</td>\n",
       "      <td>X_train</td>\n",
       "      <td>1.000000</td>\n",
       "      <td>1.000000</td>\n",
       "      <td>1.000000</td>\n",
       "      <td>1.000000</td>\n",
       "      <td>[[115, 0, 0], [0, 55, 0], [0, 0, 90]]</td>\n",
       "      <td>None</td>\n",
       "      <td>None</td>\n",
       "      <td>None</td>\n",
       "    </tr>\n",
       "    <tr>\n",
       "      <th>0</th>\n",
       "      <td>VotingClassifier(estimators=[('lr', LogisticRe...</td>\n",
       "      <td>train</td>\n",
       "      <td>X_train</td>\n",
       "      <td>1.000000</td>\n",
       "      <td>1.000000</td>\n",
       "      <td>1.000000</td>\n",
       "      <td>1.000000</td>\n",
       "      <td>[[115, 0, 0], [0, 55, 0], [0, 0, 90]]</td>\n",
       "      <td>None</td>\n",
       "      <td>None</td>\n",
       "      <td>None</td>\n",
       "    </tr>\n",
       "    <tr>\n",
       "      <th>0</th>\n",
       "      <td>RidgeClassifier()</td>\n",
       "      <td>train</td>\n",
       "      <td>X_train</td>\n",
       "      <td>0.996154</td>\n",
       "      <td>0.996223</td>\n",
       "      <td>0.996154</td>\n",
       "      <td>0.996163</td>\n",
       "      <td>[[114, 1, 0], [0, 55, 0], [0, 0, 90]]</td>\n",
       "      <td>None</td>\n",
       "      <td>None</td>\n",
       "      <td>None</td>\n",
       "    </tr>\n",
       "    <tr>\n",
       "      <th>0</th>\n",
       "      <td>KNeighborsClassifier()</td>\n",
       "      <td>train</td>\n",
       "      <td>X_train</td>\n",
       "      <td>0.996154</td>\n",
       "      <td>0.996223</td>\n",
       "      <td>0.996154</td>\n",
       "      <td>0.996163</td>\n",
       "      <td>[[114, 1, 0], [0, 55, 0], [0, 0, 90]]</td>\n",
       "      <td>None</td>\n",
       "      <td>None</td>\n",
       "      <td>None</td>\n",
       "    </tr>\n",
       "    <tr>\n",
       "      <th>0</th>\n",
       "      <td>BaggingClassifier(base_estimator=KNeighborsCla...</td>\n",
       "      <td>train</td>\n",
       "      <td>X_train</td>\n",
       "      <td>0.996154</td>\n",
       "      <td>0.996223</td>\n",
       "      <td>0.996154</td>\n",
       "      <td>0.996163</td>\n",
       "      <td>[[114, 1, 0], [0, 55, 0], [0, 0, 90]]</td>\n",
       "      <td>None</td>\n",
       "      <td>None</td>\n",
       "      <td>None</td>\n",
       "    </tr>\n",
       "    <tr>\n",
       "      <th>0</th>\n",
       "      <td>BaggingClassifier(base_estimator=SVC())</td>\n",
       "      <td>train</td>\n",
       "      <td>X_train</td>\n",
       "      <td>0.996154</td>\n",
       "      <td>0.996223</td>\n",
       "      <td>0.996154</td>\n",
       "      <td>0.996163</td>\n",
       "      <td>[[114, 1, 0], [0, 55, 0], [0, 0, 90]]</td>\n",
       "      <td>None</td>\n",
       "      <td>None</td>\n",
       "      <td>None</td>\n",
       "    </tr>\n",
       "    <tr>\n",
       "      <th>0</th>\n",
       "      <td>XGBRFClassifier(objective='multi:softprob')</td>\n",
       "      <td>train</td>\n",
       "      <td>X_train</td>\n",
       "      <td>0.996154</td>\n",
       "      <td>0.996223</td>\n",
       "      <td>0.996154</td>\n",
       "      <td>0.996163</td>\n",
       "      <td>[[114, 1, 0], [0, 55, 0], [0, 0, 90]]</td>\n",
       "      <td>None</td>\n",
       "      <td>None</td>\n",
       "      <td>None</td>\n",
       "    </tr>\n",
       "    <tr>\n",
       "      <th>0</th>\n",
       "      <td>MLPClassifier()</td>\n",
       "      <td>train</td>\n",
       "      <td>X_train</td>\n",
       "      <td>0.996154</td>\n",
       "      <td>0.996223</td>\n",
       "      <td>0.996154</td>\n",
       "      <td>0.996163</td>\n",
       "      <td>[[114, 1, 0], [0, 55, 0], [0, 0, 90]]</td>\n",
       "      <td>None</td>\n",
       "      <td>None</td>\n",
       "      <td>None</td>\n",
       "    </tr>\n",
       "    <tr>\n",
       "      <th>0</th>\n",
       "      <td>AdaBoostClassifier()</td>\n",
       "      <td>train</td>\n",
       "      <td>X_train</td>\n",
       "      <td>0.961538</td>\n",
       "      <td>0.964615</td>\n",
       "      <td>0.961538</td>\n",
       "      <td>0.960417</td>\n",
       "      <td>[[115, 0, 0], [10, 45, 0], [0, 0, 90]]</td>\n",
       "      <td>None</td>\n",
       "      <td>None</td>\n",
       "      <td>None</td>\n",
       "    </tr>\n",
       "    <tr>\n",
       "      <th>0</th>\n",
       "      <td>BaggingClassifier(base_estimator=ExtraTreeClas...</td>\n",
       "      <td>train</td>\n",
       "      <td>X_train</td>\n",
       "      <td>0.926923</td>\n",
       "      <td>0.929545</td>\n",
       "      <td>0.926923</td>\n",
       "      <td>0.927700</td>\n",
       "      <td>[[103, 12, 0], [7, 48, 0], [0, 0, 90]]</td>\n",
       "      <td>None</td>\n",
       "      <td>None</td>\n",
       "      <td>None</td>\n",
       "    </tr>\n",
       "    <tr>\n",
       "      <th>0</th>\n",
       "      <td>Train Majority Class</td>\n",
       "      <td>train</td>\n",
       "      <td>X_train</td>\n",
       "      <td>0.442308</td>\n",
       "      <td>0.195636</td>\n",
       "      <td>0.442308</td>\n",
       "      <td>0.271282</td>\n",
       "      <td>[[115, 0, 0], [55, 0, 0], [90, 0, 0]]</td>\n",
       "      <td>None</td>\n",
       "      <td>None</td>\n",
       "      <td>None</td>\n",
       "    </tr>\n",
       "  </tbody>\n",
       "</table>\n",
       "</div>\n",
       "      <button class=\"colab-df-convert\" onclick=\"convertToInteractive('df-781c1315-62bc-45a0-af97-a3ee45e00493')\"\n",
       "              title=\"Convert this dataframe to an interactive table.\"\n",
       "              style=\"display:none;\">\n",
       "        \n",
       "  <svg xmlns=\"http://www.w3.org/2000/svg\" height=\"24px\"viewBox=\"0 0 24 24\"\n",
       "       width=\"24px\">\n",
       "    <path d=\"M0 0h24v24H0V0z\" fill=\"none\"/>\n",
       "    <path d=\"M18.56 5.44l.94 2.06.94-2.06 2.06-.94-2.06-.94-.94-2.06-.94 2.06-2.06.94zm-11 1L8.5 8.5l.94-2.06 2.06-.94-2.06-.94L8.5 2.5l-.94 2.06-2.06.94zm10 10l.94 2.06.94-2.06 2.06-.94-2.06-.94-.94-2.06-.94 2.06-2.06.94z\"/><path d=\"M17.41 7.96l-1.37-1.37c-.4-.4-.92-.59-1.43-.59-.52 0-1.04.2-1.43.59L10.3 9.45l-7.72 7.72c-.78.78-.78 2.05 0 2.83L4 21.41c.39.39.9.59 1.41.59.51 0 1.02-.2 1.41-.59l7.78-7.78 2.81-2.81c.8-.78.8-2.07 0-2.86zM5.41 20L4 18.59l7.72-7.72 1.47 1.35L5.41 20z\"/>\n",
       "  </svg>\n",
       "      </button>\n",
       "      \n",
       "  <style>\n",
       "    .colab-df-container {\n",
       "      display:flex;\n",
       "      flex-wrap:wrap;\n",
       "      gap: 12px;\n",
       "    }\n",
       "\n",
       "    .colab-df-convert {\n",
       "      background-color: #E8F0FE;\n",
       "      border: none;\n",
       "      border-radius: 50%;\n",
       "      cursor: pointer;\n",
       "      display: none;\n",
       "      fill: #1967D2;\n",
       "      height: 32px;\n",
       "      padding: 0 0 0 0;\n",
       "      width: 32px;\n",
       "    }\n",
       "\n",
       "    .colab-df-convert:hover {\n",
       "      background-color: #E2EBFA;\n",
       "      box-shadow: 0px 1px 2px rgba(60, 64, 67, 0.3), 0px 1px 3px 1px rgba(60, 64, 67, 0.15);\n",
       "      fill: #174EA6;\n",
       "    }\n",
       "\n",
       "    [theme=dark] .colab-df-convert {\n",
       "      background-color: #3B4455;\n",
       "      fill: #D2E3FC;\n",
       "    }\n",
       "\n",
       "    [theme=dark] .colab-df-convert:hover {\n",
       "      background-color: #434B5C;\n",
       "      box-shadow: 0px 1px 3px 1px rgba(0, 0, 0, 0.15);\n",
       "      filter: drop-shadow(0px 1px 2px rgba(0, 0, 0, 0.3));\n",
       "      fill: #FFFFFF;\n",
       "    }\n",
       "  </style>\n",
       "\n",
       "      <script>\n",
       "        const buttonEl =\n",
       "          document.querySelector('#df-781c1315-62bc-45a0-af97-a3ee45e00493 button.colab-df-convert');\n",
       "        buttonEl.style.display =\n",
       "          google.colab.kernel.accessAllowed ? 'block' : 'none';\n",
       "\n",
       "        async function convertToInteractive(key) {\n",
       "          const element = document.querySelector('#df-781c1315-62bc-45a0-af97-a3ee45e00493');\n",
       "          const dataTable =\n",
       "            await google.colab.kernel.invokeFunction('convertToInteractive',\n",
       "                                                     [key], {});\n",
       "          if (!dataTable) return;\n",
       "\n",
       "          const docLinkHtml = 'Like what you see? Visit the ' +\n",
       "            '<a target=\"_blank\" href=https://colab.research.google.com/notebooks/data_table.ipynb>data table notebook</a>'\n",
       "            + ' to learn more about interactive tables.';\n",
       "          element.innerHTML = '';\n",
       "          dataTable['output_type'] = 'display_data';\n",
       "          await google.colab.output.renderOutput(dataTable, element);\n",
       "          const docLink = document.createElement('div');\n",
       "          docLink.innerHTML = docLinkHtml;\n",
       "          element.appendChild(docLink);\n",
       "        }\n",
       "      </script>\n",
       "    </div>\n",
       "  </div>\n",
       "  "
      ],
      "text/plain": [
       "                                          model_type train_or_test  dataset  \\\n",
       "0                             KNeighborsClassifier()      validate    X_val   \n",
       "0  BaggingClassifier(base_estimator=KNeighborsCla...      validate    X_val   \n",
       "0  BaggingClassifier(base_estimator=ExtraTreeClas...      validate    X_val   \n",
       "0                                    MLPClassifier()      validate    X_val   \n",
       "0                               LogisticRegression()      validate    X_val   \n",
       "0                                  RidgeClassifier()      validate    X_val   \n",
       "0                                    SGDClassifier()      validate    X_val   \n",
       "0                           DecisionTreeClassifier()      validate    X_val   \n",
       "0            BaggingClassifier(base_estimator=SVC())      validate    X_val   \n",
       "0  BaggingClassifier(base_estimator=DecisionTreeC...      validate    X_val   \n",
       "0                       GradientBoostingClassifier()      validate    X_val   \n",
       "0                                   LGBMClassifier()      validate    X_val   \n",
       "0          XGBClassifier(objective='multi:softprob')      validate    X_val   \n",
       "0        XGBRFClassifier(objective='multi:softprob')      validate    X_val   \n",
       "0                           RandomForestClassifier()      validate    X_val   \n",
       "0                              ExtraTreeClassifier()      validate    X_val   \n",
       "0  VotingClassifier(estimators=[('lr', LogisticRe...      validate    X_val   \n",
       "0                               AdaBoostClassifier()      validate    X_val   \n",
       "0  BaggingClassifier(base_estimator=ExtraTreeClas...      validate    X_val   \n",
       "0                            Validate Majority Class      validate    X_val   \n",
       "0                               LogisticRegression()         train  X_train   \n",
       "0                                    SGDClassifier()         train  X_train   \n",
       "0                           DecisionTreeClassifier()         train  X_train   \n",
       "0  BaggingClassifier(base_estimator=DecisionTreeC...         train  X_train   \n",
       "0  BaggingClassifier(base_estimator=ExtraTreeClas...         train  X_train   \n",
       "0                       GradientBoostingClassifier()         train  X_train   \n",
       "0                                   LGBMClassifier()         train  X_train   \n",
       "0          XGBClassifier(objective='multi:softprob')         train  X_train   \n",
       "0                           RandomForestClassifier()         train  X_train   \n",
       "0                              ExtraTreeClassifier()         train  X_train   \n",
       "0  VotingClassifier(estimators=[('lr', LogisticRe...         train  X_train   \n",
       "0                                  RidgeClassifier()         train  X_train   \n",
       "0                             KNeighborsClassifier()         train  X_train   \n",
       "0  BaggingClassifier(base_estimator=KNeighborsCla...         train  X_train   \n",
       "0            BaggingClassifier(base_estimator=SVC())         train  X_train   \n",
       "0        XGBRFClassifier(objective='multi:softprob')         train  X_train   \n",
       "0                                    MLPClassifier()         train  X_train   \n",
       "0                               AdaBoostClassifier()         train  X_train   \n",
       "0  BaggingClassifier(base_estimator=ExtraTreeClas...         train  X_train   \n",
       "0                               Train Majority Class         train  X_train   \n",
       "\n",
       "   accuracy  precision    recall  f1_score  \\\n",
       "0  1.000000   1.000000  1.000000  1.000000   \n",
       "0  1.000000   1.000000  1.000000  1.000000   \n",
       "0  1.000000   1.000000  1.000000  1.000000   \n",
       "0  1.000000   1.000000  1.000000  1.000000   \n",
       "0  0.968750   0.970588  0.968750  0.968304   \n",
       "0  0.968750   0.970588  0.968750  0.968304   \n",
       "0  0.968750   0.970588  0.968750  0.968304   \n",
       "0  0.968750   0.970588  0.968750  0.968304   \n",
       "0  0.968750   0.970588  0.968750  0.968304   \n",
       "0  0.968750   0.970588  0.968750  0.968304   \n",
       "0  0.968750   0.970588  0.968750  0.968304   \n",
       "0  0.968750   0.970588  0.968750  0.968304   \n",
       "0  0.968750   0.970588  0.968750  0.968304   \n",
       "0  0.968750   0.970588  0.968750  0.968304   \n",
       "0  0.968750   0.970588  0.968750  0.968304   \n",
       "0  0.968750   0.970588  0.968750  0.968304   \n",
       "0  0.968750   0.970588  0.968750  0.968304   \n",
       "0  0.906250   0.921053  0.906250  0.905160   \n",
       "0  0.718750   0.712316  0.718750  0.714739   \n",
       "0  0.500000   0.250000  0.500000  0.333333   \n",
       "0  1.000000   1.000000  1.000000  1.000000   \n",
       "0  1.000000   1.000000  1.000000  1.000000   \n",
       "0  1.000000   1.000000  1.000000  1.000000   \n",
       "0  1.000000   1.000000  1.000000  1.000000   \n",
       "0  1.000000   1.000000  1.000000  1.000000   \n",
       "0  1.000000   1.000000  1.000000  1.000000   \n",
       "0  1.000000   1.000000  1.000000  1.000000   \n",
       "0  1.000000   1.000000  1.000000  1.000000   \n",
       "0  1.000000   1.000000  1.000000  1.000000   \n",
       "0  1.000000   1.000000  1.000000  1.000000   \n",
       "0  1.000000   1.000000  1.000000  1.000000   \n",
       "0  0.996154   0.996223  0.996154  0.996163   \n",
       "0  0.996154   0.996223  0.996154  0.996163   \n",
       "0  0.996154   0.996223  0.996154  0.996163   \n",
       "0  0.996154   0.996223  0.996154  0.996163   \n",
       "0  0.996154   0.996223  0.996154  0.996163   \n",
       "0  0.996154   0.996223  0.996154  0.996163   \n",
       "0  0.961538   0.964615  0.961538  0.960417   \n",
       "0  0.926923   0.929545  0.926923  0.927700   \n",
       "0  0.442308   0.195636  0.442308  0.271282   \n",
       "\n",
       "                         confusion_matrix mean_squared_error  \\\n",
       "0      [[16, 0, 0], [0, 9, 0], [0, 0, 7]]               None   \n",
       "0      [[16, 0, 0], [0, 9, 0], [0, 0, 7]]               None   \n",
       "0      [[16, 0, 0], [0, 9, 0], [0, 0, 7]]               None   \n",
       "0      [[16, 0, 0], [0, 9, 0], [0, 0, 7]]               None   \n",
       "0      [[16, 0, 0], [1, 8, 0], [0, 0, 7]]               None   \n",
       "0      [[16, 0, 0], [1, 8, 0], [0, 0, 7]]               None   \n",
       "0      [[16, 0, 0], [1, 8, 0], [0, 0, 7]]               None   \n",
       "0      [[16, 0, 0], [1, 8, 0], [0, 0, 7]]               None   \n",
       "0      [[16, 0, 0], [1, 8, 0], [0, 0, 7]]               None   \n",
       "0      [[16, 0, 0], [1, 8, 0], [0, 0, 7]]               None   \n",
       "0      [[16, 0, 0], [1, 8, 0], [0, 0, 7]]               None   \n",
       "0      [[16, 0, 0], [1, 8, 0], [0, 0, 7]]               None   \n",
       "0      [[16, 0, 0], [1, 8, 0], [0, 0, 7]]               None   \n",
       "0      [[16, 0, 0], [1, 8, 0], [0, 0, 7]]               None   \n",
       "0      [[16, 0, 0], [1, 8, 0], [0, 0, 7]]               None   \n",
       "0      [[16, 0, 0], [1, 8, 0], [0, 0, 7]]               None   \n",
       "0      [[16, 0, 0], [1, 8, 0], [0, 0, 7]]               None   \n",
       "0      [[16, 0, 0], [2, 7, 0], [1, 0, 6]]               None   \n",
       "0      [[12, 4, 0], [5, 4, 0], [0, 0, 7]]               None   \n",
       "0      [[16, 0, 0], [9, 0, 0], [7, 0, 0]]               None   \n",
       "0   [[115, 0, 0], [0, 55, 0], [0, 0, 90]]               None   \n",
       "0   [[115, 0, 0], [0, 55, 0], [0, 0, 90]]               None   \n",
       "0   [[115, 0, 0], [0, 55, 0], [0, 0, 90]]               None   \n",
       "0   [[115, 0, 0], [0, 55, 0], [0, 0, 90]]               None   \n",
       "0   [[115, 0, 0], [0, 55, 0], [0, 0, 90]]               None   \n",
       "0   [[115, 0, 0], [0, 55, 0], [0, 0, 90]]               None   \n",
       "0   [[115, 0, 0], [0, 55, 0], [0, 0, 90]]               None   \n",
       "0   [[115, 0, 0], [0, 55, 0], [0, 0, 90]]               None   \n",
       "0   [[115, 0, 0], [0, 55, 0], [0, 0, 90]]               None   \n",
       "0   [[115, 0, 0], [0, 55, 0], [0, 0, 90]]               None   \n",
       "0   [[115, 0, 0], [0, 55, 0], [0, 0, 90]]               None   \n",
       "0   [[114, 1, 0], [0, 55, 0], [0, 0, 90]]               None   \n",
       "0   [[114, 1, 0], [0, 55, 0], [0, 0, 90]]               None   \n",
       "0   [[114, 1, 0], [0, 55, 0], [0, 0, 90]]               None   \n",
       "0   [[114, 1, 0], [0, 55, 0], [0, 0, 90]]               None   \n",
       "0   [[114, 1, 0], [0, 55, 0], [0, 0, 90]]               None   \n",
       "0   [[114, 1, 0], [0, 55, 0], [0, 0, 90]]               None   \n",
       "0  [[115, 0, 0], [10, 45, 0], [0, 0, 90]]               None   \n",
       "0  [[103, 12, 0], [7, 48, 0], [0, 0, 90]]               None   \n",
       "0   [[115, 0, 0], [55, 0, 0], [90, 0, 0]]               None   \n",
       "\n",
       "  mean_absolute_error mean_absolute_percentage_error  \n",
       "0                None                           None  \n",
       "0                None                           None  \n",
       "0                None                           None  \n",
       "0                None                           None  \n",
       "0                None                           None  \n",
       "0                None                           None  \n",
       "0                None                           None  \n",
       "0                None                           None  \n",
       "0                None                           None  \n",
       "0                None                           None  \n",
       "0                None                           None  \n",
       "0                None                           None  \n",
       "0                None                           None  \n",
       "0                None                           None  \n",
       "0                None                           None  \n",
       "0                None                           None  \n",
       "0                None                           None  \n",
       "0                None                           None  \n",
       "0                None                           None  \n",
       "0                None                           None  \n",
       "0                None                           None  \n",
       "0                None                           None  \n",
       "0                None                           None  \n",
       "0                None                           None  \n",
       "0                None                           None  \n",
       "0                None                           None  \n",
       "0                None                           None  \n",
       "0                None                           None  \n",
       "0                None                           None  \n",
       "0                None                           None  \n",
       "0                None                           None  \n",
       "0                None                           None  \n",
       "0                None                           None  \n",
       "0                None                           None  \n",
       "0                None                           None  \n",
       "0                None                           None  \n",
       "0                None                           None  \n",
       "0                None                           None  \n",
       "0                None                           None  \n",
       "0                None                           None  "
      ]
     },
     "execution_count": 1098,
     "metadata": {},
     "output_type": "execute_result"
    }
   ],
   "source": [
    "model_tracker.sort_values(by=[\"train_or_test\", \"accuracy\"], ascending=False)"
   ]
  },
  {
   "cell_type": "markdown",
   "metadata": {
    "id": "GxAQHMZEMjAt"
   },
   "source": [
    "#### Error Analysis"
   ]
  },
  {
   "cell_type": "markdown",
   "metadata": {
    "id": "g_hf_vSTi0Wr"
   },
   "source": [
    "##### Compare Predicted Labels to Actual Labels"
   ]
  },
  {
   "cell_type": "code",
   "execution_count": null,
   "metadata": {
    "colab": {
     "base_uri": "https://localhost:8080/",
     "height": 476
    },
    "id": "ZVMbLl3qiil_",
    "outputId": "eac7aa41-b492-4683-b8b5-dfa76c1dfbc8"
   },
   "outputs": [
    {
     "data": {
      "image/png": "[encoded data removed]",
      "text/plain": [
       "<Figure size 1152x576 with 4 Axes>"
      ]
     },
     "metadata": {
      "needs_background": "light"
     },
     "output_type": "display_data"
    }
   ],
   "source": [
    "fig, (axs1, axs2) = plt.subplots(1, 2, figsize=(16, 8))\n",
    "ConfusionMatrixDisplay.from_estimator(lr_model, X_val, y_val, ax=axs1)\n",
    "ConfusionMatrixDisplay.from_estimator(xgb_model, X_val, y_val, ax=axs2)\n",
    "axs1.set_title(\"Logistic Regression Baseline\")\n",
    "axs2.set_title(\"LGBM\")\n",
    "plt.show()"
   ]
  },
  {
   "cell_type": "markdown",
   "metadata": {
    "id": "bnVRrQMM7YNx"
   },
   "source": [
    "###### Review Errors"
   ]
  },
  {
   "cell_type": "code",
   "execution_count": null,
   "metadata": {
    "id": "tjpuK_Ij1mTW"
   },
   "outputs": [
    {
     "ename": "NameError",
     "evalue": "name 'xgb_model' is not defined",
     "output_type": "error",
     "traceback": [
      "\u001b[0;31m---------------------------------------------------------------------------\u001b[0m",
      "\u001b[0;31mNameError\u001b[0m                                 Traceback (most recent call last)",
      "\u001b[1;32m/Users/emekdahl/dev/machine_learning_template/machine_learning_classification_template.ipynb Cell 162'\u001b[0m in \u001b[0;36m<cell line: 1>\u001b[0;34m()\u001b[0m\n\u001b[0;32m----> <a href='vscode-notebook-cell:/Users/emekdahl/dev/machine_learning_template/machine_learning_classification_template.ipynb#ch0000161?line=0'>1</a>\u001b[0m y_val_pred \u001b[39m=\u001b[39m xgb_model\u001b[39m.\u001b[39mpredict(X_val)\n\u001b[1;32m      <a href='vscode-notebook-cell:/Users/emekdahl/dev/machine_learning_template/machine_learning_classification_template.ipynb#ch0000161?line=1'>2</a>\u001b[0m actuals \u001b[39m=\u001b[39m pd\u001b[39m.\u001b[39mDataFrame(y_val\u001b[39m.\u001b[39mravel(), columns\u001b[39m=\u001b[39m[\u001b[39m\"\u001b[39m\u001b[39mactuals\u001b[39m\u001b[39m\"\u001b[39m])\n\u001b[1;32m      <a href='vscode-notebook-cell:/Users/emekdahl/dev/machine_learning_template/machine_learning_classification_template.ipynb#ch0000161?line=2'>3</a>\u001b[0m review \u001b[39m=\u001b[39m X_val\u001b[39m.\u001b[39massign(predictions\u001b[39m=\u001b[39my_val_pred)\n",
      "\u001b[0;31mNameError\u001b[0m: name 'xgb_model' is not defined"
     ]
    }
   ],
   "source": [
    "y_val_pred = xgb_model.predict(X_val)\n",
    "actuals = pd.DataFrame(y_val.ravel(), columns=[\"actuals\"])\n",
    "review = X_val.assign(predictions=y_val_pred)\n",
    "review = review.assign(actuals=y_val.ravel())\n",
    "review_mismatches = review[review[\"actuals\"] != review[\"predictions\"]]\n",
    "review_matches = review[review[\"actuals\"] == review[\"predictions\"]]"
   ]
  },
  {
   "cell_type": "code",
   "execution_count": null,
   "metadata": {
    "colab": {
     "base_uri": "https://localhost:8080/",
     "height": 113
    },
    "id": "m6lLwI657l_l",
    "outputId": "94733ee2-7a8f-492c-bdb1-06d6129b3e40"
   },
   "outputs": [
    {
     "data": {
      "text/html": [
       "\n",
       "  <div id=\"df-b3acedd1-219e-4e6a-843a-221463a7b6c7\">\n",
       "    <div class=\"colab-df-container\">\n",
       "      <div>\n",
       "<style scoped>\n",
       "    .dataframe tbody tr th:only-of-type {\n",
       "        vertical-align: middle;\n",
       "    }\n",
       "\n",
       "    .dataframe tbody tr th {\n",
       "        vertical-align: top;\n",
       "    }\n",
       "\n",
       "    .dataframe thead th {\n",
       "        text-align: right;\n",
       "    }\n",
       "</style>\n",
       "<table border=\"1\" class=\"dataframe\">\n",
       "  <thead>\n",
       "    <tr style=\"text-align: right;\">\n",
       "      <th></th>\n",
       "      <th>culmen_length_mm</th>\n",
       "      <th>culmen_depth_mm</th>\n",
       "      <th>flipper_length_mm</th>\n",
       "      <th>body_mass_g</th>\n",
       "      <th>island_Biscoe</th>\n",
       "      <th>island_Dream</th>\n",
       "      <th>island_Torgersen</th>\n",
       "      <th>sex_FEMALE</th>\n",
       "      <th>sex_MALE</th>\n",
       "      <th>predictions</th>\n",
       "      <th>actuals</th>\n",
       "    </tr>\n",
       "  </thead>\n",
       "  <tbody>\n",
       "  </tbody>\n",
       "</table>\n",
       "</div>\n",
       "      <button class=\"colab-df-convert\" onclick=\"convertToInteractive('df-b3acedd1-219e-4e6a-843a-221463a7b6c7')\"\n",
       "              title=\"Convert this dataframe to an interactive table.\"\n",
       "              style=\"display:none;\">\n",
       "        \n",
       "  <svg xmlns=\"http://www.w3.org/2000/svg\" height=\"24px\"viewBox=\"0 0 24 24\"\n",
       "       width=\"24px\">\n",
       "    <path d=\"M0 0h24v24H0V0z\" fill=\"none\"/>\n",
       "    <path d=\"M18.56 5.44l.94 2.06.94-2.06 2.06-.94-2.06-.94-.94-2.06-.94 2.06-2.06.94zm-11 1L8.5 8.5l.94-2.06 2.06-.94-2.06-.94L8.5 2.5l-.94 2.06-2.06.94zm10 10l.94 2.06.94-2.06 2.06-.94-2.06-.94-.94-2.06-.94 2.06-2.06.94z\"/><path d=\"M17.41 7.96l-1.37-1.37c-.4-.4-.92-.59-1.43-.59-.52 0-1.04.2-1.43.59L10.3 9.45l-7.72 7.72c-.78.78-.78 2.05 0 2.83L4 21.41c.39.39.9.59 1.41.59.51 0 1.02-.2 1.41-.59l7.78-7.78 2.81-2.81c.8-.78.8-2.07 0-2.86zM5.41 20L4 18.59l7.72-7.72 1.47 1.35L5.41 20z\"/>\n",
       "  </svg>\n",
       "      </button>\n",
       "      \n",
       "  <style>\n",
       "    .colab-df-container {\n",
       "      display:flex;\n",
       "      flex-wrap:wrap;\n",
       "      gap: 12px;\n",
       "    }\n",
       "\n",
       "    .colab-df-convert {\n",
       "      background-color: #E8F0FE;\n",
       "      border: none;\n",
       "      border-radius: 50%;\n",
       "      cursor: pointer;\n",
       "      display: none;\n",
       "      fill: #1967D2;\n",
       "      height: 32px;\n",
       "      padding: 0 0 0 0;\n",
       "      width: 32px;\n",
       "    }\n",
       "\n",
       "    .colab-df-convert:hover {\n",
       "      background-color: #E2EBFA;\n",
       "      box-shadow: 0px 1px 2px rgba(60, 64, 67, 0.3), 0px 1px 3px 1px rgba(60, 64, 67, 0.15);\n",
       "      fill: #174EA6;\n",
       "    }\n",
       "\n",
       "    [theme=dark] .colab-df-convert {\n",
       "      background-color: #3B4455;\n",
       "      fill: #D2E3FC;\n",
       "    }\n",
       "\n",
       "    [theme=dark] .colab-df-convert:hover {\n",
       "      background-color: #434B5C;\n",
       "      box-shadow: 0px 1px 3px 1px rgba(0, 0, 0, 0.15);\n",
       "      filter: drop-shadow(0px 1px 2px rgba(0, 0, 0, 0.3));\n",
       "      fill: #FFFFFF;\n",
       "    }\n",
       "  </style>\n",
       "\n",
       "      <script>\n",
       "        const buttonEl =\n",
       "          document.querySelector('#df-b3acedd1-219e-4e6a-843a-221463a7b6c7 button.colab-df-convert');\n",
       "        buttonEl.style.display =\n",
       "          google.colab.kernel.accessAllowed ? 'block' : 'none';\n",
       "\n",
       "        async function convertToInteractive(key) {\n",
       "          const element = document.querySelector('#df-b3acedd1-219e-4e6a-843a-221463a7b6c7');\n",
       "          const dataTable =\n",
       "            await google.colab.kernel.invokeFunction('convertToInteractive',\n",
       "                                                     [key], {});\n",
       "          if (!dataTable) return;\n",
       "\n",
       "          const docLinkHtml = 'Like what you see? Visit the ' +\n",
       "            '<a target=\"_blank\" href=https://colab.research.google.com/notebooks/data_table.ipynb>data table notebook</a>'\n",
       "            + ' to learn more about interactive tables.';\n",
       "          element.innerHTML = '';\n",
       "          dataTable['output_type'] = 'display_data';\n",
       "          await google.colab.output.renderOutput(dataTable, element);\n",
       "          const docLink = document.createElement('div');\n",
       "          docLink.innerHTML = docLinkHtml;\n",
       "          element.appendChild(docLink);\n",
       "        }\n",
       "      </script>\n",
       "    </div>\n",
       "  </div>\n",
       "  "
      ],
      "text/plain": [
       "Empty DataFrame\n",
       "Columns: [culmen_length_mm, culmen_depth_mm, flipper_length_mm, body_mass_g, island_Biscoe, island_Dream, island_Torgersen, sex_FEMALE, sex_MALE, predictions, actuals]\n",
       "Index: []"
      ]
     },
     "execution_count": 1147,
     "metadata": {},
     "output_type": "execute_result"
    }
   ],
   "source": [
    "review_mismatches"
   ]
  },
  {
   "cell_type": "code",
   "execution_count": null,
   "metadata": {
    "colab": {
     "base_uri": "https://localhost:8080/",
     "height": 1000
    },
    "id": "uuvimKr07pvP",
    "outputId": "95d5773d-aa47-4df5-e687-ba66b329fe8f"
   },
   "outputs": [
    {
     "data": {
      "text/html": [
       "\n",
       "  <div id=\"df-48e52fa3-0d90-45f1-b365-e7c2b0cdb175\">\n",
       "    <div class=\"colab-df-container\">\n",
       "      <div>\n",
       "<style scoped>\n",
       "    .dataframe tbody tr th:only-of-type {\n",
       "        vertical-align: middle;\n",
       "    }\n",
       "\n",
       "    .dataframe tbody tr th {\n",
       "        vertical-align: top;\n",
       "    }\n",
       "\n",
       "    .dataframe thead th {\n",
       "        text-align: right;\n",
       "    }\n",
       "</style>\n",
       "<table border=\"1\" class=\"dataframe\">\n",
       "  <thead>\n",
       "    <tr style=\"text-align: right;\">\n",
       "      <th></th>\n",
       "      <th>culmen_length_mm</th>\n",
       "      <th>culmen_depth_mm</th>\n",
       "      <th>flipper_length_mm</th>\n",
       "      <th>body_mass_g</th>\n",
       "      <th>island_Biscoe</th>\n",
       "      <th>island_Dream</th>\n",
       "      <th>island_Torgersen</th>\n",
       "      <th>sex_FEMALE</th>\n",
       "      <th>sex_MALE</th>\n",
       "      <th>predictions</th>\n",
       "      <th>actuals</th>\n",
       "    </tr>\n",
       "  </thead>\n",
       "  <tbody>\n",
       "    <tr>\n",
       "      <th>82</th>\n",
       "      <td>0.177606</td>\n",
       "      <td>0.678571</td>\n",
       "      <td>0.254237</td>\n",
       "      <td>0.354839</td>\n",
       "      <td>0</td>\n",
       "      <td>0</td>\n",
       "      <td>1</td>\n",
       "      <td>1</td>\n",
       "      <td>0</td>\n",
       "      <td>Adelie</td>\n",
       "      <td>Adelie</td>\n",
       "    </tr>\n",
       "    <tr>\n",
       "      <th>341</th>\n",
       "      <td>0.706564</td>\n",
       "      <td>0.309524</td>\n",
       "      <td>0.847458</td>\n",
       "      <td>0.983871</td>\n",
       "      <td>1</td>\n",
       "      <td>0</td>\n",
       "      <td>0</td>\n",
       "      <td>0</td>\n",
       "      <td>1</td>\n",
       "      <td>Gentoo</td>\n",
       "      <td>Gentoo</td>\n",
       "    </tr>\n",
       "    <tr>\n",
       "      <th>243</th>\n",
       "      <td>0.548263</td>\n",
       "      <td>0.321429</td>\n",
       "      <td>0.728814</td>\n",
       "      <td>0.758065</td>\n",
       "      <td>1</td>\n",
       "      <td>0</td>\n",
       "      <td>0</td>\n",
       "      <td>0</td>\n",
       "      <td>1</td>\n",
       "      <td>Gentoo</td>\n",
       "      <td>Gentoo</td>\n",
       "    </tr>\n",
       "    <tr>\n",
       "      <th>318</th>\n",
       "      <td>0.629344</td>\n",
       "      <td>0.154762</td>\n",
       "      <td>0.525424</td>\n",
       "      <td>0.620968</td>\n",
       "      <td>1</td>\n",
       "      <td>0</td>\n",
       "      <td>0</td>\n",
       "      <td>1</td>\n",
       "      <td>0</td>\n",
       "      <td>Gentoo</td>\n",
       "      <td>Gentoo</td>\n",
       "    </tr>\n",
       "    <tr>\n",
       "      <th>225</th>\n",
       "      <td>0.555985</td>\n",
       "      <td>0.047619</td>\n",
       "      <td>0.644068</td>\n",
       "      <td>0.596774</td>\n",
       "      <td>1</td>\n",
       "      <td>0</td>\n",
       "      <td>0</td>\n",
       "      <td>1</td>\n",
       "      <td>0</td>\n",
       "      <td>Gentoo</td>\n",
       "      <td>Gentoo</td>\n",
       "    </tr>\n",
       "    <tr>\n",
       "      <th>241</th>\n",
       "      <td>0.501931</td>\n",
       "      <td>0.166667</td>\n",
       "      <td>0.728814</td>\n",
       "      <td>0.741935</td>\n",
       "      <td>1</td>\n",
       "      <td>0</td>\n",
       "      <td>0</td>\n",
       "      <td>1</td>\n",
       "      <td>0</td>\n",
       "      <td>Gentoo</td>\n",
       "      <td>Gentoo</td>\n",
       "    </tr>\n",
       "    <tr>\n",
       "      <th>152</th>\n",
       "      <td>0.555985</td>\n",
       "      <td>0.571429</td>\n",
       "      <td>0.338983</td>\n",
       "      <td>0.258065</td>\n",
       "      <td>0</td>\n",
       "      <td>1</td>\n",
       "      <td>0</td>\n",
       "      <td>1</td>\n",
       "      <td>0</td>\n",
       "      <td>Chinstrap</td>\n",
       "      <td>Chinstrap</td>\n",
       "    </tr>\n",
       "    <tr>\n",
       "      <th>333</th>\n",
       "      <td>0.749035</td>\n",
       "      <td>0.380952</td>\n",
       "      <td>0.983051</td>\n",
       "      <td>0.903226</td>\n",
       "      <td>1</td>\n",
       "      <td>0</td>\n",
       "      <td>0</td>\n",
       "      <td>0</td>\n",
       "      <td>1</td>\n",
       "      <td>Gentoo</td>\n",
       "      <td>Gentoo</td>\n",
       "    </tr>\n",
       "    <tr>\n",
       "      <th>227</th>\n",
       "      <td>0.563707</td>\n",
       "      <td>0.261905</td>\n",
       "      <td>0.796610</td>\n",
       "      <td>0.806452</td>\n",
       "      <td>1</td>\n",
       "      <td>0</td>\n",
       "      <td>0</td>\n",
       "      <td>0</td>\n",
       "      <td>1</td>\n",
       "      <td>Gentoo</td>\n",
       "      <td>Gentoo</td>\n",
       "    </tr>\n",
       "    <tr>\n",
       "      <th>252</th>\n",
       "      <td>0.501931</td>\n",
       "      <td>0.166667</td>\n",
       "      <td>0.593220</td>\n",
       "      <td>0.758065</td>\n",
       "      <td>1</td>\n",
       "      <td>0</td>\n",
       "      <td>0</td>\n",
       "      <td>1</td>\n",
       "      <td>0</td>\n",
       "      <td>Gentoo</td>\n",
       "      <td>Gentoo</td>\n",
       "    </tr>\n",
       "    <tr>\n",
       "      <th>183</th>\n",
       "      <td>0.853282</td>\n",
       "      <td>0.916667</td>\n",
       "      <td>0.491525</td>\n",
       "      <td>0.516129</td>\n",
       "      <td>0</td>\n",
       "      <td>1</td>\n",
       "      <td>0</td>\n",
       "      <td>0</td>\n",
       "      <td>1</td>\n",
       "      <td>Chinstrap</td>\n",
       "      <td>Chinstrap</td>\n",
       "    </tr>\n",
       "    <tr>\n",
       "      <th>107</th>\n",
       "      <td>0.235521</td>\n",
       "      <td>0.821429</td>\n",
       "      <td>0.305085</td>\n",
       "      <td>0.387097</td>\n",
       "      <td>1</td>\n",
       "      <td>0</td>\n",
       "      <td>0</td>\n",
       "      <td>0</td>\n",
       "      <td>1</td>\n",
       "      <td>Adelie</td>\n",
       "      <td>Adelie</td>\n",
       "    </tr>\n",
       "    <tr>\n",
       "      <th>48</th>\n",
       "      <td>0.150579</td>\n",
       "      <td>0.571429</td>\n",
       "      <td>0.305085</td>\n",
       "      <td>0.241935</td>\n",
       "      <td>0</td>\n",
       "      <td>1</td>\n",
       "      <td>0</td>\n",
       "      <td>1</td>\n",
       "      <td>0</td>\n",
       "      <td>Adelie</td>\n",
       "      <td>Adelie</td>\n",
       "    </tr>\n",
       "    <tr>\n",
       "      <th>145</th>\n",
       "      <td>0.266409</td>\n",
       "      <td>0.666667</td>\n",
       "      <td>0.220339</td>\n",
       "      <td>0.306452</td>\n",
       "      <td>0</td>\n",
       "      <td>1</td>\n",
       "      <td>0</td>\n",
       "      <td>0</td>\n",
       "      <td>1</td>\n",
       "      <td>Adelie</td>\n",
       "      <td>Adelie</td>\n",
       "    </tr>\n",
       "    <tr>\n",
       "      <th>315</th>\n",
       "      <td>0.722008</td>\n",
       "      <td>0.309524</td>\n",
       "      <td>0.915254</td>\n",
       "      <td>0.806452</td>\n",
       "      <td>1</td>\n",
       "      <td>0</td>\n",
       "      <td>0</td>\n",
       "      <td>0</td>\n",
       "      <td>1</td>\n",
       "      <td>Gentoo</td>\n",
       "      <td>Gentoo</td>\n",
       "    </tr>\n",
       "    <tr>\n",
       "      <th>323</th>\n",
       "      <td>0.656371</td>\n",
       "      <td>0.226190</td>\n",
       "      <td>0.949153</td>\n",
       "      <td>0.903226</td>\n",
       "      <td>1</td>\n",
       "      <td>0</td>\n",
       "      <td>0</td>\n",
       "      <td>0</td>\n",
       "      <td>1</td>\n",
       "      <td>Gentoo</td>\n",
       "      <td>Gentoo</td>\n",
       "    </tr>\n",
       "    <tr>\n",
       "      <th>14</th>\n",
       "      <td>0.096525</td>\n",
       "      <td>0.952381</td>\n",
       "      <td>0.440678</td>\n",
       "      <td>0.548387</td>\n",
       "      <td>0</td>\n",
       "      <td>0</td>\n",
       "      <td>1</td>\n",
       "      <td>0</td>\n",
       "      <td>1</td>\n",
       "      <td>Adelie</td>\n",
       "      <td>Adelie</td>\n",
       "    </tr>\n",
       "    <tr>\n",
       "      <th>150</th>\n",
       "      <td>0.150579</td>\n",
       "      <td>0.476190</td>\n",
       "      <td>0.254237</td>\n",
       "      <td>0.322581</td>\n",
       "      <td>0</td>\n",
       "      <td>1</td>\n",
       "      <td>0</td>\n",
       "      <td>1</td>\n",
       "      <td>0</td>\n",
       "      <td>Adelie</td>\n",
       "      <td>Adelie</td>\n",
       "    </tr>\n",
       "    <tr>\n",
       "      <th>250</th>\n",
       "      <td>0.586873</td>\n",
       "      <td>0.261905</td>\n",
       "      <td>0.847458</td>\n",
       "      <td>0.822581</td>\n",
       "      <td>1</td>\n",
       "      <td>0</td>\n",
       "      <td>0</td>\n",
       "      <td>0</td>\n",
       "      <td>1</td>\n",
       "      <td>Gentoo</td>\n",
       "      <td>Gentoo</td>\n",
       "    </tr>\n",
       "    <tr>\n",
       "      <th>209</th>\n",
       "      <td>0.664093</td>\n",
       "      <td>0.809524</td>\n",
       "      <td>0.525424</td>\n",
       "      <td>0.435484</td>\n",
       "      <td>0</td>\n",
       "      <td>1</td>\n",
       "      <td>0</td>\n",
       "      <td>0</td>\n",
       "      <td>1</td>\n",
       "      <td>Chinstrap</td>\n",
       "      <td>Chinstrap</td>\n",
       "    </tr>\n",
       "    <tr>\n",
       "      <th>301</th>\n",
       "      <td>0.787645</td>\n",
       "      <td>0.297619</td>\n",
       "      <td>0.830508</td>\n",
       "      <td>0.887097</td>\n",
       "      <td>1</td>\n",
       "      <td>0</td>\n",
       "      <td>0</td>\n",
       "      <td>0</td>\n",
       "      <td>1</td>\n",
       "      <td>Gentoo</td>\n",
       "      <td>Gentoo</td>\n",
       "    </tr>\n",
       "    <tr>\n",
       "      <th>130</th>\n",
       "      <td>0.247104</td>\n",
       "      <td>0.571429</td>\n",
       "      <td>0.305085</td>\n",
       "      <td>0.201613</td>\n",
       "      <td>0</td>\n",
       "      <td>0</td>\n",
       "      <td>1</td>\n",
       "      <td>1</td>\n",
       "      <td>0</td>\n",
       "      <td>Adelie</td>\n",
       "      <td>Adelie</td>\n",
       "    </tr>\n",
       "    <tr>\n",
       "      <th>99</th>\n",
       "      <td>0.428571</td>\n",
       "      <td>0.642857</td>\n",
       "      <td>0.338983</td>\n",
       "      <td>0.451613</td>\n",
       "      <td>0</td>\n",
       "      <td>1</td>\n",
       "      <td>0</td>\n",
       "      <td>0</td>\n",
       "      <td>1</td>\n",
       "      <td>Adelie</td>\n",
       "      <td>Adelie</td>\n",
       "    </tr>\n",
       "    <tr>\n",
       "      <th>63</th>\n",
       "      <td>0.347490</td>\n",
       "      <td>0.607143</td>\n",
       "      <td>0.338983</td>\n",
       "      <td>0.435484</td>\n",
       "      <td>1</td>\n",
       "      <td>0</td>\n",
       "      <td>0</td>\n",
       "      <td>0</td>\n",
       "      <td>1</td>\n",
       "      <td>Adelie</td>\n",
       "      <td>Adelie</td>\n",
       "    </tr>\n",
       "    <tr>\n",
       "      <th>61</th>\n",
       "      <td>0.355212</td>\n",
       "      <td>0.952381</td>\n",
       "      <td>0.389831</td>\n",
       "      <td>0.548387</td>\n",
       "      <td>1</td>\n",
       "      <td>0</td>\n",
       "      <td>0</td>\n",
       "      <td>0</td>\n",
       "      <td>1</td>\n",
       "      <td>Adelie</td>\n",
       "      <td>Adelie</td>\n",
       "    </tr>\n",
       "    <tr>\n",
       "      <th>6</th>\n",
       "      <td>0.262548</td>\n",
       "      <td>0.559524</td>\n",
       "      <td>0.152542</td>\n",
       "      <td>0.298387</td>\n",
       "      <td>0</td>\n",
       "      <td>0</td>\n",
       "      <td>1</td>\n",
       "      <td>1</td>\n",
       "      <td>0</td>\n",
       "      <td>Adelie</td>\n",
       "      <td>Adelie</td>\n",
       "    </tr>\n",
       "    <tr>\n",
       "      <th>303</th>\n",
       "      <td>0.691120</td>\n",
       "      <td>0.333333</td>\n",
       "      <td>0.881356</td>\n",
       "      <td>0.854839</td>\n",
       "      <td>1</td>\n",
       "      <td>0</td>\n",
       "      <td>0</td>\n",
       "      <td>0</td>\n",
       "      <td>1</td>\n",
       "      <td>Gentoo</td>\n",
       "      <td>Gentoo</td>\n",
       "    </tr>\n",
       "    <tr>\n",
       "      <th>4</th>\n",
       "      <td>0.177606</td>\n",
       "      <td>0.738095</td>\n",
       "      <td>0.355932</td>\n",
       "      <td>0.241935</td>\n",
       "      <td>0</td>\n",
       "      <td>0</td>\n",
       "      <td>1</td>\n",
       "      <td>1</td>\n",
       "      <td>0</td>\n",
       "      <td>Adelie</td>\n",
       "      <td>Adelie</td>\n",
       "    </tr>\n",
       "    <tr>\n",
       "      <th>298</th>\n",
       "      <td>0.505792</td>\n",
       "      <td>0.083333</td>\n",
       "      <td>0.728814</td>\n",
       "      <td>0.661290</td>\n",
       "      <td>1</td>\n",
       "      <td>0</td>\n",
       "      <td>0</td>\n",
       "      <td>1</td>\n",
       "      <td>0</td>\n",
       "      <td>Gentoo</td>\n",
       "      <td>Gentoo</td>\n",
       "    </tr>\n",
       "    <tr>\n",
       "      <th>83</th>\n",
       "      <td>0.115830</td>\n",
       "      <td>0.750000</td>\n",
       "      <td>0.355932</td>\n",
       "      <td>0.483871</td>\n",
       "      <td>0</td>\n",
       "      <td>0</td>\n",
       "      <td>1</td>\n",
       "      <td>0</td>\n",
       "      <td>1</td>\n",
       "      <td>Adelie</td>\n",
       "      <td>Adelie</td>\n",
       "    </tr>\n",
       "    <tr>\n",
       "      <th>214</th>\n",
       "      <td>0.525097</td>\n",
       "      <td>0.464286</td>\n",
       "      <td>0.389831</td>\n",
       "      <td>0.306452</td>\n",
       "      <td>0</td>\n",
       "      <td>1</td>\n",
       "      <td>0</td>\n",
       "      <td>1</td>\n",
       "      <td>0</td>\n",
       "      <td>Chinstrap</td>\n",
       "      <td>Chinstrap</td>\n",
       "    </tr>\n",
       "    <tr>\n",
       "      <th>51</th>\n",
       "      <td>0.308880</td>\n",
       "      <td>0.690476</td>\n",
       "      <td>0.271186</td>\n",
       "      <td>0.516129</td>\n",
       "      <td>1</td>\n",
       "      <td>0</td>\n",
       "      <td>0</td>\n",
       "      <td>0</td>\n",
       "      <td>1</td>\n",
       "      <td>Adelie</td>\n",
       "      <td>Adelie</td>\n",
       "    </tr>\n",
       "    <tr>\n",
       "      <th>66</th>\n",
       "      <td>0.131274</td>\n",
       "      <td>0.369048</td>\n",
       "      <td>0.389831</td>\n",
       "      <td>0.209677</td>\n",
       "      <td>1</td>\n",
       "      <td>0</td>\n",
       "      <td>0</td>\n",
       "      <td>1</td>\n",
       "      <td>0</td>\n",
       "      <td>Adelie</td>\n",
       "      <td>Adelie</td>\n",
       "    </tr>\n",
       "  </tbody>\n",
       "</table>\n",
       "</div>\n",
       "      <button class=\"colab-df-convert\" onclick=\"convertToInteractive('df-48e52fa3-0d90-45f1-b365-e7c2b0cdb175')\"\n",
       "              title=\"Convert this dataframe to an interactive table.\"\n",
       "              style=\"display:none;\">\n",
       "        \n",
       "  <svg xmlns=\"http://www.w3.org/2000/svg\" height=\"24px\"viewBox=\"0 0 24 24\"\n",
       "       width=\"24px\">\n",
       "    <path d=\"M0 0h24v24H0V0z\" fill=\"none\"/>\n",
       "    <path d=\"M18.56 5.44l.94 2.06.94-2.06 2.06-.94-2.06-.94-.94-2.06-.94 2.06-2.06.94zm-11 1L8.5 8.5l.94-2.06 2.06-.94-2.06-.94L8.5 2.5l-.94 2.06-2.06.94zm10 10l.94 2.06.94-2.06 2.06-.94-2.06-.94-.94-2.06-.94 2.06-2.06.94z\"/><path d=\"M17.41 7.96l-1.37-1.37c-.4-.4-.92-.59-1.43-.59-.52 0-1.04.2-1.43.59L10.3 9.45l-7.72 7.72c-.78.78-.78 2.05 0 2.83L4 21.41c.39.39.9.59 1.41.59.51 0 1.02-.2 1.41-.59l7.78-7.78 2.81-2.81c.8-.78.8-2.07 0-2.86zM5.41 20L4 18.59l7.72-7.72 1.47 1.35L5.41 20z\"/>\n",
       "  </svg>\n",
       "      </button>\n",
       "      \n",
       "  <style>\n",
       "    .colab-df-container {\n",
       "      display:flex;\n",
       "      flex-wrap:wrap;\n",
       "      gap: 12px;\n",
       "    }\n",
       "\n",
       "    .colab-df-convert {\n",
       "      background-color: #E8F0FE;\n",
       "      border: none;\n",
       "      border-radius: 50%;\n",
       "      cursor: pointer;\n",
       "      display: none;\n",
       "      fill: #1967D2;\n",
       "      height: 32px;\n",
       "      padding: 0 0 0 0;\n",
       "      width: 32px;\n",
       "    }\n",
       "\n",
       "    .colab-df-convert:hover {\n",
       "      background-color: #E2EBFA;\n",
       "      box-shadow: 0px 1px 2px rgba(60, 64, 67, 0.3), 0px 1px 3px 1px rgba(60, 64, 67, 0.15);\n",
       "      fill: #174EA6;\n",
       "    }\n",
       "\n",
       "    [theme=dark] .colab-df-convert {\n",
       "      background-color: #3B4455;\n",
       "      fill: #D2E3FC;\n",
       "    }\n",
       "\n",
       "    [theme=dark] .colab-df-convert:hover {\n",
       "      background-color: #434B5C;\n",
       "      box-shadow: 0px 1px 3px 1px rgba(0, 0, 0, 0.15);\n",
       "      filter: drop-shadow(0px 1px 2px rgba(0, 0, 0, 0.3));\n",
       "      fill: #FFFFFF;\n",
       "    }\n",
       "  </style>\n",
       "\n",
       "      <script>\n",
       "        const buttonEl =\n",
       "          document.querySelector('#df-48e52fa3-0d90-45f1-b365-e7c2b0cdb175 button.colab-df-convert');\n",
       "        buttonEl.style.display =\n",
       "          google.colab.kernel.accessAllowed ? 'block' : 'none';\n",
       "\n",
       "        async function convertToInteractive(key) {\n",
       "          const element = document.querySelector('#df-48e52fa3-0d90-45f1-b365-e7c2b0cdb175');\n",
       "          const dataTable =\n",
       "            await google.colab.kernel.invokeFunction('convertToInteractive',\n",
       "                                                     [key], {});\n",
       "          if (!dataTable) return;\n",
       "\n",
       "          const docLinkHtml = 'Like what you see? Visit the ' +\n",
       "            '<a target=\"_blank\" href=https://colab.research.google.com/notebooks/data_table.ipynb>data table notebook</a>'\n",
       "            + ' to learn more about interactive tables.';\n",
       "          element.innerHTML = '';\n",
       "          dataTable['output_type'] = 'display_data';\n",
       "          await google.colab.output.renderOutput(dataTable, element);\n",
       "          const docLink = document.createElement('div');\n",
       "          docLink.innerHTML = docLinkHtml;\n",
       "          element.appendChild(docLink);\n",
       "        }\n",
       "      </script>\n",
       "    </div>\n",
       "  </div>\n",
       "  "
      ],
      "text/plain": [
       "     culmen_length_mm  culmen_depth_mm  flipper_length_mm  body_mass_g  \\\n",
       "82           0.177606         0.678571           0.254237     0.354839   \n",
       "341          0.706564         0.309524           0.847458     0.983871   \n",
       "243          0.548263         0.321429           0.728814     0.758065   \n",
       "318          0.629344         0.154762           0.525424     0.620968   \n",
       "225          0.555985         0.047619           0.644068     0.596774   \n",
       "241          0.501931         0.166667           0.728814     0.741935   \n",
       "152          0.555985         0.571429           0.338983     0.258065   \n",
       "333          0.749035         0.380952           0.983051     0.903226   \n",
       "227          0.563707         0.261905           0.796610     0.806452   \n",
       "252          0.501931         0.166667           0.593220     0.758065   \n",
       "183          0.853282         0.916667           0.491525     0.516129   \n",
       "107          0.235521         0.821429           0.305085     0.387097   \n",
       "48           0.150579         0.571429           0.305085     0.241935   \n",
       "145          0.266409         0.666667           0.220339     0.306452   \n",
       "315          0.722008         0.309524           0.915254     0.806452   \n",
       "323          0.656371         0.226190           0.949153     0.903226   \n",
       "14           0.096525         0.952381           0.440678     0.548387   \n",
       "150          0.150579         0.476190           0.254237     0.322581   \n",
       "250          0.586873         0.261905           0.847458     0.822581   \n",
       "209          0.664093         0.809524           0.525424     0.435484   \n",
       "301          0.787645         0.297619           0.830508     0.887097   \n",
       "130          0.247104         0.571429           0.305085     0.201613   \n",
       "99           0.428571         0.642857           0.338983     0.451613   \n",
       "63           0.347490         0.607143           0.338983     0.435484   \n",
       "61           0.355212         0.952381           0.389831     0.548387   \n",
       "6            0.262548         0.559524           0.152542     0.298387   \n",
       "303          0.691120         0.333333           0.881356     0.854839   \n",
       "4            0.177606         0.738095           0.355932     0.241935   \n",
       "298          0.505792         0.083333           0.728814     0.661290   \n",
       "83           0.115830         0.750000           0.355932     0.483871   \n",
       "214          0.525097         0.464286           0.389831     0.306452   \n",
       "51           0.308880         0.690476           0.271186     0.516129   \n",
       "66           0.131274         0.369048           0.389831     0.209677   \n",
       "\n",
       "     island_Biscoe  island_Dream  island_Torgersen  sex_FEMALE  sex_MALE  \\\n",
       "82               0             0                 1           1         0   \n",
       "341              1             0                 0           0         1   \n",
       "243              1             0                 0           0         1   \n",
       "318              1             0                 0           1         0   \n",
       "225              1             0                 0           1         0   \n",
       "241              1             0                 0           1         0   \n",
       "152              0             1                 0           1         0   \n",
       "333              1             0                 0           0         1   \n",
       "227              1             0                 0           0         1   \n",
       "252              1             0                 0           1         0   \n",
       "183              0             1                 0           0         1   \n",
       "107              1             0                 0           0         1   \n",
       "48               0             1                 0           1         0   \n",
       "145              0             1                 0           0         1   \n",
       "315              1             0                 0           0         1   \n",
       "323              1             0                 0           0         1   \n",
       "14               0             0                 1           0         1   \n",
       "150              0             1                 0           1         0   \n",
       "250              1             0                 0           0         1   \n",
       "209              0             1                 0           0         1   \n",
       "301              1             0                 0           0         1   \n",
       "130              0             0                 1           1         0   \n",
       "99               0             1                 0           0         1   \n",
       "63               1             0                 0           0         1   \n",
       "61               1             0                 0           0         1   \n",
       "6                0             0                 1           1         0   \n",
       "303              1             0                 0           0         1   \n",
       "4                0             0                 1           1         0   \n",
       "298              1             0                 0           1         0   \n",
       "83               0             0                 1           0         1   \n",
       "214              0             1                 0           1         0   \n",
       "51               1             0                 0           0         1   \n",
       "66               1             0                 0           1         0   \n",
       "\n",
       "    predictions    actuals  \n",
       "82       Adelie     Adelie  \n",
       "341      Gentoo     Gentoo  \n",
       "243      Gentoo     Gentoo  \n",
       "318      Gentoo     Gentoo  \n",
       "225      Gentoo     Gentoo  \n",
       "241      Gentoo     Gentoo  \n",
       "152   Chinstrap  Chinstrap  \n",
       "333      Gentoo     Gentoo  \n",
       "227      Gentoo     Gentoo  \n",
       "252      Gentoo     Gentoo  \n",
       "183   Chinstrap  Chinstrap  \n",
       "107      Adelie     Adelie  \n",
       "48       Adelie     Adelie  \n",
       "145      Adelie     Adelie  \n",
       "315      Gentoo     Gentoo  \n",
       "323      Gentoo     Gentoo  \n",
       "14       Adelie     Adelie  \n",
       "150      Adelie     Adelie  \n",
       "250      Gentoo     Gentoo  \n",
       "209   Chinstrap  Chinstrap  \n",
       "301      Gentoo     Gentoo  \n",
       "130      Adelie     Adelie  \n",
       "99       Adelie     Adelie  \n",
       "63       Adelie     Adelie  \n",
       "61       Adelie     Adelie  \n",
       "6        Adelie     Adelie  \n",
       "303      Gentoo     Gentoo  \n",
       "4        Adelie     Adelie  \n",
       "298      Gentoo     Gentoo  \n",
       "83       Adelie     Adelie  \n",
       "214   Chinstrap  Chinstrap  \n",
       "51       Adelie     Adelie  \n",
       "66       Adelie     Adelie  "
      ]
     },
     "execution_count": 1148,
     "metadata": {},
     "output_type": "execute_result"
    }
   ],
   "source": [
    "review_matches"
   ]
  },
  {
   "cell_type": "markdown",
   "metadata": {
    "id": "KamW72-KMXyv"
   },
   "source": [
    "### Recommendations for Future Work"
   ]
  },
  {
   "cell_type": "markdown",
   "metadata": {
    "id": "EEy_FtQYKb1F"
   },
   "source": [
    "## Research Journal"
   ]
  },
  {
   "cell_type": "markdown",
   "metadata": {
    "id": "4DMmfb7YNiQT"
   },
   "source": [
    "### Data-Centric Iteration Ideas\n"
   ]
  },
  {
   "cell_type": "markdown",
   "metadata": {
    "id": "NOBuDouWNrAX"
   },
   "source": [
    "### Model-Centric Iteration Ideas"
   ]
  },
  {
   "cell_type": "markdown",
   "metadata": {
    "id": "3OQu1g00eJGY"
   },
   "source": [
    "### Improvements to the Template\n",
    "\n",
    "- allow comments on models\n",
    "- send the train / test / split as a dictionary\n",
    "- add feature ablation by feature importance\n",
    "- training time tracking\n",
    "- distinguish between binary and multi-class classification\n",
    "- KFold"
   ]
  },
  {
   "cell_type": "markdown",
   "metadata": {
    "id": "9ne9roKjNwur"
   },
   "source": [
    "### Daily Log"
   ]
  },
  {
   "cell_type": "code",
   "execution_count": null,
   "metadata": {
    "id": "DH6v_Sp0N05h"
   },
   "outputs": [],
   "source": []
  }
 ],
 "metadata": {
  "colab": {
   "background_execution": "on",
   "collapsed_sections": [
    "43KawFXrhQCX",
    "97xWFrNdhTj2",
    "u-v977ikgT_q",
    "CDu17hN5gnTN",
    "3wDh0VB_gci2",
    "MouQOtD7geOV",
    "F9GQmrCfiK4K",
    "OzmV8g3NiY9Y",
    "R-C1tyOMiiVD",
    "DMmTb6UBtVjt",
    "OLHvI1hljoe7",
    "pW-6aperNS6y",
    "KamW72-KMXyv",
    "4DMmfb7YNiQT",
    "NOBuDouWNrAX"
   ],
   "name": "machine learning classification template",
   "provenance": [],
   "toc_visible": true
  },
  "kernelspec": {
   "display_name": "Python 3",
   "name": "python3"
  },
  "language_info": {
   "codemirror_mode": {
    "name": "ipython",
    "version": 3
   },
   "file_extension": ".py",
   "mimetype": "text/x-python",
   "name": "python",
   "nbconvert_exporter": "python",
   "pygments_lexer": "ipython3",
   "version": "3.8.5"
  }
 },
 "nbformat": 4,
 "nbformat_minor": 0
}
