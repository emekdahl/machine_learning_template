{
  "nbformat": 4,
  "nbformat_minor": 0,
  "metadata": {
    "colab": {
      "name": "machine learning template",
      "provenance": [],
      "toc_visible": true,
      "collapsed_sections": [
        "mv0S8nbkJ7Rt",
        "43KawFXrhQCX",
        "97xWFrNdhTj2",
        "u-v977ikgT_q",
        "3wDh0VB_gci2",
        "MouQOtD7geOV",
        "E4ZQY56eh4d-",
        "F9GQmrCfiK4K",
        "DMmTb6UBtVjt",
        "jVBeVd0cjTn6",
        "OLHvI1hljoe7",
        "fwajIn_Qs8QY",
        "QAv_yBsvKPe3",
        "gwAdgYt5KJz2",
        "g3M6rTSuUMqd",
        "uVveSHU3UPkJ",
        "eKvyhkPEKfx5",
        "1JlK_njONKee",
        "pW-6aperNS6y",
        "0Fgt_n3WWjdc",
        "XCbZz_z6MbRy",
        "GxAQHMZEMjAt",
        "KamW72-KMXyv",
        "4DMmfb7YNiQT",
        "NOBuDouWNrAX",
        "3OQu1g00eJGY",
        "9ne9roKjNwur"
      ],
      "background_execution": "on"
    },
    "kernelspec": {
      "name": "python3",
      "display_name": "Python 3"
    },
    "language_info": {
      "name": "python"
    }
  },
  "cells": [
    {
      "cell_type": "markdown",
      "source": [
        "# Applied Machine Learning\n",
        "\n",
        "This notebook compiles standard methods for classification and regression into one notebook. The hope is that this notebook will be a good template to begin projects and reduce repetitive work."
      ],
      "metadata": {
        "id": "gC8SWxluJyZH"
      }
    },
    {
      "cell_type": "markdown",
      "source": [
        "![xkcd](https://imgs.xkcd.com/comics/machine_learning.png)\n",
        "\n",
        "https://xkcd.com/1838/"
      ],
      "metadata": {
        "id": "UhyfaUVqkD8M"
      }
    },
    {
      "cell_type": "markdown",
      "source": [
        "## Dependencies"
      ],
      "metadata": {
        "id": "mv0S8nbkJ7Rt"
      }
    },
    {
      "cell_type": "code",
      "source": [
        "# installations\n",
        "%pip install lightgbm"
      ],
      "metadata": {
        "colab": {
          "base_uri": "https://localhost:8080/"
        },
        "id": "b7OZqZvSKuML",
        "outputId": "32224f55-5ec4-4bc8-aa89-e859d70fa9f8"
      },
      "execution_count": 212,
      "outputs": [
        {
          "output_type": "stream",
          "name": "stdout",
          "text": [
            "Requirement already satisfied: lightgbm in /usr/local/lib/python3.7/dist-packages (2.2.3)\n",
            "Requirement already satisfied: scipy in /usr/local/lib/python3.7/dist-packages (from lightgbm) (1.4.1)\n",
            "Requirement already satisfied: numpy in /usr/local/lib/python3.7/dist-packages (from lightgbm) (1.21.5)\n",
            "Requirement already satisfied: scikit-learn in /usr/local/lib/python3.7/dist-packages (from lightgbm) (1.0.2)\n",
            "Requirement already satisfied: threadpoolctl>=2.0.0 in /usr/local/lib/python3.7/dist-packages (from scikit-learn->lightgbm) (3.1.0)\n",
            "Requirement already satisfied: joblib>=0.11 in /usr/local/lib/python3.7/dist-packages (from scikit-learn->lightgbm) (1.1.0)\n"
          ]
        }
      ]
    },
    {
      "cell_type": "code",
      "source": [
        "# standard DS / ML libraries\n",
        "import numpy as np\n",
        "import pandas as pd\n",
        "from sklearn.model_selection import train_test_split"
      ],
      "metadata": {
        "id": "99g5WamJKv7Z"
      },
      "execution_count": 213,
      "outputs": []
    },
    {
      "cell_type": "code",
      "source": [
        "# data viz\n",
        "from pandas_profiling import ProfileReport\n",
        "import matplotlib.pyplot as plt\n",
        "# make sure viz shows up in the notebook\n",
        "%matplotlib inline\n",
        "import seaborn as sns"
      ],
      "metadata": {
        "id": "5k8IYhmGKy65"
      },
      "execution_count": 214,
      "outputs": []
    },
    {
      "cell_type": "code",
      "source": [
        "# regression\n",
        "from sklearn.linear_model import LogisticRegression, LogisticRegressionCV\n",
        "from sklearn.svm import LinearSVC"
      ],
      "metadata": {
        "id": "Ze6_3I26K1y6"
      },
      "execution_count": 215,
      "outputs": []
    },
    {
      "cell_type": "code",
      "source": [
        "# classification\n",
        "from sklearn.neighbors import KNeighborsClassifier\n",
        "from sklearn.tree import DecisionTreeClassifier\n",
        "from sklearn.svm import SVC\n",
        "from sklearn.ensemble import RandomForestClassifier, GradientBoostingClassifier, BaggingClassifier\n",
        "from sklearn.neural_network import MLPClassifier\n",
        "from lightgbm import LGBMClassifier"
      ],
      "metadata": {
        "id": "CZ9Dqv2-Kz8-"
      },
      "execution_count": 216,
      "outputs": []
    },
    {
      "cell_type": "code",
      "source": [
        "# model performance & iterative improvement\n",
        "from sklearn.model_selection import GridSearchCV \n",
        "from sklearn.metrics import roc_curve, precision_recall_curve,  roc_auc_score, ConfusionMatrixDisplay, accuracy_score, precision_score, recall_score, f1_score, confusion_matrix, mean_absolute_error, mean_absolute_percentage_error, mean_squared_error\n",
        "from time import perf_counter"
      ],
      "metadata": {
        "id": "JuCYwoqzLSMr"
      },
      "execution_count": 217,
      "outputs": []
    },
    {
      "cell_type": "markdown",
      "source": [
        "## Set Up"
      ],
      "metadata": {
        "id": "C0epVYMdO2br"
      }
    },
    {
      "cell_type": "code",
      "source": [
        "class BaseDataset:\n",
        "  \"\"\"\n",
        "  Basic methods to handle loading and splitting data for experiments\n",
        "  \"\"\"\n",
        "\n",
        "  def _load_data(self):\n",
        "    \"\"\"\n",
        "    _load_data is a method that expects to be overwritten by the class extension\n",
        "    :return: error, if not implemented in the extended class\n",
        "    \"\"\"\n",
        "    raise NotImplementedError\n",
        "\n",
        "  def split_data_and_label(self, train_data, label_column_name, id_column_name=None):\n",
        "    \"\"\"\n",
        "    split_data_and_label takes a training set and returns data split from labels\n",
        "\n",
        "    :param train_data: a training set without labels\n",
        "    :param train_label: a set of labels detached from training data\n",
        "    :return: train, validate, and test data\n",
        "    \"\"\"\n",
        "    if id_column_name is not None:\n",
        "      del train_data[id_column_name]\n",
        "    \n",
        "    train_label = train_data[label_column_name]\n",
        "    del train_data[label_column_name]\n",
        "    \n",
        "    return train_data, train_label   \n",
        "\n",
        "  def _shuffle_split(train_data, train_label):\n",
        "    \"\"\"\n",
        "    shuffle_split exploits the behavior of sklearn's train test split to split the data into train, validate, test in a standard 80 / 10 / 10 pattern\n",
        "\n",
        "    :param train_data: a training set without labels\n",
        "    :param train_label: a set of labels detached from training data\n",
        "    :return: train, validate, and test data\n",
        "    \"\"\" \n",
        "\n",
        "    X_train, X_test_and_val, y_train, y_test_and_val = train_test_split(\n",
        "        train_data, train_label, test_size=0.2, random_state=42, shuffle=True)\n",
        "    X_val, X_test, y_val, y_test = train_test_split(\n",
        "        X_test_and_val, y_test_and_val, test_size=0.5, random_state=42, shuffle=True)\n",
        "    \n",
        "    return dict(X_train=X_train, y_train=y_train,\n",
        "                X_val=X_val, y_val=y_val,\n",
        "                X_test=X_test, y_test=y_test)\n",
        "    \n",
        "  \n",
        "  def _stratified_split(train_data, train_label, val_percent=0.2):\n",
        "    \"\"\"\n",
        "    stratified_split divides data into train / validate / test while maintaining the percentages of each class\n",
        "\n",
        "    :param train_data: a training set without labels\n",
        "    :param train_label: a set of labels detached from training data\n",
        "    :return: train, validate, and test data\n",
        "    \"\"\" \n",
        "    \n",
        "    classes=list(train_data[train_label].unique())\n",
        "    train_idxs, val_idxs = [], []\n",
        "    \n",
        "    for c in classes:\n",
        "        idx = list(train_data[train_data[train_label]==c].index)\n",
        "        np.random.shuffle(idx)\n",
        "        val_size = int(len(idx) * val_percent)\n",
        "        val_idxs += idx[:val_size]\n",
        "        train_idxs += idx[val_size:]\n",
        "\n",
        "  def _subsample(self, train_data, train_label, number_of_samples):\n",
        "    \"\"\"\n",
        "    stratified_split divides data into train / validate / test while maintaining the percentages of each class\n",
        "\n",
        "    :param train_data: a training set without labels\n",
        "    :param train_label: a set of labels detached from training data\n",
        "    :return: train, validate, and test data\n",
        "    \"\"\" \n",
        "    rs = np.random.RandomState(42)\n",
        "    indices0 = rs.choice(np.where(train_label == 0)[0], number_of_samples, replace=False)\n",
        "    indices1 = rs.choice(np.where(train_label == 1)[0], number_of_samples, replace=False)\n",
        "    indices = np.concatenate([indices0, indices1])\n",
        "    train_data = train_data.iloc[indices]\n",
        "    train_label = train_label.iloc[indices]\n",
        "    # train_data = train_data.reset_index(inplace=True)\n",
        "    # train_label = train_label.reset_index(inplace=True)\n",
        "    return train_data, train_label\n",
        "    \n",
        "  \n",
        "\n",
        "  def get_train_val_test_data(self, train_data, train_label, sampling_method):\n",
        "    \"\"\"\n",
        "    get_train_val_test_data exploits the behavior of sklearn's train test split to split the data into train, validate, test in a standard 80 / 10 / 10 pattern\n",
        "\n",
        "    :param train_data: a training set without labels\n",
        "    :param train_label: a set of labels detached from training data\n",
        "    :return: train, validate, and test data\n",
        "    \"\"\" \n",
        "  \n",
        "    if sampling_method == 'stratified':\n",
        "      train_idxs, val_idxs = self._stratified_split(train_data, train_label, val_percent=0.20)\n",
        "      val_idxs, test_idxs = self._stratified_split(train_data[train_data.index.isin(val_idxs)], train_label, val_percent=0.5)\n",
        "      train_df = train_data[train_data.index.isin(train_idxs)]\n",
        "      X_train = train_df.loc[:, train_df.columns != train_label].values\n",
        "      y_train = train_df[[train_label]].values\n",
        "      print('Retrieved Training Data')\n",
        "      val_df = train_data[train_data.index.isin(val_idxs)]\n",
        "      X_val = val_df.loc[:, val_df.columns != train_label].values\n",
        "      y_val = val_df[[train_label]].values\n",
        "      print('Retrieved Validation Data')\n",
        "      test_df = train_data[train_data.index.isin(test_idxs)]\n",
        "      X_test = test_df.loc[:, test_df.columns != train_label].values\n",
        "      y_test = test_df[[train_label]].values\n",
        "      print('Retrieved Test Data')\n",
        "    elif sampling_method == 'subsample':\n",
        "      return self._subsample(train_data, train_label)\n",
        "    else:\n",
        "      return self.shuffle_split(train_data, train_label)\n",
        "    \n",
        "\n",
        "  def nan_check(self, data):\n",
        "    \"\"\"\n",
        "    nan_check is a method that reports missing data by percentage\n",
        "\n",
        "    :param data: a dataframe containing training data\n",
        "    :return: a dataframe containing a report of missing data\n",
        "    \"\"\" \n",
        "\n",
        "    total = data.isnull().sum().sort_values(ascending=False)\n",
        "    percent_1 = data.isnull().sum()/data.isnull().count()*100\n",
        "    percent_2 = (np.round(percent_1, 1)).sort_values(ascending=False)\n",
        "    missing_data = pd.concat([total, percent_2], axis=1, keys=['Total', '%'])\n",
        "    return missing_data"
      ],
      "metadata": {
        "id": "poBB4buyO8Iz"
      },
      "execution_count": 218,
      "outputs": []
    },
    {
      "cell_type": "code",
      "source": [
        "class BasePerformanceEvaluation:\n",
        "  column_names = [\"model_type\", \"train_or_test\", \"dataset\", \"accuracy\", \"precision\", \"recall\", \"f1_score\", \"confusion_matrix\", \"mean_squared_error\", \"mean_absolute_error\", \"mean_absolute_percentage_error\"]\n",
        "\n",
        "  def create_tracker():\n",
        "    return pd.DataFrame(columns = column_names)\n",
        "\n",
        "  def report_performance(y_true, y_pred, train_or_test, experiment_type, model_description, dataset, model_tracker):\n",
        "    \n",
        "    if experiment_type == 'regression':\n",
        "      mse = mean_squared_error(y_true, y_pred)\n",
        "      mae = mean_absolute_error(y_true, y_pred)\n",
        "      mape = mean_absolute_percentage_error(y_true, y_pred)\n",
        "      accuracy = None\n",
        "      precision = None\n",
        "      recall = None\n",
        "      f1 = None\n",
        "      confusion = NotImplementedError\n",
        "\n",
        "    elif experiment_type == 'classification':\n",
        "      accuracy = accuracy_score(y_true, y_pred)\n",
        "      precision = precision_score(y_true, y_pred)\n",
        "      recall = recall_score(y_true, y_pred)\n",
        "      f1 = f1_score(y_true, y_pred)\n",
        "      confusion = confusion_matrix(y_true, y_pred)\n",
        "      mse = None\n",
        "      mae = None\n",
        "      mape = None\n",
        "    \n",
        "    else:\n",
        "      raise NotImplementedError\n",
        "\n",
        "    new_row = pd.DataFrame([[f'{model_description}', f'{train_or_test}', f'{dataset}', accuracy, precision, recall, f1, confusion, mse, mae, mape]], columns=column_names)\n",
        "    model_tracker = pd.concat([model_tracker, new_row])\n",
        "\n",
        "    return model_tracker\n",
        "\n",
        "perf_eval = BasePerformanceEvaluation()"
      ],
      "metadata": {
        "id": "7JqAKa43PdxS"
      },
      "execution_count": 219,
      "outputs": []
    },
    {
      "cell_type": "markdown",
      "source": [
        "## Data"
      ],
      "metadata": {
        "id": "IvTQAiBgJ-iv"
      }
    },
    {
      "cell_type": "code",
      "source": [
        "class ExperimentDataset(BaseDataset):\n",
        "  \n",
        "  def _load_data(self, filepath):\n",
        "    \"\"\"\n",
        "    _load_data gets data from source, then lower cases all column names\n",
        "\n",
        "    :param filepath: path where the data is located\n",
        "    :return: train, validate, and test data\n",
        "    \"\"\" \n",
        "    df = pd.read_csv(filepath)\n",
        "    df = df.rename(columns=str.lower)\n",
        "    return df\n",
        "\n",
        "dataset = ExperimentDataset()\n",
        "training_label = 'training_label_column_name'"
      ],
      "metadata": {
        "id": "t__psdJUU6aj"
      },
      "execution_count": 220,
      "outputs": []
    },
    {
      "cell_type": "code",
      "source": [
        "eda_data = dataset._load_data('./penguins_size.csv')"
      ],
      "metadata": {
        "id": "uJ6zJeQqVNzT"
      },
      "execution_count": 221,
      "outputs": []
    },
    {
      "cell_type": "code",
      "source": [
        "eda_data.head()"
      ],
      "metadata": {
        "colab": {
          "base_uri": "https://localhost:8080/",
          "height": 206
        },
        "id": "g2HcqT4MbQ_j",
        "outputId": "d915e91d-ac6a-412e-fe2c-16b463951df5"
      },
      "execution_count": 222,
      "outputs": [
        {
          "output_type": "execute_result",
          "data": {
            "text/plain": [
              "  species     island  culmen_length_mm  culmen_depth_mm  flipper_length_mm  \\\n",
              "0  Adelie  Torgersen              39.1             18.7              181.0   \n",
              "1  Adelie  Torgersen              39.5             17.4              186.0   \n",
              "2  Adelie  Torgersen              40.3             18.0              195.0   \n",
              "3  Adelie  Torgersen               NaN              NaN                NaN   \n",
              "4  Adelie  Torgersen              36.7             19.3              193.0   \n",
              "\n",
              "   body_mass_g     sex  \n",
              "0       3750.0    MALE  \n",
              "1       3800.0  FEMALE  \n",
              "2       3250.0  FEMALE  \n",
              "3          NaN     NaN  \n",
              "4       3450.0  FEMALE  "
            ],
            "text/html": [
              "\n",
              "  <div id=\"df-f580e562-bc83-4916-ab97-a578987196ac\">\n",
              "    <div class=\"colab-df-container\">\n",
              "      <div>\n",
              "<style scoped>\n",
              "    .dataframe tbody tr th:only-of-type {\n",
              "        vertical-align: middle;\n",
              "    }\n",
              "\n",
              "    .dataframe tbody tr th {\n",
              "        vertical-align: top;\n",
              "    }\n",
              "\n",
              "    .dataframe thead th {\n",
              "        text-align: right;\n",
              "    }\n",
              "</style>\n",
              "<table border=\"1\" class=\"dataframe\">\n",
              "  <thead>\n",
              "    <tr style=\"text-align: right;\">\n",
              "      <th></th>\n",
              "      <th>species</th>\n",
              "      <th>island</th>\n",
              "      <th>culmen_length_mm</th>\n",
              "      <th>culmen_depth_mm</th>\n",
              "      <th>flipper_length_mm</th>\n",
              "      <th>body_mass_g</th>\n",
              "      <th>sex</th>\n",
              "    </tr>\n",
              "  </thead>\n",
              "  <tbody>\n",
              "    <tr>\n",
              "      <th>0</th>\n",
              "      <td>Adelie</td>\n",
              "      <td>Torgersen</td>\n",
              "      <td>39.1</td>\n",
              "      <td>18.7</td>\n",
              "      <td>181.0</td>\n",
              "      <td>3750.0</td>\n",
              "      <td>MALE</td>\n",
              "    </tr>\n",
              "    <tr>\n",
              "      <th>1</th>\n",
              "      <td>Adelie</td>\n",
              "      <td>Torgersen</td>\n",
              "      <td>39.5</td>\n",
              "      <td>17.4</td>\n",
              "      <td>186.0</td>\n",
              "      <td>3800.0</td>\n",
              "      <td>FEMALE</td>\n",
              "    </tr>\n",
              "    <tr>\n",
              "      <th>2</th>\n",
              "      <td>Adelie</td>\n",
              "      <td>Torgersen</td>\n",
              "      <td>40.3</td>\n",
              "      <td>18.0</td>\n",
              "      <td>195.0</td>\n",
              "      <td>3250.0</td>\n",
              "      <td>FEMALE</td>\n",
              "    </tr>\n",
              "    <tr>\n",
              "      <th>3</th>\n",
              "      <td>Adelie</td>\n",
              "      <td>Torgersen</td>\n",
              "      <td>NaN</td>\n",
              "      <td>NaN</td>\n",
              "      <td>NaN</td>\n",
              "      <td>NaN</td>\n",
              "      <td>NaN</td>\n",
              "    </tr>\n",
              "    <tr>\n",
              "      <th>4</th>\n",
              "      <td>Adelie</td>\n",
              "      <td>Torgersen</td>\n",
              "      <td>36.7</td>\n",
              "      <td>19.3</td>\n",
              "      <td>193.0</td>\n",
              "      <td>3450.0</td>\n",
              "      <td>FEMALE</td>\n",
              "    </tr>\n",
              "  </tbody>\n",
              "</table>\n",
              "</div>\n",
              "      <button class=\"colab-df-convert\" onclick=\"convertToInteractive('df-f580e562-bc83-4916-ab97-a578987196ac')\"\n",
              "              title=\"Convert this dataframe to an interactive table.\"\n",
              "              style=\"display:none;\">\n",
              "        \n",
              "  <svg xmlns=\"http://www.w3.org/2000/svg\" height=\"24px\"viewBox=\"0 0 24 24\"\n",
              "       width=\"24px\">\n",
              "    <path d=\"M0 0h24v24H0V0z\" fill=\"none\"/>\n",
              "    <path d=\"M18.56 5.44l.94 2.06.94-2.06 2.06-.94-2.06-.94-.94-2.06-.94 2.06-2.06.94zm-11 1L8.5 8.5l.94-2.06 2.06-.94-2.06-.94L8.5 2.5l-.94 2.06-2.06.94zm10 10l.94 2.06.94-2.06 2.06-.94-2.06-.94-.94-2.06-.94 2.06-2.06.94z\"/><path d=\"M17.41 7.96l-1.37-1.37c-.4-.4-.92-.59-1.43-.59-.52 0-1.04.2-1.43.59L10.3 9.45l-7.72 7.72c-.78.78-.78 2.05 0 2.83L4 21.41c.39.39.9.59 1.41.59.51 0 1.02-.2 1.41-.59l7.78-7.78 2.81-2.81c.8-.78.8-2.07 0-2.86zM5.41 20L4 18.59l7.72-7.72 1.47 1.35L5.41 20z\"/>\n",
              "  </svg>\n",
              "      </button>\n",
              "      \n",
              "  <style>\n",
              "    .colab-df-container {\n",
              "      display:flex;\n",
              "      flex-wrap:wrap;\n",
              "      gap: 12px;\n",
              "    }\n",
              "\n",
              "    .colab-df-convert {\n",
              "      background-color: #E8F0FE;\n",
              "      border: none;\n",
              "      border-radius: 50%;\n",
              "      cursor: pointer;\n",
              "      display: none;\n",
              "      fill: #1967D2;\n",
              "      height: 32px;\n",
              "      padding: 0 0 0 0;\n",
              "      width: 32px;\n",
              "    }\n",
              "\n",
              "    .colab-df-convert:hover {\n",
              "      background-color: #E2EBFA;\n",
              "      box-shadow: 0px 1px 2px rgba(60, 64, 67, 0.3), 0px 1px 3px 1px rgba(60, 64, 67, 0.15);\n",
              "      fill: #174EA6;\n",
              "    }\n",
              "\n",
              "    [theme=dark] .colab-df-convert {\n",
              "      background-color: #3B4455;\n",
              "      fill: #D2E3FC;\n",
              "    }\n",
              "\n",
              "    [theme=dark] .colab-df-convert:hover {\n",
              "      background-color: #434B5C;\n",
              "      box-shadow: 0px 1px 3px 1px rgba(0, 0, 0, 0.15);\n",
              "      filter: drop-shadow(0px 1px 2px rgba(0, 0, 0, 0.3));\n",
              "      fill: #FFFFFF;\n",
              "    }\n",
              "  </style>\n",
              "\n",
              "      <script>\n",
              "        const buttonEl =\n",
              "          document.querySelector('#df-f580e562-bc83-4916-ab97-a578987196ac button.colab-df-convert');\n",
              "        buttonEl.style.display =\n",
              "          google.colab.kernel.accessAllowed ? 'block' : 'none';\n",
              "\n",
              "        async function convertToInteractive(key) {\n",
              "          const element = document.querySelector('#df-f580e562-bc83-4916-ab97-a578987196ac');\n",
              "          const dataTable =\n",
              "            await google.colab.kernel.invokeFunction('convertToInteractive',\n",
              "                                                     [key], {});\n",
              "          if (!dataTable) return;\n",
              "\n",
              "          const docLinkHtml = 'Like what you see? Visit the ' +\n",
              "            '<a target=\"_blank\" href=https://colab.research.google.com/notebooks/data_table.ipynb>data table notebook</a>'\n",
              "            + ' to learn more about interactive tables.';\n",
              "          element.innerHTML = '';\n",
              "          dataTable['output_type'] = 'display_data';\n",
              "          await google.colab.output.renderOutput(dataTable, element);\n",
              "          const docLink = document.createElement('div');\n",
              "          docLink.innerHTML = docLinkHtml;\n",
              "          element.appendChild(docLink);\n",
              "        }\n",
              "      </script>\n",
              "    </div>\n",
              "  </div>\n",
              "  "
            ]
          },
          "metadata": {},
          "execution_count": 222
        }
      ]
    },
    {
      "cell_type": "markdown",
      "source": [
        "## Exploratory Data Analysis"
      ],
      "metadata": {
        "id": "dY1zDI8lKFBY"
      }
    },
    {
      "cell_type": "code",
      "source": [
        "eda_data.shape"
      ],
      "metadata": {
        "id": "yBfnd78VfIco",
        "colab": {
          "base_uri": "https://localhost:8080/"
        },
        "outputId": "ecbeeca2-fb56-4e71-b599-6ca74db45851"
      },
      "execution_count": 223,
      "outputs": [
        {
          "output_type": "execute_result",
          "data": {
            "text/plain": [
              "(344, 7)"
            ]
          },
          "metadata": {},
          "execution_count": 223
        }
      ]
    },
    {
      "cell_type": "code",
      "source": [
        "eda_data.describe()"
      ],
      "metadata": {
        "id": "Lu2ShoeCfJ7H",
        "colab": {
          "base_uri": "https://localhost:8080/",
          "height": 300
        },
        "outputId": "ca36f6d5-2f15-4097-f00c-95a39d07e517"
      },
      "execution_count": 224,
      "outputs": [
        {
          "output_type": "execute_result",
          "data": {
            "text/plain": [
              "       culmen_length_mm  culmen_depth_mm  flipper_length_mm  body_mass_g\n",
              "count        342.000000       342.000000         342.000000   342.000000\n",
              "mean          43.921930        17.151170         200.915205  4201.754386\n",
              "std            5.459584         1.974793          14.061714   801.954536\n",
              "min           32.100000        13.100000         172.000000  2700.000000\n",
              "25%           39.225000        15.600000         190.000000  3550.000000\n",
              "50%           44.450000        17.300000         197.000000  4050.000000\n",
              "75%           48.500000        18.700000         213.000000  4750.000000\n",
              "max           59.600000        21.500000         231.000000  6300.000000"
            ],
            "text/html": [
              "\n",
              "  <div id=\"df-bc8447c4-e2ef-4f9e-b0ea-34a35462af49\">\n",
              "    <div class=\"colab-df-container\">\n",
              "      <div>\n",
              "<style scoped>\n",
              "    .dataframe tbody tr th:only-of-type {\n",
              "        vertical-align: middle;\n",
              "    }\n",
              "\n",
              "    .dataframe tbody tr th {\n",
              "        vertical-align: top;\n",
              "    }\n",
              "\n",
              "    .dataframe thead th {\n",
              "        text-align: right;\n",
              "    }\n",
              "</style>\n",
              "<table border=\"1\" class=\"dataframe\">\n",
              "  <thead>\n",
              "    <tr style=\"text-align: right;\">\n",
              "      <th></th>\n",
              "      <th>culmen_length_mm</th>\n",
              "      <th>culmen_depth_mm</th>\n",
              "      <th>flipper_length_mm</th>\n",
              "      <th>body_mass_g</th>\n",
              "    </tr>\n",
              "  </thead>\n",
              "  <tbody>\n",
              "    <tr>\n",
              "      <th>count</th>\n",
              "      <td>342.000000</td>\n",
              "      <td>342.000000</td>\n",
              "      <td>342.000000</td>\n",
              "      <td>342.000000</td>\n",
              "    </tr>\n",
              "    <tr>\n",
              "      <th>mean</th>\n",
              "      <td>43.921930</td>\n",
              "      <td>17.151170</td>\n",
              "      <td>200.915205</td>\n",
              "      <td>4201.754386</td>\n",
              "    </tr>\n",
              "    <tr>\n",
              "      <th>std</th>\n",
              "      <td>5.459584</td>\n",
              "      <td>1.974793</td>\n",
              "      <td>14.061714</td>\n",
              "      <td>801.954536</td>\n",
              "    </tr>\n",
              "    <tr>\n",
              "      <th>min</th>\n",
              "      <td>32.100000</td>\n",
              "      <td>13.100000</td>\n",
              "      <td>172.000000</td>\n",
              "      <td>2700.000000</td>\n",
              "    </tr>\n",
              "    <tr>\n",
              "      <th>25%</th>\n",
              "      <td>39.225000</td>\n",
              "      <td>15.600000</td>\n",
              "      <td>190.000000</td>\n",
              "      <td>3550.000000</td>\n",
              "    </tr>\n",
              "    <tr>\n",
              "      <th>50%</th>\n",
              "      <td>44.450000</td>\n",
              "      <td>17.300000</td>\n",
              "      <td>197.000000</td>\n",
              "      <td>4050.000000</td>\n",
              "    </tr>\n",
              "    <tr>\n",
              "      <th>75%</th>\n",
              "      <td>48.500000</td>\n",
              "      <td>18.700000</td>\n",
              "      <td>213.000000</td>\n",
              "      <td>4750.000000</td>\n",
              "    </tr>\n",
              "    <tr>\n",
              "      <th>max</th>\n",
              "      <td>59.600000</td>\n",
              "      <td>21.500000</td>\n",
              "      <td>231.000000</td>\n",
              "      <td>6300.000000</td>\n",
              "    </tr>\n",
              "  </tbody>\n",
              "</table>\n",
              "</div>\n",
              "      <button class=\"colab-df-convert\" onclick=\"convertToInteractive('df-bc8447c4-e2ef-4f9e-b0ea-34a35462af49')\"\n",
              "              title=\"Convert this dataframe to an interactive table.\"\n",
              "              style=\"display:none;\">\n",
              "        \n",
              "  <svg xmlns=\"http://www.w3.org/2000/svg\" height=\"24px\"viewBox=\"0 0 24 24\"\n",
              "       width=\"24px\">\n",
              "    <path d=\"M0 0h24v24H0V0z\" fill=\"none\"/>\n",
              "    <path d=\"M18.56 5.44l.94 2.06.94-2.06 2.06-.94-2.06-.94-.94-2.06-.94 2.06-2.06.94zm-11 1L8.5 8.5l.94-2.06 2.06-.94-2.06-.94L8.5 2.5l-.94 2.06-2.06.94zm10 10l.94 2.06.94-2.06 2.06-.94-2.06-.94-.94-2.06-.94 2.06-2.06.94z\"/><path d=\"M17.41 7.96l-1.37-1.37c-.4-.4-.92-.59-1.43-.59-.52 0-1.04.2-1.43.59L10.3 9.45l-7.72 7.72c-.78.78-.78 2.05 0 2.83L4 21.41c.39.39.9.59 1.41.59.51 0 1.02-.2 1.41-.59l7.78-7.78 2.81-2.81c.8-.78.8-2.07 0-2.86zM5.41 20L4 18.59l7.72-7.72 1.47 1.35L5.41 20z\"/>\n",
              "  </svg>\n",
              "      </button>\n",
              "      \n",
              "  <style>\n",
              "    .colab-df-container {\n",
              "      display:flex;\n",
              "      flex-wrap:wrap;\n",
              "      gap: 12px;\n",
              "    }\n",
              "\n",
              "    .colab-df-convert {\n",
              "      background-color: #E8F0FE;\n",
              "      border: none;\n",
              "      border-radius: 50%;\n",
              "      cursor: pointer;\n",
              "      display: none;\n",
              "      fill: #1967D2;\n",
              "      height: 32px;\n",
              "      padding: 0 0 0 0;\n",
              "      width: 32px;\n",
              "    }\n",
              "\n",
              "    .colab-df-convert:hover {\n",
              "      background-color: #E2EBFA;\n",
              "      box-shadow: 0px 1px 2px rgba(60, 64, 67, 0.3), 0px 1px 3px 1px rgba(60, 64, 67, 0.15);\n",
              "      fill: #174EA6;\n",
              "    }\n",
              "\n",
              "    [theme=dark] .colab-df-convert {\n",
              "      background-color: #3B4455;\n",
              "      fill: #D2E3FC;\n",
              "    }\n",
              "\n",
              "    [theme=dark] .colab-df-convert:hover {\n",
              "      background-color: #434B5C;\n",
              "      box-shadow: 0px 1px 3px 1px rgba(0, 0, 0, 0.15);\n",
              "      filter: drop-shadow(0px 1px 2px rgba(0, 0, 0, 0.3));\n",
              "      fill: #FFFFFF;\n",
              "    }\n",
              "  </style>\n",
              "\n",
              "      <script>\n",
              "        const buttonEl =\n",
              "          document.querySelector('#df-bc8447c4-e2ef-4f9e-b0ea-34a35462af49 button.colab-df-convert');\n",
              "        buttonEl.style.display =\n",
              "          google.colab.kernel.accessAllowed ? 'block' : 'none';\n",
              "\n",
              "        async function convertToInteractive(key) {\n",
              "          const element = document.querySelector('#df-bc8447c4-e2ef-4f9e-b0ea-34a35462af49');\n",
              "          const dataTable =\n",
              "            await google.colab.kernel.invokeFunction('convertToInteractive',\n",
              "                                                     [key], {});\n",
              "          if (!dataTable) return;\n",
              "\n",
              "          const docLinkHtml = 'Like what you see? Visit the ' +\n",
              "            '<a target=\"_blank\" href=https://colab.research.google.com/notebooks/data_table.ipynb>data table notebook</a>'\n",
              "            + ' to learn more about interactive tables.';\n",
              "          element.innerHTML = '';\n",
              "          dataTable['output_type'] = 'display_data';\n",
              "          await google.colab.output.renderOutput(dataTable, element);\n",
              "          const docLink = document.createElement('div');\n",
              "          docLink.innerHTML = docLinkHtml;\n",
              "          element.appendChild(docLink);\n",
              "        }\n",
              "      </script>\n",
              "    </div>\n",
              "  </div>\n",
              "  "
            ]
          },
          "metadata": {},
          "execution_count": 224
        }
      ]
    },
    {
      "cell_type": "code",
      "source": [
        "corr = eda_data.corr()\n",
        "sns.heatmap(corr, \n",
        "        xticklabels=corr.columns,\n",
        "        yticklabels=corr.columns)"
      ],
      "metadata": {
        "id": "da9MZpFsjFME",
        "colab": {
          "base_uri": "https://localhost:8080/",
          "height": 367
        },
        "outputId": "42dfca2b-b3cb-4d31-edff-5de4dd4fa2bb"
      },
      "execution_count": 225,
      "outputs": [
        {
          "output_type": "execute_result",
          "data": {
            "text/plain": [
              "<matplotlib.axes._subplots.AxesSubplot at 0x7fd6dd2e30d0>"
            ]
          },
          "metadata": {},
          "execution_count": 225
        },
        {
          "output_type": "display_data",
          "data": {
            "text/plain": [
              "<Figure size 432x288 with 2 Axes>"
            ],
            "image/png": "[encoded data removed]"
          },
          "metadata": {
            "needs_background": "light"
          }
        }
      ]
    },
    {
      "cell_type": "code",
      "source": [
        "# profile = ProfileReport(eda_data)\n",
        "# profile.to_widgets()"
      ],
      "metadata": {
        "id": "_qWagVkhfM-j"
      },
      "execution_count": 226,
      "outputs": []
    },
    {
      "cell_type": "markdown",
      "source": [
        "## Data Cleaning && Feature Engineering"
      ],
      "metadata": {
        "id": "G_5ZuqFwKIBh"
      }
    },
    {
      "cell_type": "code",
      "source": [
        "eda_data.info"
      ],
      "metadata": {
        "colab": {
          "base_uri": "https://localhost:8080/"
        },
        "id": "4I545ZWwkTF-",
        "outputId": "cc7ab29d-3353-491f-d1aa-758ff4f8f5bd"
      },
      "execution_count": 227,
      "outputs": [
        {
          "output_type": "execute_result",
          "data": {
            "text/plain": [
              "<bound method DataFrame.info of     species     island  culmen_length_mm  culmen_depth_mm  flipper_length_mm  \\\n",
              "0    Adelie  Torgersen              39.1             18.7              181.0   \n",
              "1    Adelie  Torgersen              39.5             17.4              186.0   \n",
              "2    Adelie  Torgersen              40.3             18.0              195.0   \n",
              "3    Adelie  Torgersen               NaN              NaN                NaN   \n",
              "4    Adelie  Torgersen              36.7             19.3              193.0   \n",
              "..      ...        ...               ...              ...                ...   \n",
              "339  Gentoo     Biscoe               NaN              NaN                NaN   \n",
              "340  Gentoo     Biscoe              46.8             14.3              215.0   \n",
              "341  Gentoo     Biscoe              50.4             15.7              222.0   \n",
              "342  Gentoo     Biscoe              45.2             14.8              212.0   \n",
              "343  Gentoo     Biscoe              49.9             16.1              213.0   \n",
              "\n",
              "     body_mass_g     sex  \n",
              "0         3750.0    MALE  \n",
              "1         3800.0  FEMALE  \n",
              "2         3250.0  FEMALE  \n",
              "3            NaN     NaN  \n",
              "4         3450.0  FEMALE  \n",
              "..           ...     ...  \n",
              "339          NaN     NaN  \n",
              "340       4850.0  FEMALE  \n",
              "341       5750.0    MALE  \n",
              "342       5200.0  FEMALE  \n",
              "343       5400.0    MALE  \n",
              "\n",
              "[344 rows x 7 columns]>"
            ]
          },
          "metadata": {},
          "execution_count": 227
        }
      ]
    },
    {
      "cell_type": "code",
      "source": [
        "binned_label = 'species'\n",
        "continuous_label = 'body_mass_g'\n",
        "data = eda_data"
      ],
      "metadata": {
        "id": "EzEI097GcgpH"
      },
      "execution_count": 228,
      "outputs": []
    },
    {
      "cell_type": "code",
      "source": [
        ""
      ],
      "metadata": {
        "id": "ekz_SYKHoFuQ"
      },
      "execution_count": 228,
      "outputs": []
    },
    {
      "cell_type": "code",
      "source": [
        "column_list = list(data.columns)\n",
        "column_list_without_label = column_list.remove(binned_label)\n",
        "numeric_column_names = data.select_dtypes(include=np.number).columns.tolist()\n",
        "categorical_column_names = data.select_dtypes(exclude=np.number).columns.tolist()"
      ],
      "metadata": {
        "id": "5i4ktcBidyrH"
      },
      "execution_count": 229,
      "outputs": []
    },
    {
      "cell_type": "code",
      "source": [
        "categorical_column_names.remove(binned_label)"
      ],
      "metadata": {
        "id": "86IyYrQan5bP"
      },
      "execution_count": 230,
      "outputs": []
    },
    {
      "cell_type": "markdown",
      "source": [
        "### Handle Outliers"
      ],
      "metadata": {
        "id": "68yrJQbwfpsa"
      }
    },
    {
      "cell_type": "code",
      "source": [
        "ax = sns.boxplot(x=data[continuous_label])"
      ],
      "metadata": {
        "colab": {
          "base_uri": "https://localhost:8080/",
          "height": 283
        },
        "id": "ydTWwm1Gl1p2",
        "outputId": "7268aa5c-ee50-4647-ba81-e8817b40560c"
      },
      "execution_count": 231,
      "outputs": [
        {
          "output_type": "display_data",
          "data": {
            "text/plain": [
              "<Figure size 432x288 with 1 Axes>"
            ],
            "image/png": "[encoded data removed]"
          },
          "metadata": {
            "needs_background": "light"
          }
        }
      ]
    },
    {
      "cell_type": "markdown",
      "source": [
        "#### Visualize Outliers"
      ],
      "metadata": {
        "id": "CzMsda8aTSNp"
      }
    },
    {
      "cell_type": "code",
      "source": [
        "for col in numeric_column_names:\n",
        "    data.boxplot(column=col, by=binned_label, figsize=(6,6))\n",
        "    plt.title(col)\n",
        "plt.show()"
      ],
      "metadata": {
        "colab": {
          "base_uri": "https://localhost:8080/",
          "height": 1000
        },
        "id": "3Vvr5U58lWz5",
        "outputId": "05dba6c6-5203-4de8-fa3e-ffaf4daa2fe5"
      },
      "execution_count": 232,
      "outputs": [
        {
          "output_type": "stream",
          "name": "stderr",
          "text": [
            "/usr/local/lib/python3.7/dist-packages/matplotlib/cbook/__init__.py:1376: VisibleDeprecationWarning: Creating an ndarray from ragged nested sequences (which is a list-or-tuple of lists-or-tuples-or ndarrays with different lengths or shapes) is deprecated. If you meant to do this, you must specify 'dtype=object' when creating the ndarray.\n",
            "  X = np.atleast_1d(X.T if isinstance(X, np.ndarray) else np.asarray(X))\n",
            "/usr/local/lib/python3.7/dist-packages/matplotlib/cbook/__init__.py:1376: VisibleDeprecationWarning: Creating an ndarray from ragged nested sequences (which is a list-or-tuple of lists-or-tuples-or ndarrays with different lengths or shapes) is deprecated. If you meant to do this, you must specify 'dtype=object' when creating the ndarray.\n",
            "  X = np.atleast_1d(X.T if isinstance(X, np.ndarray) else np.asarray(X))\n",
            "/usr/local/lib/python3.7/dist-packages/matplotlib/cbook/__init__.py:1376: VisibleDeprecationWarning: Creating an ndarray from ragged nested sequences (which is a list-or-tuple of lists-or-tuples-or ndarrays with different lengths or shapes) is deprecated. If you meant to do this, you must specify 'dtype=object' when creating the ndarray.\n",
            "  X = np.atleast_1d(X.T if isinstance(X, np.ndarray) else np.asarray(X))\n",
            "/usr/local/lib/python3.7/dist-packages/matplotlib/cbook/__init__.py:1376: VisibleDeprecationWarning: Creating an ndarray from ragged nested sequences (which is a list-or-tuple of lists-or-tuples-or ndarrays with different lengths or shapes) is deprecated. If you meant to do this, you must specify 'dtype=object' when creating the ndarray.\n",
            "  X = np.atleast_1d(X.T if isinstance(X, np.ndarray) else np.asarray(X))\n"
          ]
        },
        {
          "output_type": "display_data",
          "data": {
            "text/plain": [
              "<Figure size 432x432 with 1 Axes>"
            ],
            "image/png": "[encoded data removed]"
          },
          "metadata": {
            "needs_background": "light"
          }
        },
        {
          "output_type": "display_data",
          "data": {
            "text/plain": [
              "<Figure size 432x432 with 1 Axes>"
            ],
            "image/png": "[encoded data removed]"
          },
          "metadata": {
            "needs_background": "light"
          }
        },
        {
          "output_type": "display_data",
          "data": {
            "text/plain": [
              "<Figure size 432x432 with 1 Axes>"
            ],
            "image/png": "[encoded data removed]"
          },
          "metadata": {
            "needs_background": "light"
          }
        },
        {
          "output_type": "display_data",
          "data": {
            "text/plain": [
              "<Figure size 432x432 with 1 Axes>"
            ],
            "image/png": "[encoded data removed]"
          },
          "metadata": {
            "needs_background": "light"
          }
        }
      ]
    },
    {
      "cell_type": "markdown",
      "source": [
        "#### By Standard Deviation"
      ],
      "metadata": {
        "id": "BOvOTn9Ng5pQ"
      }
    },
    {
      "cell_type": "code",
      "source": [
        "# Dropping the outlier rows with standard deviation above a factor\n",
        "factor = 2\n",
        "upper_lim = data[continuous_label].mean () + data[continuous_label].std () * factor\n",
        "lower_lim = data[continuous_label].mean () - data[continuous_label].std () * factor\n",
        "\n",
        "data = data[(data[continuous_label] < upper_lim) & (data[continuous_label] > lower_lim)]"
      ],
      "metadata": {
        "id": "qFzDD5Pgg12m"
      },
      "execution_count": 233,
      "outputs": []
    },
    {
      "cell_type": "markdown",
      "source": [
        "#### By Percentile"
      ],
      "metadata": {
        "id": "gkj6-woHg9ap"
      }
    },
    {
      "cell_type": "code",
      "source": [
        "#Dropping the outlier rows with Percentiles\n",
        "\n",
        "# upper_lim = data['column'].quantile(.95)\n",
        "# lower_lim = data['column'].quantile(.05)\n",
        "\n",
        "# data = data[(data['column'] < upper_lim) & (data['column'] > lower_lim)]"
      ],
      "metadata": {
        "id": "kuNoKXHdhE7T"
      },
      "execution_count": 234,
      "outputs": []
    },
    {
      "cell_type": "markdown",
      "source": [
        "#### Check Outliers After Data Transformation"
      ],
      "metadata": {
        "id": "Udi57dd4mkw-"
      }
    },
    {
      "cell_type": "code",
      "source": [
        "ax = sns.boxplot(x=data[continuous_label])"
      ],
      "metadata": {
        "colab": {
          "base_uri": "https://localhost:8080/",
          "height": 283
        },
        "id": "x-685JFPmo0d",
        "outputId": "a80ab54d-04b9-4b69-a8c5-638a2f1a18c1"
      },
      "execution_count": 235,
      "outputs": [
        {
          "output_type": "display_data",
          "data": {
            "text/plain": [
              "<Figure size 432x288 with 1 Axes>"
            ],
            "image/png": "[encoded data removed]"
          },
          "metadata": {
            "needs_background": "light"
          }
        }
      ]
    },
    {
      "cell_type": "markdown",
      "source": [
        "### Binning"
      ],
      "metadata": {
        "id": "2IwaNgRsfwNm"
      }
    },
    {
      "cell_type": "markdown",
      "source": [
        " #### Numerical"
      ],
      "metadata": {
        "id": "43KawFXrhQCX"
      }
    },
    {
      "cell_type": "code",
      "source": [
        "# data['bin'] = pd.cut(data['value'], bins=[0,30,70,100], labels=[\"Low\", \"Mid\", \"High\"])"
      ],
      "metadata": {
        "id": "-NtHA8b_hSEu"
      },
      "execution_count": 236,
      "outputs": []
    },
    {
      "cell_type": "markdown",
      "source": [
        "#### Categorical"
      ],
      "metadata": {
        "id": "97xWFrNdhTj2"
      }
    },
    {
      "cell_type": "code",
      "source": [
        "# conditions = [\n",
        "#     data['Country'].str.contains('Spain'),\n",
        "#     data['Country'].str.contains('Italy'),\n",
        "#     data['Country'].str.contains('Chile'),\n",
        "#     data['Country'].str.contains('Brazil')]\n",
        "\n",
        "# choices = ['Europe', 'Europe', 'South America', 'South America']\n",
        "\n",
        "# data['Continent'] = np.select(conditions, choices, default='Other')"
      ],
      "metadata": {
        "id": "iBrV9uUYhV2v"
      },
      "execution_count": 237,
      "outputs": []
    },
    {
      "cell_type": "markdown",
      "source": [
        "### Imputation / Handling Missing Values"
      ],
      "metadata": {
        "id": "a5ouaM1rftZx"
      }
    },
    {
      "cell_type": "code",
      "source": [
        "dataset.nan_check(data)"
      ],
      "metadata": {
        "id": "nRf_LUtJfTsG",
        "colab": {
          "base_uri": "https://localhost:8080/",
          "height": 269
        },
        "outputId": "af151d26-a8ed-494a-cb20-eb2615b9e10d"
      },
      "execution_count": 238,
      "outputs": [
        {
          "output_type": "execute_result",
          "data": {
            "text/plain": [
              "                   Total    %\n",
              "sex                    8  2.4\n",
              "species                0  0.0\n",
              "island                 0  0.0\n",
              "culmen_length_mm       0  0.0\n",
              "culmen_depth_mm        0  0.0\n",
              "flipper_length_mm      0  0.0\n",
              "body_mass_g            0  0.0"
            ],
            "text/html": [
              "\n",
              "  <div id=\"df-69dfe98e-b93a-4188-b379-cd545605a05d\">\n",
              "    <div class=\"colab-df-container\">\n",
              "      <div>\n",
              "<style scoped>\n",
              "    .dataframe tbody tr th:only-of-type {\n",
              "        vertical-align: middle;\n",
              "    }\n",
              "\n",
              "    .dataframe tbody tr th {\n",
              "        vertical-align: top;\n",
              "    }\n",
              "\n",
              "    .dataframe thead th {\n",
              "        text-align: right;\n",
              "    }\n",
              "</style>\n",
              "<table border=\"1\" class=\"dataframe\">\n",
              "  <thead>\n",
              "    <tr style=\"text-align: right;\">\n",
              "      <th></th>\n",
              "      <th>Total</th>\n",
              "      <th>%</th>\n",
              "    </tr>\n",
              "  </thead>\n",
              "  <tbody>\n",
              "    <tr>\n",
              "      <th>sex</th>\n",
              "      <td>8</td>\n",
              "      <td>2.4</td>\n",
              "    </tr>\n",
              "    <tr>\n",
              "      <th>species</th>\n",
              "      <td>0</td>\n",
              "      <td>0.0</td>\n",
              "    </tr>\n",
              "    <tr>\n",
              "      <th>island</th>\n",
              "      <td>0</td>\n",
              "      <td>0.0</td>\n",
              "    </tr>\n",
              "    <tr>\n",
              "      <th>culmen_length_mm</th>\n",
              "      <td>0</td>\n",
              "      <td>0.0</td>\n",
              "    </tr>\n",
              "    <tr>\n",
              "      <th>culmen_depth_mm</th>\n",
              "      <td>0</td>\n",
              "      <td>0.0</td>\n",
              "    </tr>\n",
              "    <tr>\n",
              "      <th>flipper_length_mm</th>\n",
              "      <td>0</td>\n",
              "      <td>0.0</td>\n",
              "    </tr>\n",
              "    <tr>\n",
              "      <th>body_mass_g</th>\n",
              "      <td>0</td>\n",
              "      <td>0.0</td>\n",
              "    </tr>\n",
              "  </tbody>\n",
              "</table>\n",
              "</div>\n",
              "      <button class=\"colab-df-convert\" onclick=\"convertToInteractive('df-69dfe98e-b93a-4188-b379-cd545605a05d')\"\n",
              "              title=\"Convert this dataframe to an interactive table.\"\n",
              "              style=\"display:none;\">\n",
              "        \n",
              "  <svg xmlns=\"http://www.w3.org/2000/svg\" height=\"24px\"viewBox=\"0 0 24 24\"\n",
              "       width=\"24px\">\n",
              "    <path d=\"M0 0h24v24H0V0z\" fill=\"none\"/>\n",
              "    <path d=\"M18.56 5.44l.94 2.06.94-2.06 2.06-.94-2.06-.94-.94-2.06-.94 2.06-2.06.94zm-11 1L8.5 8.5l.94-2.06 2.06-.94-2.06-.94L8.5 2.5l-.94 2.06-2.06.94zm10 10l.94 2.06.94-2.06 2.06-.94-2.06-.94-.94-2.06-.94 2.06-2.06.94z\"/><path d=\"M17.41 7.96l-1.37-1.37c-.4-.4-.92-.59-1.43-.59-.52 0-1.04.2-1.43.59L10.3 9.45l-7.72 7.72c-.78.78-.78 2.05 0 2.83L4 21.41c.39.39.9.59 1.41.59.51 0 1.02-.2 1.41-.59l7.78-7.78 2.81-2.81c.8-.78.8-2.07 0-2.86zM5.41 20L4 18.59l7.72-7.72 1.47 1.35L5.41 20z\"/>\n",
              "  </svg>\n",
              "      </button>\n",
              "      \n",
              "  <style>\n",
              "    .colab-df-container {\n",
              "      display:flex;\n",
              "      flex-wrap:wrap;\n",
              "      gap: 12px;\n",
              "    }\n",
              "\n",
              "    .colab-df-convert {\n",
              "      background-color: #E8F0FE;\n",
              "      border: none;\n",
              "      border-radius: 50%;\n",
              "      cursor: pointer;\n",
              "      display: none;\n",
              "      fill: #1967D2;\n",
              "      height: 32px;\n",
              "      padding: 0 0 0 0;\n",
              "      width: 32px;\n",
              "    }\n",
              "\n",
              "    .colab-df-convert:hover {\n",
              "      background-color: #E2EBFA;\n",
              "      box-shadow: 0px 1px 2px rgba(60, 64, 67, 0.3), 0px 1px 3px 1px rgba(60, 64, 67, 0.15);\n",
              "      fill: #174EA6;\n",
              "    }\n",
              "\n",
              "    [theme=dark] .colab-df-convert {\n",
              "      background-color: #3B4455;\n",
              "      fill: #D2E3FC;\n",
              "    }\n",
              "\n",
              "    [theme=dark] .colab-df-convert:hover {\n",
              "      background-color: #434B5C;\n",
              "      box-shadow: 0px 1px 3px 1px rgba(0, 0, 0, 0.15);\n",
              "      filter: drop-shadow(0px 1px 2px rgba(0, 0, 0, 0.3));\n",
              "      fill: #FFFFFF;\n",
              "    }\n",
              "  </style>\n",
              "\n",
              "      <script>\n",
              "        const buttonEl =\n",
              "          document.querySelector('#df-69dfe98e-b93a-4188-b379-cd545605a05d button.colab-df-convert');\n",
              "        buttonEl.style.display =\n",
              "          google.colab.kernel.accessAllowed ? 'block' : 'none';\n",
              "\n",
              "        async function convertToInteractive(key) {\n",
              "          const element = document.querySelector('#df-69dfe98e-b93a-4188-b379-cd545605a05d');\n",
              "          const dataTable =\n",
              "            await google.colab.kernel.invokeFunction('convertToInteractive',\n",
              "                                                     [key], {});\n",
              "          if (!dataTable) return;\n",
              "\n",
              "          const docLinkHtml = 'Like what you see? Visit the ' +\n",
              "            '<a target=\"_blank\" href=https://colab.research.google.com/notebooks/data_table.ipynb>data table notebook</a>'\n",
              "            + ' to learn more about interactive tables.';\n",
              "          element.innerHTML = '';\n",
              "          dataTable['output_type'] = 'display_data';\n",
              "          await google.colab.output.renderOutput(dataTable, element);\n",
              "          const docLink = document.createElement('div');\n",
              "          docLink.innerHTML = docLinkHtml;\n",
              "          element.appendChild(docLink);\n",
              "        }\n",
              "      </script>\n",
              "    </div>\n",
              "  </div>\n",
              "  "
            ]
          },
          "metadata": {},
          "execution_count": 238
        }
      ]
    },
    {
      "cell_type": "markdown",
      "source": [
        "#### Drop Option"
      ],
      "metadata": {
        "id": "u-v977ikgT_q"
      }
    },
    {
      "cell_type": "markdown",
      "source": [
        "##### Above Threshold"
      ],
      "metadata": {
        "id": "CDu17hN5gnTN"
      }
    },
    {
      "cell_type": "code",
      "source": [
        "# threshold = 0.7\n",
        "#Dropping columns with missing value rate higher than threshold\n",
        "# data = data[data.columns[data.isnull().mean() < threshold]]\n",
        "\n",
        "#Dropping rows with missing value rate higher than threshold\n",
        "# data = data.loc[data.isnull().mean(axis=1) < threshold]"
      ],
      "metadata": {
        "id": "c39qkTcwgGNu"
      },
      "execution_count": 239,
      "outputs": []
    },
    {
      "cell_type": "markdown",
      "source": [
        "##### All Nulls"
      ],
      "metadata": {
        "id": "l6zvp3Acgpqc"
      }
    },
    {
      "cell_type": "code",
      "source": [
        "data = data.dropna()"
      ],
      "metadata": {
        "id": "dCl4o4e3gvqu"
      },
      "execution_count": 240,
      "outputs": []
    },
    {
      "cell_type": "markdown",
      "source": [
        "#### Fill Option"
      ],
      "metadata": {
        "id": "3wDh0VB_gci2"
      }
    },
    {
      "cell_type": "markdown",
      "source": [
        "##### Numeric: Fill with Zero"
      ],
      "metadata": {
        "id": "rfDL32d5h5k7"
      }
    },
    {
      "cell_type": "code",
      "source": [
        "# filling all missing values with 0\n",
        "# data = data.fillna(0)"
      ],
      "metadata": {
        "id": "F69vKtgUgME8"
      },
      "execution_count": 241,
      "outputs": []
    },
    {
      "cell_type": "markdown",
      "source": [
        "##### Numeric: Fill with Median"
      ],
      "metadata": {
        "id": "MouQOtD7geOV"
      }
    },
    {
      "cell_type": "code",
      "source": [
        "# filling missing values with medians of the columns\n",
        "# data = data.fillna(data.median())"
      ],
      "metadata": {
        "id": "j6GicM8qgYOy"
      },
      "execution_count": 242,
      "outputs": []
    },
    {
      "cell_type": "markdown",
      "source": [
        "String: Fill with Categorical Most Common Value"
      ],
      "metadata": {
        "id": "HmRepKyHgfjo"
      }
    },
    {
      "cell_type": "code",
      "source": [
        ""
      ],
      "metadata": {
        "id": "LxQgbD1eh_oj"
      },
      "execution_count": 242,
      "outputs": []
    },
    {
      "cell_type": "markdown",
      "source": [
        "#### Check Missing Values Again After Data Transformation"
      ],
      "metadata": {
        "id": "LCvAaYt1gVis"
      }
    },
    {
      "cell_type": "code",
      "source": [
        "dataset.nan_check(data)"
      ],
      "metadata": {
        "colab": {
          "base_uri": "https://localhost:8080/",
          "height": 269
        },
        "id": "vYIx8LxrgdfL",
        "outputId": "366e39a1-b11d-4892-d80e-a43ea9160381"
      },
      "execution_count": 243,
      "outputs": [
        {
          "output_type": "execute_result",
          "data": {
            "text/plain": [
              "                   Total    %\n",
              "species                0  0.0\n",
              "island                 0  0.0\n",
              "culmen_length_mm       0  0.0\n",
              "culmen_depth_mm        0  0.0\n",
              "flipper_length_mm      0  0.0\n",
              "body_mass_g            0  0.0\n",
              "sex                    0  0.0"
            ],
            "text/html": [
              "\n",
              "  <div id=\"df-f300156c-8ccd-4d47-a25f-2c581ad3743d\">\n",
              "    <div class=\"colab-df-container\">\n",
              "      <div>\n",
              "<style scoped>\n",
              "    .dataframe tbody tr th:only-of-type {\n",
              "        vertical-align: middle;\n",
              "    }\n",
              "\n",
              "    .dataframe tbody tr th {\n",
              "        vertical-align: top;\n",
              "    }\n",
              "\n",
              "    .dataframe thead th {\n",
              "        text-align: right;\n",
              "    }\n",
              "</style>\n",
              "<table border=\"1\" class=\"dataframe\">\n",
              "  <thead>\n",
              "    <tr style=\"text-align: right;\">\n",
              "      <th></th>\n",
              "      <th>Total</th>\n",
              "      <th>%</th>\n",
              "    </tr>\n",
              "  </thead>\n",
              "  <tbody>\n",
              "    <tr>\n",
              "      <th>species</th>\n",
              "      <td>0</td>\n",
              "      <td>0.0</td>\n",
              "    </tr>\n",
              "    <tr>\n",
              "      <th>island</th>\n",
              "      <td>0</td>\n",
              "      <td>0.0</td>\n",
              "    </tr>\n",
              "    <tr>\n",
              "      <th>culmen_length_mm</th>\n",
              "      <td>0</td>\n",
              "      <td>0.0</td>\n",
              "    </tr>\n",
              "    <tr>\n",
              "      <th>culmen_depth_mm</th>\n",
              "      <td>0</td>\n",
              "      <td>0.0</td>\n",
              "    </tr>\n",
              "    <tr>\n",
              "      <th>flipper_length_mm</th>\n",
              "      <td>0</td>\n",
              "      <td>0.0</td>\n",
              "    </tr>\n",
              "    <tr>\n",
              "      <th>body_mass_g</th>\n",
              "      <td>0</td>\n",
              "      <td>0.0</td>\n",
              "    </tr>\n",
              "    <tr>\n",
              "      <th>sex</th>\n",
              "      <td>0</td>\n",
              "      <td>0.0</td>\n",
              "    </tr>\n",
              "  </tbody>\n",
              "</table>\n",
              "</div>\n",
              "      <button class=\"colab-df-convert\" onclick=\"convertToInteractive('df-f300156c-8ccd-4d47-a25f-2c581ad3743d')\"\n",
              "              title=\"Convert this dataframe to an interactive table.\"\n",
              "              style=\"display:none;\">\n",
              "        \n",
              "  <svg xmlns=\"http://www.w3.org/2000/svg\" height=\"24px\"viewBox=\"0 0 24 24\"\n",
              "       width=\"24px\">\n",
              "    <path d=\"M0 0h24v24H0V0z\" fill=\"none\"/>\n",
              "    <path d=\"M18.56 5.44l.94 2.06.94-2.06 2.06-.94-2.06-.94-.94-2.06-.94 2.06-2.06.94zm-11 1L8.5 8.5l.94-2.06 2.06-.94-2.06-.94L8.5 2.5l-.94 2.06-2.06.94zm10 10l.94 2.06.94-2.06 2.06-.94-2.06-.94-.94-2.06-.94 2.06-2.06.94z\"/><path d=\"M17.41 7.96l-1.37-1.37c-.4-.4-.92-.59-1.43-.59-.52 0-1.04.2-1.43.59L10.3 9.45l-7.72 7.72c-.78.78-.78 2.05 0 2.83L4 21.41c.39.39.9.59 1.41.59.51 0 1.02-.2 1.41-.59l7.78-7.78 2.81-2.81c.8-.78.8-2.07 0-2.86zM5.41 20L4 18.59l7.72-7.72 1.47 1.35L5.41 20z\"/>\n",
              "  </svg>\n",
              "      </button>\n",
              "      \n",
              "  <style>\n",
              "    .colab-df-container {\n",
              "      display:flex;\n",
              "      flex-wrap:wrap;\n",
              "      gap: 12px;\n",
              "    }\n",
              "\n",
              "    .colab-df-convert {\n",
              "      background-color: #E8F0FE;\n",
              "      border: none;\n",
              "      border-radius: 50%;\n",
              "      cursor: pointer;\n",
              "      display: none;\n",
              "      fill: #1967D2;\n",
              "      height: 32px;\n",
              "      padding: 0 0 0 0;\n",
              "      width: 32px;\n",
              "    }\n",
              "\n",
              "    .colab-df-convert:hover {\n",
              "      background-color: #E2EBFA;\n",
              "      box-shadow: 0px 1px 2px rgba(60, 64, 67, 0.3), 0px 1px 3px 1px rgba(60, 64, 67, 0.15);\n",
              "      fill: #174EA6;\n",
              "    }\n",
              "\n",
              "    [theme=dark] .colab-df-convert {\n",
              "      background-color: #3B4455;\n",
              "      fill: #D2E3FC;\n",
              "    }\n",
              "\n",
              "    [theme=dark] .colab-df-convert:hover {\n",
              "      background-color: #434B5C;\n",
              "      box-shadow: 0px 1px 3px 1px rgba(0, 0, 0, 0.15);\n",
              "      filter: drop-shadow(0px 1px 2px rgba(0, 0, 0, 0.3));\n",
              "      fill: #FFFFFF;\n",
              "    }\n",
              "  </style>\n",
              "\n",
              "      <script>\n",
              "        const buttonEl =\n",
              "          document.querySelector('#df-f300156c-8ccd-4d47-a25f-2c581ad3743d button.colab-df-convert');\n",
              "        buttonEl.style.display =\n",
              "          google.colab.kernel.accessAllowed ? 'block' : 'none';\n",
              "\n",
              "        async function convertToInteractive(key) {\n",
              "          const element = document.querySelector('#df-f300156c-8ccd-4d47-a25f-2c581ad3743d');\n",
              "          const dataTable =\n",
              "            await google.colab.kernel.invokeFunction('convertToInteractive',\n",
              "                                                     [key], {});\n",
              "          if (!dataTable) return;\n",
              "\n",
              "          const docLinkHtml = 'Like what you see? Visit the ' +\n",
              "            '<a target=\"_blank\" href=https://colab.research.google.com/notebooks/data_table.ipynb>data table notebook</a>'\n",
              "            + ' to learn more about interactive tables.';\n",
              "          element.innerHTML = '';\n",
              "          dataTable['output_type'] = 'display_data';\n",
              "          await google.colab.output.renderOutput(dataTable, element);\n",
              "          const docLink = document.createElement('div');\n",
              "          docLink.innerHTML = docLinkHtml;\n",
              "          element.appendChild(docLink);\n",
              "        }\n",
              "      </script>\n",
              "    </div>\n",
              "  </div>\n",
              "  "
            ]
          },
          "metadata": {},
          "execution_count": 243
        }
      ]
    },
    {
      "cell_type": "markdown",
      "source": [
        "### One-Hot Encoding"
      ],
      "metadata": {
        "id": "E4ZQY56eh4d-"
      }
    },
    {
      "cell_type": "code",
      "source": [
        "pd.get_dummies(data[categorical_column_names], drop_first=True)"
      ],
      "metadata": {
        "id": "Kin-mGJXiCsm",
        "colab": {
          "base_uri": "https://localhost:8080/",
          "height": 424
        },
        "outputId": "44e91540-49e2-4aee-c8ad-30ab54b019db"
      },
      "execution_count": 244,
      "outputs": [
        {
          "output_type": "execute_result",
          "data": {
            "text/plain": [
              "     island_Dream  island_Torgersen  sex_FEMALE  sex_MALE\n",
              "0               0                 1           0         1\n",
              "1               0                 1           1         0\n",
              "2               0                 1           1         0\n",
              "4               0                 1           1         0\n",
              "5               0                 1           0         1\n",
              "..            ...               ...         ...       ...\n",
              "338             0                 0           1         0\n",
              "340             0                 0           1         0\n",
              "341             0                 0           0         1\n",
              "342             0                 0           1         0\n",
              "343             0                 0           0         1\n",
              "\n",
              "[325 rows x 4 columns]"
            ],
            "text/html": [
              "\n",
              "  <div id=\"df-77371c96-fcfa-4f79-bacc-3a7850aa9767\">\n",
              "    <div class=\"colab-df-container\">\n",
              "      <div>\n",
              "<style scoped>\n",
              "    .dataframe tbody tr th:only-of-type {\n",
              "        vertical-align: middle;\n",
              "    }\n",
              "\n",
              "    .dataframe tbody tr th {\n",
              "        vertical-align: top;\n",
              "    }\n",
              "\n",
              "    .dataframe thead th {\n",
              "        text-align: right;\n",
              "    }\n",
              "</style>\n",
              "<table border=\"1\" class=\"dataframe\">\n",
              "  <thead>\n",
              "    <tr style=\"text-align: right;\">\n",
              "      <th></th>\n",
              "      <th>island_Dream</th>\n",
              "      <th>island_Torgersen</th>\n",
              "      <th>sex_FEMALE</th>\n",
              "      <th>sex_MALE</th>\n",
              "    </tr>\n",
              "  </thead>\n",
              "  <tbody>\n",
              "    <tr>\n",
              "      <th>0</th>\n",
              "      <td>0</td>\n",
              "      <td>1</td>\n",
              "      <td>0</td>\n",
              "      <td>1</td>\n",
              "    </tr>\n",
              "    <tr>\n",
              "      <th>1</th>\n",
              "      <td>0</td>\n",
              "      <td>1</td>\n",
              "      <td>1</td>\n",
              "      <td>0</td>\n",
              "    </tr>\n",
              "    <tr>\n",
              "      <th>2</th>\n",
              "      <td>0</td>\n",
              "      <td>1</td>\n",
              "      <td>1</td>\n",
              "      <td>0</td>\n",
              "    </tr>\n",
              "    <tr>\n",
              "      <th>4</th>\n",
              "      <td>0</td>\n",
              "      <td>1</td>\n",
              "      <td>1</td>\n",
              "      <td>0</td>\n",
              "    </tr>\n",
              "    <tr>\n",
              "      <th>5</th>\n",
              "      <td>0</td>\n",
              "      <td>1</td>\n",
              "      <td>0</td>\n",
              "      <td>1</td>\n",
              "    </tr>\n",
              "    <tr>\n",
              "      <th>...</th>\n",
              "      <td>...</td>\n",
              "      <td>...</td>\n",
              "      <td>...</td>\n",
              "      <td>...</td>\n",
              "    </tr>\n",
              "    <tr>\n",
              "      <th>338</th>\n",
              "      <td>0</td>\n",
              "      <td>0</td>\n",
              "      <td>1</td>\n",
              "      <td>0</td>\n",
              "    </tr>\n",
              "    <tr>\n",
              "      <th>340</th>\n",
              "      <td>0</td>\n",
              "      <td>0</td>\n",
              "      <td>1</td>\n",
              "      <td>0</td>\n",
              "    </tr>\n",
              "    <tr>\n",
              "      <th>341</th>\n",
              "      <td>0</td>\n",
              "      <td>0</td>\n",
              "      <td>0</td>\n",
              "      <td>1</td>\n",
              "    </tr>\n",
              "    <tr>\n",
              "      <th>342</th>\n",
              "      <td>0</td>\n",
              "      <td>0</td>\n",
              "      <td>1</td>\n",
              "      <td>0</td>\n",
              "    </tr>\n",
              "    <tr>\n",
              "      <th>343</th>\n",
              "      <td>0</td>\n",
              "      <td>0</td>\n",
              "      <td>0</td>\n",
              "      <td>1</td>\n",
              "    </tr>\n",
              "  </tbody>\n",
              "</table>\n",
              "<p>325 rows × 4 columns</p>\n",
              "</div>\n",
              "      <button class=\"colab-df-convert\" onclick=\"convertToInteractive('df-77371c96-fcfa-4f79-bacc-3a7850aa9767')\"\n",
              "              title=\"Convert this dataframe to an interactive table.\"\n",
              "              style=\"display:none;\">\n",
              "        \n",
              "  <svg xmlns=\"http://www.w3.org/2000/svg\" height=\"24px\"viewBox=\"0 0 24 24\"\n",
              "       width=\"24px\">\n",
              "    <path d=\"M0 0h24v24H0V0z\" fill=\"none\"/>\n",
              "    <path d=\"M18.56 5.44l.94 2.06.94-2.06 2.06-.94-2.06-.94-.94-2.06-.94 2.06-2.06.94zm-11 1L8.5 8.5l.94-2.06 2.06-.94-2.06-.94L8.5 2.5l-.94 2.06-2.06.94zm10 10l.94 2.06.94-2.06 2.06-.94-2.06-.94-.94-2.06-.94 2.06-2.06.94z\"/><path d=\"M17.41 7.96l-1.37-1.37c-.4-.4-.92-.59-1.43-.59-.52 0-1.04.2-1.43.59L10.3 9.45l-7.72 7.72c-.78.78-.78 2.05 0 2.83L4 21.41c.39.39.9.59 1.41.59.51 0 1.02-.2 1.41-.59l7.78-7.78 2.81-2.81c.8-.78.8-2.07 0-2.86zM5.41 20L4 18.59l7.72-7.72 1.47 1.35L5.41 20z\"/>\n",
              "  </svg>\n",
              "      </button>\n",
              "      \n",
              "  <style>\n",
              "    .colab-df-container {\n",
              "      display:flex;\n",
              "      flex-wrap:wrap;\n",
              "      gap: 12px;\n",
              "    }\n",
              "\n",
              "    .colab-df-convert {\n",
              "      background-color: #E8F0FE;\n",
              "      border: none;\n",
              "      border-radius: 50%;\n",
              "      cursor: pointer;\n",
              "      display: none;\n",
              "      fill: #1967D2;\n",
              "      height: 32px;\n",
              "      padding: 0 0 0 0;\n",
              "      width: 32px;\n",
              "    }\n",
              "\n",
              "    .colab-df-convert:hover {\n",
              "      background-color: #E2EBFA;\n",
              "      box-shadow: 0px 1px 2px rgba(60, 64, 67, 0.3), 0px 1px 3px 1px rgba(60, 64, 67, 0.15);\n",
              "      fill: #174EA6;\n",
              "    }\n",
              "\n",
              "    [theme=dark] .colab-df-convert {\n",
              "      background-color: #3B4455;\n",
              "      fill: #D2E3FC;\n",
              "    }\n",
              "\n",
              "    [theme=dark] .colab-df-convert:hover {\n",
              "      background-color: #434B5C;\n",
              "      box-shadow: 0px 1px 3px 1px rgba(0, 0, 0, 0.15);\n",
              "      filter: drop-shadow(0px 1px 2px rgba(0, 0, 0, 0.3));\n",
              "      fill: #FFFFFF;\n",
              "    }\n",
              "  </style>\n",
              "\n",
              "      <script>\n",
              "        const buttonEl =\n",
              "          document.querySelector('#df-77371c96-fcfa-4f79-bacc-3a7850aa9767 button.colab-df-convert');\n",
              "        buttonEl.style.display =\n",
              "          google.colab.kernel.accessAllowed ? 'block' : 'none';\n",
              "\n",
              "        async function convertToInteractive(key) {\n",
              "          const element = document.querySelector('#df-77371c96-fcfa-4f79-bacc-3a7850aa9767');\n",
              "          const dataTable =\n",
              "            await google.colab.kernel.invokeFunction('convertToInteractive',\n",
              "                                                     [key], {});\n",
              "          if (!dataTable) return;\n",
              "\n",
              "          const docLinkHtml = 'Like what you see? Visit the ' +\n",
              "            '<a target=\"_blank\" href=https://colab.research.google.com/notebooks/data_table.ipynb>data table notebook</a>'\n",
              "            + ' to learn more about interactive tables.';\n",
              "          element.innerHTML = '';\n",
              "          dataTable['output_type'] = 'display_data';\n",
              "          await google.colab.output.renderOutput(dataTable, element);\n",
              "          const docLink = document.createElement('div');\n",
              "          docLink.innerHTML = docLinkHtml;\n",
              "          element.appendChild(docLink);\n",
              "        }\n",
              "      </script>\n",
              "    </div>\n",
              "  </div>\n",
              "  "
            ]
          },
          "metadata": {},
          "execution_count": 244
        }
      ]
    },
    {
      "cell_type": "markdown",
      "source": [
        "#### Check Column List After One Hot Encoding Categorical Data"
      ],
      "metadata": {
        "id": "glXalIFTo5PZ"
      }
    },
    {
      "cell_type": "code",
      "source": [
        "data.columns"
      ],
      "metadata": {
        "colab": {
          "base_uri": "https://localhost:8080/"
        },
        "id": "X2F0M4A6o_lF",
        "outputId": "c619eb6c-f958-460e-ac03-79f6e0071b2f"
      },
      "execution_count": 245,
      "outputs": [
        {
          "output_type": "execute_result",
          "data": {
            "text/plain": [
              "Index(['species', 'island', 'culmen_length_mm', 'culmen_depth_mm',\n",
              "       'flipper_length_mm', 'body_mass_g', 'sex'],\n",
              "      dtype='object')"
            ]
          },
          "metadata": {},
          "execution_count": 245
        }
      ]
    },
    {
      "cell_type": "code",
      "source": [
        "data.head()"
      ],
      "metadata": {
        "colab": {
          "base_uri": "https://localhost:8080/",
          "height": 206
        },
        "id": "rVP6LguQod2q",
        "outputId": "7d223431-338d-4763-ee0f-e2af118e4252"
      },
      "execution_count": 246,
      "outputs": [
        {
          "output_type": "execute_result",
          "data": {
            "text/plain": [
              "  species     island  culmen_length_mm  culmen_depth_mm  flipper_length_mm  \\\n",
              "0  Adelie  Torgersen              39.1             18.7              181.0   \n",
              "1  Adelie  Torgersen              39.5             17.4              186.0   \n",
              "2  Adelie  Torgersen              40.3             18.0              195.0   \n",
              "4  Adelie  Torgersen              36.7             19.3              193.0   \n",
              "5  Adelie  Torgersen              39.3             20.6              190.0   \n",
              "\n",
              "   body_mass_g     sex  \n",
              "0       3750.0    MALE  \n",
              "1       3800.0  FEMALE  \n",
              "2       3250.0  FEMALE  \n",
              "4       3450.0  FEMALE  \n",
              "5       3650.0    MALE  "
            ],
            "text/html": [
              "\n",
              "  <div id=\"df-d83d270b-7ff0-4937-bb4a-e388fa7a9b56\">\n",
              "    <div class=\"colab-df-container\">\n",
              "      <div>\n",
              "<style scoped>\n",
              "    .dataframe tbody tr th:only-of-type {\n",
              "        vertical-align: middle;\n",
              "    }\n",
              "\n",
              "    .dataframe tbody tr th {\n",
              "        vertical-align: top;\n",
              "    }\n",
              "\n",
              "    .dataframe thead th {\n",
              "        text-align: right;\n",
              "    }\n",
              "</style>\n",
              "<table border=\"1\" class=\"dataframe\">\n",
              "  <thead>\n",
              "    <tr style=\"text-align: right;\">\n",
              "      <th></th>\n",
              "      <th>species</th>\n",
              "      <th>island</th>\n",
              "      <th>culmen_length_mm</th>\n",
              "      <th>culmen_depth_mm</th>\n",
              "      <th>flipper_length_mm</th>\n",
              "      <th>body_mass_g</th>\n",
              "      <th>sex</th>\n",
              "    </tr>\n",
              "  </thead>\n",
              "  <tbody>\n",
              "    <tr>\n",
              "      <th>0</th>\n",
              "      <td>Adelie</td>\n",
              "      <td>Torgersen</td>\n",
              "      <td>39.1</td>\n",
              "      <td>18.7</td>\n",
              "      <td>181.0</td>\n",
              "      <td>3750.0</td>\n",
              "      <td>MALE</td>\n",
              "    </tr>\n",
              "    <tr>\n",
              "      <th>1</th>\n",
              "      <td>Adelie</td>\n",
              "      <td>Torgersen</td>\n",
              "      <td>39.5</td>\n",
              "      <td>17.4</td>\n",
              "      <td>186.0</td>\n",
              "      <td>3800.0</td>\n",
              "      <td>FEMALE</td>\n",
              "    </tr>\n",
              "    <tr>\n",
              "      <th>2</th>\n",
              "      <td>Adelie</td>\n",
              "      <td>Torgersen</td>\n",
              "      <td>40.3</td>\n",
              "      <td>18.0</td>\n",
              "      <td>195.0</td>\n",
              "      <td>3250.0</td>\n",
              "      <td>FEMALE</td>\n",
              "    </tr>\n",
              "    <tr>\n",
              "      <th>4</th>\n",
              "      <td>Adelie</td>\n",
              "      <td>Torgersen</td>\n",
              "      <td>36.7</td>\n",
              "      <td>19.3</td>\n",
              "      <td>193.0</td>\n",
              "      <td>3450.0</td>\n",
              "      <td>FEMALE</td>\n",
              "    </tr>\n",
              "    <tr>\n",
              "      <th>5</th>\n",
              "      <td>Adelie</td>\n",
              "      <td>Torgersen</td>\n",
              "      <td>39.3</td>\n",
              "      <td>20.6</td>\n",
              "      <td>190.0</td>\n",
              "      <td>3650.0</td>\n",
              "      <td>MALE</td>\n",
              "    </tr>\n",
              "  </tbody>\n",
              "</table>\n",
              "</div>\n",
              "      <button class=\"colab-df-convert\" onclick=\"convertToInteractive('df-d83d270b-7ff0-4937-bb4a-e388fa7a9b56')\"\n",
              "              title=\"Convert this dataframe to an interactive table.\"\n",
              "              style=\"display:none;\">\n",
              "        \n",
              "  <svg xmlns=\"http://www.w3.org/2000/svg\" height=\"24px\"viewBox=\"0 0 24 24\"\n",
              "       width=\"24px\">\n",
              "    <path d=\"M0 0h24v24H0V0z\" fill=\"none\"/>\n",
              "    <path d=\"M18.56 5.44l.94 2.06.94-2.06 2.06-.94-2.06-.94-.94-2.06-.94 2.06-2.06.94zm-11 1L8.5 8.5l.94-2.06 2.06-.94-2.06-.94L8.5 2.5l-.94 2.06-2.06.94zm10 10l.94 2.06.94-2.06 2.06-.94-2.06-.94-.94-2.06-.94 2.06-2.06.94z\"/><path d=\"M17.41 7.96l-1.37-1.37c-.4-.4-.92-.59-1.43-.59-.52 0-1.04.2-1.43.59L10.3 9.45l-7.72 7.72c-.78.78-.78 2.05 0 2.83L4 21.41c.39.39.9.59 1.41.59.51 0 1.02-.2 1.41-.59l7.78-7.78 2.81-2.81c.8-.78.8-2.07 0-2.86zM5.41 20L4 18.59l7.72-7.72 1.47 1.35L5.41 20z\"/>\n",
              "  </svg>\n",
              "      </button>\n",
              "      \n",
              "  <style>\n",
              "    .colab-df-container {\n",
              "      display:flex;\n",
              "      flex-wrap:wrap;\n",
              "      gap: 12px;\n",
              "    }\n",
              "\n",
              "    .colab-df-convert {\n",
              "      background-color: #E8F0FE;\n",
              "      border: none;\n",
              "      border-radius: 50%;\n",
              "      cursor: pointer;\n",
              "      display: none;\n",
              "      fill: #1967D2;\n",
              "      height: 32px;\n",
              "      padding: 0 0 0 0;\n",
              "      width: 32px;\n",
              "    }\n",
              "\n",
              "    .colab-df-convert:hover {\n",
              "      background-color: #E2EBFA;\n",
              "      box-shadow: 0px 1px 2px rgba(60, 64, 67, 0.3), 0px 1px 3px 1px rgba(60, 64, 67, 0.15);\n",
              "      fill: #174EA6;\n",
              "    }\n",
              "\n",
              "    [theme=dark] .colab-df-convert {\n",
              "      background-color: #3B4455;\n",
              "      fill: #D2E3FC;\n",
              "    }\n",
              "\n",
              "    [theme=dark] .colab-df-convert:hover {\n",
              "      background-color: #434B5C;\n",
              "      box-shadow: 0px 1px 3px 1px rgba(0, 0, 0, 0.15);\n",
              "      filter: drop-shadow(0px 1px 2px rgba(0, 0, 0, 0.3));\n",
              "      fill: #FFFFFF;\n",
              "    }\n",
              "  </style>\n",
              "\n",
              "      <script>\n",
              "        const buttonEl =\n",
              "          document.querySelector('#df-d83d270b-7ff0-4937-bb4a-e388fa7a9b56 button.colab-df-convert');\n",
              "        buttonEl.style.display =\n",
              "          google.colab.kernel.accessAllowed ? 'block' : 'none';\n",
              "\n",
              "        async function convertToInteractive(key) {\n",
              "          const element = document.querySelector('#df-d83d270b-7ff0-4937-bb4a-e388fa7a9b56');\n",
              "          const dataTable =\n",
              "            await google.colab.kernel.invokeFunction('convertToInteractive',\n",
              "                                                     [key], {});\n",
              "          if (!dataTable) return;\n",
              "\n",
              "          const docLinkHtml = 'Like what you see? Visit the ' +\n",
              "            '<a target=\"_blank\" href=https://colab.research.google.com/notebooks/data_table.ipynb>data table notebook</a>'\n",
              "            + ' to learn more about interactive tables.';\n",
              "          element.innerHTML = '';\n",
              "          dataTable['output_type'] = 'display_data';\n",
              "          await google.colab.output.renderOutput(dataTable, element);\n",
              "          const docLink = document.createElement('div');\n",
              "          docLink.innerHTML = docLinkHtml;\n",
              "          element.appendChild(docLink);\n",
              "        }\n",
              "      </script>\n",
              "    </div>\n",
              "  </div>\n",
              "  "
            ]
          },
          "metadata": {},
          "execution_count": 246
        }
      ]
    },
    {
      "cell_type": "markdown",
      "source": [
        "### Splitting"
      ],
      "metadata": {
        "id": "F9GQmrCfiK4K"
      }
    },
    {
      "cell_type": "markdown",
      "source": [
        "##### Strings"
      ],
      "metadata": {
        "id": "OzmV8g3NiY9Y"
      }
    },
    {
      "cell_type": "code",
      "source": [
        "# data.full_name\n",
        "#Extracting first names\n",
        "# data.full_name.str.split(\" \").map(lambda x: x[0])\n",
        "#Extracting last names\n",
        "# data.full_name.str.split(\" \").map(lambda x: x[-1])"
      ],
      "metadata": {
        "id": "-j8rO9FDiNQH",
        "colab": {
          "base_uri": "https://localhost:8080/",
          "height": 356
        },
        "outputId": "4dbea864-4daf-4b10-ae77-bb2336e50ef4"
      },
      "execution_count": 247,
      "outputs": [
        {
          "output_type": "error",
          "ename": "AttributeError",
          "evalue": "ignored",
          "traceback": [
            "\u001b[0;31m---------------------------------------------------------------------------\u001b[0m",
            "\u001b[0;31mAttributeError\u001b[0m                            Traceback (most recent call last)",
            "\u001b[0;32m<ipython-input-247-c84f81eed55d>\u001b[0m in \u001b[0;36m<module>\u001b[0;34m()\u001b[0m\n\u001b[0;32m----> 1\u001b[0;31m \u001b[0mdata\u001b[0m\u001b[0;34m.\u001b[0m\u001b[0mfull_name\u001b[0m\u001b[0;34m\u001b[0m\u001b[0;34m\u001b[0m\u001b[0m\n\u001b[0m\u001b[1;32m      2\u001b[0m \u001b[0;31m#Extracting first names\u001b[0m\u001b[0;34m\u001b[0m\u001b[0;34m\u001b[0m\u001b[0;34m\u001b[0m\u001b[0m\n\u001b[1;32m      3\u001b[0m \u001b[0mdata\u001b[0m\u001b[0;34m.\u001b[0m\u001b[0mfull_name\u001b[0m\u001b[0;34m.\u001b[0m\u001b[0mstr\u001b[0m\u001b[0;34m.\u001b[0m\u001b[0msplit\u001b[0m\u001b[0;34m(\u001b[0m\u001b[0;34m\" \"\u001b[0m\u001b[0;34m)\u001b[0m\u001b[0;34m.\u001b[0m\u001b[0mmap\u001b[0m\u001b[0;34m(\u001b[0m\u001b[0;32mlambda\u001b[0m \u001b[0mx\u001b[0m\u001b[0;34m:\u001b[0m \u001b[0mx\u001b[0m\u001b[0;34m[\u001b[0m\u001b[0;36m0\u001b[0m\u001b[0;34m]\u001b[0m\u001b[0;34m)\u001b[0m\u001b[0;34m\u001b[0m\u001b[0;34m\u001b[0m\u001b[0m\n\u001b[1;32m      4\u001b[0m \u001b[0;31m#Extracting last names\u001b[0m\u001b[0;34m\u001b[0m\u001b[0;34m\u001b[0m\u001b[0;34m\u001b[0m\u001b[0m\n\u001b[1;32m      5\u001b[0m \u001b[0mdata\u001b[0m\u001b[0;34m.\u001b[0m\u001b[0mfull_name\u001b[0m\u001b[0;34m.\u001b[0m\u001b[0mstr\u001b[0m\u001b[0;34m.\u001b[0m\u001b[0msplit\u001b[0m\u001b[0;34m(\u001b[0m\u001b[0;34m\" \"\u001b[0m\u001b[0;34m)\u001b[0m\u001b[0;34m.\u001b[0m\u001b[0mmap\u001b[0m\u001b[0;34m(\u001b[0m\u001b[0;32mlambda\u001b[0m \u001b[0mx\u001b[0m\u001b[0;34m:\u001b[0m \u001b[0mx\u001b[0m\u001b[0;34m[\u001b[0m\u001b[0;34m-\u001b[0m\u001b[0;36m1\u001b[0m\u001b[0;34m]\u001b[0m\u001b[0;34m)\u001b[0m\u001b[0;34m\u001b[0m\u001b[0;34m\u001b[0m\u001b[0m\n",
            "\u001b[0;32m/usr/local/lib/python3.7/dist-packages/pandas/core/generic.py\u001b[0m in \u001b[0;36m__getattr__\u001b[0;34m(self, name)\u001b[0m\n\u001b[1;32m   5485\u001b[0m         ):\n\u001b[1;32m   5486\u001b[0m             \u001b[0;32mreturn\u001b[0m \u001b[0mself\u001b[0m\u001b[0;34m[\u001b[0m\u001b[0mname\u001b[0m\u001b[0;34m]\u001b[0m\u001b[0;34m\u001b[0m\u001b[0;34m\u001b[0m\u001b[0m\n\u001b[0;32m-> 5487\u001b[0;31m         \u001b[0;32mreturn\u001b[0m \u001b[0mobject\u001b[0m\u001b[0;34m.\u001b[0m\u001b[0m__getattribute__\u001b[0m\u001b[0;34m(\u001b[0m\u001b[0mself\u001b[0m\u001b[0;34m,\u001b[0m \u001b[0mname\u001b[0m\u001b[0;34m)\u001b[0m\u001b[0;34m\u001b[0m\u001b[0;34m\u001b[0m\u001b[0m\n\u001b[0m\u001b[1;32m   5488\u001b[0m \u001b[0;34m\u001b[0m\u001b[0m\n\u001b[1;32m   5489\u001b[0m     \u001b[0;32mdef\u001b[0m \u001b[0m__setattr__\u001b[0m\u001b[0;34m(\u001b[0m\u001b[0mself\u001b[0m\u001b[0;34m,\u001b[0m \u001b[0mname\u001b[0m\u001b[0;34m:\u001b[0m \u001b[0mstr\u001b[0m\u001b[0;34m,\u001b[0m \u001b[0mvalue\u001b[0m\u001b[0;34m)\u001b[0m \u001b[0;34m->\u001b[0m \u001b[0;32mNone\u001b[0m\u001b[0;34m:\u001b[0m\u001b[0;34m\u001b[0m\u001b[0;34m\u001b[0m\u001b[0m\n",
            "\u001b[0;31mAttributeError\u001b[0m: 'DataFrame' object has no attribute 'full_name'"
          ]
        }
      ]
    },
    {
      "cell_type": "markdown",
      "source": [
        "##### Numbers"
      ],
      "metadata": {
        "id": "R-C1tyOMiiVD"
      }
    },
    {
      "cell_type": "code",
      "source": [
        "# find a method that splits at the decimal or rounds"
      ],
      "metadata": {
        "id": "0yj8uWnuitNA"
      },
      "execution_count": null,
      "outputs": []
    },
    {
      "cell_type": "markdown",
      "source": [
        "### Other String Cleaning Methods (e.g. regex)"
      ],
      "metadata": {
        "id": "DMmTb6UBtVjt"
      }
    },
    {
      "cell_type": "markdown",
      "source": [
        "### Scaling"
      ],
      "metadata": {
        "id": "jVBeVd0cjTn6"
      }
    },
    {
      "cell_type": "markdown",
      "source": [
        "##### Normalization"
      ],
      "metadata": {
        "id": "gnVmRnY-jjPT"
      }
    },
    {
      "cell_type": "code",
      "source": [
        "data['normalized_label'] = (data[continuous_label] - data[continuous_label].min()) / (data[continuous_label].max() - data[continuous_label].min())"
      ],
      "metadata": {
        "id": "yvGag4uzjwMg"
      },
      "execution_count": 249,
      "outputs": []
    },
    {
      "cell_type": "markdown",
      "source": [
        "##### Standardization"
      ],
      "metadata": {
        "id": "2y8kQczJjlD5"
      }
    },
    {
      "cell_type": "code",
      "source": [
        "data['standardized_label'] = (data[continuous_label] - data[continuous_label].mean()) / data[continuous_label].std()"
      ],
      "metadata": {
        "id": "cCWJbC1fjtQX"
      },
      "execution_count": 250,
      "outputs": []
    },
    {
      "cell_type": "markdown",
      "source": [
        "##### Pipelines\n",
        "\n",
        "Normally scaling is done in the context of a pipeline. Make sure to grab an example of this."
      ],
      "metadata": {
        "id": "3k_IXoJVq_Y_"
      }
    },
    {
      "cell_type": "code",
      "source": [
        ""
      ],
      "metadata": {
        "id": "XhIuuK6irBQr"
      },
      "execution_count": null,
      "outputs": []
    },
    {
      "cell_type": "markdown",
      "source": [
        "### Date Handling"
      ],
      "metadata": {
        "id": "OLHvI1hljoe7"
      }
    },
    {
      "cell_type": "code",
      "source": [
        "# #Transform string to date\n",
        "# data['date'] = pd.to_datetime(data.date, format=\"%d-%m-%Y\")\n",
        "\n",
        "# #Extracting Year\n",
        "# data['year'] = data['date'].dt.year\n",
        "\n",
        "# #Extracting Month\n",
        "# data['month'] = data['date'].dt.month\n",
        "\n",
        "# #Extracting passed years since the date\n",
        "# data['passed_years'] = date.today().year - data['date'].dt.year\n",
        "\n",
        "# #Extracting passed months since the date\n",
        "# data['passed_months'] = (date.today().year - data['date'].dt.year) * 12 + date.today().month - data['date'].dt.month\n",
        "\n",
        "# #Extracting the weekday name of the date\n",
        "# data['day_name'] = data['date'].dt.day_name()"
      ],
      "metadata": {
        "id": "igES1ENUj5ZJ"
      },
      "execution_count": null,
      "outputs": []
    },
    {
      "cell_type": "markdown",
      "source": [
        "### PII & IDs"
      ],
      "metadata": {
        "id": "fwajIn_Qs8QY"
      }
    },
    {
      "cell_type": "code",
      "source": [
        "# TO DO:"
      ],
      "metadata": {
        "id": "j1opmXzlpyEn"
      },
      "execution_count": null,
      "outputs": []
    },
    {
      "cell_type": "markdown",
      "source": [
        "## Experimentation"
      ],
      "metadata": {
        "id": "BfHJazF3KLZP"
      }
    },
    {
      "cell_type": "markdown",
      "source": [
        "### Methods\n"
      ],
      "metadata": {
        "id": "QAv_yBsvKPe3"
      }
    },
    {
      "cell_type": "code",
      "source": [
        "class BasicModelsWithDefaults: \n",
        "  \"\"\"\n",
        "  Basic implementation of looping through machine learning models\n",
        "\n",
        "  :param models: a list of scikit-learn models\n",
        "  :return: a data frame that summarizes the results\n",
        "  \"\"\"\n",
        "\n",
        "  def __init__(self, models, data, model_tracker, experiment_type):\n",
        "    self._models = models\n",
        "    self._size = len(models)\n",
        "    self._data = data\n",
        "    self._model_tracker = model_tracker\n",
        "    self._experiment_type = experiment_type\n",
        "    self._fitted_models = None\n",
        "\n",
        "\n",
        "  def fit(self):\n",
        "    \"\"\"\n",
        "    fits a list of machine learning models with default parameters\n",
        "\n",
        "    :param models: a list of scikit-learn models\n",
        "    :return: a list of fit times\n",
        "    \"\"\"\n",
        "    fitted_models = []\n",
        "\n",
        "    for i in range(self._size):\n",
        "      fitted_i = self._models[i].fit(self._data['X_train'], self._data['y_train'])\n",
        "      fitted_models.append(fitted_i)\n",
        "      self._fitted_models = fitted_models # this might not work\n",
        "    return\n",
        "    \n",
        "\n",
        "  def predict(self):\n",
        "    \"\"\"\n",
        "    predicts results based a list of machine learning models\n",
        "\n",
        "    :param models: a list of fitted_models\n",
        "    :return: a list of predictions\n",
        "    \"\"\"\n",
        "    predictions = []\n",
        "\n",
        "    for model in self._models:\n",
        "      y_pred_train = model.predict(self._data['X_train'])\n",
        "      y_pred_val = model.predict(self._data['X_val'])\n",
        "      # (y_true, y_pred, train_or_test, experiment_type, model_description, dataset, model_tracker)\n",
        "      model_tracker = perf_eval.report_performance(self._data['y_train'], y_pred_train, 'train', self._experiment_type, f'Train {model}', 'X_train' , model_tracker)\n",
        "      model_tracker = perf_eval.report_performance(self._data['y_val'], y_pred_val, 'validate', self._experiment_type, f'Validate {model}', 'X_val' , model_tracker)\n",
        "    return model_tracker\n"
      ],
      "metadata": {
        "id": "lA93A2hGYN-8"
      },
      "execution_count": null,
      "outputs": []
    },
    {
      "cell_type": "code",
      "source": [
        "class Ensemble: \n",
        "  \"\"\"\n",
        "  Basic implementation of an ensemble with majority vote aggregation.\n",
        "\n",
        "  :param models: a list of scikit-learn models\n",
        "  :return: an aggregation of predictions\n",
        "  \"\"\"\n",
        "\n",
        "  def __init__(self, models):\n",
        "    self._models = models\n",
        "    self._size = len(models)\n",
        "\n",
        "  def fit(self, X_train, y_train):\n",
        "    for i in range(self._size):\n",
        "      self._models[i].fit(X_train, y_train)\n",
        "\n",
        "  def predict(self, X_test):\n",
        "    preds = []\n",
        "    for i in range(self._size):\n",
        "      pred_i = self._models[i].predict(X_test)\n",
        "      preds.append(pred_i)\n",
        "    preds = np.vstack(preds)\n",
        "    agg = []\n",
        "    for j in range(preds.shape[1]):\n",
        "      agg.append(np.bincount(preds[:, j]).argmax())\n",
        "    agg = np.array(agg)\n",
        "    return agg"
      ],
      "metadata": {
        "id": "1uh88k1iXVVv"
      },
      "execution_count": null,
      "outputs": []
    },
    {
      "cell_type": "markdown",
      "source": [
        "### Baseline\n",
        "\n",
        "Predict central tendency or most common class as a baseline for comparison."
      ],
      "metadata": {
        "id": "gwAdgYt5KJz2"
      }
    },
    {
      "cell_type": "markdown",
      "source": [
        "#### Classification"
      ],
      "metadata": {
        "id": "g3M6rTSuUMqd"
      }
    },
    {
      "cell_type": "code",
      "source": [
        ""
      ],
      "metadata": {
        "id": "qRLiJS7oUKH6"
      },
      "execution_count": null,
      "outputs": []
    },
    {
      "cell_type": "markdown",
      "source": [
        "#### Regression"
      ],
      "metadata": {
        "id": "uVveSHU3UPkJ"
      }
    },
    {
      "cell_type": "code",
      "source": [
        ""
      ],
      "metadata": {
        "id": "vHVB21lVURoU"
      },
      "execution_count": null,
      "outputs": []
    },
    {
      "cell_type": "markdown",
      "source": [
        "### Experiments"
      ],
      "metadata": {
        "id": "eKvyhkPEKfx5"
      }
    },
    {
      "cell_type": "markdown",
      "source": [
        "#### Classification"
      ],
      "metadata": {
        "id": "1JlK_njONKee"
      }
    },
    {
      "cell_type": "markdown",
      "source": [
        "##### Default Parameters"
      ],
      "metadata": {
        "id": "kdsC01cQL-OU"
      }
    },
    {
      "cell_type": "markdown",
      "source": [
        "##### Bagging"
      ],
      "metadata": {
        "id": "HsYnYgh0cmV7"
      }
    },
    {
      "cell_type": "markdown",
      "source": [
        "##### Boosting"
      ],
      "metadata": {
        "id": "xs2qmkdxcn71"
      }
    },
    {
      "cell_type": "markdown",
      "source": [
        "##### Ensembling"
      ],
      "metadata": {
        "id": "UYfaG34gcWL3"
      }
    },
    {
      "cell_type": "markdown",
      "source": [
        "##### Neural Nets"
      ],
      "metadata": {
        "id": "r8yl_sWRc-4n"
      }
    },
    {
      "cell_type": "markdown",
      "source": [
        "##### Feature Ablation"
      ],
      "metadata": {
        "id": "Y-S7CMPpV8pw"
      }
    },
    {
      "cell_type": "markdown",
      "source": [
        "##### Hyperparamater Optimization"
      ],
      "metadata": {
        "id": "ERCkH46-NXnJ"
      }
    },
    {
      "cell_type": "markdown",
      "source": [
        "#### Regression"
      ],
      "metadata": {
        "id": "pW-6aperNS6y"
      }
    },
    {
      "cell_type": "markdown",
      "source": [
        "##### Default Parameters"
      ],
      "metadata": {
        "id": "eoQUDalINAHm"
      }
    },
    {
      "cell_type": "markdown",
      "source": [
        "##### Bagging\n"
      ],
      "metadata": {
        "id": "uNqGZRMschsm"
      }
    },
    {
      "cell_type": "markdown",
      "source": [
        "##### Boosting"
      ],
      "metadata": {
        "id": "gdo1cxHGcp4Q"
      }
    },
    {
      "cell_type": "markdown",
      "source": [
        "##### Ensembling"
      ],
      "metadata": {
        "id": "cTkazyaWcaHJ"
      }
    },
    {
      "cell_type": "markdown",
      "source": [
        "##### Neural Nets"
      ],
      "metadata": {
        "id": "tmfXEWFydGxU"
      }
    },
    {
      "cell_type": "markdown",
      "source": [
        "##### Feature Ablation"
      ],
      "metadata": {
        "id": "_R0rZVnnV3wJ"
      }
    },
    {
      "cell_type": "markdown",
      "source": [
        "##### Hyperparamater Optimization"
      ],
      "metadata": {
        "id": "U_G5wVllL47g"
      }
    },
    {
      "cell_type": "markdown",
      "source": [
        "## Results"
      ],
      "metadata": {
        "id": "45iNFrTFKkDL"
      }
    },
    {
      "cell_type": "markdown",
      "source": [
        "### Data"
      ],
      "metadata": {
        "id": "tcKzu8lMMK_v"
      }
    },
    {
      "cell_type": "code",
      "source": [
        "auc = roc_auc_score(y_test,y_scores[:,1])\n",
        "print('AUC: ' + str(auc))"
      ],
      "metadata": {
        "id": "GyXexHLPVNjq"
      },
      "execution_count": null,
      "outputs": []
    },
    {
      "cell_type": "markdown",
      "source": [
        "### Visualization"
      ],
      "metadata": {
        "id": "-deoam9PMO85"
      }
    },
    {
      "cell_type": "markdown",
      "source": [
        "#### Classification"
      ],
      "metadata": {
        "id": "M0ZH3TTZWlAH"
      }
    },
    {
      "cell_type": "code",
      "source": [
        "# binary \n",
        "\n",
        "# calculate ROC curve\n",
        "fpr, tpr, thresholds = roc_curve(y_test, y_pred[:,1])\n",
        "\n",
        "# plot ROC curve\n",
        "fig = plt.figure(figsize=(6, 6))\n",
        "# Plot the diagonal 50% line\n",
        "plt.plot([0, 1], [0, 1], 'k--')\n",
        "# Plot the FPR and TPR achieved by our model\n",
        "plt.plot(fpr, tpr)\n",
        "plt.xlabel('False Positive Rate')\n",
        "plt.ylabel('True Positive Rate')\n",
        "plt.title('ROC Curve')\n",
        "plt.show()"
      ],
      "metadata": {
        "id": "O4LIzwFBU7Ns"
      },
      "execution_count": null,
      "outputs": []
    },
    {
      "cell_type": "code",
      "source": [
        "# precision recall curve\n",
        "precision, recall, _ = precision_recall_curve(y_val, best_model.decision_function(X_val))\n",
        "plt.plot(recall, precision, 'b-')\n",
        "precision, recall, _ = precision_recall_curve(y_val, baseline_model.decision_function(X_val))\n",
        "plt.plot(recall, precision, 'r-')\n",
        "plt.title(\"Logistic Regression Precision-Recall curve\")\n",
        "plt.show()"
      ],
      "metadata": {
        "id": "wezyxgUQWa4O"
      },
      "execution_count": null,
      "outputs": []
    },
    {
      "cell_type": "markdown",
      "source": [
        "#### Regression"
      ],
      "metadata": {
        "id": "0Fgt_n3WWjdc"
      }
    },
    {
      "cell_type": "code",
      "source": [
        "precision, recall, _ = precision_recall_curve(y_val, baseline_model.decision_function(X_val))\n",
        "plt.plot(recall, precision, 'b-')\n",
        "precision, recall, _ = precision_recall_curve(y_val, best_model.decision_function(X_val))\n",
        "plt.plot(recall, precision, 'r-')\n",
        "plt.title(\"Precision-Recall curve\")\n",
        "plt.show()"
      ],
      "metadata": {
        "id": "Z8WiauFfWKQ1"
      },
      "execution_count": null,
      "outputs": []
    },
    {
      "cell_type": "markdown",
      "source": [
        "## Discussion"
      ],
      "metadata": {
        "id": "bGcap7zJKl87"
      }
    },
    {
      "cell_type": "markdown",
      "source": [
        "### Best current model"
      ],
      "metadata": {
        "id": "XCbZz_z6MbRy"
      }
    },
    {
      "cell_type": "code",
      "source": [
        "model_tracker.sort_values(by=\"accuracy\", ascending=False)"
      ],
      "metadata": {
        "id": "Dg1nea9VW9sI"
      },
      "execution_count": null,
      "outputs": []
    },
    {
      "cell_type": "markdown",
      "source": [
        "### Error Analysis"
      ],
      "metadata": {
        "id": "GxAQHMZEMjAt"
      }
    },
    {
      "cell_type": "markdown",
      "source": [
        "### Recommendations for Future Work"
      ],
      "metadata": {
        "id": "KamW72-KMXyv"
      }
    },
    {
      "cell_type": "markdown",
      "source": [
        "## Research Journal"
      ],
      "metadata": {
        "id": "EEy_FtQYKb1F"
      }
    },
    {
      "cell_type": "markdown",
      "source": [
        "### Data-Centric Iteration Ideas\n"
      ],
      "metadata": {
        "id": "4DMmfb7YNiQT"
      }
    },
    {
      "cell_type": "markdown",
      "source": [
        "### Model-Centric Iteration Ideas"
      ],
      "metadata": {
        "id": "NOBuDouWNrAX"
      }
    },
    {
      "cell_type": "markdown",
      "source": [
        "### Improvements to the Template\n",
        "\n",
        "- training time tracking\n",
        "- distinguish between binary and multi-class classification"
      ],
      "metadata": {
        "id": "3OQu1g00eJGY"
      }
    },
    {
      "cell_type": "markdown",
      "source": [
        "### Daily Log"
      ],
      "metadata": {
        "id": "9ne9roKjNwur"
      }
    },
    {
      "cell_type": "code",
      "source": [
        ""
      ],
      "metadata": {
        "id": "DH6v_Sp0N05h"
      },
      "execution_count": null,
      "outputs": []
    }
  ]
}