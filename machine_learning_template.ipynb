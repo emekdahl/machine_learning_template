{
  "nbformat": 4,
  "nbformat_minor": 0,
  "metadata": {
    "colab": {
      "name": "machine learning template",
      "provenance": [],
      "toc_visible": true,
      "collapsed_sections": [
        "IvTQAiBgJ-iv",
        "dY1zDI8lKFBY",
        "G_5ZuqFwKIBh",
        "43KawFXrhQCX",
        "97xWFrNdhTj2",
        "u-v977ikgT_q",
        "CDu17hN5gnTN",
        "3wDh0VB_gci2",
        "MouQOtD7geOV",
        "F9GQmrCfiK4K",
        "OzmV8g3NiY9Y",
        "R-C1tyOMiiVD",
        "DMmTb6UBtVjt",
        "OLHvI1hljoe7",
        "gwAdgYt5KJz2",
        "g3M6rTSuUMqd",
        "uVveSHU3UPkJ",
        "eKvyhkPEKfx5",
        "1JlK_njONKee",
        "pW-6aperNS6y",
        "0Fgt_n3WWjdc",
        "XCbZz_z6MbRy",
        "GxAQHMZEMjAt",
        "KamW72-KMXyv",
        "4DMmfb7YNiQT",
        "NOBuDouWNrAX",
        "3OQu1g00eJGY",
        "9ne9roKjNwur"
      ],
      "background_execution": "on"
    },
    "kernelspec": {
      "name": "python3",
      "display_name": "Python 3"
    },
    "language_info": {
      "name": "python"
    }
  },
  "cells": [
    {
      "cell_type": "markdown",
      "source": [
        "# Applied Machine Learning\n",
        "\n",
        "This notebook compiles standard methods for classification and regression into one notebook. The hope is that this notebook will be a good template to begin projects and reduce repetitive work."
      ],
      "metadata": {
        "id": "gC8SWxluJyZH"
      }
    },
    {
      "cell_type": "markdown",
      "source": [
        "![xkcd](https://imgs.xkcd.com/comics/machine_learning.png)\n",
        "\n",
        "https://xkcd.com/1838/"
      ],
      "metadata": {
        "id": "UhyfaUVqkD8M"
      }
    },
    {
      "cell_type": "markdown",
      "source": [
        "## Dependencies"
      ],
      "metadata": {
        "id": "mv0S8nbkJ7Rt"
      }
    },
    {
      "cell_type": "code",
      "source": [
        "# installations\n",
        "%pip install lightgbm\n",
        "%pip install xgboost"
      ],
      "metadata": {
        "colab": {
          "base_uri": "https://localhost:8080/"
        },
        "id": "b7OZqZvSKuML",
        "outputId": "f79da40a-9861-4505-f1d8-1cbf744b0fbd"
      },
      "execution_count": 387,
      "outputs": [
        {
          "output_type": "stream",
          "name": "stdout",
          "text": [
            "Requirement already satisfied: lightgbm in /usr/local/lib/python3.7/dist-packages (2.2.3)\n",
            "Requirement already satisfied: scipy in /usr/local/lib/python3.7/dist-packages (from lightgbm) (1.4.1)\n",
            "Requirement already satisfied: numpy in /usr/local/lib/python3.7/dist-packages (from lightgbm) (1.21.5)\n",
            "Requirement already satisfied: scikit-learn in /usr/local/lib/python3.7/dist-packages (from lightgbm) (1.0.2)\n",
            "Requirement already satisfied: threadpoolctl>=2.0.0 in /usr/local/lib/python3.7/dist-packages (from scikit-learn->lightgbm) (3.1.0)\n",
            "Requirement already satisfied: joblib>=0.11 in /usr/local/lib/python3.7/dist-packages (from scikit-learn->lightgbm) (1.1.0)\n",
            "Requirement already satisfied: xgboost in /usr/local/lib/python3.7/dist-packages (0.90)\n",
            "Requirement already satisfied: numpy in /usr/local/lib/python3.7/dist-packages (from xgboost) (1.21.5)\n",
            "Requirement already satisfied: scipy in /usr/local/lib/python3.7/dist-packages (from xgboost) (1.4.1)\n"
          ]
        }
      ]
    },
    {
      "cell_type": "code",
      "source": [
        "# standard DS / ML libraries\n",
        "import numpy as np\n",
        "import pandas as pd\n",
        "from sklearn.model_selection import train_test_split\n",
        "from sklearn.preprocessing import StandardScaler, MinMaxScaler, MaxAbsScaler, RobustScaler\n",
        "from sklearn.compose import ColumnTransformer\n",
        "from sklearn.pipeline import Pipeline"
      ],
      "metadata": {
        "id": "99g5WamJKv7Z"
      },
      "execution_count": 329,
      "outputs": []
    },
    {
      "cell_type": "code",
      "source": [
        "# data viz\n",
        "from pandas_profiling import ProfileReport\n",
        "import matplotlib.pyplot as plt\n",
        "# make sure viz shows up in the notebook\n",
        "%matplotlib inline\n",
        "import seaborn as sns"
      ],
      "metadata": {
        "id": "5k8IYhmGKy65"
      },
      "execution_count": 330,
      "outputs": []
    },
    {
      "cell_type": "code",
      "source": [
        "# regression\n",
        "from sklearn.linear_model import LinearRegression\n",
        "from sklearn.svm import LinearSVC"
      ],
      "metadata": {
        "id": "Ze6_3I26K1y6"
      },
      "execution_count": 331,
      "outputs": []
    },
    {
      "cell_type": "code",
      "source": [
        "# classification\n",
        "from sklearn.linear_model import LogisticRegression, LogisticRegressionCV, RidgeClassifier, SGDClassifier\n",
        "from sklearn.neighbors import KNeighborsClassifier\n",
        "from sklearn.tree import DecisionTreeClassifier, ExtraTreeClassifier\n",
        "from sklearn.svm import SVC\n",
        "from sklearn.ensemble import RandomForestClassifier, GradientBoostingClassifier, BaggingClassifier\n",
        "from sklearn.neural_network import MLPClassifier\n",
        "from lightgbm import LGBMClassifier"
      ],
      "metadata": {
        "id": "CZ9Dqv2-Kz8-"
      },
      "execution_count": 332,
      "outputs": []
    },
    {
      "cell_type": "code",
      "source": [
        "# model performance & iterative improvement\n",
        "from sklearn.model_selection import GridSearchCV \n",
        "from sklearn.metrics import roc_curve, precision_recall_curve,  roc_auc_score, ConfusionMatrixDisplay, accuracy_score, precision_score, recall_score, f1_score, confusion_matrix, mean_absolute_error, mean_absolute_percentage_error, mean_squared_error\n",
        "from time import perf_counter"
      ],
      "metadata": {
        "id": "JuCYwoqzLSMr"
      },
      "execution_count": 333,
      "outputs": []
    },
    {
      "cell_type": "markdown",
      "source": [
        "## Set Up"
      ],
      "metadata": {
        "id": "C0epVYMdO2br"
      }
    },
    {
      "cell_type": "code",
      "source": [
        "class BaseDataset:\n",
        "  \"\"\"\n",
        "  Basic methods to handle loading and splitting data for experiments\n",
        "  \"\"\"\n",
        "\n",
        "  def _load_data(self):\n",
        "    \"\"\"\n",
        "    _load_data is a method that expects to be overwritten by the class extension\n",
        "    :return: error, if not implemented in the extended class\n",
        "    \"\"\"\n",
        "    raise NotImplementedError\n",
        "\n",
        "  def split_data_and_label(self, train_data, label_column_name, id_column_name=None):\n",
        "    \"\"\"\n",
        "    split_data_and_label takes a training set and returns data split from labels\n",
        "\n",
        "    :param train_data: a training set without labels\n",
        "    :param train_label: a set of labels detached from training data\n",
        "    :return: train, validate, and test data\n",
        "    \"\"\"\n",
        "    if id_column_name is not None:\n",
        "      del train_data[id_column_name]\n",
        "    \n",
        "    train_label = train_data[label_column_name]\n",
        "    del train_data[label_column_name]\n",
        "    \n",
        "    return train_data, train_label   \n",
        "\n",
        "  def _split_data(self, train_data, train_label, sampling_method):\n",
        "    \"\"\"\n",
        "    shuffle_split exploits the behavior of sklearn's train test split to split the data into train, validate, test in a standard 80 / 10 / 10 pattern\n",
        "\n",
        "    :param train_data: a training set without labels\n",
        "    :param train_label: a set of labels detached from training data\n",
        "    :return: train, validate, and test data\n",
        "    \"\"\" \n",
        "\n",
        "\n",
        "  def _subsample(self, train_data, train_label, number_of_samples):\n",
        "    \"\"\"\n",
        "    stratified_split divides data into train / validate / test while maintaining the percentages of each class\n",
        "\n",
        "    :param train_data: a training set without labels\n",
        "    :param train_label: a set of labels detached from training data\n",
        "    :return: train, validate, and test data\n",
        "    \"\"\" \n",
        "    rs = np.random.RandomState(42)\n",
        "    indices0 = rs.choice(np.where(train_label == 0)[0], number_of_samples, replace=False)\n",
        "    indices1 = rs.choice(np.where(train_label == 1)[0], number_of_samples, replace=False)\n",
        "    indices = np.concatenate([indices0, indices1])\n",
        "    train_data = train_data.iloc[indices]\n",
        "    train_label = train_label.iloc[indices]\n",
        "    # train_data = train_data.reset_index(inplace=True)\n",
        "    # train_label = train_label.reset_index(inplace=True)\n",
        "    return train_data, train_label\n",
        "    \n",
        "  \n",
        "\n",
        "  def get_train_val_test_data(self, train_data, train_label, values_to_stratify_by=None):\n",
        "    \"\"\"\n",
        "    get_train_val_test_data exploits the behavior of sklearn's train test split to split the data into train, validate, test in a standard 80 / 10 / 10 pattern\n",
        "\n",
        "    :param train_data: a training set without labels\n",
        "    :param train_label: a set of labels detached from training data\n",
        "    :return: train, validate, and test data\n",
        "    \"\"\" \n",
        "\n",
        "    X_train, X_test_and_val, y_train, y_test_and_val = train_test_split(\n",
        "        train_data, train_label, test_size=0.2, random_state=42, shuffle=True, stratify=values_to_stratify_by)\n",
        "    X_val, X_test, y_val, y_test = train_test_split(\n",
        "        X_test_and_val, y_test_and_val, test_size=0.5, random_state=42, shuffle=True, stratify=values_to_stratify_by)\n",
        "    \n",
        "    return dict(X_train=X_train, y_train=y_train,\n",
        "                X_val=X_val, y_val=y_val,\n",
        "                X_test=X_test, y_test=y_test)\n",
        "    \n",
        "\n",
        "  def nan_check(self, data):\n",
        "    \"\"\"\n",
        "    nan_check is a method that reports missing data by percentage\n",
        "\n",
        "    :param data: a dataframe containing training data\n",
        "    :return: a dataframe containing a report of missing data\n",
        "    \"\"\" \n",
        "\n",
        "    total = data.isnull().sum().sort_values(ascending=False)\n",
        "    percent_1 = data.isnull().sum()/data.isnull().count()*100\n",
        "    percent_2 = (np.round(percent_1, 1)).sort_values(ascending=False)\n",
        "    missing_data = pd.concat([total, percent_2], axis=1, keys=['Total', '%'])\n",
        "    return missing_data"
      ],
      "metadata": {
        "id": "poBB4buyO8Iz"
      },
      "execution_count": 334,
      "outputs": []
    },
    {
      "cell_type": "markdown",
      "source": [
        "## Data"
      ],
      "metadata": {
        "id": "IvTQAiBgJ-iv"
      }
    },
    {
      "cell_type": "code",
      "source": [
        "class ExperimentDataset(BaseDataset):\n",
        "  \n",
        "  def _load_data(self, filepath):\n",
        "    \"\"\"\n",
        "    _load_data gets data from source, then lower cases all column names\n",
        "\n",
        "    :param filepath: path where the data is located\n",
        "    :return: train, validate, and test data\n",
        "    \"\"\" \n",
        "    df = pd.read_csv(filepath)\n",
        "    df = df.rename(columns=str.lower)\n",
        "    return df\n",
        "\n",
        "dataset = ExperimentDataset()\n",
        "training_label = 'training_label_column_name'"
      ],
      "metadata": {
        "id": "t__psdJUU6aj"
      },
      "execution_count": 335,
      "outputs": []
    },
    {
      "cell_type": "code",
      "source": [
        "# https://www.kaggle.com/datasets/parulpandey/palmer-archipelago-antarctica-penguin-data?resource=download\n",
        "eda_data = dataset._load_data('./penguins_size.csv')"
      ],
      "metadata": {
        "id": "uJ6zJeQqVNzT"
      },
      "execution_count": 336,
      "outputs": []
    },
    {
      "cell_type": "code",
      "source": [
        "eda_data.head()"
      ],
      "metadata": {
        "colab": {
          "base_uri": "https://localhost:8080/",
          "height": 206
        },
        "id": "g2HcqT4MbQ_j",
        "outputId": "f4d71b87-ea30-44bc-c0b0-18c1f7d478bd"
      },
      "execution_count": 337,
      "outputs": [
        {
          "output_type": "execute_result",
          "data": {
            "text/plain": [
              "  species     island  culmen_length_mm  culmen_depth_mm  flipper_length_mm  \\\n",
              "0  Adelie  Torgersen              39.1             18.7              181.0   \n",
              "1  Adelie  Torgersen              39.5             17.4              186.0   \n",
              "2  Adelie  Torgersen              40.3             18.0              195.0   \n",
              "3  Adelie  Torgersen               NaN              NaN                NaN   \n",
              "4  Adelie  Torgersen              36.7             19.3              193.0   \n",
              "\n",
              "   body_mass_g     sex  \n",
              "0       3750.0    MALE  \n",
              "1       3800.0  FEMALE  \n",
              "2       3250.0  FEMALE  \n",
              "3          NaN     NaN  \n",
              "4       3450.0  FEMALE  "
            ],
            "text/html": [
              "\n",
              "  <div id=\"df-8dde3a86-0e19-441d-bfd6-c91229e6f40a\">\n",
              "    <div class=\"colab-df-container\">\n",
              "      <div>\n",
              "<style scoped>\n",
              "    .dataframe tbody tr th:only-of-type {\n",
              "        vertical-align: middle;\n",
              "    }\n",
              "\n",
              "    .dataframe tbody tr th {\n",
              "        vertical-align: top;\n",
              "    }\n",
              "\n",
              "    .dataframe thead th {\n",
              "        text-align: right;\n",
              "    }\n",
              "</style>\n",
              "<table border=\"1\" class=\"dataframe\">\n",
              "  <thead>\n",
              "    <tr style=\"text-align: right;\">\n",
              "      <th></th>\n",
              "      <th>species</th>\n",
              "      <th>island</th>\n",
              "      <th>culmen_length_mm</th>\n",
              "      <th>culmen_depth_mm</th>\n",
              "      <th>flipper_length_mm</th>\n",
              "      <th>body_mass_g</th>\n",
              "      <th>sex</th>\n",
              "    </tr>\n",
              "  </thead>\n",
              "  <tbody>\n",
              "    <tr>\n",
              "      <th>0</th>\n",
              "      <td>Adelie</td>\n",
              "      <td>Torgersen</td>\n",
              "      <td>39.1</td>\n",
              "      <td>18.7</td>\n",
              "      <td>181.0</td>\n",
              "      <td>3750.0</td>\n",
              "      <td>MALE</td>\n",
              "    </tr>\n",
              "    <tr>\n",
              "      <th>1</th>\n",
              "      <td>Adelie</td>\n",
              "      <td>Torgersen</td>\n",
              "      <td>39.5</td>\n",
              "      <td>17.4</td>\n",
              "      <td>186.0</td>\n",
              "      <td>3800.0</td>\n",
              "      <td>FEMALE</td>\n",
              "    </tr>\n",
              "    <tr>\n",
              "      <th>2</th>\n",
              "      <td>Adelie</td>\n",
              "      <td>Torgersen</td>\n",
              "      <td>40.3</td>\n",
              "      <td>18.0</td>\n",
              "      <td>195.0</td>\n",
              "      <td>3250.0</td>\n",
              "      <td>FEMALE</td>\n",
              "    </tr>\n",
              "    <tr>\n",
              "      <th>3</th>\n",
              "      <td>Adelie</td>\n",
              "      <td>Torgersen</td>\n",
              "      <td>NaN</td>\n",
              "      <td>NaN</td>\n",
              "      <td>NaN</td>\n",
              "      <td>NaN</td>\n",
              "      <td>NaN</td>\n",
              "    </tr>\n",
              "    <tr>\n",
              "      <th>4</th>\n",
              "      <td>Adelie</td>\n",
              "      <td>Torgersen</td>\n",
              "      <td>36.7</td>\n",
              "      <td>19.3</td>\n",
              "      <td>193.0</td>\n",
              "      <td>3450.0</td>\n",
              "      <td>FEMALE</td>\n",
              "    </tr>\n",
              "  </tbody>\n",
              "</table>\n",
              "</div>\n",
              "      <button class=\"colab-df-convert\" onclick=\"convertToInteractive('df-8dde3a86-0e19-441d-bfd6-c91229e6f40a')\"\n",
              "              title=\"Convert this dataframe to an interactive table.\"\n",
              "              style=\"display:none;\">\n",
              "        \n",
              "  <svg xmlns=\"http://www.w3.org/2000/svg\" height=\"24px\"viewBox=\"0 0 24 24\"\n",
              "       width=\"24px\">\n",
              "    <path d=\"M0 0h24v24H0V0z\" fill=\"none\"/>\n",
              "    <path d=\"M18.56 5.44l.94 2.06.94-2.06 2.06-.94-2.06-.94-.94-2.06-.94 2.06-2.06.94zm-11 1L8.5 8.5l.94-2.06 2.06-.94-2.06-.94L8.5 2.5l-.94 2.06-2.06.94zm10 10l.94 2.06.94-2.06 2.06-.94-2.06-.94-.94-2.06-.94 2.06-2.06.94z\"/><path d=\"M17.41 7.96l-1.37-1.37c-.4-.4-.92-.59-1.43-.59-.52 0-1.04.2-1.43.59L10.3 9.45l-7.72 7.72c-.78.78-.78 2.05 0 2.83L4 21.41c.39.39.9.59 1.41.59.51 0 1.02-.2 1.41-.59l7.78-7.78 2.81-2.81c.8-.78.8-2.07 0-2.86zM5.41 20L4 18.59l7.72-7.72 1.47 1.35L5.41 20z\"/>\n",
              "  </svg>\n",
              "      </button>\n",
              "      \n",
              "  <style>\n",
              "    .colab-df-container {\n",
              "      display:flex;\n",
              "      flex-wrap:wrap;\n",
              "      gap: 12px;\n",
              "    }\n",
              "\n",
              "    .colab-df-convert {\n",
              "      background-color: #E8F0FE;\n",
              "      border: none;\n",
              "      border-radius: 50%;\n",
              "      cursor: pointer;\n",
              "      display: none;\n",
              "      fill: #1967D2;\n",
              "      height: 32px;\n",
              "      padding: 0 0 0 0;\n",
              "      width: 32px;\n",
              "    }\n",
              "\n",
              "    .colab-df-convert:hover {\n",
              "      background-color: #E2EBFA;\n",
              "      box-shadow: 0px 1px 2px rgba(60, 64, 67, 0.3), 0px 1px 3px 1px rgba(60, 64, 67, 0.15);\n",
              "      fill: #174EA6;\n",
              "    }\n",
              "\n",
              "    [theme=dark] .colab-df-convert {\n",
              "      background-color: #3B4455;\n",
              "      fill: #D2E3FC;\n",
              "    }\n",
              "\n",
              "    [theme=dark] .colab-df-convert:hover {\n",
              "      background-color: #434B5C;\n",
              "      box-shadow: 0px 1px 3px 1px rgba(0, 0, 0, 0.15);\n",
              "      filter: drop-shadow(0px 1px 2px rgba(0, 0, 0, 0.3));\n",
              "      fill: #FFFFFF;\n",
              "    }\n",
              "  </style>\n",
              "\n",
              "      <script>\n",
              "        const buttonEl =\n",
              "          document.querySelector('#df-8dde3a86-0e19-441d-bfd6-c91229e6f40a button.colab-df-convert');\n",
              "        buttonEl.style.display =\n",
              "          google.colab.kernel.accessAllowed ? 'block' : 'none';\n",
              "\n",
              "        async function convertToInteractive(key) {\n",
              "          const element = document.querySelector('#df-8dde3a86-0e19-441d-bfd6-c91229e6f40a');\n",
              "          const dataTable =\n",
              "            await google.colab.kernel.invokeFunction('convertToInteractive',\n",
              "                                                     [key], {});\n",
              "          if (!dataTable) return;\n",
              "\n",
              "          const docLinkHtml = 'Like what you see? Visit the ' +\n",
              "            '<a target=\"_blank\" href=https://colab.research.google.com/notebooks/data_table.ipynb>data table notebook</a>'\n",
              "            + ' to learn more about interactive tables.';\n",
              "          element.innerHTML = '';\n",
              "          dataTable['output_type'] = 'display_data';\n",
              "          await google.colab.output.renderOutput(dataTable, element);\n",
              "          const docLink = document.createElement('div');\n",
              "          docLink.innerHTML = docLinkHtml;\n",
              "          element.appendChild(docLink);\n",
              "        }\n",
              "      </script>\n",
              "    </div>\n",
              "  </div>\n",
              "  "
            ]
          },
          "metadata": {},
          "execution_count": 337
        }
      ]
    },
    {
      "cell_type": "markdown",
      "source": [
        "## Exploratory Data Analysis"
      ],
      "metadata": {
        "id": "dY1zDI8lKFBY"
      }
    },
    {
      "cell_type": "code",
      "source": [
        "eda_data.shape"
      ],
      "metadata": {
        "id": "yBfnd78VfIco",
        "colab": {
          "base_uri": "https://localhost:8080/"
        },
        "outputId": "747053b8-c922-4632-a723-8ea653357587"
      },
      "execution_count": 338,
      "outputs": [
        {
          "output_type": "execute_result",
          "data": {
            "text/plain": [
              "(344, 7)"
            ]
          },
          "metadata": {},
          "execution_count": 338
        }
      ]
    },
    {
      "cell_type": "code",
      "source": [
        "eda_data.describe()"
      ],
      "metadata": {
        "id": "Lu2ShoeCfJ7H",
        "colab": {
          "base_uri": "https://localhost:8080/",
          "height": 0
        },
        "outputId": "11a0c44b-9e49-41f8-b0fe-b64ae8a3af29"
      },
      "execution_count": 339,
      "outputs": [
        {
          "output_type": "execute_result",
          "data": {
            "text/plain": [
              "       culmen_length_mm  culmen_depth_mm  flipper_length_mm  body_mass_g\n",
              "count        342.000000       342.000000         342.000000   342.000000\n",
              "mean          43.921930        17.151170         200.915205  4201.754386\n",
              "std            5.459584         1.974793          14.061714   801.954536\n",
              "min           32.100000        13.100000         172.000000  2700.000000\n",
              "25%           39.225000        15.600000         190.000000  3550.000000\n",
              "50%           44.450000        17.300000         197.000000  4050.000000\n",
              "75%           48.500000        18.700000         213.000000  4750.000000\n",
              "max           59.600000        21.500000         231.000000  6300.000000"
            ],
            "text/html": [
              "\n",
              "  <div id=\"df-4e1efd6b-1adb-4675-8cfd-b8b46e71b855\">\n",
              "    <div class=\"colab-df-container\">\n",
              "      <div>\n",
              "<style scoped>\n",
              "    .dataframe tbody tr th:only-of-type {\n",
              "        vertical-align: middle;\n",
              "    }\n",
              "\n",
              "    .dataframe tbody tr th {\n",
              "        vertical-align: top;\n",
              "    }\n",
              "\n",
              "    .dataframe thead th {\n",
              "        text-align: right;\n",
              "    }\n",
              "</style>\n",
              "<table border=\"1\" class=\"dataframe\">\n",
              "  <thead>\n",
              "    <tr style=\"text-align: right;\">\n",
              "      <th></th>\n",
              "      <th>culmen_length_mm</th>\n",
              "      <th>culmen_depth_mm</th>\n",
              "      <th>flipper_length_mm</th>\n",
              "      <th>body_mass_g</th>\n",
              "    </tr>\n",
              "  </thead>\n",
              "  <tbody>\n",
              "    <tr>\n",
              "      <th>count</th>\n",
              "      <td>342.000000</td>\n",
              "      <td>342.000000</td>\n",
              "      <td>342.000000</td>\n",
              "      <td>342.000000</td>\n",
              "    </tr>\n",
              "    <tr>\n",
              "      <th>mean</th>\n",
              "      <td>43.921930</td>\n",
              "      <td>17.151170</td>\n",
              "      <td>200.915205</td>\n",
              "      <td>4201.754386</td>\n",
              "    </tr>\n",
              "    <tr>\n",
              "      <th>std</th>\n",
              "      <td>5.459584</td>\n",
              "      <td>1.974793</td>\n",
              "      <td>14.061714</td>\n",
              "      <td>801.954536</td>\n",
              "    </tr>\n",
              "    <tr>\n",
              "      <th>min</th>\n",
              "      <td>32.100000</td>\n",
              "      <td>13.100000</td>\n",
              "      <td>172.000000</td>\n",
              "      <td>2700.000000</td>\n",
              "    </tr>\n",
              "    <tr>\n",
              "      <th>25%</th>\n",
              "      <td>39.225000</td>\n",
              "      <td>15.600000</td>\n",
              "      <td>190.000000</td>\n",
              "      <td>3550.000000</td>\n",
              "    </tr>\n",
              "    <tr>\n",
              "      <th>50%</th>\n",
              "      <td>44.450000</td>\n",
              "      <td>17.300000</td>\n",
              "      <td>197.000000</td>\n",
              "      <td>4050.000000</td>\n",
              "    </tr>\n",
              "    <tr>\n",
              "      <th>75%</th>\n",
              "      <td>48.500000</td>\n",
              "      <td>18.700000</td>\n",
              "      <td>213.000000</td>\n",
              "      <td>4750.000000</td>\n",
              "    </tr>\n",
              "    <tr>\n",
              "      <th>max</th>\n",
              "      <td>59.600000</td>\n",
              "      <td>21.500000</td>\n",
              "      <td>231.000000</td>\n",
              "      <td>6300.000000</td>\n",
              "    </tr>\n",
              "  </tbody>\n",
              "</table>\n",
              "</div>\n",
              "      <button class=\"colab-df-convert\" onclick=\"convertToInteractive('df-4e1efd6b-1adb-4675-8cfd-b8b46e71b855')\"\n",
              "              title=\"Convert this dataframe to an interactive table.\"\n",
              "              style=\"display:none;\">\n",
              "        \n",
              "  <svg xmlns=\"http://www.w3.org/2000/svg\" height=\"24px\"viewBox=\"0 0 24 24\"\n",
              "       width=\"24px\">\n",
              "    <path d=\"M0 0h24v24H0V0z\" fill=\"none\"/>\n",
              "    <path d=\"M18.56 5.44l.94 2.06.94-2.06 2.06-.94-2.06-.94-.94-2.06-.94 2.06-2.06.94zm-11 1L8.5 8.5l.94-2.06 2.06-.94-2.06-.94L8.5 2.5l-.94 2.06-2.06.94zm10 10l.94 2.06.94-2.06 2.06-.94-2.06-.94-.94-2.06-.94 2.06-2.06.94z\"/><path d=\"M17.41 7.96l-1.37-1.37c-.4-.4-.92-.59-1.43-.59-.52 0-1.04.2-1.43.59L10.3 9.45l-7.72 7.72c-.78.78-.78 2.05 0 2.83L4 21.41c.39.39.9.59 1.41.59.51 0 1.02-.2 1.41-.59l7.78-7.78 2.81-2.81c.8-.78.8-2.07 0-2.86zM5.41 20L4 18.59l7.72-7.72 1.47 1.35L5.41 20z\"/>\n",
              "  </svg>\n",
              "      </button>\n",
              "      \n",
              "  <style>\n",
              "    .colab-df-container {\n",
              "      display:flex;\n",
              "      flex-wrap:wrap;\n",
              "      gap: 12px;\n",
              "    }\n",
              "\n",
              "    .colab-df-convert {\n",
              "      background-color: #E8F0FE;\n",
              "      border: none;\n",
              "      border-radius: 50%;\n",
              "      cursor: pointer;\n",
              "      display: none;\n",
              "      fill: #1967D2;\n",
              "      height: 32px;\n",
              "      padding: 0 0 0 0;\n",
              "      width: 32px;\n",
              "    }\n",
              "\n",
              "    .colab-df-convert:hover {\n",
              "      background-color: #E2EBFA;\n",
              "      box-shadow: 0px 1px 2px rgba(60, 64, 67, 0.3), 0px 1px 3px 1px rgba(60, 64, 67, 0.15);\n",
              "      fill: #174EA6;\n",
              "    }\n",
              "\n",
              "    [theme=dark] .colab-df-convert {\n",
              "      background-color: #3B4455;\n",
              "      fill: #D2E3FC;\n",
              "    }\n",
              "\n",
              "    [theme=dark] .colab-df-convert:hover {\n",
              "      background-color: #434B5C;\n",
              "      box-shadow: 0px 1px 3px 1px rgba(0, 0, 0, 0.15);\n",
              "      filter: drop-shadow(0px 1px 2px rgba(0, 0, 0, 0.3));\n",
              "      fill: #FFFFFF;\n",
              "    }\n",
              "  </style>\n",
              "\n",
              "      <script>\n",
              "        const buttonEl =\n",
              "          document.querySelector('#df-4e1efd6b-1adb-4675-8cfd-b8b46e71b855 button.colab-df-convert');\n",
              "        buttonEl.style.display =\n",
              "          google.colab.kernel.accessAllowed ? 'block' : 'none';\n",
              "\n",
              "        async function convertToInteractive(key) {\n",
              "          const element = document.querySelector('#df-4e1efd6b-1adb-4675-8cfd-b8b46e71b855');\n",
              "          const dataTable =\n",
              "            await google.colab.kernel.invokeFunction('convertToInteractive',\n",
              "                                                     [key], {});\n",
              "          if (!dataTable) return;\n",
              "\n",
              "          const docLinkHtml = 'Like what you see? Visit the ' +\n",
              "            '<a target=\"_blank\" href=https://colab.research.google.com/notebooks/data_table.ipynb>data table notebook</a>'\n",
              "            + ' to learn more about interactive tables.';\n",
              "          element.innerHTML = '';\n",
              "          dataTable['output_type'] = 'display_data';\n",
              "          await google.colab.output.renderOutput(dataTable, element);\n",
              "          const docLink = document.createElement('div');\n",
              "          docLink.innerHTML = docLinkHtml;\n",
              "          element.appendChild(docLink);\n",
              "        }\n",
              "      </script>\n",
              "    </div>\n",
              "  </div>\n",
              "  "
            ]
          },
          "metadata": {},
          "execution_count": 339
        }
      ]
    },
    {
      "cell_type": "code",
      "source": [
        "corr = eda_data.corr()\n",
        "sns.heatmap(corr, \n",
        "        xticklabels=corr.columns,\n",
        "        yticklabels=corr.columns)"
      ],
      "metadata": {
        "id": "da9MZpFsjFME",
        "colab": {
          "base_uri": "https://localhost:8080/",
          "height": 0
        },
        "outputId": "a883466b-e9a2-4553-8dac-75d2f7362eb3"
      },
      "execution_count": 340,
      "outputs": [
        {
          "output_type": "execute_result",
          "data": {
            "text/plain": [
              "<matplotlib.axes._subplots.AxesSubplot at 0x7f09b5ae8a90>"
            ]
          },
          "metadata": {},
          "execution_count": 340
        },
        {
          "output_type": "display_data",
          "data": {
            "text/plain": [
              "<Figure size 432x288 with 2 Axes>"
            ],
            "image/png": "[encoded data removed]"
          },
          "metadata": {
            "needs_background": "light"
          }
        }
      ]
    },
    {
      "cell_type": "code",
      "source": [
        "sns.histplot(data=eda_data, x=\"species\")"
      ],
      "metadata": {
        "colab": {
          "base_uri": "https://localhost:8080/",
          "height": 0
        },
        "id": "GLRerxcVgwRb",
        "outputId": "7586e9de-39ed-4ce9-807e-65e079c42b74"
      },
      "execution_count": 341,
      "outputs": [
        {
          "output_type": "execute_result",
          "data": {
            "text/plain": [
              "<matplotlib.axes._subplots.AxesSubplot at 0x7f09b5a23450>"
            ]
          },
          "metadata": {},
          "execution_count": 341
        },
        {
          "output_type": "display_data",
          "data": {
            "text/plain": [
              "<Figure size 432x288 with 1 Axes>"
            ],
            "image/png": "[encoded data removed]"
          },
          "metadata": {
            "needs_background": "light"
          }
        }
      ]
    },
    {
      "cell_type": "code",
      "source": [
        "# profile = ProfileReport(eda_data)\n",
        "# profile.to_widgets()"
      ],
      "metadata": {
        "id": "_qWagVkhfM-j"
      },
      "execution_count": 342,
      "outputs": []
    },
    {
      "cell_type": "markdown",
      "source": [
        "## Data Cleaning && Feature Engineering"
      ],
      "metadata": {
        "id": "G_5ZuqFwKIBh"
      }
    },
    {
      "cell_type": "code",
      "source": [
        "eda_data.info"
      ],
      "metadata": {
        "colab": {
          "base_uri": "https://localhost:8080/"
        },
        "id": "4I545ZWwkTF-",
        "outputId": "6a037690-ef59-493f-f6d7-8c186ac6d9e6"
      },
      "execution_count": 343,
      "outputs": [
        {
          "output_type": "execute_result",
          "data": {
            "text/plain": [
              "<bound method DataFrame.info of     species     island  culmen_length_mm  culmen_depth_mm  flipper_length_mm  \\\n",
              "0    Adelie  Torgersen              39.1             18.7              181.0   \n",
              "1    Adelie  Torgersen              39.5             17.4              186.0   \n",
              "2    Adelie  Torgersen              40.3             18.0              195.0   \n",
              "3    Adelie  Torgersen               NaN              NaN                NaN   \n",
              "4    Adelie  Torgersen              36.7             19.3              193.0   \n",
              "..      ...        ...               ...              ...                ...   \n",
              "339  Gentoo     Biscoe               NaN              NaN                NaN   \n",
              "340  Gentoo     Biscoe              46.8             14.3              215.0   \n",
              "341  Gentoo     Biscoe              50.4             15.7              222.0   \n",
              "342  Gentoo     Biscoe              45.2             14.8              212.0   \n",
              "343  Gentoo     Biscoe              49.9             16.1              213.0   \n",
              "\n",
              "     body_mass_g     sex  \n",
              "0         3750.0    MALE  \n",
              "1         3800.0  FEMALE  \n",
              "2         3250.0  FEMALE  \n",
              "3            NaN     NaN  \n",
              "4         3450.0  FEMALE  \n",
              "..           ...     ...  \n",
              "339          NaN     NaN  \n",
              "340       4850.0  FEMALE  \n",
              "341       5750.0    MALE  \n",
              "342       5200.0  FEMALE  \n",
              "343       5400.0    MALE  \n",
              "\n",
              "[344 rows x 7 columns]>"
            ]
          },
          "metadata": {},
          "execution_count": 343
        }
      ]
    },
    {
      "cell_type": "code",
      "source": [
        "binned_label = 'species'\n",
        "continuous_label = 'body_mass_g'\n",
        "data = eda_data"
      ],
      "metadata": {
        "id": "EzEI097GcgpH"
      },
      "execution_count": 344,
      "outputs": []
    },
    {
      "cell_type": "code",
      "source": [
        "column_list = list(data.columns)\n",
        "column_list_without_label = column_list.remove(binned_label)\n",
        "numeric_column_names = data.select_dtypes(include=np.number).columns.tolist()\n",
        "categorical_column_names = data.select_dtypes(exclude=np.number).columns.tolist()"
      ],
      "metadata": {
        "id": "5i4ktcBidyrH"
      },
      "execution_count": 345,
      "outputs": []
    },
    {
      "cell_type": "code",
      "source": [
        "categorical_column_names.remove(binned_label)"
      ],
      "metadata": {
        "id": "86IyYrQan5bP"
      },
      "execution_count": 346,
      "outputs": []
    },
    {
      "cell_type": "markdown",
      "source": [
        "### Handle Outliers"
      ],
      "metadata": {
        "id": "68yrJQbwfpsa"
      }
    },
    {
      "cell_type": "code",
      "source": [
        "ax = sns.boxplot(x=data[continuous_label])"
      ],
      "metadata": {
        "colab": {
          "base_uri": "https://localhost:8080/",
          "height": 0
        },
        "id": "ydTWwm1Gl1p2",
        "outputId": "a6e40b95-39f3-43fe-8b5d-127c36bb5db8"
      },
      "execution_count": 347,
      "outputs": [
        {
          "output_type": "display_data",
          "data": {
            "text/plain": [
              "<Figure size 432x288 with 1 Axes>"
            ],
            "image/png": "[encoded data removed]"
          },
          "metadata": {
            "needs_background": "light"
          }
        }
      ]
    },
    {
      "cell_type": "markdown",
      "source": [
        "#### Visualize Outliers"
      ],
      "metadata": {
        "id": "CzMsda8aTSNp"
      }
    },
    {
      "cell_type": "code",
      "source": [
        "for col in numeric_column_names:\n",
        "    data.boxplot(column=col, by=binned_label, figsize=(6,6))\n",
        "    plt.title(col)\n",
        "plt.show()"
      ],
      "metadata": {
        "colab": {
          "base_uri": "https://localhost:8080/",
          "height": 0
        },
        "id": "3Vvr5U58lWz5",
        "outputId": "860b193f-411a-4509-ff72-25ec676eddb6"
      },
      "execution_count": 348,
      "outputs": [
        {
          "output_type": "stream",
          "name": "stderr",
          "text": [
            "/usr/local/lib/python3.7/dist-packages/matplotlib/cbook/__init__.py:1376: VisibleDeprecationWarning: Creating an ndarray from ragged nested sequences (which is a list-or-tuple of lists-or-tuples-or ndarrays with different lengths or shapes) is deprecated. If you meant to do this, you must specify 'dtype=object' when creating the ndarray.\n",
            "  X = np.atleast_1d(X.T if isinstance(X, np.ndarray) else np.asarray(X))\n",
            "/usr/local/lib/python3.7/dist-packages/matplotlib/cbook/__init__.py:1376: VisibleDeprecationWarning: Creating an ndarray from ragged nested sequences (which is a list-or-tuple of lists-or-tuples-or ndarrays with different lengths or shapes) is deprecated. If you meant to do this, you must specify 'dtype=object' when creating the ndarray.\n",
            "  X = np.atleast_1d(X.T if isinstance(X, np.ndarray) else np.asarray(X))\n",
            "/usr/local/lib/python3.7/dist-packages/matplotlib/cbook/__init__.py:1376: VisibleDeprecationWarning: Creating an ndarray from ragged nested sequences (which is a list-or-tuple of lists-or-tuples-or ndarrays with different lengths or shapes) is deprecated. If you meant to do this, you must specify 'dtype=object' when creating the ndarray.\n",
            "  X = np.atleast_1d(X.T if isinstance(X, np.ndarray) else np.asarray(X))\n",
            "/usr/local/lib/python3.7/dist-packages/matplotlib/cbook/__init__.py:1376: VisibleDeprecationWarning: Creating an ndarray from ragged nested sequences (which is a list-or-tuple of lists-or-tuples-or ndarrays with different lengths or shapes) is deprecated. If you meant to do this, you must specify 'dtype=object' when creating the ndarray.\n",
            "  X = np.atleast_1d(X.T if isinstance(X, np.ndarray) else np.asarray(X))\n"
          ]
        },
        {
          "output_type": "display_data",
          "data": {
            "text/plain": [
              "<Figure size 432x432 with 1 Axes>"
            ],
            "image/png": "[encoded data removed]"
          },
          "metadata": {
            "needs_background": "light"
          }
        },
        {
          "output_type": "display_data",
          "data": {
            "text/plain": [
              "<Figure size 432x432 with 1 Axes>"
            ],
            "image/png": "[encoded data removed]"
          },
          "metadata": {
            "needs_background": "light"
          }
        },
        {
          "output_type": "display_data",
          "data": {
            "text/plain": [
              "<Figure size 432x432 with 1 Axes>"
            ],
            "image/png": "[encoded data removed]"
          },
          "metadata": {
            "needs_background": "light"
          }
        },
        {
          "output_type": "display_data",
          "data": {
            "text/plain": [
              "<Figure size 432x432 with 1 Axes>"
            ],
            "image/png": "[encoded data removed]"
          },
          "metadata": {
            "needs_background": "light"
          }
        }
      ]
    },
    {
      "cell_type": "markdown",
      "source": [
        "#### By Standard Deviation"
      ],
      "metadata": {
        "id": "BOvOTn9Ng5pQ"
      }
    },
    {
      "cell_type": "code",
      "source": [
        "# Dropping the outlier rows with standard deviation above a factor\n",
        "factor = 2\n",
        "upper_lim = data[continuous_label].mean () + data[continuous_label].std () * factor\n",
        "lower_lim = data[continuous_label].mean () - data[continuous_label].std () * factor\n",
        "\n",
        "data = data[(data[continuous_label] < upper_lim) & (data[continuous_label] > lower_lim)]"
      ],
      "metadata": {
        "id": "qFzDD5Pgg12m"
      },
      "execution_count": 349,
      "outputs": []
    },
    {
      "cell_type": "markdown",
      "source": [
        "#### By Percentile"
      ],
      "metadata": {
        "id": "gkj6-woHg9ap"
      }
    },
    {
      "cell_type": "code",
      "source": [
        "#Dropping the outlier rows with Percentiles\n",
        "\n",
        "# upper_lim = data['column'].quantile(.95)\n",
        "# lower_lim = data['column'].quantile(.05)\n",
        "\n",
        "# data = data[(data['column'] < upper_lim) & (data['column'] > lower_lim)]"
      ],
      "metadata": {
        "id": "kuNoKXHdhE7T"
      },
      "execution_count": 350,
      "outputs": []
    },
    {
      "cell_type": "markdown",
      "source": [
        "#### Check Outliers After Data Transformation"
      ],
      "metadata": {
        "id": "Udi57dd4mkw-"
      }
    },
    {
      "cell_type": "code",
      "source": [
        "ax = sns.boxplot(x=data[continuous_label])"
      ],
      "metadata": {
        "colab": {
          "base_uri": "https://localhost:8080/",
          "height": 0
        },
        "id": "x-685JFPmo0d",
        "outputId": "2605fd7c-7455-4eb8-a813-cf7498bab77f"
      },
      "execution_count": 351,
      "outputs": [
        {
          "output_type": "display_data",
          "data": {
            "text/plain": [
              "<Figure size 432x288 with 1 Axes>"
            ],
            "image/png": "[encoded data removed]"
          },
          "metadata": {
            "needs_background": "light"
          }
        }
      ]
    },
    {
      "cell_type": "markdown",
      "source": [
        "### Binning"
      ],
      "metadata": {
        "id": "2IwaNgRsfwNm"
      }
    },
    {
      "cell_type": "markdown",
      "source": [
        " #### Numerical"
      ],
      "metadata": {
        "id": "43KawFXrhQCX"
      }
    },
    {
      "cell_type": "code",
      "source": [
        "# data['bin'] = pd.cut(data['value'], bins=[0,30,70,100], labels=[\"Low\", \"Mid\", \"High\"])"
      ],
      "metadata": {
        "id": "-NtHA8b_hSEu"
      },
      "execution_count": 352,
      "outputs": []
    },
    {
      "cell_type": "markdown",
      "source": [
        "#### Categorical"
      ],
      "metadata": {
        "id": "97xWFrNdhTj2"
      }
    },
    {
      "cell_type": "code",
      "source": [
        "# conditions = [\n",
        "#     data['Country'].str.contains('Spain'),\n",
        "#     data['Country'].str.contains('Italy'),\n",
        "#     data['Country'].str.contains('Chile'),\n",
        "#     data['Country'].str.contains('Brazil')]\n",
        "\n",
        "# choices = ['Europe', 'Europe', 'South America', 'South America']\n",
        "\n",
        "# data['Continent'] = np.select(conditions, choices, default='Other')"
      ],
      "metadata": {
        "id": "iBrV9uUYhV2v"
      },
      "execution_count": 353,
      "outputs": []
    },
    {
      "cell_type": "markdown",
      "source": [
        "### Imputation / Handling Missing Values"
      ],
      "metadata": {
        "id": "a5ouaM1rftZx"
      }
    },
    {
      "cell_type": "code",
      "source": [
        "dataset.nan_check(data)"
      ],
      "metadata": {
        "id": "nRf_LUtJfTsG",
        "colab": {
          "base_uri": "https://localhost:8080/",
          "height": 0
        },
        "outputId": "a2f73b7e-7d40-4ee8-911e-52cbae84a4eb"
      },
      "execution_count": 354,
      "outputs": [
        {
          "output_type": "execute_result",
          "data": {
            "text/plain": [
              "                   Total    %\n",
              "sex                    8  2.4\n",
              "species                0  0.0\n",
              "island                 0  0.0\n",
              "culmen_length_mm       0  0.0\n",
              "culmen_depth_mm        0  0.0\n",
              "flipper_length_mm      0  0.0\n",
              "body_mass_g            0  0.0"
            ],
            "text/html": [
              "\n",
              "  <div id=\"df-21ed7e71-3c3f-423e-aaae-24063c344551\">\n",
              "    <div class=\"colab-df-container\">\n",
              "      <div>\n",
              "<style scoped>\n",
              "    .dataframe tbody tr th:only-of-type {\n",
              "        vertical-align: middle;\n",
              "    }\n",
              "\n",
              "    .dataframe tbody tr th {\n",
              "        vertical-align: top;\n",
              "    }\n",
              "\n",
              "    .dataframe thead th {\n",
              "        text-align: right;\n",
              "    }\n",
              "</style>\n",
              "<table border=\"1\" class=\"dataframe\">\n",
              "  <thead>\n",
              "    <tr style=\"text-align: right;\">\n",
              "      <th></th>\n",
              "      <th>Total</th>\n",
              "      <th>%</th>\n",
              "    </tr>\n",
              "  </thead>\n",
              "  <tbody>\n",
              "    <tr>\n",
              "      <th>sex</th>\n",
              "      <td>8</td>\n",
              "      <td>2.4</td>\n",
              "    </tr>\n",
              "    <tr>\n",
              "      <th>species</th>\n",
              "      <td>0</td>\n",
              "      <td>0.0</td>\n",
              "    </tr>\n",
              "    <tr>\n",
              "      <th>island</th>\n",
              "      <td>0</td>\n",
              "      <td>0.0</td>\n",
              "    </tr>\n",
              "    <tr>\n",
              "      <th>culmen_length_mm</th>\n",
              "      <td>0</td>\n",
              "      <td>0.0</td>\n",
              "    </tr>\n",
              "    <tr>\n",
              "      <th>culmen_depth_mm</th>\n",
              "      <td>0</td>\n",
              "      <td>0.0</td>\n",
              "    </tr>\n",
              "    <tr>\n",
              "      <th>flipper_length_mm</th>\n",
              "      <td>0</td>\n",
              "      <td>0.0</td>\n",
              "    </tr>\n",
              "    <tr>\n",
              "      <th>body_mass_g</th>\n",
              "      <td>0</td>\n",
              "      <td>0.0</td>\n",
              "    </tr>\n",
              "  </tbody>\n",
              "</table>\n",
              "</div>\n",
              "      <button class=\"colab-df-convert\" onclick=\"convertToInteractive('df-21ed7e71-3c3f-423e-aaae-24063c344551')\"\n",
              "              title=\"Convert this dataframe to an interactive table.\"\n",
              "              style=\"display:none;\">\n",
              "        \n",
              "  <svg xmlns=\"http://www.w3.org/2000/svg\" height=\"24px\"viewBox=\"0 0 24 24\"\n",
              "       width=\"24px\">\n",
              "    <path d=\"M0 0h24v24H0V0z\" fill=\"none\"/>\n",
              "    <path d=\"M18.56 5.44l.94 2.06.94-2.06 2.06-.94-2.06-.94-.94-2.06-.94 2.06-2.06.94zm-11 1L8.5 8.5l.94-2.06 2.06-.94-2.06-.94L8.5 2.5l-.94 2.06-2.06.94zm10 10l.94 2.06.94-2.06 2.06-.94-2.06-.94-.94-2.06-.94 2.06-2.06.94z\"/><path d=\"M17.41 7.96l-1.37-1.37c-.4-.4-.92-.59-1.43-.59-.52 0-1.04.2-1.43.59L10.3 9.45l-7.72 7.72c-.78.78-.78 2.05 0 2.83L4 21.41c.39.39.9.59 1.41.59.51 0 1.02-.2 1.41-.59l7.78-7.78 2.81-2.81c.8-.78.8-2.07 0-2.86zM5.41 20L4 18.59l7.72-7.72 1.47 1.35L5.41 20z\"/>\n",
              "  </svg>\n",
              "      </button>\n",
              "      \n",
              "  <style>\n",
              "    .colab-df-container {\n",
              "      display:flex;\n",
              "      flex-wrap:wrap;\n",
              "      gap: 12px;\n",
              "    }\n",
              "\n",
              "    .colab-df-convert {\n",
              "      background-color: #E8F0FE;\n",
              "      border: none;\n",
              "      border-radius: 50%;\n",
              "      cursor: pointer;\n",
              "      display: none;\n",
              "      fill: #1967D2;\n",
              "      height: 32px;\n",
              "      padding: 0 0 0 0;\n",
              "      width: 32px;\n",
              "    }\n",
              "\n",
              "    .colab-df-convert:hover {\n",
              "      background-color: #E2EBFA;\n",
              "      box-shadow: 0px 1px 2px rgba(60, 64, 67, 0.3), 0px 1px 3px 1px rgba(60, 64, 67, 0.15);\n",
              "      fill: #174EA6;\n",
              "    }\n",
              "\n",
              "    [theme=dark] .colab-df-convert {\n",
              "      background-color: #3B4455;\n",
              "      fill: #D2E3FC;\n",
              "    }\n",
              "\n",
              "    [theme=dark] .colab-df-convert:hover {\n",
              "      background-color: #434B5C;\n",
              "      box-shadow: 0px 1px 3px 1px rgba(0, 0, 0, 0.15);\n",
              "      filter: drop-shadow(0px 1px 2px rgba(0, 0, 0, 0.3));\n",
              "      fill: #FFFFFF;\n",
              "    }\n",
              "  </style>\n",
              "\n",
              "      <script>\n",
              "        const buttonEl =\n",
              "          document.querySelector('#df-21ed7e71-3c3f-423e-aaae-24063c344551 button.colab-df-convert');\n",
              "        buttonEl.style.display =\n",
              "          google.colab.kernel.accessAllowed ? 'block' : 'none';\n",
              "\n",
              "        async function convertToInteractive(key) {\n",
              "          const element = document.querySelector('#df-21ed7e71-3c3f-423e-aaae-24063c344551');\n",
              "          const dataTable =\n",
              "            await google.colab.kernel.invokeFunction('convertToInteractive',\n",
              "                                                     [key], {});\n",
              "          if (!dataTable) return;\n",
              "\n",
              "          const docLinkHtml = 'Like what you see? Visit the ' +\n",
              "            '<a target=\"_blank\" href=https://colab.research.google.com/notebooks/data_table.ipynb>data table notebook</a>'\n",
              "            + ' to learn more about interactive tables.';\n",
              "          element.innerHTML = '';\n",
              "          dataTable['output_type'] = 'display_data';\n",
              "          await google.colab.output.renderOutput(dataTable, element);\n",
              "          const docLink = document.createElement('div');\n",
              "          docLink.innerHTML = docLinkHtml;\n",
              "          element.appendChild(docLink);\n",
              "        }\n",
              "      </script>\n",
              "    </div>\n",
              "  </div>\n",
              "  "
            ]
          },
          "metadata": {},
          "execution_count": 354
        }
      ]
    },
    {
      "cell_type": "markdown",
      "source": [
        "#### Drop Option"
      ],
      "metadata": {
        "id": "u-v977ikgT_q"
      }
    },
    {
      "cell_type": "markdown",
      "source": [
        "##### Above Threshold"
      ],
      "metadata": {
        "id": "CDu17hN5gnTN"
      }
    },
    {
      "cell_type": "code",
      "source": [
        "# threshold = 0.7\n",
        "#Dropping columns with missing value rate higher than threshold\n",
        "# data = data[data.columns[data.isnull().mean() < threshold]]\n",
        "\n",
        "#Dropping rows with missing value rate higher than threshold\n",
        "# data = data.loc[data.isnull().mean(axis=1) < threshold]"
      ],
      "metadata": {
        "id": "c39qkTcwgGNu"
      },
      "execution_count": 355,
      "outputs": []
    },
    {
      "cell_type": "markdown",
      "source": [
        "##### All Nulls"
      ],
      "metadata": {
        "id": "l6zvp3Acgpqc"
      }
    },
    {
      "cell_type": "code",
      "source": [
        "data = data.dropna()"
      ],
      "metadata": {
        "id": "dCl4o4e3gvqu"
      },
      "execution_count": 356,
      "outputs": []
    },
    {
      "cell_type": "markdown",
      "source": [
        "#### Fill Option"
      ],
      "metadata": {
        "id": "3wDh0VB_gci2"
      }
    },
    {
      "cell_type": "markdown",
      "source": [
        "##### Numeric: Fill with Zero"
      ],
      "metadata": {
        "id": "rfDL32d5h5k7"
      }
    },
    {
      "cell_type": "code",
      "source": [
        "# filling all missing values with 0\n",
        "# data = data.fillna(0)"
      ],
      "metadata": {
        "id": "F69vKtgUgME8"
      },
      "execution_count": 357,
      "outputs": []
    },
    {
      "cell_type": "markdown",
      "source": [
        "##### Numeric: Fill with Median"
      ],
      "metadata": {
        "id": "MouQOtD7geOV"
      }
    },
    {
      "cell_type": "code",
      "source": [
        "# filling missing values with medians of the columns\n",
        "# data = data.fillna(data.median())"
      ],
      "metadata": {
        "id": "j6GicM8qgYOy"
      },
      "execution_count": 358,
      "outputs": []
    },
    {
      "cell_type": "markdown",
      "source": [
        "String: Fill with Categorical Most Common Value"
      ],
      "metadata": {
        "id": "HmRepKyHgfjo"
      }
    },
    {
      "cell_type": "code",
      "source": [
        ""
      ],
      "metadata": {
        "id": "LxQgbD1eh_oj"
      },
      "execution_count": 358,
      "outputs": []
    },
    {
      "cell_type": "markdown",
      "source": [
        "#### Check Missing Values Again After Data Transformation"
      ],
      "metadata": {
        "id": "LCvAaYt1gVis"
      }
    },
    {
      "cell_type": "code",
      "source": [
        "dataset.nan_check(data)"
      ],
      "metadata": {
        "colab": {
          "base_uri": "https://localhost:8080/",
          "height": 0
        },
        "id": "vYIx8LxrgdfL",
        "outputId": "29d4a854-35c1-45a6-a6a4-aaff7cc616f4"
      },
      "execution_count": 359,
      "outputs": [
        {
          "output_type": "execute_result",
          "data": {
            "text/plain": [
              "                   Total    %\n",
              "species                0  0.0\n",
              "island                 0  0.0\n",
              "culmen_length_mm       0  0.0\n",
              "culmen_depth_mm        0  0.0\n",
              "flipper_length_mm      0  0.0\n",
              "body_mass_g            0  0.0\n",
              "sex                    0  0.0"
            ],
            "text/html": [
              "\n",
              "  <div id=\"df-9de9bcf9-0268-4bcd-a70a-2982e2a0c2c4\">\n",
              "    <div class=\"colab-df-container\">\n",
              "      <div>\n",
              "<style scoped>\n",
              "    .dataframe tbody tr th:only-of-type {\n",
              "        vertical-align: middle;\n",
              "    }\n",
              "\n",
              "    .dataframe tbody tr th {\n",
              "        vertical-align: top;\n",
              "    }\n",
              "\n",
              "    .dataframe thead th {\n",
              "        text-align: right;\n",
              "    }\n",
              "</style>\n",
              "<table border=\"1\" class=\"dataframe\">\n",
              "  <thead>\n",
              "    <tr style=\"text-align: right;\">\n",
              "      <th></th>\n",
              "      <th>Total</th>\n",
              "      <th>%</th>\n",
              "    </tr>\n",
              "  </thead>\n",
              "  <tbody>\n",
              "    <tr>\n",
              "      <th>species</th>\n",
              "      <td>0</td>\n",
              "      <td>0.0</td>\n",
              "    </tr>\n",
              "    <tr>\n",
              "      <th>island</th>\n",
              "      <td>0</td>\n",
              "      <td>0.0</td>\n",
              "    </tr>\n",
              "    <tr>\n",
              "      <th>culmen_length_mm</th>\n",
              "      <td>0</td>\n",
              "      <td>0.0</td>\n",
              "    </tr>\n",
              "    <tr>\n",
              "      <th>culmen_depth_mm</th>\n",
              "      <td>0</td>\n",
              "      <td>0.0</td>\n",
              "    </tr>\n",
              "    <tr>\n",
              "      <th>flipper_length_mm</th>\n",
              "      <td>0</td>\n",
              "      <td>0.0</td>\n",
              "    </tr>\n",
              "    <tr>\n",
              "      <th>body_mass_g</th>\n",
              "      <td>0</td>\n",
              "      <td>0.0</td>\n",
              "    </tr>\n",
              "    <tr>\n",
              "      <th>sex</th>\n",
              "      <td>0</td>\n",
              "      <td>0.0</td>\n",
              "    </tr>\n",
              "  </tbody>\n",
              "</table>\n",
              "</div>\n",
              "      <button class=\"colab-df-convert\" onclick=\"convertToInteractive('df-9de9bcf9-0268-4bcd-a70a-2982e2a0c2c4')\"\n",
              "              title=\"Convert this dataframe to an interactive table.\"\n",
              "              style=\"display:none;\">\n",
              "        \n",
              "  <svg xmlns=\"http://www.w3.org/2000/svg\" height=\"24px\"viewBox=\"0 0 24 24\"\n",
              "       width=\"24px\">\n",
              "    <path d=\"M0 0h24v24H0V0z\" fill=\"none\"/>\n",
              "    <path d=\"M18.56 5.44l.94 2.06.94-2.06 2.06-.94-2.06-.94-.94-2.06-.94 2.06-2.06.94zm-11 1L8.5 8.5l.94-2.06 2.06-.94-2.06-.94L8.5 2.5l-.94 2.06-2.06.94zm10 10l.94 2.06.94-2.06 2.06-.94-2.06-.94-.94-2.06-.94 2.06-2.06.94z\"/><path d=\"M17.41 7.96l-1.37-1.37c-.4-.4-.92-.59-1.43-.59-.52 0-1.04.2-1.43.59L10.3 9.45l-7.72 7.72c-.78.78-.78 2.05 0 2.83L4 21.41c.39.39.9.59 1.41.59.51 0 1.02-.2 1.41-.59l7.78-7.78 2.81-2.81c.8-.78.8-2.07 0-2.86zM5.41 20L4 18.59l7.72-7.72 1.47 1.35L5.41 20z\"/>\n",
              "  </svg>\n",
              "      </button>\n",
              "      \n",
              "  <style>\n",
              "    .colab-df-container {\n",
              "      display:flex;\n",
              "      flex-wrap:wrap;\n",
              "      gap: 12px;\n",
              "    }\n",
              "\n",
              "    .colab-df-convert {\n",
              "      background-color: #E8F0FE;\n",
              "      border: none;\n",
              "      border-radius: 50%;\n",
              "      cursor: pointer;\n",
              "      display: none;\n",
              "      fill: #1967D2;\n",
              "      height: 32px;\n",
              "      padding: 0 0 0 0;\n",
              "      width: 32px;\n",
              "    }\n",
              "\n",
              "    .colab-df-convert:hover {\n",
              "      background-color: #E2EBFA;\n",
              "      box-shadow: 0px 1px 2px rgba(60, 64, 67, 0.3), 0px 1px 3px 1px rgba(60, 64, 67, 0.15);\n",
              "      fill: #174EA6;\n",
              "    }\n",
              "\n",
              "    [theme=dark] .colab-df-convert {\n",
              "      background-color: #3B4455;\n",
              "      fill: #D2E3FC;\n",
              "    }\n",
              "\n",
              "    [theme=dark] .colab-df-convert:hover {\n",
              "      background-color: #434B5C;\n",
              "      box-shadow: 0px 1px 3px 1px rgba(0, 0, 0, 0.15);\n",
              "      filter: drop-shadow(0px 1px 2px rgba(0, 0, 0, 0.3));\n",
              "      fill: #FFFFFF;\n",
              "    }\n",
              "  </style>\n",
              "\n",
              "      <script>\n",
              "        const buttonEl =\n",
              "          document.querySelector('#df-9de9bcf9-0268-4bcd-a70a-2982e2a0c2c4 button.colab-df-convert');\n",
              "        buttonEl.style.display =\n",
              "          google.colab.kernel.accessAllowed ? 'block' : 'none';\n",
              "\n",
              "        async function convertToInteractive(key) {\n",
              "          const element = document.querySelector('#df-9de9bcf9-0268-4bcd-a70a-2982e2a0c2c4');\n",
              "          const dataTable =\n",
              "            await google.colab.kernel.invokeFunction('convertToInteractive',\n",
              "                                                     [key], {});\n",
              "          if (!dataTable) return;\n",
              "\n",
              "          const docLinkHtml = 'Like what you see? Visit the ' +\n",
              "            '<a target=\"_blank\" href=https://colab.research.google.com/notebooks/data_table.ipynb>data table notebook</a>'\n",
              "            + ' to learn more about interactive tables.';\n",
              "          element.innerHTML = '';\n",
              "          dataTable['output_type'] = 'display_data';\n",
              "          await google.colab.output.renderOutput(dataTable, element);\n",
              "          const docLink = document.createElement('div');\n",
              "          docLink.innerHTML = docLinkHtml;\n",
              "          element.appendChild(docLink);\n",
              "        }\n",
              "      </script>\n",
              "    </div>\n",
              "  </div>\n",
              "  "
            ]
          },
          "metadata": {},
          "execution_count": 359
        }
      ]
    },
    {
      "cell_type": "markdown",
      "source": [
        "### One-Hot Encoding"
      ],
      "metadata": {
        "id": "E4ZQY56eh4d-"
      }
    },
    {
      "cell_type": "code",
      "source": [
        "one_hotted_columns = pd.get_dummies(data[categorical_column_names])\n",
        "\n",
        "data = data.drop(columns=categorical_column_names)\n",
        "\n",
        "data = pd.concat([data, one_hotted_columns], axis=1)\n",
        "\n",
        "data"
      ],
      "metadata": {
        "id": "Kin-mGJXiCsm",
        "colab": {
          "base_uri": "https://localhost:8080/",
          "height": 0
        },
        "outputId": "65193b70-7a5a-4c44-fe8c-c47e513a2d3f"
      },
      "execution_count": 360,
      "outputs": [
        {
          "output_type": "execute_result",
          "data": {
            "text/plain": [
              "    species  culmen_length_mm  culmen_depth_mm  flipper_length_mm  \\\n",
              "0    Adelie              39.1             18.7              181.0   \n",
              "1    Adelie              39.5             17.4              186.0   \n",
              "2    Adelie              40.3             18.0              195.0   \n",
              "4    Adelie              36.7             19.3              193.0   \n",
              "5    Adelie              39.3             20.6              190.0   \n",
              "..      ...               ...              ...                ...   \n",
              "338  Gentoo              47.2             13.7              214.0   \n",
              "340  Gentoo              46.8             14.3              215.0   \n",
              "341  Gentoo              50.4             15.7              222.0   \n",
              "342  Gentoo              45.2             14.8              212.0   \n",
              "343  Gentoo              49.9             16.1              213.0   \n",
              "\n",
              "     body_mass_g  island_Biscoe  island_Dream  island_Torgersen  sex_.  \\\n",
              "0         3750.0              0             0                 1      0   \n",
              "1         3800.0              0             0                 1      0   \n",
              "2         3250.0              0             0                 1      0   \n",
              "4         3450.0              0             0                 1      0   \n",
              "5         3650.0              0             0                 1      0   \n",
              "..           ...            ...           ...               ...    ...   \n",
              "338       4925.0              1             0                 0      0   \n",
              "340       4850.0              1             0                 0      0   \n",
              "341       5750.0              1             0                 0      0   \n",
              "342       5200.0              1             0                 0      0   \n",
              "343       5400.0              1             0                 0      0   \n",
              "\n",
              "     sex_FEMALE  sex_MALE  \n",
              "0             0         1  \n",
              "1             1         0  \n",
              "2             1         0  \n",
              "4             1         0  \n",
              "5             0         1  \n",
              "..          ...       ...  \n",
              "338           1         0  \n",
              "340           1         0  \n",
              "341           0         1  \n",
              "342           1         0  \n",
              "343           0         1  \n",
              "\n",
              "[325 rows x 11 columns]"
            ],
            "text/html": [
              "\n",
              "  <div id=\"df-29d87e58-18c2-413b-bdbd-4f9e3a5a89fd\">\n",
              "    <div class=\"colab-df-container\">\n",
              "      <div>\n",
              "<style scoped>\n",
              "    .dataframe tbody tr th:only-of-type {\n",
              "        vertical-align: middle;\n",
              "    }\n",
              "\n",
              "    .dataframe tbody tr th {\n",
              "        vertical-align: top;\n",
              "    }\n",
              "\n",
              "    .dataframe thead th {\n",
              "        text-align: right;\n",
              "    }\n",
              "</style>\n",
              "<table border=\"1\" class=\"dataframe\">\n",
              "  <thead>\n",
              "    <tr style=\"text-align: right;\">\n",
              "      <th></th>\n",
              "      <th>species</th>\n",
              "      <th>culmen_length_mm</th>\n",
              "      <th>culmen_depth_mm</th>\n",
              "      <th>flipper_length_mm</th>\n",
              "      <th>body_mass_g</th>\n",
              "      <th>island_Biscoe</th>\n",
              "      <th>island_Dream</th>\n",
              "      <th>island_Torgersen</th>\n",
              "      <th>sex_.</th>\n",
              "      <th>sex_FEMALE</th>\n",
              "      <th>sex_MALE</th>\n",
              "    </tr>\n",
              "  </thead>\n",
              "  <tbody>\n",
              "    <tr>\n",
              "      <th>0</th>\n",
              "      <td>Adelie</td>\n",
              "      <td>39.1</td>\n",
              "      <td>18.7</td>\n",
              "      <td>181.0</td>\n",
              "      <td>3750.0</td>\n",
              "      <td>0</td>\n",
              "      <td>0</td>\n",
              "      <td>1</td>\n",
              "      <td>0</td>\n",
              "      <td>0</td>\n",
              "      <td>1</td>\n",
              "    </tr>\n",
              "    <tr>\n",
              "      <th>1</th>\n",
              "      <td>Adelie</td>\n",
              "      <td>39.5</td>\n",
              "      <td>17.4</td>\n",
              "      <td>186.0</td>\n",
              "      <td>3800.0</td>\n",
              "      <td>0</td>\n",
              "      <td>0</td>\n",
              "      <td>1</td>\n",
              "      <td>0</td>\n",
              "      <td>1</td>\n",
              "      <td>0</td>\n",
              "    </tr>\n",
              "    <tr>\n",
              "      <th>2</th>\n",
              "      <td>Adelie</td>\n",
              "      <td>40.3</td>\n",
              "      <td>18.0</td>\n",
              "      <td>195.0</td>\n",
              "      <td>3250.0</td>\n",
              "      <td>0</td>\n",
              "      <td>0</td>\n",
              "      <td>1</td>\n",
              "      <td>0</td>\n",
              "      <td>1</td>\n",
              "      <td>0</td>\n",
              "    </tr>\n",
              "    <tr>\n",
              "      <th>4</th>\n",
              "      <td>Adelie</td>\n",
              "      <td>36.7</td>\n",
              "      <td>19.3</td>\n",
              "      <td>193.0</td>\n",
              "      <td>3450.0</td>\n",
              "      <td>0</td>\n",
              "      <td>0</td>\n",
              "      <td>1</td>\n",
              "      <td>0</td>\n",
              "      <td>1</td>\n",
              "      <td>0</td>\n",
              "    </tr>\n",
              "    <tr>\n",
              "      <th>5</th>\n",
              "      <td>Adelie</td>\n",
              "      <td>39.3</td>\n",
              "      <td>20.6</td>\n",
              "      <td>190.0</td>\n",
              "      <td>3650.0</td>\n",
              "      <td>0</td>\n",
              "      <td>0</td>\n",
              "      <td>1</td>\n",
              "      <td>0</td>\n",
              "      <td>0</td>\n",
              "      <td>1</td>\n",
              "    </tr>\n",
              "    <tr>\n",
              "      <th>...</th>\n",
              "      <td>...</td>\n",
              "      <td>...</td>\n",
              "      <td>...</td>\n",
              "      <td>...</td>\n",
              "      <td>...</td>\n",
              "      <td>...</td>\n",
              "      <td>...</td>\n",
              "      <td>...</td>\n",
              "      <td>...</td>\n",
              "      <td>...</td>\n",
              "      <td>...</td>\n",
              "    </tr>\n",
              "    <tr>\n",
              "      <th>338</th>\n",
              "      <td>Gentoo</td>\n",
              "      <td>47.2</td>\n",
              "      <td>13.7</td>\n",
              "      <td>214.0</td>\n",
              "      <td>4925.0</td>\n",
              "      <td>1</td>\n",
              "      <td>0</td>\n",
              "      <td>0</td>\n",
              "      <td>0</td>\n",
              "      <td>1</td>\n",
              "      <td>0</td>\n",
              "    </tr>\n",
              "    <tr>\n",
              "      <th>340</th>\n",
              "      <td>Gentoo</td>\n",
              "      <td>46.8</td>\n",
              "      <td>14.3</td>\n",
              "      <td>215.0</td>\n",
              "      <td>4850.0</td>\n",
              "      <td>1</td>\n",
              "      <td>0</td>\n",
              "      <td>0</td>\n",
              "      <td>0</td>\n",
              "      <td>1</td>\n",
              "      <td>0</td>\n",
              "    </tr>\n",
              "    <tr>\n",
              "      <th>341</th>\n",
              "      <td>Gentoo</td>\n",
              "      <td>50.4</td>\n",
              "      <td>15.7</td>\n",
              "      <td>222.0</td>\n",
              "      <td>5750.0</td>\n",
              "      <td>1</td>\n",
              "      <td>0</td>\n",
              "      <td>0</td>\n",
              "      <td>0</td>\n",
              "      <td>0</td>\n",
              "      <td>1</td>\n",
              "    </tr>\n",
              "    <tr>\n",
              "      <th>342</th>\n",
              "      <td>Gentoo</td>\n",
              "      <td>45.2</td>\n",
              "      <td>14.8</td>\n",
              "      <td>212.0</td>\n",
              "      <td>5200.0</td>\n",
              "      <td>1</td>\n",
              "      <td>0</td>\n",
              "      <td>0</td>\n",
              "      <td>0</td>\n",
              "      <td>1</td>\n",
              "      <td>0</td>\n",
              "    </tr>\n",
              "    <tr>\n",
              "      <th>343</th>\n",
              "      <td>Gentoo</td>\n",
              "      <td>49.9</td>\n",
              "      <td>16.1</td>\n",
              "      <td>213.0</td>\n",
              "      <td>5400.0</td>\n",
              "      <td>1</td>\n",
              "      <td>0</td>\n",
              "      <td>0</td>\n",
              "      <td>0</td>\n",
              "      <td>0</td>\n",
              "      <td>1</td>\n",
              "    </tr>\n",
              "  </tbody>\n",
              "</table>\n",
              "<p>325 rows × 11 columns</p>\n",
              "</div>\n",
              "      <button class=\"colab-df-convert\" onclick=\"convertToInteractive('df-29d87e58-18c2-413b-bdbd-4f9e3a5a89fd')\"\n",
              "              title=\"Convert this dataframe to an interactive table.\"\n",
              "              style=\"display:none;\">\n",
              "        \n",
              "  <svg xmlns=\"http://www.w3.org/2000/svg\" height=\"24px\"viewBox=\"0 0 24 24\"\n",
              "       width=\"24px\">\n",
              "    <path d=\"M0 0h24v24H0V0z\" fill=\"none\"/>\n",
              "    <path d=\"M18.56 5.44l.94 2.06.94-2.06 2.06-.94-2.06-.94-.94-2.06-.94 2.06-2.06.94zm-11 1L8.5 8.5l.94-2.06 2.06-.94-2.06-.94L8.5 2.5l-.94 2.06-2.06.94zm10 10l.94 2.06.94-2.06 2.06-.94-2.06-.94-.94-2.06-.94 2.06-2.06.94z\"/><path d=\"M17.41 7.96l-1.37-1.37c-.4-.4-.92-.59-1.43-.59-.52 0-1.04.2-1.43.59L10.3 9.45l-7.72 7.72c-.78.78-.78 2.05 0 2.83L4 21.41c.39.39.9.59 1.41.59.51 0 1.02-.2 1.41-.59l7.78-7.78 2.81-2.81c.8-.78.8-2.07 0-2.86zM5.41 20L4 18.59l7.72-7.72 1.47 1.35L5.41 20z\"/>\n",
              "  </svg>\n",
              "      </button>\n",
              "      \n",
              "  <style>\n",
              "    .colab-df-container {\n",
              "      display:flex;\n",
              "      flex-wrap:wrap;\n",
              "      gap: 12px;\n",
              "    }\n",
              "\n",
              "    .colab-df-convert {\n",
              "      background-color: #E8F0FE;\n",
              "      border: none;\n",
              "      border-radius: 50%;\n",
              "      cursor: pointer;\n",
              "      display: none;\n",
              "      fill: #1967D2;\n",
              "      height: 32px;\n",
              "      padding: 0 0 0 0;\n",
              "      width: 32px;\n",
              "    }\n",
              "\n",
              "    .colab-df-convert:hover {\n",
              "      background-color: #E2EBFA;\n",
              "      box-shadow: 0px 1px 2px rgba(60, 64, 67, 0.3), 0px 1px 3px 1px rgba(60, 64, 67, 0.15);\n",
              "      fill: #174EA6;\n",
              "    }\n",
              "\n",
              "    [theme=dark] .colab-df-convert {\n",
              "      background-color: #3B4455;\n",
              "      fill: #D2E3FC;\n",
              "    }\n",
              "\n",
              "    [theme=dark] .colab-df-convert:hover {\n",
              "      background-color: #434B5C;\n",
              "      box-shadow: 0px 1px 3px 1px rgba(0, 0, 0, 0.15);\n",
              "      filter: drop-shadow(0px 1px 2px rgba(0, 0, 0, 0.3));\n",
              "      fill: #FFFFFF;\n",
              "    }\n",
              "  </style>\n",
              "\n",
              "      <script>\n",
              "        const buttonEl =\n",
              "          document.querySelector('#df-29d87e58-18c2-413b-bdbd-4f9e3a5a89fd button.colab-df-convert');\n",
              "        buttonEl.style.display =\n",
              "          google.colab.kernel.accessAllowed ? 'block' : 'none';\n",
              "\n",
              "        async function convertToInteractive(key) {\n",
              "          const element = document.querySelector('#df-29d87e58-18c2-413b-bdbd-4f9e3a5a89fd');\n",
              "          const dataTable =\n",
              "            await google.colab.kernel.invokeFunction('convertToInteractive',\n",
              "                                                     [key], {});\n",
              "          if (!dataTable) return;\n",
              "\n",
              "          const docLinkHtml = 'Like what you see? Visit the ' +\n",
              "            '<a target=\"_blank\" href=https://colab.research.google.com/notebooks/data_table.ipynb>data table notebook</a>'\n",
              "            + ' to learn more about interactive tables.';\n",
              "          element.innerHTML = '';\n",
              "          dataTable['output_type'] = 'display_data';\n",
              "          await google.colab.output.renderOutput(dataTable, element);\n",
              "          const docLink = document.createElement('div');\n",
              "          docLink.innerHTML = docLinkHtml;\n",
              "          element.appendChild(docLink);\n",
              "        }\n",
              "      </script>\n",
              "    </div>\n",
              "  </div>\n",
              "  "
            ]
          },
          "metadata": {},
          "execution_count": 360
        }
      ]
    },
    {
      "cell_type": "markdown",
      "source": [
        "#### Check Column List After One Hot Encoding Categorical Data"
      ],
      "metadata": {
        "id": "glXalIFTo5PZ"
      }
    },
    {
      "cell_type": "code",
      "source": [
        "data.columns"
      ],
      "metadata": {
        "colab": {
          "base_uri": "https://localhost:8080/"
        },
        "id": "X2F0M4A6o_lF",
        "outputId": "7f7bfdd0-775c-43dc-c158-27121127323d"
      },
      "execution_count": 361,
      "outputs": [
        {
          "output_type": "execute_result",
          "data": {
            "text/plain": [
              "Index(['species', 'culmen_length_mm', 'culmen_depth_mm', 'flipper_length_mm',\n",
              "       'body_mass_g', 'island_Biscoe', 'island_Dream', 'island_Torgersen',\n",
              "       'sex_.', 'sex_FEMALE', 'sex_MALE'],\n",
              "      dtype='object')"
            ]
          },
          "metadata": {},
          "execution_count": 361
        }
      ]
    },
    {
      "cell_type": "code",
      "source": [
        "data.head()"
      ],
      "metadata": {
        "colab": {
          "base_uri": "https://localhost:8080/",
          "height": 0
        },
        "id": "rVP6LguQod2q",
        "outputId": "a088ef59-91a5-4a54-e2cf-68c1c5ac1d6d"
      },
      "execution_count": 362,
      "outputs": [
        {
          "output_type": "execute_result",
          "data": {
            "text/plain": [
              "  species  culmen_length_mm  culmen_depth_mm  flipper_length_mm  body_mass_g  \\\n",
              "0  Adelie              39.1             18.7              181.0       3750.0   \n",
              "1  Adelie              39.5             17.4              186.0       3800.0   \n",
              "2  Adelie              40.3             18.0              195.0       3250.0   \n",
              "4  Adelie              36.7             19.3              193.0       3450.0   \n",
              "5  Adelie              39.3             20.6              190.0       3650.0   \n",
              "\n",
              "   island_Biscoe  island_Dream  island_Torgersen  sex_.  sex_FEMALE  sex_MALE  \n",
              "0              0             0                 1      0           0         1  \n",
              "1              0             0                 1      0           1         0  \n",
              "2              0             0                 1      0           1         0  \n",
              "4              0             0                 1      0           1         0  \n",
              "5              0             0                 1      0           0         1  "
            ],
            "text/html": [
              "\n",
              "  <div id=\"df-fc97dd07-8656-4406-9006-ae2ecd2d3329\">\n",
              "    <div class=\"colab-df-container\">\n",
              "      <div>\n",
              "<style scoped>\n",
              "    .dataframe tbody tr th:only-of-type {\n",
              "        vertical-align: middle;\n",
              "    }\n",
              "\n",
              "    .dataframe tbody tr th {\n",
              "        vertical-align: top;\n",
              "    }\n",
              "\n",
              "    .dataframe thead th {\n",
              "        text-align: right;\n",
              "    }\n",
              "</style>\n",
              "<table border=\"1\" class=\"dataframe\">\n",
              "  <thead>\n",
              "    <tr style=\"text-align: right;\">\n",
              "      <th></th>\n",
              "      <th>species</th>\n",
              "      <th>culmen_length_mm</th>\n",
              "      <th>culmen_depth_mm</th>\n",
              "      <th>flipper_length_mm</th>\n",
              "      <th>body_mass_g</th>\n",
              "      <th>island_Biscoe</th>\n",
              "      <th>island_Dream</th>\n",
              "      <th>island_Torgersen</th>\n",
              "      <th>sex_.</th>\n",
              "      <th>sex_FEMALE</th>\n",
              "      <th>sex_MALE</th>\n",
              "    </tr>\n",
              "  </thead>\n",
              "  <tbody>\n",
              "    <tr>\n",
              "      <th>0</th>\n",
              "      <td>Adelie</td>\n",
              "      <td>39.1</td>\n",
              "      <td>18.7</td>\n",
              "      <td>181.0</td>\n",
              "      <td>3750.0</td>\n",
              "      <td>0</td>\n",
              "      <td>0</td>\n",
              "      <td>1</td>\n",
              "      <td>0</td>\n",
              "      <td>0</td>\n",
              "      <td>1</td>\n",
              "    </tr>\n",
              "    <tr>\n",
              "      <th>1</th>\n",
              "      <td>Adelie</td>\n",
              "      <td>39.5</td>\n",
              "      <td>17.4</td>\n",
              "      <td>186.0</td>\n",
              "      <td>3800.0</td>\n",
              "      <td>0</td>\n",
              "      <td>0</td>\n",
              "      <td>1</td>\n",
              "      <td>0</td>\n",
              "      <td>1</td>\n",
              "      <td>0</td>\n",
              "    </tr>\n",
              "    <tr>\n",
              "      <th>2</th>\n",
              "      <td>Adelie</td>\n",
              "      <td>40.3</td>\n",
              "      <td>18.0</td>\n",
              "      <td>195.0</td>\n",
              "      <td>3250.0</td>\n",
              "      <td>0</td>\n",
              "      <td>0</td>\n",
              "      <td>1</td>\n",
              "      <td>0</td>\n",
              "      <td>1</td>\n",
              "      <td>0</td>\n",
              "    </tr>\n",
              "    <tr>\n",
              "      <th>4</th>\n",
              "      <td>Adelie</td>\n",
              "      <td>36.7</td>\n",
              "      <td>19.3</td>\n",
              "      <td>193.0</td>\n",
              "      <td>3450.0</td>\n",
              "      <td>0</td>\n",
              "      <td>0</td>\n",
              "      <td>1</td>\n",
              "      <td>0</td>\n",
              "      <td>1</td>\n",
              "      <td>0</td>\n",
              "    </tr>\n",
              "    <tr>\n",
              "      <th>5</th>\n",
              "      <td>Adelie</td>\n",
              "      <td>39.3</td>\n",
              "      <td>20.6</td>\n",
              "      <td>190.0</td>\n",
              "      <td>3650.0</td>\n",
              "      <td>0</td>\n",
              "      <td>0</td>\n",
              "      <td>1</td>\n",
              "      <td>0</td>\n",
              "      <td>0</td>\n",
              "      <td>1</td>\n",
              "    </tr>\n",
              "  </tbody>\n",
              "</table>\n",
              "</div>\n",
              "      <button class=\"colab-df-convert\" onclick=\"convertToInteractive('df-fc97dd07-8656-4406-9006-ae2ecd2d3329')\"\n",
              "              title=\"Convert this dataframe to an interactive table.\"\n",
              "              style=\"display:none;\">\n",
              "        \n",
              "  <svg xmlns=\"http://www.w3.org/2000/svg\" height=\"24px\"viewBox=\"0 0 24 24\"\n",
              "       width=\"24px\">\n",
              "    <path d=\"M0 0h24v24H0V0z\" fill=\"none\"/>\n",
              "    <path d=\"M18.56 5.44l.94 2.06.94-2.06 2.06-.94-2.06-.94-.94-2.06-.94 2.06-2.06.94zm-11 1L8.5 8.5l.94-2.06 2.06-.94-2.06-.94L8.5 2.5l-.94 2.06-2.06.94zm10 10l.94 2.06.94-2.06 2.06-.94-2.06-.94-.94-2.06-.94 2.06-2.06.94z\"/><path d=\"M17.41 7.96l-1.37-1.37c-.4-.4-.92-.59-1.43-.59-.52 0-1.04.2-1.43.59L10.3 9.45l-7.72 7.72c-.78.78-.78 2.05 0 2.83L4 21.41c.39.39.9.59 1.41.59.51 0 1.02-.2 1.41-.59l7.78-7.78 2.81-2.81c.8-.78.8-2.07 0-2.86zM5.41 20L4 18.59l7.72-7.72 1.47 1.35L5.41 20z\"/>\n",
              "  </svg>\n",
              "      </button>\n",
              "      \n",
              "  <style>\n",
              "    .colab-df-container {\n",
              "      display:flex;\n",
              "      flex-wrap:wrap;\n",
              "      gap: 12px;\n",
              "    }\n",
              "\n",
              "    .colab-df-convert {\n",
              "      background-color: #E8F0FE;\n",
              "      border: none;\n",
              "      border-radius: 50%;\n",
              "      cursor: pointer;\n",
              "      display: none;\n",
              "      fill: #1967D2;\n",
              "      height: 32px;\n",
              "      padding: 0 0 0 0;\n",
              "      width: 32px;\n",
              "    }\n",
              "\n",
              "    .colab-df-convert:hover {\n",
              "      background-color: #E2EBFA;\n",
              "      box-shadow: 0px 1px 2px rgba(60, 64, 67, 0.3), 0px 1px 3px 1px rgba(60, 64, 67, 0.15);\n",
              "      fill: #174EA6;\n",
              "    }\n",
              "\n",
              "    [theme=dark] .colab-df-convert {\n",
              "      background-color: #3B4455;\n",
              "      fill: #D2E3FC;\n",
              "    }\n",
              "\n",
              "    [theme=dark] .colab-df-convert:hover {\n",
              "      background-color: #434B5C;\n",
              "      box-shadow: 0px 1px 3px 1px rgba(0, 0, 0, 0.15);\n",
              "      filter: drop-shadow(0px 1px 2px rgba(0, 0, 0, 0.3));\n",
              "      fill: #FFFFFF;\n",
              "    }\n",
              "  </style>\n",
              "\n",
              "      <script>\n",
              "        const buttonEl =\n",
              "          document.querySelector('#df-fc97dd07-8656-4406-9006-ae2ecd2d3329 button.colab-df-convert');\n",
              "        buttonEl.style.display =\n",
              "          google.colab.kernel.accessAllowed ? 'block' : 'none';\n",
              "\n",
              "        async function convertToInteractive(key) {\n",
              "          const element = document.querySelector('#df-fc97dd07-8656-4406-9006-ae2ecd2d3329');\n",
              "          const dataTable =\n",
              "            await google.colab.kernel.invokeFunction('convertToInteractive',\n",
              "                                                     [key], {});\n",
              "          if (!dataTable) return;\n",
              "\n",
              "          const docLinkHtml = 'Like what you see? Visit the ' +\n",
              "            '<a target=\"_blank\" href=https://colab.research.google.com/notebooks/data_table.ipynb>data table notebook</a>'\n",
              "            + ' to learn more about interactive tables.';\n",
              "          element.innerHTML = '';\n",
              "          dataTable['output_type'] = 'display_data';\n",
              "          await google.colab.output.renderOutput(dataTable, element);\n",
              "          const docLink = document.createElement('div');\n",
              "          docLink.innerHTML = docLinkHtml;\n",
              "          element.appendChild(docLink);\n",
              "        }\n",
              "      </script>\n",
              "    </div>\n",
              "  </div>\n",
              "  "
            ]
          },
          "metadata": {},
          "execution_count": 362
        }
      ]
    },
    {
      "cell_type": "markdown",
      "source": [
        "### Splitting"
      ],
      "metadata": {
        "id": "F9GQmrCfiK4K"
      }
    },
    {
      "cell_type": "markdown",
      "source": [
        "##### Strings"
      ],
      "metadata": {
        "id": "OzmV8g3NiY9Y"
      }
    },
    {
      "cell_type": "code",
      "source": [
        "# data.full_name\n",
        "#Extracting first names\n",
        "# data.full_name.str.split(\" \").map(lambda x: x[0])\n",
        "#Extracting last names\n",
        "# data.full_name.str.split(\" \").map(lambda x: x[-1])"
      ],
      "metadata": {
        "id": "-j8rO9FDiNQH"
      },
      "execution_count": 363,
      "outputs": []
    },
    {
      "cell_type": "markdown",
      "source": [
        "##### Numbers"
      ],
      "metadata": {
        "id": "R-C1tyOMiiVD"
      }
    },
    {
      "cell_type": "code",
      "source": [
        "# find a method that splits at the decimal or rounds"
      ],
      "metadata": {
        "id": "0yj8uWnuitNA"
      },
      "execution_count": 364,
      "outputs": []
    },
    {
      "cell_type": "markdown",
      "source": [
        "### Other String Cleaning Methods (e.g. regex)"
      ],
      "metadata": {
        "id": "DMmTb6UBtVjt"
      }
    },
    {
      "cell_type": "markdown",
      "source": [
        "### Scaling"
      ],
      "metadata": {
        "id": "jVBeVd0cjTn6"
      }
    },
    {
      "cell_type": "markdown",
      "source": [
        "##### Normalization of a Single Column"
      ],
      "metadata": {
        "id": "gnVmRnY-jjPT"
      }
    },
    {
      "cell_type": "code",
      "source": [
        "# data['normalized_label'] = (data[continuous_label] - data[continuous_label].min()) / (data[continuous_label].max() - data[continuous_label].min())"
      ],
      "metadata": {
        "id": "yvGag4uzjwMg"
      },
      "execution_count": 365,
      "outputs": []
    },
    {
      "cell_type": "markdown",
      "source": [
        "##### Standardization of a Single Column"
      ],
      "metadata": {
        "id": "2y8kQczJjlD5"
      }
    },
    {
      "cell_type": "code",
      "source": [
        "# data['standardized_label'] = (data[continuous_label] - data[continuous_label].mean()) / data[continuous_label].std()"
      ],
      "metadata": {
        "id": "cCWJbC1fjtQX"
      },
      "execution_count": 366,
      "outputs": []
    },
    {
      "cell_type": "markdown",
      "source": [
        "##### Pipelines\n",
        "\n",
        "Normally scaling is done in the context of a pipeline. This can be combined with training to streamline. Here's an example below for reference."
      ],
      "metadata": {
        "id": "3k_IXoJVq_Y_"
      }
    },
    {
      "cell_type": "code",
      "source": [
        "# # https://scikit-learn.org/stable/modules/preprocessing.html\n",
        "# # https://www.kaggle.com/code/satishgunjal/binary-multiclass-classification-using-sklearn/notebook#Multiclass-Classification\n",
        "\n",
        "# # Define preprocessing for numeric columns (scale them)\n",
        "# feature_columns = [0,1,2,3]\n",
        "# feature_transformer = Pipeline(steps=[\n",
        "#     ('scaler', StandardScaler())\n",
        "#     ])\n",
        "\n",
        "# # Create preprocessing steps\n",
        "# preprocessor = ColumnTransformer(\n",
        "#     transformers=[\n",
        "#         ('preprocess', feature_transformer, feature_columns)])\n",
        "\n",
        "# # Create training pipeline\n",
        "# pipeline = Pipeline(steps=[('preprocessor', preprocessor),\n",
        "#                            ('regressor', SVC(probability=True))])\n",
        "\n",
        "\n",
        "# # fit the pipeline to train a linear regression model on the training set\n",
        "# multi_model = pipeline.fit(x_penguin_train, y_penguin_train)\n",
        "# print (multi_model)"
      ],
      "metadata": {
        "id": "XhIuuK6irBQr"
      },
      "execution_count": 367,
      "outputs": []
    },
    {
      "cell_type": "markdown",
      "source": [
        "### Date Handling"
      ],
      "metadata": {
        "id": "OLHvI1hljoe7"
      }
    },
    {
      "cell_type": "code",
      "source": [
        "# #Transform string to date\n",
        "# data['date'] = pd.to_datetime(data.date, format=\"%d-%m-%Y\")\n",
        "\n",
        "# #Extracting Year\n",
        "# data['year'] = data['date'].dt.year\n",
        "\n",
        "# #Extracting Month\n",
        "# data['month'] = data['date'].dt.month\n",
        "\n",
        "# #Extracting passed years since the date\n",
        "# data['passed_years'] = date.today().year - data['date'].dt.year\n",
        "\n",
        "# #Extracting passed months since the date\n",
        "# data['passed_months'] = (date.today().year - data['date'].dt.year) * 12 + date.today().month - data['date'].dt.month\n",
        "\n",
        "# #Extracting the weekday name of the date\n",
        "# data['day_name'] = data['date'].dt.day_name()"
      ],
      "metadata": {
        "id": "igES1ENUj5ZJ"
      },
      "execution_count": 368,
      "outputs": []
    },
    {
      "cell_type": "markdown",
      "source": [
        "### PII & IDs"
      ],
      "metadata": {
        "id": "fwajIn_Qs8QY"
      }
    },
    {
      "cell_type": "code",
      "source": [
        "# TO DO:"
      ],
      "metadata": {
        "id": "j1opmXzlpyEn"
      },
      "execution_count": 369,
      "outputs": []
    },
    {
      "cell_type": "markdown",
      "source": [
        "### Drop Columns as Needed"
      ],
      "metadata": {
        "id": "L6CdNc9fS9Ys"
      }
    },
    {
      "cell_type": "code",
      "source": [
        "columns_to_drop = ['sex_.']\n",
        "\n",
        "data = data.drop(columns=columns_to_drop)"
      ],
      "metadata": {
        "id": "L4OyQgtjTATJ"
      },
      "execution_count": 370,
      "outputs": []
    },
    {
      "cell_type": "markdown",
      "source": [
        "### Sanity Check Before Train Test Split"
      ],
      "metadata": {
        "id": "5bZNoUWfTOZn"
      }
    },
    {
      "cell_type": "code",
      "source": [
        "data.columns"
      ],
      "metadata": {
        "colab": {
          "base_uri": "https://localhost:8080/"
        },
        "id": "h9VmzIu0TTZs",
        "outputId": "1784b4ea-f913-45bd-cbf4-ca2b9c46a694"
      },
      "execution_count": 371,
      "outputs": [
        {
          "output_type": "execute_result",
          "data": {
            "text/plain": [
              "Index(['species', 'culmen_length_mm', 'culmen_depth_mm', 'flipper_length_mm',\n",
              "       'body_mass_g', 'island_Biscoe', 'island_Dream', 'island_Torgersen',\n",
              "       'sex_FEMALE', 'sex_MALE'],\n",
              "      dtype='object')"
            ]
          },
          "metadata": {},
          "execution_count": 371
        }
      ]
    },
    {
      "cell_type": "code",
      "source": [
        "data.head()"
      ],
      "metadata": {
        "colab": {
          "base_uri": "https://localhost:8080/",
          "height": 0
        },
        "id": "anqNqE9ETUWR",
        "outputId": "1bf6a2fa-948f-4902-cc06-ac19522ee4eb"
      },
      "execution_count": 372,
      "outputs": [
        {
          "output_type": "execute_result",
          "data": {
            "text/plain": [
              "  species  culmen_length_mm  culmen_depth_mm  flipper_length_mm  body_mass_g  \\\n",
              "0  Adelie              39.1             18.7              181.0       3750.0   \n",
              "1  Adelie              39.5             17.4              186.0       3800.0   \n",
              "2  Adelie              40.3             18.0              195.0       3250.0   \n",
              "4  Adelie              36.7             19.3              193.0       3450.0   \n",
              "5  Adelie              39.3             20.6              190.0       3650.0   \n",
              "\n",
              "   island_Biscoe  island_Dream  island_Torgersen  sex_FEMALE  sex_MALE  \n",
              "0              0             0                 1           0         1  \n",
              "1              0             0                 1           1         0  \n",
              "2              0             0                 1           1         0  \n",
              "4              0             0                 1           1         0  \n",
              "5              0             0                 1           0         1  "
            ],
            "text/html": [
              "\n",
              "  <div id=\"df-c9665a62-1b69-4b5c-980a-9419e3d6cdde\">\n",
              "    <div class=\"colab-df-container\">\n",
              "      <div>\n",
              "<style scoped>\n",
              "    .dataframe tbody tr th:only-of-type {\n",
              "        vertical-align: middle;\n",
              "    }\n",
              "\n",
              "    .dataframe tbody tr th {\n",
              "        vertical-align: top;\n",
              "    }\n",
              "\n",
              "    .dataframe thead th {\n",
              "        text-align: right;\n",
              "    }\n",
              "</style>\n",
              "<table border=\"1\" class=\"dataframe\">\n",
              "  <thead>\n",
              "    <tr style=\"text-align: right;\">\n",
              "      <th></th>\n",
              "      <th>species</th>\n",
              "      <th>culmen_length_mm</th>\n",
              "      <th>culmen_depth_mm</th>\n",
              "      <th>flipper_length_mm</th>\n",
              "      <th>body_mass_g</th>\n",
              "      <th>island_Biscoe</th>\n",
              "      <th>island_Dream</th>\n",
              "      <th>island_Torgersen</th>\n",
              "      <th>sex_FEMALE</th>\n",
              "      <th>sex_MALE</th>\n",
              "    </tr>\n",
              "  </thead>\n",
              "  <tbody>\n",
              "    <tr>\n",
              "      <th>0</th>\n",
              "      <td>Adelie</td>\n",
              "      <td>39.1</td>\n",
              "      <td>18.7</td>\n",
              "      <td>181.0</td>\n",
              "      <td>3750.0</td>\n",
              "      <td>0</td>\n",
              "      <td>0</td>\n",
              "      <td>1</td>\n",
              "      <td>0</td>\n",
              "      <td>1</td>\n",
              "    </tr>\n",
              "    <tr>\n",
              "      <th>1</th>\n",
              "      <td>Adelie</td>\n",
              "      <td>39.5</td>\n",
              "      <td>17.4</td>\n",
              "      <td>186.0</td>\n",
              "      <td>3800.0</td>\n",
              "      <td>0</td>\n",
              "      <td>0</td>\n",
              "      <td>1</td>\n",
              "      <td>1</td>\n",
              "      <td>0</td>\n",
              "    </tr>\n",
              "    <tr>\n",
              "      <th>2</th>\n",
              "      <td>Adelie</td>\n",
              "      <td>40.3</td>\n",
              "      <td>18.0</td>\n",
              "      <td>195.0</td>\n",
              "      <td>3250.0</td>\n",
              "      <td>0</td>\n",
              "      <td>0</td>\n",
              "      <td>1</td>\n",
              "      <td>1</td>\n",
              "      <td>0</td>\n",
              "    </tr>\n",
              "    <tr>\n",
              "      <th>4</th>\n",
              "      <td>Adelie</td>\n",
              "      <td>36.7</td>\n",
              "      <td>19.3</td>\n",
              "      <td>193.0</td>\n",
              "      <td>3450.0</td>\n",
              "      <td>0</td>\n",
              "      <td>0</td>\n",
              "      <td>1</td>\n",
              "      <td>1</td>\n",
              "      <td>0</td>\n",
              "    </tr>\n",
              "    <tr>\n",
              "      <th>5</th>\n",
              "      <td>Adelie</td>\n",
              "      <td>39.3</td>\n",
              "      <td>20.6</td>\n",
              "      <td>190.0</td>\n",
              "      <td>3650.0</td>\n",
              "      <td>0</td>\n",
              "      <td>0</td>\n",
              "      <td>1</td>\n",
              "      <td>0</td>\n",
              "      <td>1</td>\n",
              "    </tr>\n",
              "  </tbody>\n",
              "</table>\n",
              "</div>\n",
              "      <button class=\"colab-df-convert\" onclick=\"convertToInteractive('df-c9665a62-1b69-4b5c-980a-9419e3d6cdde')\"\n",
              "              title=\"Convert this dataframe to an interactive table.\"\n",
              "              style=\"display:none;\">\n",
              "        \n",
              "  <svg xmlns=\"http://www.w3.org/2000/svg\" height=\"24px\"viewBox=\"0 0 24 24\"\n",
              "       width=\"24px\">\n",
              "    <path d=\"M0 0h24v24H0V0z\" fill=\"none\"/>\n",
              "    <path d=\"M18.56 5.44l.94 2.06.94-2.06 2.06-.94-2.06-.94-.94-2.06-.94 2.06-2.06.94zm-11 1L8.5 8.5l.94-2.06 2.06-.94-2.06-.94L8.5 2.5l-.94 2.06-2.06.94zm10 10l.94 2.06.94-2.06 2.06-.94-2.06-.94-.94-2.06-.94 2.06-2.06.94z\"/><path d=\"M17.41 7.96l-1.37-1.37c-.4-.4-.92-.59-1.43-.59-.52 0-1.04.2-1.43.59L10.3 9.45l-7.72 7.72c-.78.78-.78 2.05 0 2.83L4 21.41c.39.39.9.59 1.41.59.51 0 1.02-.2 1.41-.59l7.78-7.78 2.81-2.81c.8-.78.8-2.07 0-2.86zM5.41 20L4 18.59l7.72-7.72 1.47 1.35L5.41 20z\"/>\n",
              "  </svg>\n",
              "      </button>\n",
              "      \n",
              "  <style>\n",
              "    .colab-df-container {\n",
              "      display:flex;\n",
              "      flex-wrap:wrap;\n",
              "      gap: 12px;\n",
              "    }\n",
              "\n",
              "    .colab-df-convert {\n",
              "      background-color: #E8F0FE;\n",
              "      border: none;\n",
              "      border-radius: 50%;\n",
              "      cursor: pointer;\n",
              "      display: none;\n",
              "      fill: #1967D2;\n",
              "      height: 32px;\n",
              "      padding: 0 0 0 0;\n",
              "      width: 32px;\n",
              "    }\n",
              "\n",
              "    .colab-df-convert:hover {\n",
              "      background-color: #E2EBFA;\n",
              "      box-shadow: 0px 1px 2px rgba(60, 64, 67, 0.3), 0px 1px 3px 1px rgba(60, 64, 67, 0.15);\n",
              "      fill: #174EA6;\n",
              "    }\n",
              "\n",
              "    [theme=dark] .colab-df-convert {\n",
              "      background-color: #3B4455;\n",
              "      fill: #D2E3FC;\n",
              "    }\n",
              "\n",
              "    [theme=dark] .colab-df-convert:hover {\n",
              "      background-color: #434B5C;\n",
              "      box-shadow: 0px 1px 3px 1px rgba(0, 0, 0, 0.15);\n",
              "      filter: drop-shadow(0px 1px 2px rgba(0, 0, 0, 0.3));\n",
              "      fill: #FFFFFF;\n",
              "    }\n",
              "  </style>\n",
              "\n",
              "      <script>\n",
              "        const buttonEl =\n",
              "          document.querySelector('#df-c9665a62-1b69-4b5c-980a-9419e3d6cdde button.colab-df-convert');\n",
              "        buttonEl.style.display =\n",
              "          google.colab.kernel.accessAllowed ? 'block' : 'none';\n",
              "\n",
              "        async function convertToInteractive(key) {\n",
              "          const element = document.querySelector('#df-c9665a62-1b69-4b5c-980a-9419e3d6cdde');\n",
              "          const dataTable =\n",
              "            await google.colab.kernel.invokeFunction('convertToInteractive',\n",
              "                                                     [key], {});\n",
              "          if (!dataTable) return;\n",
              "\n",
              "          const docLinkHtml = 'Like what you see? Visit the ' +\n",
              "            '<a target=\"_blank\" href=https://colab.research.google.com/notebooks/data_table.ipynb>data table notebook</a>'\n",
              "            + ' to learn more about interactive tables.';\n",
              "          element.innerHTML = '';\n",
              "          dataTable['output_type'] = 'display_data';\n",
              "          await google.colab.output.renderOutput(dataTable, element);\n",
              "          const docLink = document.createElement('div');\n",
              "          docLink.innerHTML = docLinkHtml;\n",
              "          element.appendChild(docLink);\n",
              "        }\n",
              "      </script>\n",
              "    </div>\n",
              "  </div>\n",
              "  "
            ]
          },
          "metadata": {},
          "execution_count": 372
        }
      ]
    },
    {
      "cell_type": "markdown",
      "source": [
        "## Split Data into Training, Validation, and Test Sets"
      ],
      "metadata": {
        "id": "vswGUemtTkr3"
      }
    },
    {
      "cell_type": "code",
      "source": [
        "train_data, train_label = dataset.split_data_and_label(data, binned_label)"
      ],
      "metadata": {
        "id": "td28JB27XIXg"
      },
      "execution_count": 373,
      "outputs": []
    },
    {
      "cell_type": "code",
      "source": [
        "train_data"
      ],
      "metadata": {
        "colab": {
          "base_uri": "https://localhost:8080/",
          "height": 0
        },
        "id": "fBBNqhXCZGZW",
        "outputId": "1fdd209e-34a2-4db5-b3d0-9083dcafe04d"
      },
      "execution_count": 374,
      "outputs": [
        {
          "output_type": "execute_result",
          "data": {
            "text/plain": [
              "     culmen_length_mm  culmen_depth_mm  flipper_length_mm  body_mass_g  \\\n",
              "0                39.1             18.7              181.0       3750.0   \n",
              "1                39.5             17.4              186.0       3800.0   \n",
              "2                40.3             18.0              195.0       3250.0   \n",
              "4                36.7             19.3              193.0       3450.0   \n",
              "5                39.3             20.6              190.0       3650.0   \n",
              "..                ...              ...                ...          ...   \n",
              "338              47.2             13.7              214.0       4925.0   \n",
              "340              46.8             14.3              215.0       4850.0   \n",
              "341              50.4             15.7              222.0       5750.0   \n",
              "342              45.2             14.8              212.0       5200.0   \n",
              "343              49.9             16.1              213.0       5400.0   \n",
              "\n",
              "     island_Biscoe  island_Dream  island_Torgersen  sex_FEMALE  sex_MALE  \n",
              "0                0             0                 1           0         1  \n",
              "1                0             0                 1           1         0  \n",
              "2                0             0                 1           1         0  \n",
              "4                0             0                 1           1         0  \n",
              "5                0             0                 1           0         1  \n",
              "..             ...           ...               ...         ...       ...  \n",
              "338              1             0                 0           1         0  \n",
              "340              1             0                 0           1         0  \n",
              "341              1             0                 0           0         1  \n",
              "342              1             0                 0           1         0  \n",
              "343              1             0                 0           0         1  \n",
              "\n",
              "[325 rows x 9 columns]"
            ],
            "text/html": [
              "\n",
              "  <div id=\"df-354db13a-f64d-4fde-bba3-da6e456ed7ef\">\n",
              "    <div class=\"colab-df-container\">\n",
              "      <div>\n",
              "<style scoped>\n",
              "    .dataframe tbody tr th:only-of-type {\n",
              "        vertical-align: middle;\n",
              "    }\n",
              "\n",
              "    .dataframe tbody tr th {\n",
              "        vertical-align: top;\n",
              "    }\n",
              "\n",
              "    .dataframe thead th {\n",
              "        text-align: right;\n",
              "    }\n",
              "</style>\n",
              "<table border=\"1\" class=\"dataframe\">\n",
              "  <thead>\n",
              "    <tr style=\"text-align: right;\">\n",
              "      <th></th>\n",
              "      <th>culmen_length_mm</th>\n",
              "      <th>culmen_depth_mm</th>\n",
              "      <th>flipper_length_mm</th>\n",
              "      <th>body_mass_g</th>\n",
              "      <th>island_Biscoe</th>\n",
              "      <th>island_Dream</th>\n",
              "      <th>island_Torgersen</th>\n",
              "      <th>sex_FEMALE</th>\n",
              "      <th>sex_MALE</th>\n",
              "    </tr>\n",
              "  </thead>\n",
              "  <tbody>\n",
              "    <tr>\n",
              "      <th>0</th>\n",
              "      <td>39.1</td>\n",
              "      <td>18.7</td>\n",
              "      <td>181.0</td>\n",
              "      <td>3750.0</td>\n",
              "      <td>0</td>\n",
              "      <td>0</td>\n",
              "      <td>1</td>\n",
              "      <td>0</td>\n",
              "      <td>1</td>\n",
              "    </tr>\n",
              "    <tr>\n",
              "      <th>1</th>\n",
              "      <td>39.5</td>\n",
              "      <td>17.4</td>\n",
              "      <td>186.0</td>\n",
              "      <td>3800.0</td>\n",
              "      <td>0</td>\n",
              "      <td>0</td>\n",
              "      <td>1</td>\n",
              "      <td>1</td>\n",
              "      <td>0</td>\n",
              "    </tr>\n",
              "    <tr>\n",
              "      <th>2</th>\n",
              "      <td>40.3</td>\n",
              "      <td>18.0</td>\n",
              "      <td>195.0</td>\n",
              "      <td>3250.0</td>\n",
              "      <td>0</td>\n",
              "      <td>0</td>\n",
              "      <td>1</td>\n",
              "      <td>1</td>\n",
              "      <td>0</td>\n",
              "    </tr>\n",
              "    <tr>\n",
              "      <th>4</th>\n",
              "      <td>36.7</td>\n",
              "      <td>19.3</td>\n",
              "      <td>193.0</td>\n",
              "      <td>3450.0</td>\n",
              "      <td>0</td>\n",
              "      <td>0</td>\n",
              "      <td>1</td>\n",
              "      <td>1</td>\n",
              "      <td>0</td>\n",
              "    </tr>\n",
              "    <tr>\n",
              "      <th>5</th>\n",
              "      <td>39.3</td>\n",
              "      <td>20.6</td>\n",
              "      <td>190.0</td>\n",
              "      <td>3650.0</td>\n",
              "      <td>0</td>\n",
              "      <td>0</td>\n",
              "      <td>1</td>\n",
              "      <td>0</td>\n",
              "      <td>1</td>\n",
              "    </tr>\n",
              "    <tr>\n",
              "      <th>...</th>\n",
              "      <td>...</td>\n",
              "      <td>...</td>\n",
              "      <td>...</td>\n",
              "      <td>...</td>\n",
              "      <td>...</td>\n",
              "      <td>...</td>\n",
              "      <td>...</td>\n",
              "      <td>...</td>\n",
              "      <td>...</td>\n",
              "    </tr>\n",
              "    <tr>\n",
              "      <th>338</th>\n",
              "      <td>47.2</td>\n",
              "      <td>13.7</td>\n",
              "      <td>214.0</td>\n",
              "      <td>4925.0</td>\n",
              "      <td>1</td>\n",
              "      <td>0</td>\n",
              "      <td>0</td>\n",
              "      <td>1</td>\n",
              "      <td>0</td>\n",
              "    </tr>\n",
              "    <tr>\n",
              "      <th>340</th>\n",
              "      <td>46.8</td>\n",
              "      <td>14.3</td>\n",
              "      <td>215.0</td>\n",
              "      <td>4850.0</td>\n",
              "      <td>1</td>\n",
              "      <td>0</td>\n",
              "      <td>0</td>\n",
              "      <td>1</td>\n",
              "      <td>0</td>\n",
              "    </tr>\n",
              "    <tr>\n",
              "      <th>341</th>\n",
              "      <td>50.4</td>\n",
              "      <td>15.7</td>\n",
              "      <td>222.0</td>\n",
              "      <td>5750.0</td>\n",
              "      <td>1</td>\n",
              "      <td>0</td>\n",
              "      <td>0</td>\n",
              "      <td>0</td>\n",
              "      <td>1</td>\n",
              "    </tr>\n",
              "    <tr>\n",
              "      <th>342</th>\n",
              "      <td>45.2</td>\n",
              "      <td>14.8</td>\n",
              "      <td>212.0</td>\n",
              "      <td>5200.0</td>\n",
              "      <td>1</td>\n",
              "      <td>0</td>\n",
              "      <td>0</td>\n",
              "      <td>1</td>\n",
              "      <td>0</td>\n",
              "    </tr>\n",
              "    <tr>\n",
              "      <th>343</th>\n",
              "      <td>49.9</td>\n",
              "      <td>16.1</td>\n",
              "      <td>213.0</td>\n",
              "      <td>5400.0</td>\n",
              "      <td>1</td>\n",
              "      <td>0</td>\n",
              "      <td>0</td>\n",
              "      <td>0</td>\n",
              "      <td>1</td>\n",
              "    </tr>\n",
              "  </tbody>\n",
              "</table>\n",
              "<p>325 rows × 9 columns</p>\n",
              "</div>\n",
              "      <button class=\"colab-df-convert\" onclick=\"convertToInteractive('df-354db13a-f64d-4fde-bba3-da6e456ed7ef')\"\n",
              "              title=\"Convert this dataframe to an interactive table.\"\n",
              "              style=\"display:none;\">\n",
              "        \n",
              "  <svg xmlns=\"http://www.w3.org/2000/svg\" height=\"24px\"viewBox=\"0 0 24 24\"\n",
              "       width=\"24px\">\n",
              "    <path d=\"M0 0h24v24H0V0z\" fill=\"none\"/>\n",
              "    <path d=\"M18.56 5.44l.94 2.06.94-2.06 2.06-.94-2.06-.94-.94-2.06-.94 2.06-2.06.94zm-11 1L8.5 8.5l.94-2.06 2.06-.94-2.06-.94L8.5 2.5l-.94 2.06-2.06.94zm10 10l.94 2.06.94-2.06 2.06-.94-2.06-.94-.94-2.06-.94 2.06-2.06.94z\"/><path d=\"M17.41 7.96l-1.37-1.37c-.4-.4-.92-.59-1.43-.59-.52 0-1.04.2-1.43.59L10.3 9.45l-7.72 7.72c-.78.78-.78 2.05 0 2.83L4 21.41c.39.39.9.59 1.41.59.51 0 1.02-.2 1.41-.59l7.78-7.78 2.81-2.81c.8-.78.8-2.07 0-2.86zM5.41 20L4 18.59l7.72-7.72 1.47 1.35L5.41 20z\"/>\n",
              "  </svg>\n",
              "      </button>\n",
              "      \n",
              "  <style>\n",
              "    .colab-df-container {\n",
              "      display:flex;\n",
              "      flex-wrap:wrap;\n",
              "      gap: 12px;\n",
              "    }\n",
              "\n",
              "    .colab-df-convert {\n",
              "      background-color: #E8F0FE;\n",
              "      border: none;\n",
              "      border-radius: 50%;\n",
              "      cursor: pointer;\n",
              "      display: none;\n",
              "      fill: #1967D2;\n",
              "      height: 32px;\n",
              "      padding: 0 0 0 0;\n",
              "      width: 32px;\n",
              "    }\n",
              "\n",
              "    .colab-df-convert:hover {\n",
              "      background-color: #E2EBFA;\n",
              "      box-shadow: 0px 1px 2px rgba(60, 64, 67, 0.3), 0px 1px 3px 1px rgba(60, 64, 67, 0.15);\n",
              "      fill: #174EA6;\n",
              "    }\n",
              "\n",
              "    [theme=dark] .colab-df-convert {\n",
              "      background-color: #3B4455;\n",
              "      fill: #D2E3FC;\n",
              "    }\n",
              "\n",
              "    [theme=dark] .colab-df-convert:hover {\n",
              "      background-color: #434B5C;\n",
              "      box-shadow: 0px 1px 3px 1px rgba(0, 0, 0, 0.15);\n",
              "      filter: drop-shadow(0px 1px 2px rgba(0, 0, 0, 0.3));\n",
              "      fill: #FFFFFF;\n",
              "    }\n",
              "  </style>\n",
              "\n",
              "      <script>\n",
              "        const buttonEl =\n",
              "          document.querySelector('#df-354db13a-f64d-4fde-bba3-da6e456ed7ef button.colab-df-convert');\n",
              "        buttonEl.style.display =\n",
              "          google.colab.kernel.accessAllowed ? 'block' : 'none';\n",
              "\n",
              "        async function convertToInteractive(key) {\n",
              "          const element = document.querySelector('#df-354db13a-f64d-4fde-bba3-da6e456ed7ef');\n",
              "          const dataTable =\n",
              "            await google.colab.kernel.invokeFunction('convertToInteractive',\n",
              "                                                     [key], {});\n",
              "          if (!dataTable) return;\n",
              "\n",
              "          const docLinkHtml = 'Like what you see? Visit the ' +\n",
              "            '<a target=\"_blank\" href=https://colab.research.google.com/notebooks/data_table.ipynb>data table notebook</a>'\n",
              "            + ' to learn more about interactive tables.';\n",
              "          element.innerHTML = '';\n",
              "          dataTable['output_type'] = 'display_data';\n",
              "          await google.colab.output.renderOutput(dataTable, element);\n",
              "          const docLink = document.createElement('div');\n",
              "          docLink.innerHTML = docLinkHtml;\n",
              "          element.appendChild(docLink);\n",
              "        }\n",
              "      </script>\n",
              "    </div>\n",
              "  </div>\n",
              "  "
            ]
          },
          "metadata": {},
          "execution_count": 374
        }
      ]
    },
    {
      "cell_type": "code",
      "source": [
        "train_label"
      ],
      "metadata": {
        "colab": {
          "base_uri": "https://localhost:8080/"
        },
        "id": "v7OlEPL8ZI5R",
        "outputId": "e03eea5b-a8b5-4ac3-a92a-f3429dd930c2"
      },
      "execution_count": 375,
      "outputs": [
        {
          "output_type": "execute_result",
          "data": {
            "text/plain": [
              "0      Adelie\n",
              "1      Adelie\n",
              "2      Adelie\n",
              "4      Adelie\n",
              "5      Adelie\n",
              "        ...  \n",
              "338    Gentoo\n",
              "340    Gentoo\n",
              "341    Gentoo\n",
              "342    Gentoo\n",
              "343    Gentoo\n",
              "Name: species, Length: 325, dtype: object"
            ]
          },
          "metadata": {},
          "execution_count": 375
        }
      ]
    },
    {
      "cell_type": "code",
      "source": [
        "values_to_stratify_by = eda_data.species.unique()\n",
        "values_to_stratify_by"
      ],
      "metadata": {
        "colab": {
          "base_uri": "https://localhost:8080/"
        },
        "id": "S5ufEG_CfQmi",
        "outputId": "a2a2a2aa-a7b8-44d7-9fdc-48ed9e1190dd"
      },
      "execution_count": 376,
      "outputs": [
        {
          "output_type": "execute_result",
          "data": {
            "text/plain": [
              "array(['Adelie', 'Chinstrap', 'Gentoo'], dtype=object)"
            ]
          },
          "metadata": {},
          "execution_count": 376
        }
      ]
    },
    {
      "cell_type": "code",
      "source": [
        "experiment_data = dataset.get_train_val_test_data(train_data, train_label)"
      ],
      "metadata": {
        "id": "tBIzL1MpX18L"
      },
      "execution_count": 377,
      "outputs": []
    },
    {
      "cell_type": "code",
      "source": [
        "X_train = experiment_data['X_train']\n",
        "X_val = experiment_data['X_val']\n",
        "X_test = experiment_data['X_test']\n",
        "y_train = experiment_data['y_train']\n",
        "y_val = experiment_data['y_val']\n",
        "y_test = experiment_data['y_test']"
      ],
      "metadata": {
        "id": "wnqMDAVWZl-e"
      },
      "execution_count": 378,
      "outputs": []
    },
    {
      "cell_type": "markdown",
      "source": [
        "## Experimentation"
      ],
      "metadata": {
        "id": "BfHJazF3KLZP"
      }
    },
    {
      "cell_type": "markdown",
      "source": [
        "### Methods\n"
      ],
      "metadata": {
        "id": "QAv_yBsvKPe3"
      }
    },
    {
      "cell_type": "code",
      "source": [
        "class BasicModelsWithDefaults: \n",
        "  \"\"\"\n",
        "  Basic implementation of looping through machine learning models\n",
        "\n",
        "  :param models: a list of scikit-learn models\n",
        "  :return: a data frame that summarizes the results\n",
        "  \"\"\"\n",
        "\n",
        "  def __init__(self, models, data, model_tracker, experiment_type):\n",
        "    self._models = models\n",
        "    self._size = len(models)\n",
        "    self._data = data\n",
        "    self._model_tracker = model_tracker\n",
        "    self._experiment_type = experiment_type\n",
        "    self._fitted_models = None\n",
        "\n",
        "\n",
        "  def fit(self):\n",
        "    \"\"\"\n",
        "    fits a list of machine learning models with default parameters\n",
        "\n",
        "    :param models: a list of scikit-learn models\n",
        "    :return: a list of fit times\n",
        "    \"\"\"\n",
        "    fitted_models = []\n",
        "\n",
        "    for i in range(self._size):\n",
        "      fitted_i = self._models[i].fit(self._data['X_train'], self._data['y_train'])\n",
        "      fitted_models.append(fitted_i)\n",
        "      self._fitted_models = fitted_models # this might not work\n",
        "    return\n",
        "    \n",
        "\n",
        "  def predict(self):\n",
        "    \"\"\"\n",
        "    predicts results based a list of machine learning models\n",
        "\n",
        "    :param models: a list of fitted_models\n",
        "    :return: a list of predictions\n",
        "    \"\"\"\n",
        "    predictions = []\n",
        "\n",
        "    for model in self._models:\n",
        "      y_pred_train = model.predict(self._data['X_train'])\n",
        "      y_pred_val = model.predict(self._data['X_val'])\n",
        "      # (y_true, y_pred, train_or_test, experiment_type, model_description, dataset, model_tracker)\n",
        "      self._model_tracker = perf_eval.report_performance(self._data['y_train'], y_pred_train, 'train', self._experiment_type, f'Train {model}', 'X_train' , self._model_tracker)\n",
        "      self._model_tracker = perf_eval.report_performance(self._data['y_val'], y_pred_val, 'validate', self._experiment_type, f'Validate {model}', 'X_val' , self._model_tracker)\n",
        "    return self._model_tracker\n"
      ],
      "metadata": {
        "id": "lA93A2hGYN-8"
      },
      "execution_count": 379,
      "outputs": []
    },
    {
      "cell_type": "code",
      "source": [
        "class Ensemble: \n",
        "  \"\"\"\n",
        "  Basic implementation of an ensemble with majority vote aggregation.\n",
        "\n",
        "  :param models: a list of scikit-learn models\n",
        "  :return: an aggregation of predictions\n",
        "  \"\"\"\n",
        "\n",
        "  def __init__(self, models):\n",
        "    self._models = models\n",
        "    self._size = len(models)\n",
        "\n",
        "  def fit(self, X_train, y_train):\n",
        "    for i in range(self._size):\n",
        "      self._models[i].fit(X_train, y_train)\n",
        "\n",
        "  def predict(self, X_test):\n",
        "    preds = []\n",
        "    for i in range(self._size):\n",
        "      pred_i = self._models[i].predict(X_test)\n",
        "      preds.append(pred_i)\n",
        "    preds = np.vstack(preds)\n",
        "    agg = []\n",
        "    for j in range(preds.shape[1]):\n",
        "      agg.append(np.bincount(preds[:, j]).argmax())\n",
        "    agg = np.array(agg)\n",
        "    return agg"
      ],
      "metadata": {
        "id": "1uh88k1iXVVv"
      },
      "execution_count": 380,
      "outputs": []
    },
    {
      "cell_type": "code",
      "source": [
        "class BasePerformanceEvaluation:\n",
        "  \n",
        "  def __init__(self):\n",
        "    self._column_names = [\"model_type\", \"train_or_test\", \"dataset\", \"accuracy\", \"precision\", \"recall\", \"f1_score\", \"confusion_matrix\", \"mean_squared_error\", \"mean_absolute_error\", \"mean_absolute_percentage_error\"]\n",
        "\n",
        "  def create_tracker(self):\n",
        "    return pd.DataFrame(columns = self._column_names)\n",
        "\n",
        "  def report_performance(self, y_true, y_pred, train_or_test, experiment_type, model_description, dataset, model_tracker):\n",
        "    \n",
        "    if experiment_type == 'regression':\n",
        "      mse = mean_squared_error(y_true, y_pred)\n",
        "      mae = mean_absolute_error(y_true, y_pred)\n",
        "      mape = mean_absolute_percentage_error(y_true, y_pred)\n",
        "      accuracy = None\n",
        "      precision = None\n",
        "      recall = None\n",
        "      f1 = None\n",
        "      confusion = NotImplementedError\n",
        "\n",
        "    elif experiment_type == 'classification':\n",
        "      accuracy = accuracy_score(y_true, y_pred)\n",
        "      precision = precision_score(y_true, y_pred, average='weighted')\n",
        "      recall = recall_score(y_true, y_pred, average='weighted')\n",
        "      f1 = f1_score(y_true, y_pred, average='weighted')\n",
        "      confusion = confusion_matrix(y_true, y_pred)\n",
        "      mse = None\n",
        "      mae = None\n",
        "      mape = None\n",
        "    \n",
        "    else:\n",
        "      raise NotImplementedError\n",
        "\n",
        "    new_row = pd.DataFrame([[f'{model_description}', f'{train_or_test}', f'{dataset}', accuracy, precision, recall, f1, confusion, mse, mae, mape]], columns=self._column_names)\n",
        "    model_tracker = pd.concat([model_tracker, new_row])\n",
        "\n",
        "    return model_tracker\n",
        "\n",
        "perf_eval = BasePerformanceEvaluation()"
      ],
      "metadata": {
        "id": "wyBujaNwhuB7"
      },
      "execution_count": 381,
      "outputs": []
    },
    {
      "cell_type": "code",
      "source": [
        "model_tracker = perf_eval.create_tracker()\n",
        "model_tracker"
      ],
      "metadata": {
        "colab": {
          "base_uri": "https://localhost:8080/",
          "height": 49
        },
        "id": "iPBJMNJbh5UB",
        "outputId": "8c475dd8-e909-478e-8288-def374e054e0"
      },
      "execution_count": 382,
      "outputs": [
        {
          "output_type": "execute_result",
          "data": {
            "text/plain": [
              "Empty DataFrame\n",
              "Columns: [model_type, train_or_test, dataset, accuracy, precision, recall, f1_score, confusion_matrix, mean_squared_error, mean_absolute_error, mean_absolute_percentage_error]\n",
              "Index: []"
            ],
            "text/html": [
              "\n",
              "  <div id=\"df-beb79dc0-3cbf-432b-b9df-53ab5e389302\">\n",
              "    <div class=\"colab-df-container\">\n",
              "      <div>\n",
              "<style scoped>\n",
              "    .dataframe tbody tr th:only-of-type {\n",
              "        vertical-align: middle;\n",
              "    }\n",
              "\n",
              "    .dataframe tbody tr th {\n",
              "        vertical-align: top;\n",
              "    }\n",
              "\n",
              "    .dataframe thead th {\n",
              "        text-align: right;\n",
              "    }\n",
              "</style>\n",
              "<table border=\"1\" class=\"dataframe\">\n",
              "  <thead>\n",
              "    <tr style=\"text-align: right;\">\n",
              "      <th></th>\n",
              "      <th>model_type</th>\n",
              "      <th>train_or_test</th>\n",
              "      <th>dataset</th>\n",
              "      <th>accuracy</th>\n",
              "      <th>precision</th>\n",
              "      <th>recall</th>\n",
              "      <th>f1_score</th>\n",
              "      <th>confusion_matrix</th>\n",
              "      <th>mean_squared_error</th>\n",
              "      <th>mean_absolute_error</th>\n",
              "      <th>mean_absolute_percentage_error</th>\n",
              "    </tr>\n",
              "  </thead>\n",
              "  <tbody>\n",
              "  </tbody>\n",
              "</table>\n",
              "</div>\n",
              "      <button class=\"colab-df-convert\" onclick=\"convertToInteractive('df-beb79dc0-3cbf-432b-b9df-53ab5e389302')\"\n",
              "              title=\"Convert this dataframe to an interactive table.\"\n",
              "              style=\"display:none;\">\n",
              "        \n",
              "  <svg xmlns=\"http://www.w3.org/2000/svg\" height=\"24px\"viewBox=\"0 0 24 24\"\n",
              "       width=\"24px\">\n",
              "    <path d=\"M0 0h24v24H0V0z\" fill=\"none\"/>\n",
              "    <path d=\"M18.56 5.44l.94 2.06.94-2.06 2.06-.94-2.06-.94-.94-2.06-.94 2.06-2.06.94zm-11 1L8.5 8.5l.94-2.06 2.06-.94-2.06-.94L8.5 2.5l-.94 2.06-2.06.94zm10 10l.94 2.06.94-2.06 2.06-.94-2.06-.94-.94-2.06-.94 2.06-2.06.94z\"/><path d=\"M17.41 7.96l-1.37-1.37c-.4-.4-.92-.59-1.43-.59-.52 0-1.04.2-1.43.59L10.3 9.45l-7.72 7.72c-.78.78-.78 2.05 0 2.83L4 21.41c.39.39.9.59 1.41.59.51 0 1.02-.2 1.41-.59l7.78-7.78 2.81-2.81c.8-.78.8-2.07 0-2.86zM5.41 20L4 18.59l7.72-7.72 1.47 1.35L5.41 20z\"/>\n",
              "  </svg>\n",
              "      </button>\n",
              "      \n",
              "  <style>\n",
              "    .colab-df-container {\n",
              "      display:flex;\n",
              "      flex-wrap:wrap;\n",
              "      gap: 12px;\n",
              "    }\n",
              "\n",
              "    .colab-df-convert {\n",
              "      background-color: #E8F0FE;\n",
              "      border: none;\n",
              "      border-radius: 50%;\n",
              "      cursor: pointer;\n",
              "      display: none;\n",
              "      fill: #1967D2;\n",
              "      height: 32px;\n",
              "      padding: 0 0 0 0;\n",
              "      width: 32px;\n",
              "    }\n",
              "\n",
              "    .colab-df-convert:hover {\n",
              "      background-color: #E2EBFA;\n",
              "      box-shadow: 0px 1px 2px rgba(60, 64, 67, 0.3), 0px 1px 3px 1px rgba(60, 64, 67, 0.15);\n",
              "      fill: #174EA6;\n",
              "    }\n",
              "\n",
              "    [theme=dark] .colab-df-convert {\n",
              "      background-color: #3B4455;\n",
              "      fill: #D2E3FC;\n",
              "    }\n",
              "\n",
              "    [theme=dark] .colab-df-convert:hover {\n",
              "      background-color: #434B5C;\n",
              "      box-shadow: 0px 1px 3px 1px rgba(0, 0, 0, 0.15);\n",
              "      filter: drop-shadow(0px 1px 2px rgba(0, 0, 0, 0.3));\n",
              "      fill: #FFFFFF;\n",
              "    }\n",
              "  </style>\n",
              "\n",
              "      <script>\n",
              "        const buttonEl =\n",
              "          document.querySelector('#df-beb79dc0-3cbf-432b-b9df-53ab5e389302 button.colab-df-convert');\n",
              "        buttonEl.style.display =\n",
              "          google.colab.kernel.accessAllowed ? 'block' : 'none';\n",
              "\n",
              "        async function convertToInteractive(key) {\n",
              "          const element = document.querySelector('#df-beb79dc0-3cbf-432b-b9df-53ab5e389302');\n",
              "          const dataTable =\n",
              "            await google.colab.kernel.invokeFunction('convertToInteractive',\n",
              "                                                     [key], {});\n",
              "          if (!dataTable) return;\n",
              "\n",
              "          const docLinkHtml = 'Like what you see? Visit the ' +\n",
              "            '<a target=\"_blank\" href=https://colab.research.google.com/notebooks/data_table.ipynb>data table notebook</a>'\n",
              "            + ' to learn more about interactive tables.';\n",
              "          element.innerHTML = '';\n",
              "          dataTable['output_type'] = 'display_data';\n",
              "          await google.colab.output.renderOutput(dataTable, element);\n",
              "          const docLink = document.createElement('div');\n",
              "          docLink.innerHTML = docLinkHtml;\n",
              "          element.appendChild(docLink);\n",
              "        }\n",
              "      </script>\n",
              "    </div>\n",
              "  </div>\n",
              "  "
            ]
          },
          "metadata": {},
          "execution_count": 382
        }
      ]
    },
    {
      "cell_type": "markdown",
      "source": [
        "### Experiments"
      ],
      "metadata": {
        "id": "eKvyhkPEKfx5"
      }
    },
    {
      "cell_type": "markdown",
      "source": [
        "#### Classification\n",
        "\n",
        "Predict central tendency or most common class as a baseline for comparison."
      ],
      "metadata": {
        "id": "gwAdgYt5KJz2"
      }
    },
    {
      "cell_type": "markdown",
      "source": [
        "##### Baseline"
      ],
      "metadata": {
        "id": "g3M6rTSuUMqd"
      }
    },
    {
      "cell_type": "code",
      "source": [
        "y_train_baseline = np.full(y_train.size, 'Adelie')\n",
        "y_val_baseline = np.full(y_val.size, 'Adelie')\n",
        "y_test_baseline = np.full(y_test.size, 'Adelie')\n",
        "\n",
        "# (self, y_true, y_pred, train_or_test, experiment_type, model_description, dataset, model_tracker)\n",
        "model_tracker = perf_eval.report_performance(y_train, y_train_baseline, 'train', 'classification', 'Train Majority Class', 'X_train', model_tracker)\n",
        "model_tracker = perf_eval.report_performance(y_val, y_val_baseline, 'validate', 'classification', 'Validate Majority Class', 'X_val', model_tracker)\n",
        "model_tracker"
      ],
      "metadata": {
        "id": "qRLiJS7oUKH6",
        "colab": {
          "base_uri": "https://localhost:8080/",
          "height": 202
        },
        "outputId": "0aa6ec8c-a0b9-4510-a00e-a38dc9e3cc38"
      },
      "execution_count": 383,
      "outputs": [
        {
          "output_type": "stream",
          "name": "stderr",
          "text": [
            "/usr/local/lib/python3.7/dist-packages/sklearn/metrics/_classification.py:1318: UndefinedMetricWarning: Precision is ill-defined and being set to 0.0 in labels with no predicted samples. Use `zero_division` parameter to control this behavior.\n",
            "  _warn_prf(average, modifier, msg_start, len(result))\n",
            "/usr/local/lib/python3.7/dist-packages/sklearn/metrics/_classification.py:1318: UndefinedMetricWarning: Precision is ill-defined and being set to 0.0 in labels with no predicted samples. Use `zero_division` parameter to control this behavior.\n",
            "  _warn_prf(average, modifier, msg_start, len(result))\n"
          ]
        },
        {
          "output_type": "execute_result",
          "data": {
            "text/plain": [
              "                model_type train_or_test  dataset  accuracy  precision  \\\n",
              "0     Train Majority Class         train  X_train  0.442308   0.195636   \n",
              "0  Validate Majority Class      validate    X_val  0.500000   0.250000   \n",
              "\n",
              "     recall  f1_score                       confusion_matrix  \\\n",
              "0  0.442308  0.271282  [[115, 0, 0], [55, 0, 0], [90, 0, 0]]   \n",
              "0  0.500000  0.333333     [[16, 0, 0], [9, 0, 0], [7, 0, 0]]   \n",
              "\n",
              "  mean_squared_error mean_absolute_error mean_absolute_percentage_error  \n",
              "0               None                None                           None  \n",
              "0               None                None                           None  "
            ],
            "text/html": [
              "\n",
              "  <div id=\"df-f5139318-d4f9-4f7a-8c01-7734be8c14e1\">\n",
              "    <div class=\"colab-df-container\">\n",
              "      <div>\n",
              "<style scoped>\n",
              "    .dataframe tbody tr th:only-of-type {\n",
              "        vertical-align: middle;\n",
              "    }\n",
              "\n",
              "    .dataframe tbody tr th {\n",
              "        vertical-align: top;\n",
              "    }\n",
              "\n",
              "    .dataframe thead th {\n",
              "        text-align: right;\n",
              "    }\n",
              "</style>\n",
              "<table border=\"1\" class=\"dataframe\">\n",
              "  <thead>\n",
              "    <tr style=\"text-align: right;\">\n",
              "      <th></th>\n",
              "      <th>model_type</th>\n",
              "      <th>train_or_test</th>\n",
              "      <th>dataset</th>\n",
              "      <th>accuracy</th>\n",
              "      <th>precision</th>\n",
              "      <th>recall</th>\n",
              "      <th>f1_score</th>\n",
              "      <th>confusion_matrix</th>\n",
              "      <th>mean_squared_error</th>\n",
              "      <th>mean_absolute_error</th>\n",
              "      <th>mean_absolute_percentage_error</th>\n",
              "    </tr>\n",
              "  </thead>\n",
              "  <tbody>\n",
              "    <tr>\n",
              "      <th>0</th>\n",
              "      <td>Train Majority Class</td>\n",
              "      <td>train</td>\n",
              "      <td>X_train</td>\n",
              "      <td>0.442308</td>\n",
              "      <td>0.195636</td>\n",
              "      <td>0.442308</td>\n",
              "      <td>0.271282</td>\n",
              "      <td>[[115, 0, 0], [55, 0, 0], [90, 0, 0]]</td>\n",
              "      <td>None</td>\n",
              "      <td>None</td>\n",
              "      <td>None</td>\n",
              "    </tr>\n",
              "    <tr>\n",
              "      <th>0</th>\n",
              "      <td>Validate Majority Class</td>\n",
              "      <td>validate</td>\n",
              "      <td>X_val</td>\n",
              "      <td>0.500000</td>\n",
              "      <td>0.250000</td>\n",
              "      <td>0.500000</td>\n",
              "      <td>0.333333</td>\n",
              "      <td>[[16, 0, 0], [9, 0, 0], [7, 0, 0]]</td>\n",
              "      <td>None</td>\n",
              "      <td>None</td>\n",
              "      <td>None</td>\n",
              "    </tr>\n",
              "  </tbody>\n",
              "</table>\n",
              "</div>\n",
              "      <button class=\"colab-df-convert\" onclick=\"convertToInteractive('df-f5139318-d4f9-4f7a-8c01-7734be8c14e1')\"\n",
              "              title=\"Convert this dataframe to an interactive table.\"\n",
              "              style=\"display:none;\">\n",
              "        \n",
              "  <svg xmlns=\"http://www.w3.org/2000/svg\" height=\"24px\"viewBox=\"0 0 24 24\"\n",
              "       width=\"24px\">\n",
              "    <path d=\"M0 0h24v24H0V0z\" fill=\"none\"/>\n",
              "    <path d=\"M18.56 5.44l.94 2.06.94-2.06 2.06-.94-2.06-.94-.94-2.06-.94 2.06-2.06.94zm-11 1L8.5 8.5l.94-2.06 2.06-.94-2.06-.94L8.5 2.5l-.94 2.06-2.06.94zm10 10l.94 2.06.94-2.06 2.06-.94-2.06-.94-.94-2.06-.94 2.06-2.06.94z\"/><path d=\"M17.41 7.96l-1.37-1.37c-.4-.4-.92-.59-1.43-.59-.52 0-1.04.2-1.43.59L10.3 9.45l-7.72 7.72c-.78.78-.78 2.05 0 2.83L4 21.41c.39.39.9.59 1.41.59.51 0 1.02-.2 1.41-.59l7.78-7.78 2.81-2.81c.8-.78.8-2.07 0-2.86zM5.41 20L4 18.59l7.72-7.72 1.47 1.35L5.41 20z\"/>\n",
              "  </svg>\n",
              "      </button>\n",
              "      \n",
              "  <style>\n",
              "    .colab-df-container {\n",
              "      display:flex;\n",
              "      flex-wrap:wrap;\n",
              "      gap: 12px;\n",
              "    }\n",
              "\n",
              "    .colab-df-convert {\n",
              "      background-color: #E8F0FE;\n",
              "      border: none;\n",
              "      border-radius: 50%;\n",
              "      cursor: pointer;\n",
              "      display: none;\n",
              "      fill: #1967D2;\n",
              "      height: 32px;\n",
              "      padding: 0 0 0 0;\n",
              "      width: 32px;\n",
              "    }\n",
              "\n",
              "    .colab-df-convert:hover {\n",
              "      background-color: #E2EBFA;\n",
              "      box-shadow: 0px 1px 2px rgba(60, 64, 67, 0.3), 0px 1px 3px 1px rgba(60, 64, 67, 0.15);\n",
              "      fill: #174EA6;\n",
              "    }\n",
              "\n",
              "    [theme=dark] .colab-df-convert {\n",
              "      background-color: #3B4455;\n",
              "      fill: #D2E3FC;\n",
              "    }\n",
              "\n",
              "    [theme=dark] .colab-df-convert:hover {\n",
              "      background-color: #434B5C;\n",
              "      box-shadow: 0px 1px 3px 1px rgba(0, 0, 0, 0.15);\n",
              "      filter: drop-shadow(0px 1px 2px rgba(0, 0, 0, 0.3));\n",
              "      fill: #FFFFFF;\n",
              "    }\n",
              "  </style>\n",
              "\n",
              "      <script>\n",
              "        const buttonEl =\n",
              "          document.querySelector('#df-f5139318-d4f9-4f7a-8c01-7734be8c14e1 button.colab-df-convert');\n",
              "        buttonEl.style.display =\n",
              "          google.colab.kernel.accessAllowed ? 'block' : 'none';\n",
              "\n",
              "        async function convertToInteractive(key) {\n",
              "          const element = document.querySelector('#df-f5139318-d4f9-4f7a-8c01-7734be8c14e1');\n",
              "          const dataTable =\n",
              "            await google.colab.kernel.invokeFunction('convertToInteractive',\n",
              "                                                     [key], {});\n",
              "          if (!dataTable) return;\n",
              "\n",
              "          const docLinkHtml = 'Like what you see? Visit the ' +\n",
              "            '<a target=\"_blank\" href=https://colab.research.google.com/notebooks/data_table.ipynb>data table notebook</a>'\n",
              "            + ' to learn more about interactive tables.';\n",
              "          element.innerHTML = '';\n",
              "          dataTable['output_type'] = 'display_data';\n",
              "          await google.colab.output.renderOutput(dataTable, element);\n",
              "          const docLink = document.createElement('div');\n",
              "          docLink.innerHTML = docLinkHtml;\n",
              "          element.appendChild(docLink);\n",
              "        }\n",
              "      </script>\n",
              "    </div>\n",
              "  </div>\n",
              "  "
            ]
          },
          "metadata": {},
          "execution_count": 383
        }
      ]
    },
    {
      "cell_type": "markdown",
      "source": [
        "##### Default Parameters"
      ],
      "metadata": {
        "id": "kdsC01cQL-OU"
      }
    },
    {
      "cell_type": "code",
      "source": [
        "clf_models = [LogisticRegression(), RidgeClassifier(), KNeighborsClassifier(), SGDClassifier(), DecisionTreeClassifier(), ExtraTreeClassifier()]\n",
        "clf_models_with_defaults = BasicModelsWithDefaults(clf_models, experiment_data, model_tracker, 'classification')\n",
        "clf_models_with_defaults.fit()\n",
        "model_tracker = clf_models_with_defaults.predict()\n",
        "model_tracker"
      ],
      "metadata": {
        "colab": {
          "base_uri": "https://localhost:8080/",
          "height": 716
        },
        "id": "b_JJtpHBj5QB",
        "outputId": "869a9998-b103-4dfa-e58e-2dfca3ba0701"
      },
      "execution_count": 384,
      "outputs": [
        {
          "output_type": "stream",
          "name": "stderr",
          "text": [
            "/usr/local/lib/python3.7/dist-packages/sklearn/linear_model/_logistic.py:818: ConvergenceWarning: lbfgs failed to converge (status=1):\n",
            "STOP: TOTAL NO. of ITERATIONS REACHED LIMIT.\n",
            "\n",
            "Increase the number of iterations (max_iter) or scale the data as shown in:\n",
            "    https://scikit-learn.org/stable/modules/preprocessing.html\n",
            "Please also refer to the documentation for alternative solver options:\n",
            "    https://scikit-learn.org/stable/modules/linear_model.html#logistic-regression\n",
            "  extra_warning_msg=_LOGISTIC_SOLVER_CONVERGENCE_MSG,\n",
            "/usr/local/lib/python3.7/dist-packages/sklearn/metrics/_classification.py:1318: UndefinedMetricWarning: Precision is ill-defined and being set to 0.0 in labels with no predicted samples. Use `zero_division` parameter to control this behavior.\n",
            "  _warn_prf(average, modifier, msg_start, len(result))\n",
            "/usr/local/lib/python3.7/dist-packages/sklearn/metrics/_classification.py:1318: UndefinedMetricWarning: Precision is ill-defined and being set to 0.0 in labels with no predicted samples. Use `zero_division` parameter to control this behavior.\n",
            "  _warn_prf(average, modifier, msg_start, len(result))\n"
          ]
        },
        {
          "output_type": "execute_result",
          "data": {
            "text/plain": [
              "                          model_type train_or_test  dataset  accuracy  \\\n",
              "0               Train Majority Class         train  X_train  0.442308   \n",
              "0            Validate Majority Class      validate    X_val  0.500000   \n",
              "0         Train LogisticRegression()         train  X_train  0.992308   \n",
              "0      Validate LogisticRegression()      validate    X_val  0.968750   \n",
              "0            Train RidgeClassifier()         train  X_train  0.996154   \n",
              "0         Validate RidgeClassifier()      validate    X_val  0.968750   \n",
              "0       Train KNeighborsClassifier()         train  X_train  0.842308   \n",
              "0    Validate KNeighborsClassifier()      validate    X_val  0.812500   \n",
              "0              Train SGDClassifier()         train  X_train  0.346154   \n",
              "0           Validate SGDClassifier()      validate    X_val  0.218750   \n",
              "0     Train DecisionTreeClassifier()         train  X_train  1.000000   \n",
              "0  Validate DecisionTreeClassifier()      validate    X_val  0.968750   \n",
              "0        Train ExtraTreeClassifier()         train  X_train  1.000000   \n",
              "0     Validate ExtraTreeClassifier()      validate    X_val  0.968750   \n",
              "\n",
              "   precision    recall  f1_score                        confusion_matrix  \\\n",
              "0   0.195636  0.442308  0.271282   [[115, 0, 0], [55, 0, 0], [90, 0, 0]]   \n",
              "0   0.250000  0.500000  0.333333      [[16, 0, 0], [9, 0, 0], [7, 0, 0]]   \n",
              "0   0.992308  0.992308  0.992308   [[114, 1, 0], [1, 54, 0], [0, 0, 90]]   \n",
              "0   0.971875  0.968750  0.969068      [[15, 1, 0], [0, 9, 0], [0, 0, 7]]   \n",
              "0   0.996223  0.996154  0.996163   [[114, 1, 0], [0, 55, 0], [0, 0, 90]]   \n",
              "0   0.970588  0.968750  0.968304      [[16, 0, 0], [1, 8, 0], [0, 0, 7]]   \n",
              "0   0.846388  0.842308  0.836864  [[104, 4, 7], [21, 32, 2], [6, 1, 83]]   \n",
              "0   0.811143  0.812500  0.793452      [[15, 1, 0], [4, 4, 1], [0, 0, 7]]   \n",
              "0   0.120285  0.346154  0.178532   [[0, 0, 115], [1, 0, 54], [0, 0, 90]]   \n",
              "0   0.047852  0.218750  0.078526      [[0, 0, 16], [0, 0, 9], [0, 0, 7]]   \n",
              "0   1.000000  1.000000  1.000000   [[115, 0, 0], [0, 55, 0], [0, 0, 90]]   \n",
              "0   0.970588  0.968750  0.968304      [[16, 0, 0], [1, 8, 0], [0, 0, 7]]   \n",
              "0   1.000000  1.000000  1.000000   [[115, 0, 0], [0, 55, 0], [0, 0, 90]]   \n",
              "0   0.970588  0.968750  0.968304      [[16, 0, 0], [1, 8, 0], [0, 0, 7]]   \n",
              "\n",
              "  mean_squared_error mean_absolute_error mean_absolute_percentage_error  \n",
              "0               None                None                           None  \n",
              "0               None                None                           None  \n",
              "0               None                None                           None  \n",
              "0               None                None                           None  \n",
              "0               None                None                           None  \n",
              "0               None                None                           None  \n",
              "0               None                None                           None  \n",
              "0               None                None                           None  \n",
              "0               None                None                           None  \n",
              "0               None                None                           None  \n",
              "0               None                None                           None  \n",
              "0               None                None                           None  \n",
              "0               None                None                           None  \n",
              "0               None                None                           None  "
            ],
            "text/html": [
              "\n",
              "  <div id=\"df-1e9d621a-053b-48cd-ba91-73bd618b4578\">\n",
              "    <div class=\"colab-df-container\">\n",
              "      <div>\n",
              "<style scoped>\n",
              "    .dataframe tbody tr th:only-of-type {\n",
              "        vertical-align: middle;\n",
              "    }\n",
              "\n",
              "    .dataframe tbody tr th {\n",
              "        vertical-align: top;\n",
              "    }\n",
              "\n",
              "    .dataframe thead th {\n",
              "        text-align: right;\n",
              "    }\n",
              "</style>\n",
              "<table border=\"1\" class=\"dataframe\">\n",
              "  <thead>\n",
              "    <tr style=\"text-align: right;\">\n",
              "      <th></th>\n",
              "      <th>model_type</th>\n",
              "      <th>train_or_test</th>\n",
              "      <th>dataset</th>\n",
              "      <th>accuracy</th>\n",
              "      <th>precision</th>\n",
              "      <th>recall</th>\n",
              "      <th>f1_score</th>\n",
              "      <th>confusion_matrix</th>\n",
              "      <th>mean_squared_error</th>\n",
              "      <th>mean_absolute_error</th>\n",
              "      <th>mean_absolute_percentage_error</th>\n",
              "    </tr>\n",
              "  </thead>\n",
              "  <tbody>\n",
              "    <tr>\n",
              "      <th>0</th>\n",
              "      <td>Train Majority Class</td>\n",
              "      <td>train</td>\n",
              "      <td>X_train</td>\n",
              "      <td>0.442308</td>\n",
              "      <td>0.195636</td>\n",
              "      <td>0.442308</td>\n",
              "      <td>0.271282</td>\n",
              "      <td>[[115, 0, 0], [55, 0, 0], [90, 0, 0]]</td>\n",
              "      <td>None</td>\n",
              "      <td>None</td>\n",
              "      <td>None</td>\n",
              "    </tr>\n",
              "    <tr>\n",
              "      <th>0</th>\n",
              "      <td>Validate Majority Class</td>\n",
              "      <td>validate</td>\n",
              "      <td>X_val</td>\n",
              "      <td>0.500000</td>\n",
              "      <td>0.250000</td>\n",
              "      <td>0.500000</td>\n",
              "      <td>0.333333</td>\n",
              "      <td>[[16, 0, 0], [9, 0, 0], [7, 0, 0]]</td>\n",
              "      <td>None</td>\n",
              "      <td>None</td>\n",
              "      <td>None</td>\n",
              "    </tr>\n",
              "    <tr>\n",
              "      <th>0</th>\n",
              "      <td>Train LogisticRegression()</td>\n",
              "      <td>train</td>\n",
              "      <td>X_train</td>\n",
              "      <td>0.992308</td>\n",
              "      <td>0.992308</td>\n",
              "      <td>0.992308</td>\n",
              "      <td>0.992308</td>\n",
              "      <td>[[114, 1, 0], [1, 54, 0], [0, 0, 90]]</td>\n",
              "      <td>None</td>\n",
              "      <td>None</td>\n",
              "      <td>None</td>\n",
              "    </tr>\n",
              "    <tr>\n",
              "      <th>0</th>\n",
              "      <td>Validate LogisticRegression()</td>\n",
              "      <td>validate</td>\n",
              "      <td>X_val</td>\n",
              "      <td>0.968750</td>\n",
              "      <td>0.971875</td>\n",
              "      <td>0.968750</td>\n",
              "      <td>0.969068</td>\n",
              "      <td>[[15, 1, 0], [0, 9, 0], [0, 0, 7]]</td>\n",
              "      <td>None</td>\n",
              "      <td>None</td>\n",
              "      <td>None</td>\n",
              "    </tr>\n",
              "    <tr>\n",
              "      <th>0</th>\n",
              "      <td>Train RidgeClassifier()</td>\n",
              "      <td>train</td>\n",
              "      <td>X_train</td>\n",
              "      <td>0.996154</td>\n",
              "      <td>0.996223</td>\n",
              "      <td>0.996154</td>\n",
              "      <td>0.996163</td>\n",
              "      <td>[[114, 1, 0], [0, 55, 0], [0, 0, 90]]</td>\n",
              "      <td>None</td>\n",
              "      <td>None</td>\n",
              "      <td>None</td>\n",
              "    </tr>\n",
              "    <tr>\n",
              "      <th>0</th>\n",
              "      <td>Validate RidgeClassifier()</td>\n",
              "      <td>validate</td>\n",
              "      <td>X_val</td>\n",
              "      <td>0.968750</td>\n",
              "      <td>0.970588</td>\n",
              "      <td>0.968750</td>\n",
              "      <td>0.968304</td>\n",
              "      <td>[[16, 0, 0], [1, 8, 0], [0, 0, 7]]</td>\n",
              "      <td>None</td>\n",
              "      <td>None</td>\n",
              "      <td>None</td>\n",
              "    </tr>\n",
              "    <tr>\n",
              "      <th>0</th>\n",
              "      <td>Train KNeighborsClassifier()</td>\n",
              "      <td>train</td>\n",
              "      <td>X_train</td>\n",
              "      <td>0.842308</td>\n",
              "      <td>0.846388</td>\n",
              "      <td>0.842308</td>\n",
              "      <td>0.836864</td>\n",
              "      <td>[[104, 4, 7], [21, 32, 2], [6, 1, 83]]</td>\n",
              "      <td>None</td>\n",
              "      <td>None</td>\n",
              "      <td>None</td>\n",
              "    </tr>\n",
              "    <tr>\n",
              "      <th>0</th>\n",
              "      <td>Validate KNeighborsClassifier()</td>\n",
              "      <td>validate</td>\n",
              "      <td>X_val</td>\n",
              "      <td>0.812500</td>\n",
              "      <td>0.811143</td>\n",
              "      <td>0.812500</td>\n",
              "      <td>0.793452</td>\n",
              "      <td>[[15, 1, 0], [4, 4, 1], [0, 0, 7]]</td>\n",
              "      <td>None</td>\n",
              "      <td>None</td>\n",
              "      <td>None</td>\n",
              "    </tr>\n",
              "    <tr>\n",
              "      <th>0</th>\n",
              "      <td>Train SGDClassifier()</td>\n",
              "      <td>train</td>\n",
              "      <td>X_train</td>\n",
              "      <td>0.346154</td>\n",
              "      <td>0.120285</td>\n",
              "      <td>0.346154</td>\n",
              "      <td>0.178532</td>\n",
              "      <td>[[0, 0, 115], [1, 0, 54], [0, 0, 90]]</td>\n",
              "      <td>None</td>\n",
              "      <td>None</td>\n",
              "      <td>None</td>\n",
              "    </tr>\n",
              "    <tr>\n",
              "      <th>0</th>\n",
              "      <td>Validate SGDClassifier()</td>\n",
              "      <td>validate</td>\n",
              "      <td>X_val</td>\n",
              "      <td>0.218750</td>\n",
              "      <td>0.047852</td>\n",
              "      <td>0.218750</td>\n",
              "      <td>0.078526</td>\n",
              "      <td>[[0, 0, 16], [0, 0, 9], [0, 0, 7]]</td>\n",
              "      <td>None</td>\n",
              "      <td>None</td>\n",
              "      <td>None</td>\n",
              "    </tr>\n",
              "    <tr>\n",
              "      <th>0</th>\n",
              "      <td>Train DecisionTreeClassifier()</td>\n",
              "      <td>train</td>\n",
              "      <td>X_train</td>\n",
              "      <td>1.000000</td>\n",
              "      <td>1.000000</td>\n",
              "      <td>1.000000</td>\n",
              "      <td>1.000000</td>\n",
              "      <td>[[115, 0, 0], [0, 55, 0], [0, 0, 90]]</td>\n",
              "      <td>None</td>\n",
              "      <td>None</td>\n",
              "      <td>None</td>\n",
              "    </tr>\n",
              "    <tr>\n",
              "      <th>0</th>\n",
              "      <td>Validate DecisionTreeClassifier()</td>\n",
              "      <td>validate</td>\n",
              "      <td>X_val</td>\n",
              "      <td>0.968750</td>\n",
              "      <td>0.970588</td>\n",
              "      <td>0.968750</td>\n",
              "      <td>0.968304</td>\n",
              "      <td>[[16, 0, 0], [1, 8, 0], [0, 0, 7]]</td>\n",
              "      <td>None</td>\n",
              "      <td>None</td>\n",
              "      <td>None</td>\n",
              "    </tr>\n",
              "    <tr>\n",
              "      <th>0</th>\n",
              "      <td>Train ExtraTreeClassifier()</td>\n",
              "      <td>train</td>\n",
              "      <td>X_train</td>\n",
              "      <td>1.000000</td>\n",
              "      <td>1.000000</td>\n",
              "      <td>1.000000</td>\n",
              "      <td>1.000000</td>\n",
              "      <td>[[115, 0, 0], [0, 55, 0], [0, 0, 90]]</td>\n",
              "      <td>None</td>\n",
              "      <td>None</td>\n",
              "      <td>None</td>\n",
              "    </tr>\n",
              "    <tr>\n",
              "      <th>0</th>\n",
              "      <td>Validate ExtraTreeClassifier()</td>\n",
              "      <td>validate</td>\n",
              "      <td>X_val</td>\n",
              "      <td>0.968750</td>\n",
              "      <td>0.970588</td>\n",
              "      <td>0.968750</td>\n",
              "      <td>0.968304</td>\n",
              "      <td>[[16, 0, 0], [1, 8, 0], [0, 0, 7]]</td>\n",
              "      <td>None</td>\n",
              "      <td>None</td>\n",
              "      <td>None</td>\n",
              "    </tr>\n",
              "  </tbody>\n",
              "</table>\n",
              "</div>\n",
              "      <button class=\"colab-df-convert\" onclick=\"convertToInteractive('df-1e9d621a-053b-48cd-ba91-73bd618b4578')\"\n",
              "              title=\"Convert this dataframe to an interactive table.\"\n",
              "              style=\"display:none;\">\n",
              "        \n",
              "  <svg xmlns=\"http://www.w3.org/2000/svg\" height=\"24px\"viewBox=\"0 0 24 24\"\n",
              "       width=\"24px\">\n",
              "    <path d=\"M0 0h24v24H0V0z\" fill=\"none\"/>\n",
              "    <path d=\"M18.56 5.44l.94 2.06.94-2.06 2.06-.94-2.06-.94-.94-2.06-.94 2.06-2.06.94zm-11 1L8.5 8.5l.94-2.06 2.06-.94-2.06-.94L8.5 2.5l-.94 2.06-2.06.94zm10 10l.94 2.06.94-2.06 2.06-.94-2.06-.94-.94-2.06-.94 2.06-2.06.94z\"/><path d=\"M17.41 7.96l-1.37-1.37c-.4-.4-.92-.59-1.43-.59-.52 0-1.04.2-1.43.59L10.3 9.45l-7.72 7.72c-.78.78-.78 2.05 0 2.83L4 21.41c.39.39.9.59 1.41.59.51 0 1.02-.2 1.41-.59l7.78-7.78 2.81-2.81c.8-.78.8-2.07 0-2.86zM5.41 20L4 18.59l7.72-7.72 1.47 1.35L5.41 20z\"/>\n",
              "  </svg>\n",
              "      </button>\n",
              "      \n",
              "  <style>\n",
              "    .colab-df-container {\n",
              "      display:flex;\n",
              "      flex-wrap:wrap;\n",
              "      gap: 12px;\n",
              "    }\n",
              "\n",
              "    .colab-df-convert {\n",
              "      background-color: #E8F0FE;\n",
              "      border: none;\n",
              "      border-radius: 50%;\n",
              "      cursor: pointer;\n",
              "      display: none;\n",
              "      fill: #1967D2;\n",
              "      height: 32px;\n",
              "      padding: 0 0 0 0;\n",
              "      width: 32px;\n",
              "    }\n",
              "\n",
              "    .colab-df-convert:hover {\n",
              "      background-color: #E2EBFA;\n",
              "      box-shadow: 0px 1px 2px rgba(60, 64, 67, 0.3), 0px 1px 3px 1px rgba(60, 64, 67, 0.15);\n",
              "      fill: #174EA6;\n",
              "    }\n",
              "\n",
              "    [theme=dark] .colab-df-convert {\n",
              "      background-color: #3B4455;\n",
              "      fill: #D2E3FC;\n",
              "    }\n",
              "\n",
              "    [theme=dark] .colab-df-convert:hover {\n",
              "      background-color: #434B5C;\n",
              "      box-shadow: 0px 1px 3px 1px rgba(0, 0, 0, 0.15);\n",
              "      filter: drop-shadow(0px 1px 2px rgba(0, 0, 0, 0.3));\n",
              "      fill: #FFFFFF;\n",
              "    }\n",
              "  </style>\n",
              "\n",
              "      <script>\n",
              "        const buttonEl =\n",
              "          document.querySelector('#df-1e9d621a-053b-48cd-ba91-73bd618b4578 button.colab-df-convert');\n",
              "        buttonEl.style.display =\n",
              "          google.colab.kernel.accessAllowed ? 'block' : 'none';\n",
              "\n",
              "        async function convertToInteractive(key) {\n",
              "          const element = document.querySelector('#df-1e9d621a-053b-48cd-ba91-73bd618b4578');\n",
              "          const dataTable =\n",
              "            await google.colab.kernel.invokeFunction('convertToInteractive',\n",
              "                                                     [key], {});\n",
              "          if (!dataTable) return;\n",
              "\n",
              "          const docLinkHtml = 'Like what you see? Visit the ' +\n",
              "            '<a target=\"_blank\" href=https://colab.research.google.com/notebooks/data_table.ipynb>data table notebook</a>'\n",
              "            + ' to learn more about interactive tables.';\n",
              "          element.innerHTML = '';\n",
              "          dataTable['output_type'] = 'display_data';\n",
              "          await google.colab.output.renderOutput(dataTable, element);\n",
              "          const docLink = document.createElement('div');\n",
              "          docLink.innerHTML = docLinkHtml;\n",
              "          element.appendChild(docLink);\n",
              "        }\n",
              "      </script>\n",
              "    </div>\n",
              "  </div>\n",
              "  "
            ]
          },
          "metadata": {},
          "execution_count": 384
        }
      ]
    },
    {
      "cell_type": "markdown",
      "source": [
        "##### Bagging"
      ],
      "metadata": {
        "id": "HsYnYgh0cmV7"
      }
    },
    {
      "cell_type": "code",
      "source": [
        "clf_bagging_models = [RandomForestClassifier(), BaggingClassifier(base_estimator=KNeighborsClassifier()), BaggingClassifier(base_estimator=SVC()), BaggingClassifier(base_estimator=DecisionTreeClassifier()), BaggingClassifier(base_estimator=ExtraTreeClassifier())]\n",
        "clf_bagging_models_with_defaults = BasicModelsWithDefaults(clf_bagging_models, experiment_data, model_tracker, 'classification')\n",
        "clf_bagging_models_with_defaults.fit()\n",
        "model_tracker = clf_bagging_models_with_defaults.predict()\n",
        "model_tracker"
      ],
      "metadata": {
        "colab": {
          "base_uri": "https://localhost:8080/",
          "height": 551
        },
        "id": "izlivFmGns0D",
        "outputId": "e6598feb-35be-4863-e3b6-39e01dec7728"
      },
      "execution_count": 385,
      "outputs": [
        {
          "output_type": "execute_result",
          "data": {
            "text/plain": [
              "                          model_type train_or_test  dataset  accuracy  \\\n",
              "0               Train Majority Class         train  X_train  0.442308   \n",
              "0            Validate Majority Class      validate    X_val  0.500000   \n",
              "0         Train LogisticRegression()         train  X_train  0.992308   \n",
              "0      Validate LogisticRegression()      validate    X_val  0.968750   \n",
              "0            Train RidgeClassifier()         train  X_train  0.996154   \n",
              "0         Validate RidgeClassifier()      validate    X_val  0.968750   \n",
              "0       Train KNeighborsClassifier()         train  X_train  0.842308   \n",
              "0    Validate KNeighborsClassifier()      validate    X_val  0.812500   \n",
              "0              Train SGDClassifier()         train  X_train  0.346154   \n",
              "0           Validate SGDClassifier()      validate    X_val  0.218750   \n",
              "0     Train DecisionTreeClassifier()         train  X_train  1.000000   \n",
              "0  Validate DecisionTreeClassifier()      validate    X_val  0.968750   \n",
              "0        Train ExtraTreeClassifier()         train  X_train  1.000000   \n",
              "0     Validate ExtraTreeClassifier()      validate    X_val  0.968750   \n",
              "0          Train BaggingClassifier()         train  X_train  1.000000   \n",
              "0       Validate BaggingClassifier()      validate    X_val  0.968750   \n",
              "\n",
              "   precision    recall  f1_score                        confusion_matrix  \\\n",
              "0   0.195636  0.442308  0.271282   [[115, 0, 0], [55, 0, 0], [90, 0, 0]]   \n",
              "0   0.250000  0.500000  0.333333      [[16, 0, 0], [9, 0, 0], [7, 0, 0]]   \n",
              "0   0.992308  0.992308  0.992308   [[114, 1, 0], [1, 54, 0], [0, 0, 90]]   \n",
              "0   0.971875  0.968750  0.969068      [[15, 1, 0], [0, 9, 0], [0, 0, 7]]   \n",
              "0   0.996223  0.996154  0.996163   [[114, 1, 0], [0, 55, 0], [0, 0, 90]]   \n",
              "0   0.970588  0.968750  0.968304      [[16, 0, 0], [1, 8, 0], [0, 0, 7]]   \n",
              "0   0.846388  0.842308  0.836864  [[104, 4, 7], [21, 32, 2], [6, 1, 83]]   \n",
              "0   0.811143  0.812500  0.793452      [[15, 1, 0], [4, 4, 1], [0, 0, 7]]   \n",
              "0   0.120285  0.346154  0.178532   [[0, 0, 115], [1, 0, 54], [0, 0, 90]]   \n",
              "0   0.047852  0.218750  0.078526      [[0, 0, 16], [0, 0, 9], [0, 0, 7]]   \n",
              "0   1.000000  1.000000  1.000000   [[115, 0, 0], [0, 55, 0], [0, 0, 90]]   \n",
              "0   0.970588  0.968750  0.968304      [[16, 0, 0], [1, 8, 0], [0, 0, 7]]   \n",
              "0   1.000000  1.000000  1.000000   [[115, 0, 0], [0, 55, 0], [0, 0, 90]]   \n",
              "0   0.970588  0.968750  0.968304      [[16, 0, 0], [1, 8, 0], [0, 0, 7]]   \n",
              "0   1.000000  1.000000  1.000000   [[115, 0, 0], [0, 55, 0], [0, 0, 90]]   \n",
              "0   0.970588  0.968750  0.968304      [[16, 0, 0], [1, 8, 0], [0, 0, 7]]   \n",
              "\n",
              "  mean_squared_error mean_absolute_error mean_absolute_percentage_error  \n",
              "0               None                None                           None  \n",
              "0               None                None                           None  \n",
              "0               None                None                           None  \n",
              "0               None                None                           None  \n",
              "0               None                None                           None  \n",
              "0               None                None                           None  \n",
              "0               None                None                           None  \n",
              "0               None                None                           None  \n",
              "0               None                None                           None  \n",
              "0               None                None                           None  \n",
              "0               None                None                           None  \n",
              "0               None                None                           None  \n",
              "0               None                None                           None  \n",
              "0               None                None                           None  \n",
              "0               None                None                           None  \n",
              "0               None                None                           None  "
            ],
            "text/html": [
              "\n",
              "  <div id=\"df-59ed8857-ed8d-4a49-8811-fec60cd8bccc\">\n",
              "    <div class=\"colab-df-container\">\n",
              "      <div>\n",
              "<style scoped>\n",
              "    .dataframe tbody tr th:only-of-type {\n",
              "        vertical-align: middle;\n",
              "    }\n",
              "\n",
              "    .dataframe tbody tr th {\n",
              "        vertical-align: top;\n",
              "    }\n",
              "\n",
              "    .dataframe thead th {\n",
              "        text-align: right;\n",
              "    }\n",
              "</style>\n",
              "<table border=\"1\" class=\"dataframe\">\n",
              "  <thead>\n",
              "    <tr style=\"text-align: right;\">\n",
              "      <th></th>\n",
              "      <th>model_type</th>\n",
              "      <th>train_or_test</th>\n",
              "      <th>dataset</th>\n",
              "      <th>accuracy</th>\n",
              "      <th>precision</th>\n",
              "      <th>recall</th>\n",
              "      <th>f1_score</th>\n",
              "      <th>confusion_matrix</th>\n",
              "      <th>mean_squared_error</th>\n",
              "      <th>mean_absolute_error</th>\n",
              "      <th>mean_absolute_percentage_error</th>\n",
              "    </tr>\n",
              "  </thead>\n",
              "  <tbody>\n",
              "    <tr>\n",
              "      <th>0</th>\n",
              "      <td>Train Majority Class</td>\n",
              "      <td>train</td>\n",
              "      <td>X_train</td>\n",
              "      <td>0.442308</td>\n",
              "      <td>0.195636</td>\n",
              "      <td>0.442308</td>\n",
              "      <td>0.271282</td>\n",
              "      <td>[[115, 0, 0], [55, 0, 0], [90, 0, 0]]</td>\n",
              "      <td>None</td>\n",
              "      <td>None</td>\n",
              "      <td>None</td>\n",
              "    </tr>\n",
              "    <tr>\n",
              "      <th>0</th>\n",
              "      <td>Validate Majority Class</td>\n",
              "      <td>validate</td>\n",
              "      <td>X_val</td>\n",
              "      <td>0.500000</td>\n",
              "      <td>0.250000</td>\n",
              "      <td>0.500000</td>\n",
              "      <td>0.333333</td>\n",
              "      <td>[[16, 0, 0], [9, 0, 0], [7, 0, 0]]</td>\n",
              "      <td>None</td>\n",
              "      <td>None</td>\n",
              "      <td>None</td>\n",
              "    </tr>\n",
              "    <tr>\n",
              "      <th>0</th>\n",
              "      <td>Train LogisticRegression()</td>\n",
              "      <td>train</td>\n",
              "      <td>X_train</td>\n",
              "      <td>0.992308</td>\n",
              "      <td>0.992308</td>\n",
              "      <td>0.992308</td>\n",
              "      <td>0.992308</td>\n",
              "      <td>[[114, 1, 0], [1, 54, 0], [0, 0, 90]]</td>\n",
              "      <td>None</td>\n",
              "      <td>None</td>\n",
              "      <td>None</td>\n",
              "    </tr>\n",
              "    <tr>\n",
              "      <th>0</th>\n",
              "      <td>Validate LogisticRegression()</td>\n",
              "      <td>validate</td>\n",
              "      <td>X_val</td>\n",
              "      <td>0.968750</td>\n",
              "      <td>0.971875</td>\n",
              "      <td>0.968750</td>\n",
              "      <td>0.969068</td>\n",
              "      <td>[[15, 1, 0], [0, 9, 0], [0, 0, 7]]</td>\n",
              "      <td>None</td>\n",
              "      <td>None</td>\n",
              "      <td>None</td>\n",
              "    </tr>\n",
              "    <tr>\n",
              "      <th>0</th>\n",
              "      <td>Train RidgeClassifier()</td>\n",
              "      <td>train</td>\n",
              "      <td>X_train</td>\n",
              "      <td>0.996154</td>\n",
              "      <td>0.996223</td>\n",
              "      <td>0.996154</td>\n",
              "      <td>0.996163</td>\n",
              "      <td>[[114, 1, 0], [0, 55, 0], [0, 0, 90]]</td>\n",
              "      <td>None</td>\n",
              "      <td>None</td>\n",
              "      <td>None</td>\n",
              "    </tr>\n",
              "    <tr>\n",
              "      <th>0</th>\n",
              "      <td>Validate RidgeClassifier()</td>\n",
              "      <td>validate</td>\n",
              "      <td>X_val</td>\n",
              "      <td>0.968750</td>\n",
              "      <td>0.970588</td>\n",
              "      <td>0.968750</td>\n",
              "      <td>0.968304</td>\n",
              "      <td>[[16, 0, 0], [1, 8, 0], [0, 0, 7]]</td>\n",
              "      <td>None</td>\n",
              "      <td>None</td>\n",
              "      <td>None</td>\n",
              "    </tr>\n",
              "    <tr>\n",
              "      <th>0</th>\n",
              "      <td>Train KNeighborsClassifier()</td>\n",
              "      <td>train</td>\n",
              "      <td>X_train</td>\n",
              "      <td>0.842308</td>\n",
              "      <td>0.846388</td>\n",
              "      <td>0.842308</td>\n",
              "      <td>0.836864</td>\n",
              "      <td>[[104, 4, 7], [21, 32, 2], [6, 1, 83]]</td>\n",
              "      <td>None</td>\n",
              "      <td>None</td>\n",
              "      <td>None</td>\n",
              "    </tr>\n",
              "    <tr>\n",
              "      <th>0</th>\n",
              "      <td>Validate KNeighborsClassifier()</td>\n",
              "      <td>validate</td>\n",
              "      <td>X_val</td>\n",
              "      <td>0.812500</td>\n",
              "      <td>0.811143</td>\n",
              "      <td>0.812500</td>\n",
              "      <td>0.793452</td>\n",
              "      <td>[[15, 1, 0], [4, 4, 1], [0, 0, 7]]</td>\n",
              "      <td>None</td>\n",
              "      <td>None</td>\n",
              "      <td>None</td>\n",
              "    </tr>\n",
              "    <tr>\n",
              "      <th>0</th>\n",
              "      <td>Train SGDClassifier()</td>\n",
              "      <td>train</td>\n",
              "      <td>X_train</td>\n",
              "      <td>0.346154</td>\n",
              "      <td>0.120285</td>\n",
              "      <td>0.346154</td>\n",
              "      <td>0.178532</td>\n",
              "      <td>[[0, 0, 115], [1, 0, 54], [0, 0, 90]]</td>\n",
              "      <td>None</td>\n",
              "      <td>None</td>\n",
              "      <td>None</td>\n",
              "    </tr>\n",
              "    <tr>\n",
              "      <th>0</th>\n",
              "      <td>Validate SGDClassifier()</td>\n",
              "      <td>validate</td>\n",
              "      <td>X_val</td>\n",
              "      <td>0.218750</td>\n",
              "      <td>0.047852</td>\n",
              "      <td>0.218750</td>\n",
              "      <td>0.078526</td>\n",
              "      <td>[[0, 0, 16], [0, 0, 9], [0, 0, 7]]</td>\n",
              "      <td>None</td>\n",
              "      <td>None</td>\n",
              "      <td>None</td>\n",
              "    </tr>\n",
              "    <tr>\n",
              "      <th>0</th>\n",
              "      <td>Train DecisionTreeClassifier()</td>\n",
              "      <td>train</td>\n",
              "      <td>X_train</td>\n",
              "      <td>1.000000</td>\n",
              "      <td>1.000000</td>\n",
              "      <td>1.000000</td>\n",
              "      <td>1.000000</td>\n",
              "      <td>[[115, 0, 0], [0, 55, 0], [0, 0, 90]]</td>\n",
              "      <td>None</td>\n",
              "      <td>None</td>\n",
              "      <td>None</td>\n",
              "    </tr>\n",
              "    <tr>\n",
              "      <th>0</th>\n",
              "      <td>Validate DecisionTreeClassifier()</td>\n",
              "      <td>validate</td>\n",
              "      <td>X_val</td>\n",
              "      <td>0.968750</td>\n",
              "      <td>0.970588</td>\n",
              "      <td>0.968750</td>\n",
              "      <td>0.968304</td>\n",
              "      <td>[[16, 0, 0], [1, 8, 0], [0, 0, 7]]</td>\n",
              "      <td>None</td>\n",
              "      <td>None</td>\n",
              "      <td>None</td>\n",
              "    </tr>\n",
              "    <tr>\n",
              "      <th>0</th>\n",
              "      <td>Train ExtraTreeClassifier()</td>\n",
              "      <td>train</td>\n",
              "      <td>X_train</td>\n",
              "      <td>1.000000</td>\n",
              "      <td>1.000000</td>\n",
              "      <td>1.000000</td>\n",
              "      <td>1.000000</td>\n",
              "      <td>[[115, 0, 0], [0, 55, 0], [0, 0, 90]]</td>\n",
              "      <td>None</td>\n",
              "      <td>None</td>\n",
              "      <td>None</td>\n",
              "    </tr>\n",
              "    <tr>\n",
              "      <th>0</th>\n",
              "      <td>Validate ExtraTreeClassifier()</td>\n",
              "      <td>validate</td>\n",
              "      <td>X_val</td>\n",
              "      <td>0.968750</td>\n",
              "      <td>0.970588</td>\n",
              "      <td>0.968750</td>\n",
              "      <td>0.968304</td>\n",
              "      <td>[[16, 0, 0], [1, 8, 0], [0, 0, 7]]</td>\n",
              "      <td>None</td>\n",
              "      <td>None</td>\n",
              "      <td>None</td>\n",
              "    </tr>\n",
              "    <tr>\n",
              "      <th>0</th>\n",
              "      <td>Train BaggingClassifier()</td>\n",
              "      <td>train</td>\n",
              "      <td>X_train</td>\n",
              "      <td>1.000000</td>\n",
              "      <td>1.000000</td>\n",
              "      <td>1.000000</td>\n",
              "      <td>1.000000</td>\n",
              "      <td>[[115, 0, 0], [0, 55, 0], [0, 0, 90]]</td>\n",
              "      <td>None</td>\n",
              "      <td>None</td>\n",
              "      <td>None</td>\n",
              "    </tr>\n",
              "    <tr>\n",
              "      <th>0</th>\n",
              "      <td>Validate BaggingClassifier()</td>\n",
              "      <td>validate</td>\n",
              "      <td>X_val</td>\n",
              "      <td>0.968750</td>\n",
              "      <td>0.970588</td>\n",
              "      <td>0.968750</td>\n",
              "      <td>0.968304</td>\n",
              "      <td>[[16, 0, 0], [1, 8, 0], [0, 0, 7]]</td>\n",
              "      <td>None</td>\n",
              "      <td>None</td>\n",
              "      <td>None</td>\n",
              "    </tr>\n",
              "  </tbody>\n",
              "</table>\n",
              "</div>\n",
              "      <button class=\"colab-df-convert\" onclick=\"convertToInteractive('df-59ed8857-ed8d-4a49-8811-fec60cd8bccc')\"\n",
              "              title=\"Convert this dataframe to an interactive table.\"\n",
              "              style=\"display:none;\">\n",
              "        \n",
              "  <svg xmlns=\"http://www.w3.org/2000/svg\" height=\"24px\"viewBox=\"0 0 24 24\"\n",
              "       width=\"24px\">\n",
              "    <path d=\"M0 0h24v24H0V0z\" fill=\"none\"/>\n",
              "    <path d=\"M18.56 5.44l.94 2.06.94-2.06 2.06-.94-2.06-.94-.94-2.06-.94 2.06-2.06.94zm-11 1L8.5 8.5l.94-2.06 2.06-.94-2.06-.94L8.5 2.5l-.94 2.06-2.06.94zm10 10l.94 2.06.94-2.06 2.06-.94-2.06-.94-.94-2.06-.94 2.06-2.06.94z\"/><path d=\"M17.41 7.96l-1.37-1.37c-.4-.4-.92-.59-1.43-.59-.52 0-1.04.2-1.43.59L10.3 9.45l-7.72 7.72c-.78.78-.78 2.05 0 2.83L4 21.41c.39.39.9.59 1.41.59.51 0 1.02-.2 1.41-.59l7.78-7.78 2.81-2.81c.8-.78.8-2.07 0-2.86zM5.41 20L4 18.59l7.72-7.72 1.47 1.35L5.41 20z\"/>\n",
              "  </svg>\n",
              "      </button>\n",
              "      \n",
              "  <style>\n",
              "    .colab-df-container {\n",
              "      display:flex;\n",
              "      flex-wrap:wrap;\n",
              "      gap: 12px;\n",
              "    }\n",
              "\n",
              "    .colab-df-convert {\n",
              "      background-color: #E8F0FE;\n",
              "      border: none;\n",
              "      border-radius: 50%;\n",
              "      cursor: pointer;\n",
              "      display: none;\n",
              "      fill: #1967D2;\n",
              "      height: 32px;\n",
              "      padding: 0 0 0 0;\n",
              "      width: 32px;\n",
              "    }\n",
              "\n",
              "    .colab-df-convert:hover {\n",
              "      background-color: #E2EBFA;\n",
              "      box-shadow: 0px 1px 2px rgba(60, 64, 67, 0.3), 0px 1px 3px 1px rgba(60, 64, 67, 0.15);\n",
              "      fill: #174EA6;\n",
              "    }\n",
              "\n",
              "    [theme=dark] .colab-df-convert {\n",
              "      background-color: #3B4455;\n",
              "      fill: #D2E3FC;\n",
              "    }\n",
              "\n",
              "    [theme=dark] .colab-df-convert:hover {\n",
              "      background-color: #434B5C;\n",
              "      box-shadow: 0px 1px 3px 1px rgba(0, 0, 0, 0.15);\n",
              "      filter: drop-shadow(0px 1px 2px rgba(0, 0, 0, 0.3));\n",
              "      fill: #FFFFFF;\n",
              "    }\n",
              "  </style>\n",
              "\n",
              "      <script>\n",
              "        const buttonEl =\n",
              "          document.querySelector('#df-59ed8857-ed8d-4a49-8811-fec60cd8bccc button.colab-df-convert');\n",
              "        buttonEl.style.display =\n",
              "          google.colab.kernel.accessAllowed ? 'block' : 'none';\n",
              "\n",
              "        async function convertToInteractive(key) {\n",
              "          const element = document.querySelector('#df-59ed8857-ed8d-4a49-8811-fec60cd8bccc');\n",
              "          const dataTable =\n",
              "            await google.colab.kernel.invokeFunction('convertToInteractive',\n",
              "                                                     [key], {});\n",
              "          if (!dataTable) return;\n",
              "\n",
              "          const docLinkHtml = 'Like what you see? Visit the ' +\n",
              "            '<a target=\"_blank\" href=https://colab.research.google.com/notebooks/data_table.ipynb>data table notebook</a>'\n",
              "            + ' to learn more about interactive tables.';\n",
              "          element.innerHTML = '';\n",
              "          dataTable['output_type'] = 'display_data';\n",
              "          await google.colab.output.renderOutput(dataTable, element);\n",
              "          const docLink = document.createElement('div');\n",
              "          docLink.innerHTML = docLinkHtml;\n",
              "          element.appendChild(docLink);\n",
              "        }\n",
              "      </script>\n",
              "    </div>\n",
              "  </div>\n",
              "  "
            ]
          },
          "metadata": {},
          "execution_count": 385
        }
      ]
    },
    {
      "cell_type": "markdown",
      "source": [
        "##### Boosting"
      ],
      "metadata": {
        "id": "xs2qmkdxcn71"
      }
    },
    {
      "cell_type": "code",
      "source": [
        "clf_boosting_models = [GradientBoostingClassifier(), LGBMClassifier()]\n",
        "clf_boosting_models_with_defaults = BasicModelsWithDefaults(clf_boosting_models, experiment_data, model_tracker, 'classification')\n",
        "clf_boosting_models_with_defaults.fit()\n",
        "model_tracker = clf_boosting_models_with_defaults.predict()\n",
        "model_tracker"
      ],
      "metadata": {
        "id": "cUqdVUihoUis"
      },
      "execution_count": null,
      "outputs": []
    },
    {
      "cell_type": "markdown",
      "source": [
        "##### Ensembling"
      ],
      "metadata": {
        "id": "UYfaG34gcWL3"
      }
    },
    {
      "cell_type": "markdown",
      "source": [
        "##### Neural Nets"
      ],
      "metadata": {
        "id": "r8yl_sWRc-4n"
      }
    },
    {
      "cell_type": "markdown",
      "source": [
        "##### Feature Ablation"
      ],
      "metadata": {
        "id": "Y-S7CMPpV8pw"
      }
    },
    {
      "cell_type": "markdown",
      "source": [
        "##### Hyperparamater Optimization"
      ],
      "metadata": {
        "id": "ERCkH46-NXnJ"
      }
    },
    {
      "cell_type": "markdown",
      "source": [
        "#### Regression"
      ],
      "metadata": {
        "id": "pW-6aperNS6y"
      }
    },
    {
      "cell_type": "markdown",
      "source": [
        "##### Default Parameters"
      ],
      "metadata": {
        "id": "eoQUDalINAHm"
      }
    },
    {
      "cell_type": "markdown",
      "source": [
        "##### Bagging\n"
      ],
      "metadata": {
        "id": "uNqGZRMschsm"
      }
    },
    {
      "cell_type": "markdown",
      "source": [
        "##### Boosting"
      ],
      "metadata": {
        "id": "gdo1cxHGcp4Q"
      }
    },
    {
      "cell_type": "markdown",
      "source": [
        "##### Ensembling"
      ],
      "metadata": {
        "id": "cTkazyaWcaHJ"
      }
    },
    {
      "cell_type": "markdown",
      "source": [
        "##### Neural Nets"
      ],
      "metadata": {
        "id": "tmfXEWFydGxU"
      }
    },
    {
      "cell_type": "markdown",
      "source": [
        "##### Feature Ablation"
      ],
      "metadata": {
        "id": "_R0rZVnnV3wJ"
      }
    },
    {
      "cell_type": "markdown",
      "source": [
        "##### Hyperparamater Optimization"
      ],
      "metadata": {
        "id": "U_G5wVllL47g"
      }
    },
    {
      "cell_type": "markdown",
      "source": [
        "## Results"
      ],
      "metadata": {
        "id": "45iNFrTFKkDL"
      }
    },
    {
      "cell_type": "markdown",
      "source": [
        "### Data"
      ],
      "metadata": {
        "id": "tcKzu8lMMK_v"
      }
    },
    {
      "cell_type": "code",
      "source": [
        "auc = roc_auc_score(y_test,y_scores[:,1])\n",
        "print('AUC: ' + str(auc))"
      ],
      "metadata": {
        "colab": {
          "base_uri": "https://localhost:8080/",
          "height": 184
        },
        "id": "GyXexHLPVNjq",
        "outputId": "f3dc6597-6bd8-4501-adfa-df4b48247a3d"
      },
      "execution_count": 386,
      "outputs": [
        {
          "output_type": "error",
          "ename": "NameError",
          "evalue": "ignored",
          "traceback": [
            "\u001b[0;31m---------------------------------------------------------------------------\u001b[0m",
            "\u001b[0;31mNameError\u001b[0m                                 Traceback (most recent call last)",
            "\u001b[0;32m<ipython-input-386-5663cb259e8d>\u001b[0m in \u001b[0;36m<module>\u001b[0;34m()\u001b[0m\n\u001b[0;32m----> 1\u001b[0;31m \u001b[0mauc\u001b[0m \u001b[0;34m=\u001b[0m \u001b[0mroc_auc_score\u001b[0m\u001b[0;34m(\u001b[0m\u001b[0my_test\u001b[0m\u001b[0;34m,\u001b[0m\u001b[0my_scores\u001b[0m\u001b[0;34m[\u001b[0m\u001b[0;34m:\u001b[0m\u001b[0;34m,\u001b[0m\u001b[0;36m1\u001b[0m\u001b[0;34m]\u001b[0m\u001b[0;34m)\u001b[0m\u001b[0;34m\u001b[0m\u001b[0;34m\u001b[0m\u001b[0m\n\u001b[0m\u001b[1;32m      2\u001b[0m \u001b[0mprint\u001b[0m\u001b[0;34m(\u001b[0m\u001b[0;34m'AUC: '\u001b[0m \u001b[0;34m+\u001b[0m \u001b[0mstr\u001b[0m\u001b[0;34m(\u001b[0m\u001b[0mauc\u001b[0m\u001b[0;34m)\u001b[0m\u001b[0;34m)\u001b[0m\u001b[0;34m\u001b[0m\u001b[0;34m\u001b[0m\u001b[0m\n",
            "\u001b[0;31mNameError\u001b[0m: name 'y_scores' is not defined"
          ]
        }
      ]
    },
    {
      "cell_type": "markdown",
      "source": [
        "### Visualization"
      ],
      "metadata": {
        "id": "-deoam9PMO85"
      }
    },
    {
      "cell_type": "markdown",
      "source": [
        "#### Classification"
      ],
      "metadata": {
        "id": "M0ZH3TTZWlAH"
      }
    },
    {
      "cell_type": "code",
      "source": [
        "# binary \n",
        "\n",
        "# calculate ROC curve\n",
        "fpr, tpr, thresholds = roc_curve(y_test, y_pred[:,1])\n",
        "\n",
        "# plot ROC curve\n",
        "fig = plt.figure(figsize=(6, 6))\n",
        "# Plot the diagonal 50% line\n",
        "plt.plot([0, 1], [0, 1], 'k--')\n",
        "# Plot the FPR and TPR achieved by our model\n",
        "plt.plot(fpr, tpr)\n",
        "plt.xlabel('False Positive Rate')\n",
        "plt.ylabel('True Positive Rate')\n",
        "plt.title('ROC Curve')\n",
        "plt.show()"
      ],
      "metadata": {
        "id": "O4LIzwFBU7Ns"
      },
      "execution_count": null,
      "outputs": []
    },
    {
      "cell_type": "code",
      "source": [
        "# precision recall curve\n",
        "precision, recall, _ = precision_recall_curve(y_val, best_model.decision_function(X_val))\n",
        "plt.plot(recall, precision, 'b-')\n",
        "precision, recall, _ = precision_recall_curve(y_val, baseline_model.decision_function(X_val))\n",
        "plt.plot(recall, precision, 'r-')\n",
        "plt.title(\"Logistic Regression Precision-Recall curve\")\n",
        "plt.show()"
      ],
      "metadata": {
        "id": "wezyxgUQWa4O"
      },
      "execution_count": null,
      "outputs": []
    },
    {
      "cell_type": "markdown",
      "source": [
        "#### Regression"
      ],
      "metadata": {
        "id": "0Fgt_n3WWjdc"
      }
    },
    {
      "cell_type": "code",
      "source": [
        "precision, recall, _ = precision_recall_curve(y_val, baseline_model.decision_function(X_val))\n",
        "plt.plot(recall, precision, 'b-')\n",
        "precision, recall, _ = precision_recall_curve(y_val, best_model.decision_function(X_val))\n",
        "plt.plot(recall, precision, 'r-')\n",
        "plt.title(\"Precision-Recall curve\")\n",
        "plt.show()"
      ],
      "metadata": {
        "id": "Z8WiauFfWKQ1"
      },
      "execution_count": null,
      "outputs": []
    },
    {
      "cell_type": "markdown",
      "source": [
        "## Discussion"
      ],
      "metadata": {
        "id": "bGcap7zJKl87"
      }
    },
    {
      "cell_type": "markdown",
      "source": [
        "### Best current model"
      ],
      "metadata": {
        "id": "XCbZz_z6MbRy"
      }
    },
    {
      "cell_type": "code",
      "source": [
        "model_tracker.sort_values(by=\"accuracy\", ascending=False)"
      ],
      "metadata": {
        "id": "Dg1nea9VW9sI"
      },
      "execution_count": null,
      "outputs": []
    },
    {
      "cell_type": "markdown",
      "source": [
        "### Error Analysis"
      ],
      "metadata": {
        "id": "GxAQHMZEMjAt"
      }
    },
    {
      "cell_type": "markdown",
      "source": [
        "### Recommendations for Future Work"
      ],
      "metadata": {
        "id": "KamW72-KMXyv"
      }
    },
    {
      "cell_type": "markdown",
      "source": [
        "## Research Journal"
      ],
      "metadata": {
        "id": "EEy_FtQYKb1F"
      }
    },
    {
      "cell_type": "markdown",
      "source": [
        "### Data-Centric Iteration Ideas\n"
      ],
      "metadata": {
        "id": "4DMmfb7YNiQT"
      }
    },
    {
      "cell_type": "markdown",
      "source": [
        "### Model-Centric Iteration Ideas"
      ],
      "metadata": {
        "id": "NOBuDouWNrAX"
      }
    },
    {
      "cell_type": "markdown",
      "source": [
        "### Improvements to the Template\n",
        "\n",
        "- training time tracking\n",
        "- distinguish between binary and multi-class classification"
      ],
      "metadata": {
        "id": "3OQu1g00eJGY"
      }
    },
    {
      "cell_type": "markdown",
      "source": [
        "### Daily Log"
      ],
      "metadata": {
        "id": "9ne9roKjNwur"
      }
    },
    {
      "cell_type": "code",
      "source": [
        ""
      ],
      "metadata": {
        "id": "DH6v_Sp0N05h"
      },
      "execution_count": null,
      "outputs": []
    }
  ]
}